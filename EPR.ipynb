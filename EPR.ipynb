{
 "cells": [
  {
   "cell_type": "markdown",
   "metadata": {},
   "source": [
    "# EPR experiment\n",
    "Ted Corcovilos (c) 2022\n",
    "\n",
    "Calculation of the CSHS version of the EPR experiment disproving Einstein's _hidden local variables_ hypothesis."
   ]
  },
  {
   "cell_type": "markdown",
   "metadata": {},
   "source": [
    "## Background"
   ]
  },
  {
   "cell_type": "markdown",
   "metadata": {},
   "source": [
    "The setup is that we have two Stern-Gerlach type detectors, belonging to Alice and Bob.  The angles of the detectors can be changed by each person, e.g. Alice can have her detector in position A or A', similarly with Bob.\n",
    "\n",
    "Both measure one of an entangled particle pair, and afterwards share their data to calculate the correlations\n",
    "$$\n",
    "\\rho(A,B) = \\frac{1}{N} \\sum_{j=1}^N m_A m_B = \\frac{1}{(\\hbar/2)^2} \\left< \\hat{S}_A\\hat{S}_B\\right>,\n",
    "$$\n",
    "where $\\hat{S}_A$ is the spin measurement operator for Alice's particle with the detector in orientation A, and similarly $\\hat{S}_B$ is the spin measurement operator for Bob's particle with the detector in orientation B."
   ]
  },
  {
   "cell_type": "markdown",
   "metadata": {},
   "source": [
    "The CSHS form of Bell's inequality test for hidden variables states that for a real, local theory of quantum mechanics, the following must be true:\n",
    "$$\n",
    "\\rho(A',B')+\\rho(A',B)+\\rho(A,B')-\\rho(A,B) \\le 2,\n",
    "$$\n",
    "for all possible orientations of A, A', B, and B'."
   ]
  },
  {
   "cell_type": "markdown",
   "metadata": {},
   "source": [
    "If the above expression is _false_, then quantum mechanics is not a real and local theory."
   ]
  },
  {
   "cell_type": "markdown",
   "metadata": {},
   "source": [
    "The maximum violation is predicted for the following sets of angles: A = 0°, A' = 90°, B = -135°, and B' = -45°."
   ]
  },
  {
   "cell_type": "markdown",
   "metadata": {},
   "source": [
    "## Outline of calculation\n",
    "We need three pieces to evalute the CSHS inequality:\n",
    "* An expression for the correlation functions as quantum operators (we'll use matrix notation).\n",
    "* An expression for each of the two candidate initial states:\n",
    "  * A pair of entangled particles in the Bell singlet state: $\\lvert \\psi \\rangle = \\frac{1}{\\sqrt{2}} \\bigl( \\lvert + - \\rangle - \\lvert - + \\rangle \\bigr).$\n",
    "  * A pair of classically anticorrelated particles (we'll define this below)."
   ]
  },
  {
   "cell_type": "markdown",
   "metadata": {},
   "source": [
    "## Matrix notation\n",
    "We'll use matrix notation for our calculation because that is easier to implement in code.  For single particles we'll use the $\\hat{S}_z$ basis:\n",
    "$$\n",
    "\\lvert + \\rangle \\doteq \\binom{1}{0}, \\qquad \\lvert - \\rangle \\doteq \\binom{0}{1}.\n",
    "$$\n",
    "\n",
    "We'll build our two-particle operators and states using the [Kronecker product](https://en.wikipedia.org/wiki/Kronecker_product) to enact the tensor product between the two particles."
   ]
  },
  {
   "cell_type": "markdown",
   "metadata": {},
   "source": [
    "## Correlation functions\n",
    "From above, we have the definition for the correlators: \n",
    "$$\n",
    "\\rho(A,B) = \\frac{1}{(\\hbar/2)^2} \\left< \\hat{S}_A\\hat{S}_B\\right>.\n",
    "$$\n",
    "We need four copies of this, one for each of the angle combinations listed above."
   ]
  },
  {
   "cell_type": "code",
   "execution_count": 17,
   "metadata": {},
   "outputs": [],
   "source": [
    "# import our python libraries for algebra\n",
    "from sympy import *\n",
    "from sympy.physics import *\n",
    "from sympy.physics.quantum import *"
   ]
  },
  {
   "cell_type": "code",
   "execution_count": 2,
   "metadata": {},
   "outputs": [],
   "source": [
    "# tell sympy to print nicely\n",
    "init_printing()"
   ]
  },
  {
   "cell_type": "code",
   "execution_count": 67,
   "metadata": {},
   "outputs": [],
   "source": [
    "# spin operator in the xz plane at angle θ\n",
    "# dropping factors of hbar/2\n",
    "θ, φ = symbols(\"θ, φ\", real=True)\n",
    "S_n = lambda θ: cos(θ)*msigma(3) + sin(θ)*msigma(1)"
   ]
  },
  {
   "cell_type": "code",
   "execution_count": 11,
   "metadata": {},
   "outputs": [
    {
     "data": {
      "image/png": "[encoded data removed]",
      "text/latex": [
       "$\\displaystyle \\left( \\left[\\begin{matrix}1 & 0\\\\0 & -1\\end{matrix}\\right], \\  \\left[\\begin{matrix}0 & 1\\\\1 & 0\\end{matrix}\\right], \\  \\left[\\begin{matrix}\\frac{\\sqrt{2}}{2} & \\frac{\\sqrt{2}}{2}\\\\\\frac{\\sqrt{2}}{2} & - \\frac{\\sqrt{2}}{2}\\end{matrix}\\right]\\right)$"
      ],
      "text/plain": [
       "⎛                 ⎡√2   √2 ⎤⎞\n",
       "⎜                 ⎢──   ── ⎥⎟\n",
       "⎜⎡1  0 ⎤  ⎡0  1⎤  ⎢2    2  ⎥⎟\n",
       "⎜⎢     ⎥, ⎢    ⎥, ⎢        ⎥⎟\n",
       "⎜⎣0  -1⎦  ⎣1  0⎦  ⎢√2  -√2 ⎥⎟\n",
       "⎜                 ⎢──  ────⎥⎟\n",
       "⎝                 ⎣2    2  ⎦⎠"
      ]
     },
     "execution_count": 11,
     "metadata": {},
     "output_type": "execute_result"
    }
   ],
   "source": [
    "# try out a few to see that it works\n",
    "S_n(0), S_n(pi/2), S_n(pi/4)"
   ]
  },
  {
   "cell_type": "code",
   "execution_count": 58,
   "metadata": {},
   "outputs": [],
   "source": [
    "#Build the correlators\n",
    "# first define the angles\n",
    "θ_A = 0; θ_Ap = pi/2; θ_B = -pi/4; θ_Bp = -3*pi/4"
   ]
  },
  {
   "cell_type": "code",
   "execution_count": 59,
   "metadata": {},
   "outputs": [],
   "source": [
    "ρ_AB = TensorProduct(S_n(θ_A),S_n(θ_B))\n",
    "ρ_ApB = TensorProduct(S_n(θ_Ap),S_n(θ_B))\n",
    "ρ_ABp = TensorProduct(S_n(θ_A),S_n(θ_Bp))\n",
    "ρ_ApBp = TensorProduct(S_n(θ_Ap),S_n(θ_Bp))"
   ]
  },
  {
   "cell_type": "code",
   "execution_count": 60,
   "metadata": {},
   "outputs": [
    {
     "data": {
      "image/png": "[encoded data removed]",
      "text/latex": [
       "$\\displaystyle \\left( \\left[\\begin{matrix}\\frac{\\sqrt{2}}{2} & - \\frac{\\sqrt{2}}{2} & 0 & 0\\\\- \\frac{\\sqrt{2}}{2} & - \\frac{\\sqrt{2}}{2} & 0 & 0\\\\0 & 0 & - \\frac{\\sqrt{2}}{2} & \\frac{\\sqrt{2}}{2}\\\\0 & 0 & \\frac{\\sqrt{2}}{2} & \\frac{\\sqrt{2}}{2}\\end{matrix}\\right], \\  \\left[\\begin{matrix}0 & 0 & \\frac{\\sqrt{2}}{2} & - \\frac{\\sqrt{2}}{2}\\\\0 & 0 & - \\frac{\\sqrt{2}}{2} & - \\frac{\\sqrt{2}}{2}\\\\\\frac{\\sqrt{2}}{2} & - \\frac{\\sqrt{2}}{2} & 0 & 0\\\\- \\frac{\\sqrt{2}}{2} & - \\frac{\\sqrt{2}}{2} & 0 & 0\\end{matrix}\\right], \\  \\left[\\begin{matrix}- \\frac{\\sqrt{2}}{2} & - \\frac{\\sqrt{2}}{2} & 0 & 0\\\\- \\frac{\\sqrt{2}}{2} & \\frac{\\sqrt{2}}{2} & 0 & 0\\\\0 & 0 & \\frac{\\sqrt{2}}{2} & \\frac{\\sqrt{2}}{2}\\\\0 & 0 & \\frac{\\sqrt{2}}{2} & - \\frac{\\sqrt{2}}{2}\\end{matrix}\\right], \\  \\left[\\begin{matrix}0 & 0 & - \\frac{\\sqrt{2}}{2} & - \\frac{\\sqrt{2}}{2}\\\\0 & 0 & - \\frac{\\sqrt{2}}{2} & \\frac{\\sqrt{2}}{2}\\\\- \\frac{\\sqrt{2}}{2} & - \\frac{\\sqrt{2}}{2} & 0 & 0\\\\- \\frac{\\sqrt{2}}{2} & \\frac{\\sqrt{2}}{2} & 0 & 0\\end{matrix}\\right]\\right)$"
      ],
      "text/plain": [
       "⎛⎡ √2   -√2           ⎤  ⎡             √2   -√2 ⎤  ⎡-√2   -√2           ⎤  ⎡  \n",
       "⎜⎢ ──   ────   0    0 ⎥  ⎢ 0     0     ──   ────⎥  ⎢────  ────  0    0  ⎥  ⎢ 0\n",
       "⎜⎢ 2     2            ⎥  ⎢             2     2  ⎥  ⎢ 2     2            ⎥  ⎢  \n",
       "⎜⎢                    ⎥  ⎢                      ⎥  ⎢                    ⎥  ⎢  \n",
       "⎜⎢-√2   -√2           ⎥  ⎢            -√2   -√2 ⎥  ⎢-√2    √2           ⎥  ⎢  \n",
       "⎜⎢────  ────   0    0 ⎥  ⎢ 0     0    ────  ────⎥  ⎢────   ──   0    0  ⎥  ⎢ 0\n",
       "⎜⎢ 2     2            ⎥  ⎢             2     2  ⎥  ⎢ 2     2            ⎥  ⎢  \n",
       "⎜⎢                    ⎥, ⎢                      ⎥, ⎢                    ⎥, ⎢  \n",
       "⎜⎢            -√2   √2⎥  ⎢ √2   -√2             ⎥  ⎢            √2   √2 ⎥  ⎢-√\n",
       "⎜⎢ 0     0    ────  ──⎥  ⎢ ──   ────   0     0  ⎥  ⎢ 0     0    ──   ── ⎥  ⎢──\n",
       "⎜⎢             2    2 ⎥  ⎢ 2     2              ⎥  ⎢            2    2  ⎥  ⎢ 2\n",
       "⎜⎢                    ⎥  ⎢                      ⎥  ⎢                    ⎥  ⎢  \n",
       "⎜⎢             √2   √2⎥  ⎢-√2   -√2             ⎥  ⎢            √2  -√2 ⎥  ⎢-√\n",
       "⎜⎢ 0     0     ──   ──⎥  ⎢────  ────   0     0  ⎥  ⎢ 0     0    ──  ────⎥  ⎢──\n",
       "⎝⎣             2    2 ⎦  ⎣ 2     2              ⎦  ⎣            2    2  ⎦  ⎣ 2\n",
       "\n",
       "          -√2   -√2 ⎤⎞\n",
       "     0    ────  ────⎥⎟\n",
       "           2     2  ⎥⎟\n",
       "                    ⎥⎟\n",
       "          -√2    √2 ⎥⎟\n",
       "     0    ────   ── ⎥⎟\n",
       "           2     2  ⎥⎟\n",
       "                    ⎥⎟\n",
       "2   -√2             ⎥⎟\n",
       "──  ────   0     0  ⎥⎟\n",
       "     2              ⎥⎟\n",
       "                    ⎥⎟\n",
       "2    √2             ⎥⎟\n",
       "──   ──    0     0  ⎥⎟\n",
       "     2              ⎦⎠"
      ]
     },
     "execution_count": 60,
     "metadata": {},
     "output_type": "execute_result"
    }
   ],
   "source": [
    "# printing these out\n",
    "ρ_AB, ρ_ApB, ρ_ABp, ρ_ApBp"
   ]
  },
  {
   "cell_type": "markdown",
   "metadata": {},
   "source": [
    "We might as well combine these into the LHS of the CHSH inequality\n",
    "This will be the operator we evaluate for our two candidate initial states.\n"
   ]
  },
  {
   "cell_type": "code",
   "execution_count": 61,
   "metadata": {},
   "outputs": [
    {
     "data": {
      "image/png": "[encoded data removed]",
      "text/latex": [
       "$\\displaystyle \\left[\\begin{matrix}- \\sqrt{2} & 0 & 0 & - \\sqrt{2}\\\\0 & \\sqrt{2} & - \\sqrt{2} & 0\\\\0 & - \\sqrt{2} & \\sqrt{2} & 0\\\\- \\sqrt{2} & 0 & 0 & - \\sqrt{2}\\end{matrix}\\right]$"
      ],
      "text/plain": [
       "⎡-√2   0    0   -√2⎤\n",
       "⎢                  ⎥\n",
       "⎢ 0   √2   -√2   0 ⎥\n",
       "⎢                  ⎥\n",
       "⎢ 0   -√2  √2    0 ⎥\n",
       "⎢                  ⎥\n",
       "⎣-√2   0    0   -√2⎦"
      ]
     },
     "execution_count": 61,
     "metadata": {},
     "output_type": "execute_result"
    }
   ],
   "source": [
    "CSHS = -ρ_AB + ρ_ApB + ρ_ABp + ρ_ApBp\n",
    "CSHS"
   ]
  },
  {
   "cell_type": "markdown",
   "metadata": {},
   "source": [
    "## Bell singlet state\n",
    "This one is easy because we just need the state vector for\n",
    "$$\\lvert \\psi \\rangle = \\frac{1}{\\sqrt{2}} \\bigl( \\lvert + - \\rangle - \\lvert - + \\rangle \\bigr).$$"
   ]
  },
  {
   "cell_type": "code",
   "execution_count": 62,
   "metadata": {},
   "outputs": [
    {
     "data": {
      "image/png": "[encoded data removed]",
      "text/latex": [
       "$\\displaystyle \\left[\\begin{matrix}0\\\\\\frac{\\sqrt{2}}{2}\\\\- \\frac{\\sqrt{2}}{2}\\\\0\\end{matrix}\\right]$"
      ],
      "text/plain": [
       "⎡ 0  ⎤\n",
       "⎢    ⎥\n",
       "⎢ √2 ⎥\n",
       "⎢ ── ⎥\n",
       "⎢ 2  ⎥\n",
       "⎢    ⎥\n",
       "⎢-√2 ⎥\n",
       "⎢────⎥\n",
       "⎢ 2  ⎥\n",
       "⎢    ⎥\n",
       "⎣ 0  ⎦"
      ]
     },
     "execution_count": 62,
     "metadata": {},
     "output_type": "execute_result"
    }
   ],
   "source": [
    "Ψ_Bell = Matrix([[0],[1],[-1],[0]])/sqrt(2)\n",
    "Ψ_Bell"
   ]
  },
  {
   "cell_type": "markdown",
   "metadata": {},
   "source": [
    "We evaluate the expectation values in the usual way for state vectors:\n",
    "$$\n",
    "\\langle \\rho_{AB} \\rangle_{\\psi_{Bell}} = \\langle \\psi_{Bell} \\vert \\rho_{AB} \\vert \\psi_{Bell} \\rangle \\doteq \\vec{\\psi}_{Bell}^\\dagger\\,\\rho_{AB}\\,\\vec{\\psi}\n",
    "$$"
   ]
  },
  {
   "cell_type": "code",
   "execution_count": 63,
   "metadata": {},
   "outputs": [
    {
     "data": {
      "image/png": "[encoded data removed]",
      "text/latex": [
       "$\\displaystyle \\left( \\left[\\begin{matrix}- \\frac{\\sqrt{2}}{2}\\end{matrix}\\right], \\  \\left[\\begin{matrix}\\frac{\\sqrt{2}}{2}\\end{matrix}\\right], \\  \\left[\\begin{matrix}\\frac{\\sqrt{2}}{2}\\end{matrix}\\right], \\  \\left[\\begin{matrix}\\frac{\\sqrt{2}}{2}\\end{matrix}\\right]\\right)$"
      ],
      "text/plain": [
       "⎛⎡-√2 ⎤  ⎡√2⎤  ⎡√2⎤  ⎡√2⎤⎞\n",
       "⎜⎢────⎥, ⎢──⎥, ⎢──⎥, ⎢──⎥⎟\n",
       "⎝⎣ 2  ⎦  ⎣2 ⎦  ⎣2 ⎦  ⎣2 ⎦⎠"
      ]
     },
     "execution_count": 63,
     "metadata": {},
     "output_type": "execute_result"
    }
   ],
   "source": [
    "# Calculate the expectation value of the correlation operators\n",
    "# .H performs the Hermitian conjugate (dagger)\n",
    "Ψ_Bell.H*ρ_AB*Ψ_Bell, Ψ_Bell.H*ρ_ApB*Ψ_Bell, Ψ_Bell.H*ρ_ABp*Ψ_Bell, Ψ_Bell.H*ρ_ApBp*Ψ_Bell"
   ]
  },
  {
   "cell_type": "code",
   "execution_count": 64,
   "metadata": {},
   "outputs": [
    {
     "data": {
      "image/png": "[encoded data removed]",
      "text/latex": [
       "$\\displaystyle \\left[\\begin{matrix}2 \\sqrt{2}\\end{matrix}\\right]$"
      ],
      "text/plain": [
       "[2⋅√2]"
      ]
     },
     "execution_count": 64,
     "metadata": {},
     "output_type": "execute_result"
    }
   ],
   "source": [
    "# adding those up with the correct signs...\n",
    "Ψ_Bell.H*CSHS*Ψ_Bell"
   ]
  },
  {
   "cell_type": "markdown",
   "metadata": {},
   "source": [
    "Our expectation value for the LHS of the CHSH inequality for the Bell singlet state is $2\\sqrt{2} > 2$, so the Bell singlet violates the local hidden variable hypothesis."
   ]
  },
  {
   "cell_type": "markdown",
   "metadata": {},
   "source": [
    "## Classically anti-correlated mixture"
   ]
  },
  {
   "cell_type": "markdown",
   "metadata": {},
   "source": [
    "This one is a bit trickier to set up.  We need a mixture of all of the possible states with classically anti-correlated particles.  \"Mixture\" means we have to use a _density operator_ for our math representation.\n",
    "\n",
    "Recall that for a pure state $\\lvert \\psi \\rangle$, we can define a state density operator\n",
    "$$\n",
    "\\hat{\\rho} = \\lvert \\psi \\rangle \\langle \\psi \\rvert.\n",
    "$$\n",
    "In matrix notation, this outer product of ket-bra is represented by a matrix."
   ]
  },
  {
   "cell_type": "markdown",
   "metadata": {},
   "source": [
    "For a mixture of states, the density operator is a weighted average of the constituent states:\n",
    "$$\n",
    "\\hat{\\rho} = \\sum_j p_j \\lvert \\psi_j \\rangle \\langle \\psi_j \\rvert.\n",
    "$$"
   ]
  },
  {
   "cell_type": "markdown",
   "metadata": {},
   "source": [
    "So, what states are we averaging over in our hidden variables hypothesis?  These are anti-correlated spins with the spin axis as the \"hidden variable\".  We'll represent this axis in spherical coordinates by the angles _θ_ and _ϕ_ as usual.\n",
    "\n",
    "If particle A is in state\n",
    "$$\n",
    "\\lvert +_{\\theta,\\phi} \\rangle = \\cos\\tfrac{\\theta}{2}\\,\\lvert + \\rangle + \\sin\\tfrac{\\theta}{2}e^{i\\phi}\\,\\lvert - \\rangle,\n",
    "$$\n",
    "then particle B will be in the orthogonal state\n",
    "$$\n",
    "\\lvert -_{\\theta,\\phi} \\rangle = \\sin\\tfrac{\\theta}{2}\\,\\lvert + \\rangle - \\cos\\tfrac{\\theta}{2}e^{i\\phi}\\,\\lvert - \\rangle.\n",
    "$$\n"
   ]
  },
  {
   "cell_type": "code",
   "execution_count": 69,
   "metadata": {},
   "outputs": [
    {
     "data": {
      "text/latex": [
       "$\\displaystyle \\left( \\left[\\begin{matrix}\\cos{\\left(\\frac{θ}{2} \\right)}\\\\e^{i φ} \\sin{\\left(\\frac{θ}{2} \\right)}\\end{matrix}\\right], \\  \\left[\\begin{matrix}\\sin{\\left(\\frac{θ}{2} \\right)}\\\\- e^{i φ} \\cos{\\left(\\frac{θ}{2} \\right)}\\end{matrix}\\right]\\right)$"
      ],
      "text/plain": [
       "⎛⎡     ⎛θ⎞   ⎤  ⎡      ⎛θ⎞   ⎤⎞\n",
       "⎜⎢  cos⎜─⎟   ⎥  ⎢   sin⎜─⎟   ⎥⎟\n",
       "⎜⎢     ⎝2⎠   ⎥  ⎢      ⎝2⎠   ⎥⎟\n",
       "⎜⎢           ⎥, ⎢            ⎥⎟\n",
       "⎜⎢ ⅈ⋅φ    ⎛θ⎞⎥  ⎢  ⅈ⋅φ    ⎛θ⎞⎥⎟\n",
       "⎜⎢ℯ   ⋅sin⎜─⎟⎥  ⎢-ℯ   ⋅cos⎜─⎟⎥⎟\n",
       "⎝⎣        ⎝2⎠⎦  ⎣         ⎝2⎠⎦⎠"
      ]
     },
     "execution_count": 69,
     "metadata": {},
     "output_type": "execute_result"
    }
   ],
   "source": [
    "# the states as vectors\n",
    "plus = Matrix([[cos(θ/2)],[sin(θ/2)*exp(I*φ)]])\n",
    "minus = Matrix([[sin(θ/2)],[-cos(θ/2)*exp(I*φ)]])\n",
    "plus,minus"
   ]
  },
  {
   "cell_type": "markdown",
   "metadata": {},
   "source": [
    "The joint state of the two particles will look like\n",
    "$$\n",
    "\\lvert \\psi_{\\theta,\\phi}\\rangle = \\lvert +_{\\theta,\\phi} \\rangle\\lvert -_{\\theta,\\phi}\\rangle,\n",
    "$$\n",
    "where $\\theta \\in [0,\\pi)$ and $\\phi \\in [0,2\\pi)$.  In matrix notation with will be a 4-element vector.\n",
    "\n",
    "(I'm using the label \"hv\" for \"hidden variables\".)"
   ]
  },
  {
   "cell_type": "code",
   "execution_count": 72,
   "metadata": {},
   "outputs": [
    {
     "data": {
      "text/latex": [
       "$\\displaystyle \\left[\\begin{matrix}\\sin{\\left(\\frac{θ}{2} \\right)} \\cos{\\left(\\frac{θ}{2} \\right)}\\\\- e^{i φ} \\cos^{2}{\\left(\\frac{θ}{2} \\right)}\\\\e^{i φ} \\sin^{2}{\\left(\\frac{θ}{2} \\right)}\\\\- e^{2 i φ} \\sin{\\left(\\frac{θ}{2} \\right)} \\cos{\\left(\\frac{θ}{2} \\right)}\\end{matrix}\\right]$"
      ],
      "text/plain": [
       "⎡       ⎛θ⎞    ⎛θ⎞    ⎤\n",
       "⎢    sin⎜─⎟⋅cos⎜─⎟    ⎥\n",
       "⎢       ⎝2⎠    ⎝2⎠    ⎥\n",
       "⎢                     ⎥\n",
       "⎢      ⅈ⋅φ    2⎛θ⎞    ⎥\n",
       "⎢    -ℯ   ⋅cos ⎜─⎟    ⎥\n",
       "⎢              ⎝2⎠    ⎥\n",
       "⎢                     ⎥\n",
       "⎢     ⅈ⋅φ    2⎛θ⎞     ⎥\n",
       "⎢    ℯ   ⋅sin ⎜─⎟     ⎥\n",
       "⎢             ⎝2⎠     ⎥\n",
       "⎢                     ⎥\n",
       "⎢  2⋅ⅈ⋅φ    ⎛θ⎞    ⎛θ⎞⎥\n",
       "⎢-ℯ     ⋅sin⎜─⎟⋅cos⎜─⎟⎥\n",
       "⎣           ⎝2⎠    ⎝2⎠⎦"
      ]
     },
     "execution_count": 72,
     "metadata": {},
     "output_type": "execute_result"
    }
   ],
   "source": [
    "# the joint state as a vector\n",
    "psi_hv = TensorProduct(plus,minus)\n",
    "psi_hv"
   ]
  },
  {
   "cell_type": "markdown",
   "metadata": {},
   "source": [
    "Now we need to build up our density operator for the mixture.  The density operator for one specific value of _θ_ and _ϕ_ will be\n",
    "$$\n",
    "\\hat{\\rho}_{\\theta,\\phi} =\n",
    "\\lvert \\psi_{\\theta,\\phi} \\rangle \\langle \\psi_{\\theta,\\phi} \\rvert = \\vec{\\psi}_{\\theta,\\phi} \\vec{\\psi}_{\\theta,\\phi}^\\dagger.\n",
    "$$"
   ]
  },
  {
   "cell_type": "code",
   "execution_count": 78,
   "metadata": {},
   "outputs": [
    {
     "data": {
      "text/latex": [
       "$\\displaystyle \\left[\\begin{matrix}\\sin^{2}{\\left(\\frac{θ}{2} \\right)} \\cos^{2}{\\left(\\frac{θ}{2} \\right)} & - e^{- i φ} \\sin{\\left(\\frac{θ}{2} \\right)} \\cos^{3}{\\left(\\frac{θ}{2} \\right)} & e^{- i φ} \\sin^{3}{\\left(\\frac{θ}{2} \\right)} \\cos{\\left(\\frac{θ}{2} \\right)} & - e^{- 2 i φ} \\sin^{2}{\\left(\\frac{θ}{2} \\right)} \\cos^{2}{\\left(\\frac{θ}{2} \\right)}\\\\- e^{i φ} \\sin{\\left(\\frac{θ}{2} \\right)} \\cos^{3}{\\left(\\frac{θ}{2} \\right)} & \\cos^{4}{\\left(\\frac{θ}{2} \\right)} & - \\sin^{2}{\\left(\\frac{θ}{2} \\right)} \\cos^{2}{\\left(\\frac{θ}{2} \\right)} & e^{- i φ} \\sin{\\left(\\frac{θ}{2} \\right)} \\cos^{3}{\\left(\\frac{θ}{2} \\right)}\\\\e^{i φ} \\sin^{3}{\\left(\\frac{θ}{2} \\right)} \\cos{\\left(\\frac{θ}{2} \\right)} & - \\sin^{2}{\\left(\\frac{θ}{2} \\right)} \\cos^{2}{\\left(\\frac{θ}{2} \\right)} & \\sin^{4}{\\left(\\frac{θ}{2} \\right)} & - e^{- i φ} \\sin^{3}{\\left(\\frac{θ}{2} \\right)} \\cos{\\left(\\frac{θ}{2} \\right)}\\\\- e^{2 i φ} \\sin^{2}{\\left(\\frac{θ}{2} \\right)} \\cos^{2}{\\left(\\frac{θ}{2} \\right)} & e^{i φ} \\sin{\\left(\\frac{θ}{2} \\right)} \\cos^{3}{\\left(\\frac{θ}{2} \\right)} & - e^{i φ} \\sin^{3}{\\left(\\frac{θ}{2} \\right)} \\cos{\\left(\\frac{θ}{2} \\right)} & \\sin^{2}{\\left(\\frac{θ}{2} \\right)} \\cos^{2}{\\left(\\frac{θ}{2} \\right)}\\end{matrix}\\right]$"
      ],
      "text/plain": [
       "⎡       2⎛θ⎞    2⎛θ⎞        -ⅈ⋅φ    ⎛θ⎞    3⎛θ⎞   -ⅈ⋅φ    3⎛θ⎞    ⎛θ⎞    -2⋅ⅈ⋅\n",
       "⎢    sin ⎜─⎟⋅cos ⎜─⎟      -ℯ    ⋅sin⎜─⎟⋅cos ⎜─⎟  ℯ    ⋅sin ⎜─⎟⋅cos⎜─⎟  -ℯ     \n",
       "⎢        ⎝2⎠     ⎝2⎠                ⎝2⎠     ⎝2⎠            ⎝2⎠    ⎝2⎠         \n",
       "⎢                                                                             \n",
       "⎢   ⅈ⋅φ    ⎛θ⎞    3⎛θ⎞              4⎛θ⎞               2⎛θ⎞    2⎛θ⎞       -ⅈ⋅φ\n",
       "⎢ -ℯ   ⋅sin⎜─⎟⋅cos ⎜─⎟           cos ⎜─⎟           -sin ⎜─⎟⋅cos ⎜─⎟      ℯ    \n",
       "⎢          ⎝2⎠     ⎝2⎠               ⎝2⎠                ⎝2⎠     ⎝2⎠           \n",
       "⎢                                                                             \n",
       "⎢   ⅈ⋅φ    3⎛θ⎞    ⎛θ⎞          2⎛θ⎞    2⎛θ⎞              4⎛θ⎞            -ⅈ⋅φ\n",
       "⎢  ℯ   ⋅sin ⎜─⎟⋅cos⎜─⎟      -sin ⎜─⎟⋅cos ⎜─⎟           sin ⎜─⎟          -ℯ    \n",
       "⎢           ⎝2⎠    ⎝2⎠           ⎝2⎠     ⎝2⎠               ⎝2⎠                \n",
       "⎢                                                                             \n",
       "⎢  2⋅ⅈ⋅φ    2⎛θ⎞    2⎛θ⎞    ⅈ⋅φ    ⎛θ⎞    3⎛θ⎞     ⅈ⋅φ    3⎛θ⎞    ⎛θ⎞         \n",
       "⎢-ℯ     ⋅sin ⎜─⎟⋅cos ⎜─⎟   ℯ   ⋅sin⎜─⎟⋅cos ⎜─⎟   -ℯ   ⋅sin ⎜─⎟⋅cos⎜─⎟      sin\n",
       "⎣            ⎝2⎠     ⎝2⎠           ⎝2⎠     ⎝2⎠             ⎝2⎠    ⎝2⎠         \n",
       "\n",
       "φ    2⎛θ⎞    2⎛θ⎞⎤\n",
       " ⋅sin ⎜─⎟⋅cos ⎜─⎟⎥\n",
       "      ⎝2⎠     ⎝2⎠⎥\n",
       "                 ⎥\n",
       "    ⎛θ⎞    3⎛θ⎞  ⎥\n",
       "⋅sin⎜─⎟⋅cos ⎜─⎟  ⎥\n",
       "    ⎝2⎠     ⎝2⎠  ⎥\n",
       "                 ⎥\n",
       "    3⎛θ⎞    ⎛θ⎞  ⎥\n",
       "⋅sin ⎜─⎟⋅cos⎜─⎟  ⎥\n",
       "     ⎝2⎠    ⎝2⎠  ⎥\n",
       "                 ⎥\n",
       "2⎛θ⎞    2⎛θ⎞     ⎥\n",
       " ⎜─⎟⋅cos ⎜─⎟     ⎥\n",
       " ⎝2⎠     ⎝2⎠     ⎦"
      ]
     },
     "execution_count": 78,
     "metadata": {},
     "output_type": "execute_result"
    }
   ],
   "source": [
    "# density operator for one specific choice of angles\n",
    "rho_1hv = psi_hv * (psi_hv.H)\n",
    "rho_1hv"
   ]
  },
  {
   "cell_type": "markdown",
   "metadata": {},
   "source": [
    "We're almost there.  The main idea of hidden variables is that we have no way to know _θ_ and _ϕ_ for each created particle pair.  We represent this mathematically by averaging over all of the possible values.\n",
    "\n",
    "Because these are continuous variables, we need an integral.  Specifically, we need to integrate over the surface of a unit sphere and then divide by the total area of the sphere (4π)."
   ]
  },
  {
   "cell_type": "markdown",
   "metadata": {},
   "source": [
    "$$\n",
    "\\hat{\\rho}_{hv} = \\frac{1}{4\\pi} \\int\\limits_{\\phi=0}^{2\\pi} \\int\\limits_{\\theta=0}^{\\pi}\n",
    "\\hat{\\rho}_{\\theta,\\phi}\\,\\sin\\theta\\,d\\theta\\,d\\phi.\n",
    "$$"
   ]
  },
  {
   "cell_type": "markdown",
   "metadata": {},
   "source": [
    "Doing this integral on the matrix above gives us our final density operator:"
   ]
  },
  {
   "cell_type": "code",
   "execution_count": 89,
   "metadata": {},
   "outputs": [
    {
     "data": {
      "text/latex": [
       "$\\displaystyle \\frac{\\int\\limits_{0}^{2 \\pi}\\int\\limits_{0}^{\\pi} \\left[\\begin{matrix}\\sin^{2}{\\left(\\frac{θ}{2} \\right)} \\sin{\\left(θ \\right)} \\cos^{2}{\\left(\\frac{θ}{2} \\right)} & - e^{- i φ} \\sin{\\left(\\frac{θ}{2} \\right)} \\sin{\\left(θ \\right)} \\cos^{3}{\\left(\\frac{θ}{2} \\right)} & e^{- i φ} \\sin^{3}{\\left(\\frac{θ}{2} \\right)} \\sin{\\left(θ \\right)} \\cos{\\left(\\frac{θ}{2} \\right)} & - e^{- 2 i φ} \\sin^{2}{\\left(\\frac{θ}{2} \\right)} \\sin{\\left(θ \\right)} \\cos^{2}{\\left(\\frac{θ}{2} \\right)}\\\\- e^{i φ} \\sin{\\left(\\frac{θ}{2} \\right)} \\sin{\\left(θ \\right)} \\cos^{3}{\\left(\\frac{θ}{2} \\right)} & \\sin{\\left(θ \\right)} \\cos^{4}{\\left(\\frac{θ}{2} \\right)} & - \\sin^{2}{\\left(\\frac{θ}{2} \\right)} \\sin{\\left(θ \\right)} \\cos^{2}{\\left(\\frac{θ}{2} \\right)} & e^{- i φ} \\sin{\\left(\\frac{θ}{2} \\right)} \\sin{\\left(θ \\right)} \\cos^{3}{\\left(\\frac{θ}{2} \\right)}\\\\e^{i φ} \\sin^{3}{\\left(\\frac{θ}{2} \\right)} \\sin{\\left(θ \\right)} \\cos{\\left(\\frac{θ}{2} \\right)} & - \\sin^{2}{\\left(\\frac{θ}{2} \\right)} \\sin{\\left(θ \\right)} \\cos^{2}{\\left(\\frac{θ}{2} \\right)} & \\sin^{4}{\\left(\\frac{θ}{2} \\right)} \\sin{\\left(θ \\right)} & - e^{- i φ} \\sin^{3}{\\left(\\frac{θ}{2} \\right)} \\sin{\\left(θ \\right)} \\cos{\\left(\\frac{θ}{2} \\right)}\\\\- e^{2 i φ} \\sin^{2}{\\left(\\frac{θ}{2} \\right)} \\sin{\\left(θ \\right)} \\cos^{2}{\\left(\\frac{θ}{2} \\right)} & e^{i φ} \\sin{\\left(\\frac{θ}{2} \\right)} \\sin{\\left(θ \\right)} \\cos^{3}{\\left(\\frac{θ}{2} \\right)} & - e^{i φ} \\sin^{3}{\\left(\\frac{θ}{2} \\right)} \\sin{\\left(θ \\right)} \\cos{\\left(\\frac{θ}{2} \\right)} & \\sin^{2}{\\left(\\frac{θ}{2} \\right)} \\sin{\\left(θ \\right)} \\cos^{2}{\\left(\\frac{θ}{2} \\right)}\\end{matrix}\\right]\\, dθ\\, dφ}{4 \\pi}$"
      ],
      "text/plain": [
       "2⋅π π                                                                         \n",
       " ⌠  ⌠                                                                         \n",
       " ⎮  ⎮ ⎡       2⎛θ⎞           2⎛θ⎞        -ⅈ⋅φ    ⎛θ⎞           3⎛θ⎞   -ⅈ⋅φ    \n",
       " ⎮  ⎮ ⎢    sin ⎜─⎟⋅sin(θ)⋅cos ⎜─⎟      -ℯ    ⋅sin⎜─⎟⋅sin(θ)⋅cos ⎜─⎟  ℯ    ⋅sin\n",
       " ⎮  ⎮ ⎢        ⎝2⎠            ⎝2⎠                ⎝2⎠            ⎝2⎠           \n",
       " ⎮  ⎮ ⎢                                                                       \n",
       " ⎮  ⎮ ⎢   ⅈ⋅φ    ⎛θ⎞           3⎛θ⎞                     4⎛θ⎞               2⎛θ\n",
       " ⎮  ⎮ ⎢ -ℯ   ⋅sin⎜─⎟⋅sin(θ)⋅cos ⎜─⎟           sin(θ)⋅cos ⎜─⎟           -sin ⎜─\n",
       " ⎮  ⎮ ⎢          ⎝2⎠            ⎝2⎠                      ⎝2⎠                ⎝2\n",
       " ⎮  ⎮ ⎢                                                                       \n",
       " ⎮  ⎮ ⎢   ⅈ⋅φ    3⎛θ⎞           ⎛θ⎞          2⎛θ⎞           2⎛θ⎞              \n",
       " ⎮  ⎮ ⎢  ℯ   ⋅sin ⎜─⎟⋅sin(θ)⋅cos⎜─⎟      -sin ⎜─⎟⋅sin(θ)⋅cos ⎜─⎟           sin\n",
       " ⎮  ⎮ ⎢           ⎝2⎠           ⎝2⎠           ⎝2⎠            ⎝2⎠              \n",
       " ⎮  ⎮ ⎢                                                                       \n",
       " ⎮  ⎮ ⎢  2⋅ⅈ⋅φ    2⎛θ⎞           2⎛θ⎞    ⅈ⋅φ    ⎛θ⎞           3⎛θ⎞     ⅈ⋅φ    \n",
       " ⎮  ⎮ ⎢-ℯ     ⋅sin ⎜─⎟⋅sin(θ)⋅cos ⎜─⎟   ℯ   ⋅sin⎜─⎟⋅sin(θ)⋅cos ⎜─⎟   -ℯ   ⋅sin\n",
       " ⎮  ⎮ ⎣            ⎝2⎠            ⎝2⎠           ⎝2⎠            ⎝2⎠            \n",
       " ⌡  ⌡                                                                         \n",
       " 0  0                                                                         \n",
       "──────────────────────────────────────────────────────────────────────────────\n",
       "                                                                  4⋅π         \n",
       "\n",
       "                                                          \n",
       "                                                          \n",
       "3⎛θ⎞           ⎛θ⎞    -2⋅ⅈ⋅φ    2⎛θ⎞           2⎛θ⎞⎤      \n",
       " ⎜─⎟⋅sin(θ)⋅cos⎜─⎟  -ℯ      ⋅sin ⎜─⎟⋅sin(θ)⋅cos ⎜─⎟⎥      \n",
       " ⎝2⎠           ⎝2⎠               ⎝2⎠            ⎝2⎠⎥      \n",
       "                                                   ⎥      \n",
       "⎞           2⎛θ⎞       -ⅈ⋅φ    ⎛θ⎞           3⎛θ⎞  ⎥      \n",
       "⎟⋅sin(θ)⋅cos ⎜─⎟      ℯ    ⋅sin⎜─⎟⋅sin(θ)⋅cos ⎜─⎟  ⎥      \n",
       "⎠            ⎝2⎠               ⎝2⎠            ⎝2⎠  ⎥      \n",
       "                                                   ⎥ dθ dφ\n",
       "4⎛θ⎞                   -ⅈ⋅φ    3⎛θ⎞           ⎛θ⎞  ⎥      \n",
       " ⎜─⎟⋅sin(θ)          -ℯ    ⋅sin ⎜─⎟⋅sin(θ)⋅cos⎜─⎟  ⎥      \n",
       " ⎝2⎠                            ⎝2⎠           ⎝2⎠  ⎥      \n",
       "                                                   ⎥      \n",
       "3⎛θ⎞           ⎛θ⎞         2⎛θ⎞           2⎛θ⎞     ⎥      \n",
       " ⎜─⎟⋅sin(θ)⋅cos⎜─⎟      sin ⎜─⎟⋅sin(θ)⋅cos ⎜─⎟     ⎥      \n",
       " ⎝2⎠           ⎝2⎠          ⎝2⎠            ⎝2⎠     ⎦      \n",
       "                                                          \n",
       "                                                          \n",
       "──────────────────────────────────────────────────────────\n",
       "                                                          "
      ]
     },
     "execution_count": 89,
     "metadata": {},
     "output_type": "execute_result"
    }
   ],
   "source": [
    "rho_hv_integral = Integral(Integral(rho_1hv*sin(θ),(θ,0,pi)),(φ,0,2*pi))/(4*pi)\n",
    "rho_hv_integral"
   ]
  },
  {
   "cell_type": "code",
   "execution_count": 90,
   "metadata": {},
   "outputs": [
    {
     "data": {
      "image/png": "[encoded data removed]",
      "text/latex": [
       "$\\displaystyle \\left[\\begin{matrix}\\frac{1}{6} & 0 & 0 & 0\\\\0 & \\frac{1}{3} & - \\frac{1}{6} & 0\\\\0 & - \\frac{1}{6} & \\frac{1}{3} & 0\\\\0 & 0 & 0 & \\frac{1}{6}\\end{matrix}\\right]$"
      ],
      "text/plain": [
       "⎡1/6   0     0     0 ⎤\n",
       "⎢                    ⎥\n",
       "⎢ 0   1/3   -1/6   0 ⎥\n",
       "⎢                    ⎥\n",
       "⎢ 0   -1/6  1/3    0 ⎥\n",
       "⎢                    ⎥\n",
       "⎣ 0    0     0    1/6⎦"
      ]
     },
     "execution_count": 90,
     "metadata": {},
     "output_type": "execute_result"
    }
   ],
   "source": [
    "rho_hv=rho_hv_integral.doit()\n",
    "rho_hv"
   ]
  },
  {
   "cell_type": "markdown",
   "metadata": {},
   "source": [
    "Great!  Notice that this isn't a fully incoherent mixture (which would be proportional to the identity matrix), but that there are some off-diagonal terms.  This is what correlations look like in the state density operators.  This specific case has _classical_ correlations, but not quantum entanglement.\n",
    "\n",
    "Now we need the expectation value of the correlators w.r.t. this state density operator.\n",
    "The general formula for the expectation value of a measurement $\\hat{A}$ w.r.t. a state density operator is\n",
    "$$\n",
    "\\langle \\hat{A} \\rangle_{\\hat{\\rho}} = \\mathrm{Trace}[\\hat{\\rho}\\hat{A}].\n",
    "$$"
   ]
  },
  {
   "cell_type": "code",
   "execution_count": 95,
   "metadata": {},
   "outputs": [
    {
     "data": {
      "image/png": "[encoded data removed]",
      "text/latex": [
       "$\\displaystyle \\left( - \\frac{\\sqrt{2}}{6}, \\  \\frac{\\sqrt{2}}{6}, \\  \\frac{\\sqrt{2}}{6}, \\  \\frac{\\sqrt{2}}{6}\\right)$"
      ],
      "text/plain": [
       "⎛-√2   √2  √2  √2⎞\n",
       "⎜────, ──, ──, ──⎟\n",
       "⎝ 6    6   6   6 ⎠"
      ]
     },
     "execution_count": 95,
     "metadata": {},
     "output_type": "execute_result"
    }
   ],
   "source": [
    "# The expectation values of the correlators are\n",
    "(rho_hv*ρ_AB).trace(), (rho_hv*ρ_ApB).trace(), (rho_hv*ρ_ABp).trace(), (rho_hv*ρ_ApBp).trace()"
   ]
  },
  {
   "cell_type": "code",
   "execution_count": 101,
   "metadata": {},
   "outputs": [
    {
     "data": {
      "image/png": "[encoded data removed]",
      "text/latex": [
       "$\\displaystyle \\frac{2 \\sqrt{2}}{3}$"
      ],
      "text/plain": [
       "2⋅√2\n",
       "────\n",
       " 3  "
      ]
     },
     "metadata": {},
     "output_type": "display_data"
    },
    {
     "data": {
      "text/plain": [
       "'≈0.942809041582063'"
      ]
     },
     "metadata": {},
     "output_type": "display_data"
    }
   ],
   "source": [
    "# The LHS of the CSHS inequality is\n",
    "CSHS_hv=(rho_hv*CSHS).trace()\n",
    "display(CSHS_hv,f\"≈{N(CSHS_hv)}\")"
   ]
  },
  {
   "cell_type": "markdown",
   "metadata": {},
   "source": [
    "Clearly this is ≤2, so the classically anti-correlated hidden local variable states do not violate the CSHS inequality (which they should not)."
   ]
  },
  {
   "cell_type": "markdown",
   "metadata": {},
   "source": [
    "## Conclusion\n",
    "We have calculated what the result of the CSHS version of the EPR experiment should be for two hypothesized initials states: the classically anti-correlated hidden local variables state and the entangled Bell singlet state.  As anticipated, the entangled state violates the CSHS inequality but the hidden variables state does not.  But we haven't _proven_ anything.  That requires us to do the experiment."
   ]
  },
  {
   "cell_type": "markdown",
   "metadata": {},
   "source": []
  }
 ],
 "metadata": {
  "kernelspec": {
   "display_name": "Python 3.9.13 ('cf')",
   "language": "python",
   "name": "python3"
  },
  "language_info": {
   "codemirror_mode": {
    "name": "ipython",
    "version": 3
   },
   "file_extension": ".py",
   "mimetype": "text/x-python",
   "name": "python",
   "nbconvert_exporter": "python",
   "pygments_lexer": "ipython3",
   "version": "3.9.13"
  },
  "orig_nbformat": 4,
  "vscode": {
   "interpreter": {
    "hash": "aebd0318a2d40d24dfccd8929f660be03f84f4e38d4ba2963762e6a7d542a5ed"
   }
  }
 },
 "nbformat": 4,
 "nbformat_minor": 2
}
