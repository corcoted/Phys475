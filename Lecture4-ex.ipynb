{
 "cells": [
  {
   "cell_type": "code",
   "execution_count": 1,
   "metadata": {
    "ExecuteTime": {
     "end_time": "2019-01-21T19:14:02.202856Z",
     "start_time": "2019-01-21T19:13:58.005438Z"
    }
   },
   "outputs": [],
   "source": [
    "from sympy import *\n",
    "init_printing()"
   ]
  },
  {
   "cell_type": "code",
   "execution_count": 2,
   "metadata": {
    "ExecuteTime": {
     "end_time": "2019-01-21T19:14:16.497065Z",
     "start_time": "2019-01-21T19:14:16.490070Z"
    }
   },
   "outputs": [],
   "source": [
    "# Example 1"
   ]
  },
  {
   "cell_type": "code",
   "execution_count": 11,
   "metadata": {
    "ExecuteTime": {
     "end_time": "2019-01-21T19:18:41.525066Z",
     "start_time": "2019-01-21T19:18:41.515072Z"
    }
   },
   "outputs": [],
   "source": [
    "hbar, m, L, g = symbols(\"hbar, m, L, g\", positive=True)"
   ]
  },
  {
   "cell_type": "code",
   "execution_count": 4,
   "metadata": {
    "ExecuteTime": {
     "end_time": "2019-01-21T19:15:10.019148Z",
     "start_time": "2019-01-21T19:15:10.011153Z"
    }
   },
   "outputs": [],
   "source": [
    "n, ell = symbols('n, ell', integer=True)"
   ]
  },
  {
   "cell_type": "code",
   "execution_count": 5,
   "metadata": {
    "ExecuteTime": {
     "end_time": "2019-01-21T19:15:27.616326Z",
     "start_time": "2019-01-21T19:15:27.608330Z"
    }
   },
   "outputs": [],
   "source": [
    "x = symbols('x', real=True)"
   ]
  },
  {
   "cell_type": "code",
   "execution_count": 7,
   "metadata": {
    "ExecuteTime": {
     "end_time": "2019-01-21T19:16:34.590134Z",
     "start_time": "2019-01-21T19:16:34.580141Z"
    }
   },
   "outputs": [],
   "source": [
    "def phi0(x,n):\n",
    "    return sqrt(2/L)*sin(n*pi*x/L)"
   ]
  },
  {
   "cell_type": "code",
   "execution_count": 10,
   "metadata": {
    "ExecuteTime": {
     "end_time": "2019-01-21T19:17:40.346691Z",
     "start_time": "2019-01-21T19:17:37.931177Z"
    }
   },
   "outputs": [
    {
     "data": {
      "image/png": "[encoded data removed]",
      "text/latex": [
       "$$\\frac{\\sqrt{2} \\sin{\\left (\\frac{\\pi n x}{L} \\right )}}{\\sqrt{L}}$$"
      ],
      "text/plain": [
       "      ⎛π⋅n⋅x⎞\n",
       "√2⋅sin⎜─────⎟\n",
       "      ⎝  L  ⎠\n",
       "─────────────\n",
       "      √L     "
      ]
     },
     "execution_count": 10,
     "metadata": {},
     "output_type": "execute_result"
    }
   ],
   "source": [
    "phi0(x,n)"
   ]
  },
  {
   "cell_type": "code",
   "execution_count": 8,
   "metadata": {
    "ExecuteTime": {
     "end_time": "2019-01-21T19:17:18.079388Z",
     "start_time": "2019-01-21T19:17:18.072393Z"
    }
   },
   "outputs": [],
   "source": [
    "def E0(n):\n",
    "    return hbar**2*n**2*pi**2/(2*m*L**2)"
   ]
  },
  {
   "cell_type": "code",
   "execution_count": 9,
   "metadata": {
    "ExecuteTime": {
     "end_time": "2019-01-21T19:17:25.608759Z",
     "start_time": "2019-01-21T19:17:23.994749Z"
    }
   },
   "outputs": [
    {
     "data": {
      "image/png": "[encoded data removed]",
      "text/latex": [
       "$$\\frac{\\pi^{2} \\hbar^{2} n^{2}}{2 L^{2} m}$$"
      ],
      "text/plain": [
       " 2   2  2\n",
       "π ⋅h̅ ⋅n \n",
       "─────────\n",
       "     2   \n",
       "  2⋅L ⋅m "
      ]
     },
     "execution_count": 9,
     "metadata": {},
     "output_type": "execute_result"
    }
   ],
   "source": [
    "E0(n)"
   ]
  },
  {
   "cell_type": "code",
   "execution_count": 12,
   "metadata": {
    "ExecuteTime": {
     "end_time": "2019-01-21T19:19:09.087115Z",
     "start_time": "2019-01-21T19:19:09.076121Z"
    }
   },
   "outputs": [],
   "source": [
    "#first order energy corrections\n",
    "def E1(n):\n",
    "    return integrate(phi0(x,n)*(m*g*x)*phi0(x,n),(x,0,L))"
   ]
  },
  {
   "cell_type": "code",
   "execution_count": 13,
   "metadata": {
    "ExecuteTime": {
     "end_time": "2019-01-21T19:19:17.066207Z",
     "start_time": "2019-01-21T19:19:14.721647Z"
    }
   },
   "outputs": [
    {
     "data": {
      "image/png": "[encoded data removed]",
      "text/latex": [
       "$$\\begin{cases} \\frac{L g m}{2} & \\text{for}\\: n > -\\infty \\wedge n < \\infty \\wedge n \\neq 0 \\\\0 & \\text{otherwise} \\end{cases}$$"
      ],
      "text/plain": [
       "⎧L⋅g⋅m                            \n",
       "⎪─────  for n > -∞ ∧ n < ∞ ∧ n ≠ 0\n",
       "⎨  2                              \n",
       "⎪                                 \n",
       "⎩  0            otherwise         "
      ]
     },
     "execution_count": 13,
     "metadata": {},
     "output_type": "execute_result"
    }
   ],
   "source": [
    "E1(n) # the top line is the one that counts: n neq 0"
   ]
  },
  {
   "cell_type": "code",
   "execution_count": 14,
   "metadata": {
    "ExecuteTime": {
     "end_time": "2019-01-21T19:19:48.514864Z",
     "start_time": "2019-01-21T19:19:48.508867Z"
    }
   },
   "outputs": [],
   "source": [
    "# first order state corrections"
   ]
  },
  {
   "cell_type": "code",
   "execution_count": 15,
   "metadata": {
    "ExecuteTime": {
     "end_time": "2019-01-21T19:20:36.024645Z",
     "start_time": "2019-01-21T19:20:22.672856Z"
    }
   },
   "outputs": [
    {
     "data": {
      "image/png": "[encoded data removed]",
      "text/latex": [
       "$$\\begin{cases} 0 & \\text{for}\\: \\left(\\ell = 0 \\wedge n = 0\\right) \\vee \\left(\\ell = 0 \\wedge \\ell = n \\wedge n = 0\\right) \\vee \\left(\\ell = 0 \\wedge \\ell = - n \\wedge n = 0\\right) \\vee \\left(\\ell = 0 \\wedge \\ell = - n \\wedge \\ell = n \\wedge n = 0\\right) \\\\- \\frac{L g m}{2} & \\text{for}\\: \\left(\\ell = 0 \\wedge \\ell = - n\\right) \\vee \\left(\\ell = - n \\wedge \\ell = n\\right) \\vee \\left(\\ell = - n \\wedge n = 0\\right) \\vee \\left(\\ell = 0 \\wedge \\ell = - n \\wedge \\ell = n\\right) \\vee \\left(\\ell = - n \\wedge \\ell = n \\wedge n = 0\\right) \\vee \\ell = - n \\\\\\frac{L g m}{2} & \\text{for}\\: \\left(\\ell = 0 \\wedge \\ell = n\\right) \\vee \\left(\\ell = n \\wedge n = 0\\right) \\vee \\ell = n \\\\\\frac{4 \\left(-1\\right)^{\\ell} \\left(-1\\right)^{n} L \\ell g m n}{\\pi^{2} \\ell^{4} - 2 \\pi^{2} \\ell^{2} n^{2} + \\pi^{2} n^{4}} - \\frac{4 L \\ell g m n}{\\pi^{2} \\ell^{4} - 2 \\pi^{2} \\ell^{2} n^{2} + \\pi^{2} n^{4}} & \\text{otherwise} \\end{cases}$$"
      ],
      "text/plain": [
       "⎧                               0                                           fo\n",
       "⎪                                                                             \n",
       "⎪                            -L⋅g⋅m                                           \n",
       "⎪                            ───────                              for (ell = 0\n",
       "⎪                               2                                             \n",
       "⎪                                                                             \n",
       "⎪                             L⋅g⋅m                                           \n",
       "⎨                             ─────                                           \n",
       "⎪                               2                                             \n",
       "⎪                                                                             \n",
       "⎪       ell     n                                                             \n",
       "⎪ 4⋅(-1)   ⋅(-1) ⋅L⋅ell⋅g⋅m⋅n             4⋅L⋅ell⋅g⋅m⋅n                       \n",
       "⎪────────────────────────────── - ──────────────────────────────              \n",
       "⎪ 2    4      2    2  2    2  4    2    4      2    2  2    2  4              \n",
       "⎩π ⋅ell  - 2⋅π ⋅ell ⋅n  + π ⋅n    π ⋅ell  - 2⋅π ⋅ell ⋅n  + π ⋅n               \n",
       "\n",
       "r (ell = 0 ∧ n = 0) ∨ (ell = 0 ∧ ell = n ∧ n = 0) ∨ (ell = 0 ∧ ell = -n ∧ n = \n",
       "                                                                              \n",
       "                                                                              \n",
       " ∧ ell = -n) ∨ (ell = -n ∧ ell = n) ∨ (ell = -n ∧ n = 0) ∨ (ell = 0 ∧ ell = -n\n",
       "                                                                              \n",
       "                                                                              \n",
       "                                                                              \n",
       "                                 for (ell = 0 ∧ ell = n) ∨ (ell = n ∧ n = 0) ∨\n",
       "                                                                              \n",
       "                                                                              \n",
       "                                                                              \n",
       "                                                                              \n",
       "                                                       otherwise              \n",
       "                                                                              \n",
       "                                                                              \n",
       "\n",
       "0) ∨ (ell = 0 ∧ ell = -n ∧ ell = n ∧ n = 0)          \n",
       "                                                     \n",
       "                                                     \n",
       " ∧ ell = n) ∨ (ell = -n ∧ ell = n ∧ n = 0) ∨ ell = -n\n",
       "                                                     \n",
       "                                                     \n",
       "                                                     \n",
       " ell = n                                             \n",
       "                                                     \n",
       "                                                     \n",
       "                                                     \n",
       "                                                     \n",
       "                                                     \n",
       "                                                     \n",
       "                                                     "
      ]
     },
     "execution_count": 15,
     "metadata": {},
     "output_type": "execute_result"
    }
   ],
   "source": [
    "# first, the integrals are\n",
    "integrate(phi0(x,ell)*m*g*x*phi0(x,n),(x,0,L))\n",
    "# The last line is the only good one: ell neq n and both are > 0"
   ]
  },
  {
   "cell_type": "code",
   "execution_count": 16,
   "metadata": {
    "ExecuteTime": {
     "end_time": "2019-01-21T19:22:49.757394Z",
     "start_time": "2019-01-21T19:22:48.378242Z"
    }
   },
   "outputs": [
    {
     "data": {
      "image/png": "[encoded data removed]",
      "text/latex": [
       "$$\\begin{cases} - \\frac{L g m}{2} & \\text{for}\\: \\ell = -1 \\\\\\frac{L g m}{2} & \\text{for}\\: \\ell = 1 \\\\- \\frac{4 \\left(-1\\right)^{\\ell} L \\ell g m}{\\pi^{2} \\ell^{4} - 2 \\pi^{2} \\ell^{2} + \\pi^{2}} - \\frac{4 L \\ell g m}{\\pi^{2} \\ell^{4} - 2 \\pi^{2} \\ell^{2} + \\pi^{2}} & \\text{otherwise} \\end{cases}$$"
      ],
      "text/plain": [
       "⎧                       -L⋅g⋅m                                      \n",
       "⎪                       ───────                         for ell = -1\n",
       "⎪                          2                                        \n",
       "⎪                                                                   \n",
       "⎪                        L⋅g⋅m                                      \n",
       "⎪                        ─────                          for ell = 1 \n",
       "⎨                          2                                        \n",
       "⎪                                                                   \n",
       "⎪          ell                                                      \n",
       "⎪    4⋅(-1)   ⋅L⋅ell⋅g⋅m            4⋅L⋅ell⋅g⋅m                     \n",
       "⎪- ──────────────────────── - ────────────────────────   otherwise  \n",
       "⎪   2    4      2    2    2    2    4      2    2    2              \n",
       "⎩  π ⋅ell  - 2⋅π ⋅ell  + π    π ⋅ell  - 2⋅π ⋅ell  + π               "
      ]
     },
     "execution_count": 16,
     "metadata": {},
     "output_type": "execute_result"
    }
   ],
   "source": [
    "_15.subs(n,1)"
   ]
  },
  {
   "cell_type": "code",
   "execution_count": 18,
   "metadata": {
    "ExecuteTime": {
     "end_time": "2019-01-21T19:25:01.579317Z",
     "start_time": "2019-01-21T19:25:00.643896Z"
    }
   },
   "outputs": [
    {
     "data": {
      "image/png": "[encoded data removed]",
      "text/latex": [
       "$$\\sum_{\\ell=2}^{\\infty} \\begin{cases} - \\frac{L g m}{2} & \\text{for}\\: \\ell = -1 \\\\\\frac{L g m}{2} & \\text{for}\\: \\ell = 1 \\\\- \\frac{4 \\left(-1\\right)^{\\ell} L \\ell g m}{\\pi^{2} \\ell^{4} - 2 \\pi^{2} \\ell^{2} + \\pi^{2}} - \\frac{4 L \\ell g m}{\\pi^{2} \\ell^{4} - 2 \\pi^{2} \\ell^{2} + \\pi^{2}} & \\text{otherwise} \\end{cases}$$"
      ],
      "text/plain": [
       "    ∞                                                                         \n",
       "_________                                                                     \n",
       "╲                                                                             \n",
       " ╲        ⎧                       -L⋅g⋅m                                      \n",
       "  ╲       ⎪                       ───────                         for ell = -1\n",
       "   ╲      ⎪                          2                                        \n",
       "    ╲     ⎪                                                                   \n",
       "     ╲    ⎪                        L⋅g⋅m                                      \n",
       "      ╲   ⎪                        ─────                          for ell = 1 \n",
       "       ╲  ⎨                          2                                        \n",
       "       ╱  ⎪                                                                   \n",
       "      ╱   ⎪          ell                                                      \n",
       "     ╱    ⎪    4⋅(-1)   ⋅L⋅ell⋅g⋅m            4⋅L⋅ell⋅g⋅m                     \n",
       "    ╱     ⎪- ──────────────────────── - ────────────────────────   otherwise  \n",
       "   ╱      ⎪   2    4      2    2    2    2    4      2    2    2              \n",
       "  ╱       ⎩  π ⋅ell  - 2⋅π ⋅ell  + π    π ⋅ell  - 2⋅π ⋅ell  + π               \n",
       " ╱                                                                            \n",
       "╱                                                                             \n",
       "‾‾‾‾‾‾‾‾‾                                                                     \n",
       " ell = 2                                                                      "
      ]
     },
     "execution_count": 18,
     "metadata": {},
     "output_type": "execute_result"
    }
   ],
   "source": [
    "summation(_16,(ell,2,oo))"
   ]
  },
  {
   "cell_type": "code",
   "execution_count": 20,
   "metadata": {
    "ExecuteTime": {
     "end_time": "2019-01-21T19:31:27.495967Z",
     "start_time": "2019-01-21T19:31:27.479980Z"
    }
   },
   "outputs": [
    {
     "data": {
      "text/plain": [
       "'Piecewise((0, (Eq(ell, 0) & Eq(n, 0)) | (Eq(ell, 0) & Eq(ell, n) & Eq(n, 0)) | (Eq(ell, 0) & Eq(n, 0) & Eq(ell, -n)) | (Eq(ell, 0) & Eq(ell, n) & Eq(n, 0) & Eq(ell, -n))), (-L*g*m/2, Eq(ell, -n) | (Eq(ell, 0) & Eq(ell, -n)) | (Eq(ell, n) & Eq(ell, -n)) | (Eq(n, 0) & Eq(ell, -n)) | (Eq(ell, 0) & Eq(ell, n) & Eq(ell, -n)) | (Eq(ell, n) & Eq(n, 0) & Eq(ell, -n))), (L*g*m/2, Eq(ell, n) | (Eq(ell, 0) & Eq(ell, n)) | (Eq(ell, n) & Eq(n, 0))), (4*(-1)**ell*(-1)**n*L*ell*g*m*n/(pi**2*ell**4 - 2*pi**2*ell**2*n**2 + pi**2*n**4) - 4*L*ell*g*m*n/(pi**2*ell**4 - 2*pi**2*ell**2*n**2 + pi**2*n**4), True))'"
      ]
     },
     "execution_count": 20,
     "metadata": {},
     "output_type": "execute_result"
    }
   ],
   "source": [
    "str(_15)"
   ]
  },
  {
   "cell_type": "code",
   "execution_count": 24,
   "metadata": {
    "ExecuteTime": {
     "end_time": "2019-01-21T19:33:27.401221Z",
     "start_time": "2019-01-21T19:33:27.385231Z"
    }
   },
   "outputs": [],
   "source": [
    "Hprimeelln = 4*(-1)**ell*(-1)**n*L*ell*g*m*n/(pi**2*ell**4 - 2*pi**2*ell**2*n**2 + pi**2*n**4) - 4*L*ell*g*m*n/(pi**2*ell**4 - 2*pi**2*ell**2*n**2 + pi**2*n**4)"
   ]
  },
  {
   "cell_type": "code",
   "execution_count": 29,
   "metadata": {
    "ExecuteTime": {
     "end_time": "2019-01-21T19:38:48.482747Z",
     "start_time": "2019-01-21T19:38:48.443772Z"
    }
   },
   "outputs": [],
   "source": [
    "sumterm = Hprimeelln/(E0(n)-E0(ell))*phi0(ell,x)"
   ]
  },
  {
   "cell_type": "code",
   "execution_count": 30,
   "metadata": {
    "ExecuteTime": {
     "end_time": "2019-01-21T19:38:56.256966Z",
     "start_time": "2019-01-21T19:38:55.299553Z"
    }
   },
   "outputs": [
    {
     "data": {
      "image/png": "[encoded data removed]",
      "text/latex": [
       "$$\\frac{\\sqrt{2} \\left(\\frac{4 \\left(-1\\right)^{\\ell} \\left(-1\\right)^{n} L \\ell g m n}{\\pi^{2} \\ell^{4} - 2 \\pi^{2} \\ell^{2} n^{2} + \\pi^{2} n^{4}} - \\frac{4 L \\ell g m n}{\\pi^{2} \\ell^{4} - 2 \\pi^{2} \\ell^{2} n^{2} + \\pi^{2} n^{4}}\\right) \\sin{\\left (\\frac{\\pi \\ell x}{L} \\right )}}{\\sqrt{L} \\left(- \\frac{\\pi^{2} \\ell^{2} \\hbar^{2}}{2 L^{2} m} + \\frac{\\pi^{2} \\hbar^{2} n^{2}}{2 L^{2} m}\\right)}$$"
      ],
      "text/plain": [
       "   ⎛       ell     n                                               ⎞          \n",
       "   ⎜ 4⋅(-1)   ⋅(-1) ⋅L⋅ell⋅g⋅m⋅n             4⋅L⋅ell⋅g⋅m⋅n         ⎟    ⎛π⋅ell\n",
       "√2⋅⎜────────────────────────────── - ──────────────────────────────⎟⋅sin⎜─────\n",
       "   ⎜ 2    4      2    2  2    2  4    2    4      2    2  2    2  4⎟    ⎝   L \n",
       "   ⎝π ⋅ell  - 2⋅π ⋅ell ⋅n  + π ⋅n    π ⋅ell  - 2⋅π ⋅ell ⋅n  + π ⋅n ⎠          \n",
       "──────────────────────────────────────────────────────────────────────────────\n",
       "                             ⎛   2    2   2    2   2  2⎞                      \n",
       "                             ⎜  π ⋅ell ⋅h̅    π ⋅h̅ ⋅n ⎟                      \n",
       "                          √L⋅⎜- ─────────── + ─────────⎟                      \n",
       "                             ⎜        2            2   ⎟                      \n",
       "                             ⎝     2⋅L ⋅m       2⋅L ⋅m ⎠                      \n",
       "\n",
       "   \n",
       "⋅x⎞\n",
       "──⎟\n",
       "  ⎠\n",
       "   \n",
       "───\n",
       "   \n",
       "   \n",
       "   \n",
       "   \n",
       "   "
      ]
     },
     "execution_count": 30,
     "metadata": {},
     "output_type": "execute_result"
    }
   ],
   "source": [
    "sumterm"
   ]
  },
  {
   "cell_type": "code",
   "execution_count": 33,
   "metadata": {
    "ExecuteTime": {
     "end_time": "2019-01-21T19:51:27.993629Z",
     "start_time": "2019-01-21T19:46:34.171332Z"
    }
   },
   "outputs": [],
   "source": [
    "with assuming((Q.nonzero(n-ell)),Q.positive(n),Q.positive(ell)):\n",
    "    summation(sumterm,(ell,1,n-1))+summation(sumterm,(ell,n+1,oo))"
   ]
  },
  {
   "cell_type": "code",
   "execution_count": 34,
   "metadata": {
    "ExecuteTime": {
     "end_time": "2019-01-21T20:52:18.172638Z",
     "start_time": "2019-01-21T20:52:18.168641Z"
    }
   },
   "outputs": [],
   "source": [
    "theta = symbols('theta', real=True)"
   ]
  },
  {
   "cell_type": "code",
   "execution_count": 35,
   "metadata": {
    "ExecuteTime": {
     "end_time": "2019-01-21T20:53:35.342177Z",
     "start_time": "2019-01-21T20:53:35.326187Z"
    }
   },
   "outputs": [],
   "source": [
    "Hmatrix = Matrix([[cos(theta),sin(theta)/sqrt(2),0],[sin(theta)/sqrt(2),0,sin(theta)/sqrt(2)],[0,sin(theta)/sqrt(2),-cos(theta)]])"
   ]
  },
  {
   "cell_type": "code",
   "execution_count": 36,
   "metadata": {
    "ExecuteTime": {
     "end_time": "2019-01-21T20:53:39.628539Z",
     "start_time": "2019-01-21T20:53:37.934581Z"
    }
   },
   "outputs": [
    {
     "data": {
      "image/png": "[encoded data removed]",
      "text/latex": [
       "$$\\left[\\begin{matrix}\\cos{\\left (\\theta \\right )} & \\frac{\\sqrt{2} \\sin{\\left (\\theta \\right )}}{2} & 0\\\\\\frac{\\sqrt{2} \\sin{\\left (\\theta \\right )}}{2} & 0 & \\frac{\\sqrt{2} \\sin{\\left (\\theta \\right )}}{2}\\\\0 & \\frac{\\sqrt{2} \\sin{\\left (\\theta \\right )}}{2} & - \\cos{\\left (\\theta \\right )}\\end{matrix}\\right]$$"
      ],
      "text/plain": [
       "⎡           √2⋅sin(θ)           ⎤\n",
       "⎢ cos(θ)    ─────────      0    ⎥\n",
       "⎢               2               ⎥\n",
       "⎢                               ⎥\n",
       "⎢√2⋅sin(θ)             √2⋅sin(θ)⎥\n",
       "⎢─────────      0      ─────────⎥\n",
       "⎢    2                     2    ⎥\n",
       "⎢                               ⎥\n",
       "⎢           √2⋅sin(θ)           ⎥\n",
       "⎢    0      ─────────   -cos(θ) ⎥\n",
       "⎣               2               ⎦"
      ]
     },
     "execution_count": 36,
     "metadata": {},
     "output_type": "execute_result"
    }
   ],
   "source": [
    "Hmatrix"
   ]
  },
  {
   "cell_type": "code",
   "execution_count": 40,
   "metadata": {
    "ExecuteTime": {
     "end_time": "2019-01-21T20:54:52.823523Z",
     "start_time": "2019-01-21T20:54:50.505948Z"
    }
   },
   "outputs": [
    {
     "data": {
      "image/png": "[encoded data removed]",
      "text/latex": [
       "$$\\left [ \\left ( -1, \\quad 1, \\quad \\left [ \\left[\\begin{matrix}\\frac{\\sin^{2}{\\left (\\theta \\right )}}{\\left(\\cos{\\left (\\theta \\right )} + 1\\right)^{2}}\\\\- \\frac{\\sqrt{2} \\sin{\\left (\\theta \\right )}}{\\cos{\\left (\\theta \\right )} + 1}\\\\1\\end{matrix}\\right]\\right ]\\right ), \\quad \\left ( 0, \\quad 1, \\quad \\left [ \\left[\\begin{matrix}-1\\\\\\frac{\\sqrt{2}}{\\tan{\\left (\\theta \\right )}}\\\\1\\end{matrix}\\right]\\right ]\\right ), \\quad \\left ( 1, \\quad 1, \\quad \\left [ \\left[\\begin{matrix}- \\frac{\\sin^{2}{\\left (\\theta \\right )}}{\\sin^{2}{\\left (\\theta \\right )} + 2 \\cos{\\left (\\theta \\right )} - 2}\\\\\\frac{\\sqrt{2} \\left(\\cos{\\left (\\theta \\right )} - 1\\right) \\sin{\\left (\\theta \\right )}}{\\sin^{2}{\\left (\\theta \\right )} + 2 \\cos{\\left (\\theta \\right )} - 2}\\\\1\\end{matrix}\\right]\\right ]\\right )\\right ]$$"
      ],
      "text/plain": [
       "⎡                                                ⎛      ⎡⎡          2         \n",
       "⎢⎛       ⎡⎡      2      ⎤⎤⎞                      ⎜      ⎢⎢      -sin (θ)      \n",
       "⎢⎜       ⎢⎢   sin (θ)   ⎥⎥⎟                      ⎜      ⎢⎢────────────────────\n",
       "⎢⎜       ⎢⎢─────────────⎥⎥⎟  ⎛      ⎡⎡  -1  ⎤⎤⎞  ⎜      ⎢⎢   2                \n",
       "⎢⎜       ⎢⎢            2⎥⎥⎟  ⎜      ⎢⎢      ⎥⎥⎟  ⎜      ⎢⎢sin (θ) + 2⋅cos(θ) -\n",
       "⎢⎜       ⎢⎢(cos(θ) + 1) ⎥⎥⎟  ⎜      ⎢⎢  √2  ⎥⎥⎟  ⎜      ⎢⎢                    \n",
       "⎢⎜-1, 1, ⎢⎢             ⎥⎥⎟, ⎜0, 1, ⎢⎢──────⎥⎥⎟, ⎜1, 1, ⎢⎢√2⋅(cos(θ) - 1)⋅sin(\n",
       "⎢⎜       ⎢⎢ -√2⋅sin(θ)  ⎥⎥⎟  ⎜      ⎢⎢tan(θ)⎥⎥⎟  ⎜      ⎢⎢────────────────────\n",
       "⎢⎜       ⎢⎢ ─────────── ⎥⎥⎟  ⎜      ⎢⎢      ⎥⎥⎟  ⎜      ⎢⎢   2                \n",
       "⎢⎜       ⎢⎢  cos(θ) + 1 ⎥⎥⎟  ⎝      ⎣⎣  1   ⎦⎦⎠  ⎜      ⎢⎢sin (θ) + 2⋅cos(θ) -\n",
       "⎢⎜       ⎢⎢             ⎥⎥⎟                      ⎜      ⎢⎢                    \n",
       "⎣⎝       ⎣⎣      1      ⎦⎦⎠                      ⎝      ⎣⎣          1         \n",
       "\n",
       "  ⎤⎤⎞⎤\n",
       "  ⎥⎥⎟⎥\n",
       "──⎥⎥⎟⎥\n",
       "  ⎥⎥⎟⎥\n",
       " 2⎥⎥⎟⎥\n",
       "  ⎥⎥⎟⎥\n",
       "θ)⎥⎥⎟⎥\n",
       "──⎥⎥⎟⎥\n",
       "  ⎥⎥⎟⎥\n",
       " 2⎥⎥⎟⎥\n",
       "  ⎥⎥⎟⎥\n",
       "  ⎦⎦⎠⎦"
      ]
     },
     "execution_count": 40,
     "metadata": {},
     "output_type": "execute_result"
    }
   ],
   "source": [
    "Hmatrix.eigenvects(simplify=True)"
   ]
  },
  {
   "cell_type": "code",
   "execution_count": 39,
   "metadata": {
    "ExecuteTime": {
     "end_time": "2019-01-21T20:54:31.728496Z",
     "start_time": "2019-01-21T20:54:31.706511Z"
    }
   },
   "outputs": [
    {
     "ename": "NameError",
     "evalue": "name 'Series' is not defined",
     "output_type": "error",
     "traceback": [
      "\u001b[1;31m---------------------------------------------------------------------------\u001b[0m",
      "\u001b[1;31mNameError\u001b[0m                                 Traceback (most recent call last)",
      "\u001b[1;32m<ipython-input-39-34e76326a0af>\u001b[0m in \u001b[0;36m<module>\u001b[1;34m\u001b[0m\n\u001b[1;32m----> 1\u001b[1;33m \u001b[0mSeries\u001b[0m\u001b[1;33m(\u001b[0m\u001b[0m_37\u001b[0m\u001b[1;33m)\u001b[0m\u001b[1;33m\u001b[0m\u001b[1;33m\u001b[0m\u001b[0m\n\u001b[0m",
      "\u001b[1;31mNameError\u001b[0m: name 'Series' is not defined"
     ]
    }
   ],
   "source": []
  },
  {
   "cell_type": "code",
   "execution_count": null,
   "metadata": {},
   "outputs": [],
   "source": []
  }
 ],
 "metadata": {
  "kernelspec": {
   "display_name": "Python 3",
   "language": "python",
   "name": "python3"
  },
  "language_info": {
   "codemirror_mode": {
    "name": "ipython",
    "version": 3
   },
   "file_extension": ".py",
   "mimetype": "text/x-python",
   "name": "python",
   "nbconvert_exporter": "python",
   "pygments_lexer": "ipython3",
   "version": "3.6.7"
  },
  "varInspector": {
   "cols": {
    "lenName": 16,
    "lenType": 16,
    "lenVar": 40
   },
   "kernels_config": {
    "python": {
     "delete_cmd_postfix": "",
     "delete_cmd_prefix": "del ",
     "library": "var_list.py",
     "varRefreshCmd": "print(var_dic_list())"
    },
    "r": {
     "delete_cmd_postfix": ") ",
     "delete_cmd_prefix": "rm(",
     "library": "var_list.r",
     "varRefreshCmd": "cat(var_dic_list()) "
    }
   },
   "types_to_exclude": [
    "module",
    "function",
    "builtin_function_or_method",
    "instance",
    "_Feature"
   ],
   "window_display": false
  }
 },
 "nbformat": 4,
 "nbformat_minor": 2
}
