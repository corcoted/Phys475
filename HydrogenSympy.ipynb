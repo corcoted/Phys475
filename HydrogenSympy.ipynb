{
 "cells": [
  {
   "cell_type": "markdown",
   "id": "magnetic-mouse",
   "metadata": {},
   "source": [
    "# Hydrogen calculations using `sympy`\n",
    "The `sympy` library does symbolic math.  It also includes several useful things in the [`sympy.physics`](https://docs.sympy.org/latest/modules/physics/index.html) module, like hydrogen and harmonic oscillator wavefunctions."
   ]
  },
  {
   "cell_type": "code",
   "execution_count": 1,
   "id": "fewer-poster",
   "metadata": {},
   "outputs": [],
   "source": [
    "from sympy import *\n",
    "from sympy.physics.hydrogen import *"
   ]
  },
  {
   "cell_type": "code",
   "execution_count": 2,
   "id": "nonprofit-tablet",
   "metadata": {},
   "outputs": [],
   "source": [
    "n = symbols(\"n\")\n",
    "ell = symbols(\"ℓ\")\n",
    "m = symbols(\"m\")"
   ]
  },
  {
   "cell_type": "code",
   "execution_count": 3,
   "id": "interracial-wallace",
   "metadata": {},
   "outputs": [],
   "source": [
    "r, theta, phi = symbols(\"r θ ϕ\", real=True)"
   ]
  },
  {
   "cell_type": "code",
   "execution_count": 4,
   "id": "systematic-hybrid",
   "metadata": {},
   "outputs": [
    {
     "data": {
      "text/latex": [
       "$\\displaystyle - \\frac{1}{2 n^{2}}$"
      ],
      "text/plain": [
       "-1/(2*n**2)"
      ]
     },
     "execution_count": 4,
     "metadata": {},
     "output_type": "execute_result"
    }
   ],
   "source": [
    "# Unperturbed energy of state n\n",
    "E_nl(n)"
   ]
  },
  {
   "cell_type": "code",
   "execution_count": 5,
   "id": "finite-performer",
   "metadata": {},
   "outputs": [
    {
     "data": {
      "text/latex": [
       "$\\displaystyle \\frac{\\left(\\frac{2 r}{n}\\right)^{ℓ} \\sqrt{\\frac{\\left(n - ℓ - 1\\right)!}{n^{4} \\left(n + ℓ\\right)!}} \\sqrt{\\frac{2 ℓ \\left(- m + ℓ\\right)!}{\\left(m + ℓ\\right)!} + \\frac{\\left(- m + ℓ\\right)!}{\\left(m + ℓ\\right)!}} e^{- \\frac{r}{n}} e^{i m ϕ} L_{n - ℓ - 1}^{\\left(2 ℓ + 1\\right)}\\left(\\frac{2 r}{n}\\right) P_{ℓ}^{\\left(m\\right)}\\left(\\cos{\\left(θ \\right)}\\right)}{\\sqrt{\\pi}}$"
      ],
      "text/plain": [
       "(2*r/n)**ℓ*sqrt(factorial(n - ℓ - 1)/(n**4*factorial(n + ℓ)))*sqrt(2*ℓ*factorial(-m + ℓ)/factorial(m + ℓ) + factorial(-m + ℓ)/factorial(m + ℓ))*exp(-r/n)*exp(I*m*ϕ)*assoc_laguerre(n - ℓ - 1, 2*ℓ + 1, 2*r/n)*assoc_legendre(ℓ, m, cos(θ))/sqrt(pi)"
      ]
     },
     "execution_count": 5,
     "metadata": {},
     "output_type": "execute_result"
    }
   ],
   "source": [
    "# Wavefunciton of state |n,ℓ,m>\n",
    "Psi_nlm(n, ell, m, r, phi, theta)"
   ]
  },
  {
   "cell_type": "code",
   "execution_count": 6,
   "id": "still-physiology",
   "metadata": {},
   "outputs": [
    {
     "data": {
      "text/latex": [
       "$\\displaystyle \\frac{\\sqrt{2} r \\left(4 - \\frac{2 r}{3}\\right) e^{- \\frac{r}{3}} \\cos{\\left(θ \\right)}}{54 \\sqrt{\\pi}}$"
      ],
      "text/plain": [
       "sqrt(2)*r*(4 - 2*r/3)*exp(-r/3)*cos(θ)/(54*sqrt(pi))"
      ]
     },
     "execution_count": 6,
     "metadata": {},
     "output_type": "execute_result"
    }
   ],
   "source": [
    "# Check a specfic state to compare\n",
    "Psi_nlm(3, 1, 0, r, phi, theta)"
   ]
  },
  {
   "cell_type": "code",
   "execution_count": 7,
   "id": "nonprofit-cycle",
   "metadata": {},
   "outputs": [],
   "source": [
    "# define some aliases\n",
    "z = r * cos(theta)\n",
    "x = r * sin(theta)*cos(phi)\n",
    "y = r * sin(theta)*sin(phi)"
   ]
  },
  {
   "cell_type": "code",
   "execution_count": 19,
   "id": "afa9830a",
   "metadata": {},
   "outputs": [],
   "source": [
    "n_1, n_2 = symbols(\"n_1 n_2\",integer=True, positive=True)\n",
    "ell_1, ell_2 = symbols(\"ℓ_1 ℓ_2\", integer=True, nonnegative=True)\n",
    "m_1, m_2 = symbols(\"m_1 m_2\", integer=True)"
   ]
  },
  {
   "cell_type": "code",
   "execution_count": 21,
   "id": "c6da345a",
   "metadata": {},
   "outputs": [
    {
     "data": {
      "text/latex": [
       "$\\displaystyle \\int\\limits_{0}^{\\infty} \\frac{4 r^{2} \\left(\\frac{2 r}{n_{1}}\\right)^{ℓ_{1}} \\left(\\frac{2 r}{n_{2}}\\right)^{ℓ_{2}} e^{- \\frac{r}{n_{1}}} e^{- \\frac{r}{n_{2}}} L_{n_{1} - ℓ_{1} - 1}^{\\left(2 ℓ_{1} + 1\\right)}\\left(\\frac{2 r}{n_{1}}\\right) L_{n_{2} - ℓ_{2} - 1}^{\\left(2 ℓ_{2} + 1\\right)}\\left(\\frac{2 r}{n_{2}}\\right) \\sqrt{\\left(n_{1} - ℓ_{1} - 1\\right)!} \\sqrt{\\left(n_{2} - ℓ_{2} - 1\\right)!}}{n_{1}^{2} n_{2}^{2} \\sqrt{\\left(n_{1} + ℓ_{1}\\right)!} \\sqrt{\\left(n_{2} + ℓ_{2}\\right)!}}\\, dr$"
      ],
      "text/plain": [
       "Integral(4*r**2*(2*r/n_1)**ℓ_1*(2*r/n_2)**ℓ_2*exp(-r/n_1)*exp(-r/n_2)*assoc_laguerre(n_1 - ℓ_1 - 1, 2*ℓ_1 + 1, 2*r/n_1)*assoc_laguerre(n_2 - ℓ_2 - 1, 2*ℓ_2 + 1, 2*r/n_2)*sqrt(factorial(n_1 - ℓ_1 - 1))*sqrt(factorial(n_2 - ℓ_2 - 1))/(n_1**2*n_2**2*sqrt(factorial(n_1 + ℓ_1))*sqrt(factorial(n_2 + ℓ_2))), (r, 0, oo))"
      ]
     },
     "execution_count": 21,
     "metadata": {},
     "output_type": "execute_result"
    }
   ],
   "source": [
    "#checking the radial wavefunctions\n",
    "Integral(R_nl(n_1,ell_1,r)*R_nl(n_2,ell_2,r)*r**2,(r,0,oo))"
   ]
  },
  {
   "cell_type": "markdown",
   "id": "frank-prediction",
   "metadata": {},
   "source": [
    "## Example integrals\n",
    "Let's calculate\n",
    "$$\n",
    "\\langle 2,1,0 \\vert z \\vert 1,0,0\\rangle = \\int\\limits_{r=0}^{\\infty} \\int\\limits_{\\phi=0}^{2\\pi} \\int\\limits_{\\theta=0}^\\pi\n",
    "\\phi^*_{2,1,0}\\, z\\, \\phi_{1,0,0}\\,r^2\\sin\\theta\\,dr\\,d\\theta\\,d\\phi\n",
    "$$"
   ]
  },
  {
   "cell_type": "code",
   "execution_count": 34,
   "id": "arctic-requirement",
   "metadata": {},
   "outputs": [
    {
     "data": {
      "text/latex": [
       "$\\displaystyle \\int\\limits_{0}^{\\infty}\\int\\limits_{0}^{\\pi}\\int\\limits_{0}^{2 \\pi} \\frac{\\sqrt{2} r^{4} e^{- \\frac{3 r}{2}} \\sin{\\left(θ \\right)} \\cos^{2}{\\left(θ \\right)}}{8 \\pi}\\, dϕ\\, dθ\\, dr$"
      ],
      "text/plain": [
       "Integral(sqrt(2)*r**4*exp(-3*r/2)*sin(θ)*cos(θ)**2/(8*pi), (ϕ, 0, 2*pi), (θ, 0, pi), (r, 0, oo))"
      ]
     },
     "execution_count": 34,
     "metadata": {},
     "output_type": "execute_result"
    }
   ],
   "source": [
    "# Set up some integrals\n",
    "Integral(conjugate(Psi_nlm(2,1,0,r, phi, theta))*z*Psi_nlm(1,0,0,r,phi,theta)*r**2*sin(theta),(phi,0,2*pi),(theta,0,pi),(r,0,oo))"
   ]
  },
  {
   "cell_type": "code",
   "execution_count": 35,
   "id": "foster-spirituality",
   "metadata": {},
   "outputs": [
    {
     "data": {
      "text/latex": [
       "$\\displaystyle \\frac{128 \\sqrt{2}}{243}$"
      ],
      "text/plain": [
       "128*sqrt(2)/243"
      ]
     },
     "execution_count": 35,
     "metadata": {},
     "output_type": "execute_result"
    }
   ],
   "source": [
    "# perform the integration\n",
    "_.doit()"
   ]
  },
  {
   "cell_type": "code",
   "execution_count": 21,
   "id": "allied-laugh",
   "metadata": {},
   "outputs": [
    {
     "data": {
      "text/latex": [
       "$\\displaystyle 0.744935539027803$"
      ],
      "text/plain": [
       "0.744935539027803"
      ]
     },
     "execution_count": 21,
     "metadata": {},
     "output_type": "execute_result"
    }
   ],
   "source": [
    "# approximate this in decimal form\n",
    "N(_)"
   ]
  },
  {
   "cell_type": "code",
   "execution_count": 22,
   "id": "vocal-necklace",
   "metadata": {},
   "outputs": [
    {
     "data": {
      "text/latex": [
       "$\\displaystyle 3.94219887253513 \\cdot 10^{-11}$"
      ],
      "text/plain": [
       "3.94219887253513e-11"
      ]
     },
     "execution_count": 22,
     "metadata": {},
     "output_type": "execute_result"
    }
   ],
   "source": [
    "_*5.292e-11 # convert from atomic units to SI units"
   ]
  },
  {
   "cell_type": "code",
   "execution_count": 23,
   "id": "separated-marriage",
   "metadata": {},
   "outputs": [
    {
     "data": {
      "text/latex": [
       "$\\displaystyle 1.55409319506173 \\cdot 10^{-21}$"
      ],
      "text/plain": [
       "1.55409319506173e-21"
      ]
     },
     "execution_count": 23,
     "metadata": {},
     "output_type": "execute_result"
    }
   ],
   "source": [
    "_**2"
   ]
  },
  {
   "cell_type": "code",
   "execution_count": 24,
   "id": "amber-rebel",
   "metadata": {},
   "outputs": [
    {
     "data": {
      "text/latex": [
       "$\\displaystyle 0.554928957306644$"
      ],
      "text/plain": [
       "0.554928957306644"
      ]
     },
     "execution_count": 24,
     "metadata": {},
     "output_type": "execute_result"
    }
   ],
   "source": [
    "_21**2"
   ]
  },
  {
   "cell_type": "markdown",
   "id": "individual-poverty",
   "metadata": {},
   "source": [
    "Some things to think about:\n",
    "- Set up the integrals to calculate $\\langle n_1, \\ell_1, m_2 \\mid \\hat{H} \\mid n_2, \\ell_2, m_2\\rangle$\n",
    "- Can we define differential operators in sympy?  I assume it's just like a regular python function, but it there anything built in to make things more smooth?"
   ]
  },
  {
   "cell_type": "markdown",
   "id": "41bb8bfb",
   "metadata": {},
   "source": []
  },
  {
   "cell_type": "code",
   "execution_count": null,
   "id": "c70cf05b",
   "metadata": {},
   "outputs": [],
   "source": [
    "def H0(psi, r, theta, phi):\n",
    "    # H0|psi> for some wavefunction psi(r,theta,phi)\n",
    "    # def p2\n",
    "    # def V\n",
    "    # add these together\n",
    "    pass"
   ]
  }
 ],
 "metadata": {
  "kernelspec": {
   "display_name": "Python 3",
   "language": "python",
   "name": "python3"
  },
  "language_info": {
   "codemirror_mode": {
    "name": "ipython",
    "version": 3
   },
   "file_extension": ".py",
   "mimetype": "text/x-python",
   "name": "python",
   "nbconvert_exporter": "python",
   "pygments_lexer": "ipython3",
   "version": "3.13.2"
  }
 },
 "nbformat": 4,
 "nbformat_minor": 5
}
