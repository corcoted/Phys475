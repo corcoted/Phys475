{
 "cells": [
  {
   "cell_type": "markdown",
   "id": "magnetic-mouse",
   "metadata": {},
   "source": [
    "# Hydrogen calculations using `sympy`\n",
    "The `sympy` library does symbolic math.  It also includes several useful things in the [`sympy.physics`](https://docs.sympy.org/latest/modules/physics/index.html) module, like hydrogen and harmonic oscillator wavefunctions."
   ]
  },
  {
   "cell_type": "code",
   "execution_count": 1,
   "id": "fewer-poster",
   "metadata": {},
   "outputs": [],
   "source": [
    "from sympy import *\n",
    "from sympy.physics.hydrogen import *"
   ]
  },
  {
   "cell_type": "code",
   "execution_count": 12,
   "id": "nonprofit-tablet",
   "metadata": {},
   "outputs": [],
   "source": [
    "n = symbols(\"n\")\n",
    "ell = symbols(\"ℓ\")\n",
    "m = symbols(\"m\")"
   ]
  },
  {
   "cell_type": "code",
   "execution_count": 8,
   "id": "interracial-wallace",
   "metadata": {},
   "outputs": [],
   "source": [
    "r, theta, phi = symbols(\"r θ ϕ\", real=True)"
   ]
  },
  {
   "cell_type": "code",
   "execution_count": 14,
   "id": "systematic-hybrid",
   "metadata": {},
   "outputs": [
    {
     "data": {
      "text/latex": [
       "$\\displaystyle - \\frac{1}{2 n^{2}}$"
      ],
      "text/plain": [
       "-1/(2*n**2)"
      ]
     },
     "execution_count": 14,
     "metadata": {},
     "output_type": "execute_result"
    }
   ],
   "source": [
    "# Unperturbed energy of state n\n",
    "E_nl(n)"
   ]
  },
  {
   "cell_type": "code",
   "execution_count": 13,
   "id": "finite-performer",
   "metadata": {},
   "outputs": [
    {
     "data": {
      "text/latex": [
       "$\\displaystyle \\frac{\\left(\\frac{2 r}{n}\\right)^{ℓ} \\sqrt{\\frac{\\left(n - ℓ - 1\\right)!}{n^{4} \\left(n + ℓ\\right)!}} \\sqrt{\\frac{2 ℓ \\left(- m + ℓ\\right)!}{\\left(m + ℓ\\right)!} + \\frac{\\left(- m + ℓ\\right)!}{\\left(m + ℓ\\right)!}} e^{- \\frac{r}{n}} e^{i m ϕ} L_{n - ℓ - 1}^{\\left(2 ℓ + 1\\right)}\\left(\\frac{2 r}{n}\\right) P_{ℓ}^{\\left(m\\right)}\\left(\\cos{\\left(θ \\right)}\\right)}{\\sqrt{\\pi}}$"
      ],
      "text/plain": [
       "(2*r/n)**ℓ*sqrt(factorial(n - ℓ - 1)/(n**4*factorial(n + ℓ)))*sqrt(2*ℓ*factorial(-m + ℓ)/factorial(m + ℓ) + factorial(-m + ℓ)/factorial(m + ℓ))*exp(-r/n)*exp(I*m*ϕ)*assoc_laguerre(n - ℓ - 1, 2*ℓ + 1, 2*r/n)*assoc_legendre(ℓ, m, cos(θ))/sqrt(pi)"
      ]
     },
     "execution_count": 13,
     "metadata": {},
     "output_type": "execute_result"
    }
   ],
   "source": [
    "# Wavefunciton of state |n,ℓ,m>\n",
    "Psi_nlm(n, ell, m, r, phi, theta)"
   ]
  },
  {
   "cell_type": "code",
   "execution_count": 29,
   "id": "still-physiology",
   "metadata": {},
   "outputs": [
    {
     "data": {
      "text/latex": [
       "$\\displaystyle \\frac{\\sqrt{2} r \\left(4 - \\frac{2 r}{3}\\right) e^{- \\frac{r}{3}} \\cos{\\left(θ \\right)}}{54 \\sqrt{\\pi}}$"
      ],
      "text/plain": [
       "sqrt(2)*r*(4 - 2*r/3)*exp(-r/3)*cos(θ)/(54*sqrt(pi))"
      ]
     },
     "execution_count": 29,
     "metadata": {},
     "output_type": "execute_result"
    }
   ],
   "source": [
    "# Check a specfic state to compare\n",
    "Psi_nlm(3, 1, 0, r, phi, theta)"
   ]
  },
  {
   "cell_type": "code",
   "execution_count": 16,
   "id": "nonprofit-cycle",
   "metadata": {},
   "outputs": [],
   "source": [
    "# define some aliases\n",
    "z = r * cos(theta)\n",
    "x = r * sin(theta)*cos(phi)\n",
    "y = r * sin(theta)*sin(phi)"
   ]
  },
  {
   "cell_type": "markdown",
   "id": "frank-prediction",
   "metadata": {},
   "source": [
    "## Example integrals\n",
    "Let's calculate\n",
    "$$\n",
    "\\langle 2,1,0 \\vert z \\vert 1,0,0\\rangle = \\int\\limits_{r=0}^{\\infty} \\int\\limits_{\\phi=0}^{2\\pi} \\int\\limits_{\\theta=0}^\\pi\n",
    "\\phi^*_{2,1,0}\\, z\\, \\phi_{1,0,0}\\,r^2\\sin\\theta\\,dr\\,d\\theta\\,d\\phi\n",
    "$$"
   ]
  },
  {
   "cell_type": "code",
   "execution_count": 34,
   "id": "arctic-requirement",
   "metadata": {},
   "outputs": [
    {
     "data": {
      "text/latex": [
       "$\\displaystyle \\int\\limits_{0}^{\\infty}\\int\\limits_{0}^{\\pi}\\int\\limits_{0}^{2 \\pi} \\frac{\\sqrt{2} r^{4} e^{- \\frac{3 r}{2}} \\sin{\\left(θ \\right)} \\cos^{2}{\\left(θ \\right)}}{8 \\pi}\\, dϕ\\, dθ\\, dr$"
      ],
      "text/plain": [
       "Integral(sqrt(2)*r**4*exp(-3*r/2)*sin(θ)*cos(θ)**2/(8*pi), (ϕ, 0, 2*pi), (θ, 0, pi), (r, 0, oo))"
      ]
     },
     "execution_count": 34,
     "metadata": {},
     "output_type": "execute_result"
    }
   ],
   "source": [
    "# Set up some integrals\n",
    "Integral(conjugate(Psi_nlm(2,1,0,r, phi, theta))*z*Psi_nlm(1,0,0,r,phi,theta)*r**2*sin(theta),(phi,0,2*pi),(theta,0,pi),(r,0,oo))"
   ]
  },
  {
   "cell_type": "code",
   "execution_count": 35,
   "id": "foster-spirituality",
   "metadata": {},
   "outputs": [
    {
     "data": {
      "text/latex": [
       "$\\displaystyle \\frac{128 \\sqrt{2}}{243}$"
      ],
      "text/plain": [
       "128*sqrt(2)/243"
      ]
     },
     "execution_count": 35,
     "metadata": {},
     "output_type": "execute_result"
    }
   ],
   "source": [
    "# perform the integration\n",
    "_.doit()"
   ]
  },
  {
   "cell_type": "code",
   "execution_count": 21,
   "id": "allied-laugh",
   "metadata": {},
   "outputs": [
    {
     "data": {
      "text/latex": [
       "$\\displaystyle 0.744935539027803$"
      ],
      "text/plain": [
       "0.744935539027803"
      ]
     },
     "execution_count": 21,
     "metadata": {},
     "output_type": "execute_result"
    }
   ],
   "source": [
    "# approximate this in decimal form\n",
    "N(_)"
   ]
  },
  {
   "cell_type": "code",
   "execution_count": 22,
   "id": "vocal-necklace",
   "metadata": {},
   "outputs": [
    {
     "data": {
      "text/latex": [
       "$\\displaystyle 3.94219887253513 \\cdot 10^{-11}$"
      ],
      "text/plain": [
       "3.94219887253513e-11"
      ]
     },
     "execution_count": 22,
     "metadata": {},
     "output_type": "execute_result"
    }
   ],
   "source": [
    "_*5.292e-11 # convert from atomic units to SI units"
   ]
  },
  {
   "cell_type": "code",
   "execution_count": 23,
   "id": "separated-marriage",
   "metadata": {},
   "outputs": [
    {
     "data": {
      "text/latex": [
       "$\\displaystyle 1.55409319506173 \\cdot 10^{-21}$"
      ],
      "text/plain": [
       "1.55409319506173e-21"
      ]
     },
     "execution_count": 23,
     "metadata": {},
     "output_type": "execute_result"
    }
   ],
   "source": [
    "_**2"
   ]
  },
  {
   "cell_type": "code",
   "execution_count": 24,
   "id": "amber-rebel",
   "metadata": {},
   "outputs": [
    {
     "data": {
      "text/latex": [
       "$\\displaystyle 0.554928957306644$"
      ],
      "text/plain": [
       "0.554928957306644"
      ]
     },
     "execution_count": 24,
     "metadata": {},
     "output_type": "execute_result"
    }
   ],
   "source": [
    "_21**2"
   ]
  },
  {
   "cell_type": "code",
   "execution_count": null,
   "id": "individual-poverty",
   "metadata": {},
   "outputs": [],
   "source": []
  }
 ],
 "metadata": {
  "kernelspec": {
   "display_name": "Python [conda env:root] *",
   "language": "python",
   "name": "conda-root-py"
  },
  "language_info": {
   "codemirror_mode": {
    "name": "ipython",
    "version": 3
   },
   "file_extension": ".py",
   "mimetype": "text/x-python",
   "name": "python",
   "nbconvert_exporter": "python",
   "pygments_lexer": "ipython3",
   "version": "3.7.4"
  }
 },
 "nbformat": 4,
 "nbformat_minor": 5
}
