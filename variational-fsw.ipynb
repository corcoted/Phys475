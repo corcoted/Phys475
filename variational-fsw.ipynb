{
 "cells": [
  {
   "cell_type": "markdown",
   "metadata": {},
   "source": [
    "# Variational principle\n",
    "Code implementing the variational principle for a 1D potential.\n",
    "To try different things, change:\n",
    "- the potential function V\n",
    "- the wavefunction psi\n",
    "- the initial guess of the wavefunction parameters aguess"
   ]
  },
  {
   "cell_type": "markdown",
   "metadata": {},
   "source": [
    "This file has the solution to the last part of HW7"
   ]
  },
  {
   "cell_type": "code",
   "execution_count": 1,
   "metadata": {
    "tags": []
   },
   "outputs": [],
   "source": [
    "import matplotlib.pyplot as plt"
   ]
  },
  {
   "cell_type": "code",
   "execution_count": 2,
   "metadata": {
    "ExecuteTime": {
     "end_time": "2018-10-19T18:29:18.220188Z",
     "start_time": "2018-10-19T18:29:18.188940Z"
    },
    "tags": []
   },
   "outputs": [],
   "source": [
    "import numpy as np\n",
    "import numdifftools as nd\n",
    "from scipy.optimize import minimize\n",
    "from scipy.integrate import quad\n",
    "#from scipy.misc import derivative"
   ]
  },
  {
   "cell_type": "code",
   "execution_count": 3,
   "metadata": {
    "ExecuteTime": {
     "end_time": "2018-10-19T18:29:18.251437Z",
     "start_time": "2018-10-19T18:29:18.220188Z"
    },
    "tags": []
   },
   "outputs": [],
   "source": [
    "# some constants.  Changing mass will also change the energy scale.\n",
    "#hbar = 1.055e-34 # Planck's constant (J s)\n",
    "#mass = 1e-30 #  electron mass (kg)\n",
    "#L = 1e-9 # well half-width (m)\n",
    "#V0 = 1.6e-19 # well depth (J)\n",
    "# rescaled units:\n",
    "hbar =1.0\n",
    "mass = 1.0\n"
   ]
  },
  {
   "cell_type": "markdown",
   "metadata": {},
   "source": [
    "Set up the problem we're solving"
   ]
  },
  {
   "cell_type": "code",
   "execution_count": 4,
   "metadata": {
    "ExecuteTime": {
     "end_time": "2018-10-19T18:43:14.569183Z",
     "start_time": "2018-10-19T18:43:14.553560Z"
    },
    "tags": []
   },
   "outputs": [],
   "source": [
    "# Define the potential energy function\n",
    "\n",
    "# some constants for the potential\n",
    "L = 1.0\n",
    "V0 = 18*hbar**2/(2*mass*L**2)\n",
    "\n",
    "# domain of the potential\n",
    "xmin = -10*L; xmax = 10*L #limits of integration, may be np.inf (infinity)\n",
    "\n",
    "# The potential energy function itself\n",
    "def V(x):\n",
    "    # this example is the finite square well\n",
    "    # make sure this function is \"vectorizable\" and does not have any division by zero\n",
    "    return np.piecewise(x, [np.abs(x)<= L, np.abs(x)>L],[0.0,V0])\n",
    "\n",
    "bad_points = [-L,L] # list of x values where discontinuities happen in V"
   ]
  },
  {
   "cell_type": "code",
   "execution_count": 5,
   "metadata": {
    "ExecuteTime": {
     "end_time": "2018-10-19T18:43:45.224469Z",
     "start_time": "2018-10-19T18:43:45.208844Z"
    },
    "tags": []
   },
   "outputs": [],
   "source": [
    "# Define the trial ground state wavefunction\n",
    "def psi(x,a):\n",
    "    '''Wavefunction as a function of position x.\n",
    "    The array \"a\" stores any parameters.'''\n",
    "    # Note, normalization is not necessary\n",
    "    psi = np.piecewise(x,[np.abs(x*a[0])<1.0,np.abs(x*a[0])>=1.0],[1.0+np.cos(a[0]*np.pi*x),0.0])# cosine piece\n",
    "    #psi = np.exp(-x**2*a[0]) # gaussian\n",
    "    return psi"
   ]
  },
  {
   "cell_type": "code",
   "execution_count": 6,
   "metadata": {
    "ExecuteTime": {
     "end_time": "2018-10-19T18:44:00.692735Z",
     "start_time": "2018-10-19T18:44:00.677111Z"
    },
    "tags": []
   },
   "outputs": [],
   "source": [
    "a_guess = [0.95/L] # initial guess of the arguments that minimize the wavefunction"
   ]
  },
  {
   "cell_type": "markdown",
   "metadata": {},
   "source": [
    "Do the calculations..."
   ]
  },
  {
   "cell_type": "code",
   "execution_count": 7,
   "metadata": {
    "ExecuteTime": {
     "end_time": "2018-10-19T18:44:01.536461Z",
     "start_time": "2018-10-19T18:44:01.520834Z"
    },
    "tags": []
   },
   "outputs": [],
   "source": [
    "def Hpsi(psi,x,a):\n",
    "    '''The Hamiltonian acting on psi at point x'''\n",
    "    return -0.5*hbar**2/mass *nd.Derivative(lambda x: psi(x,a), n=2)(x) + V(x)*psi(x,a)"
   ]
  },
  {
   "cell_type": "code",
   "execution_count": 8,
   "metadata": {
    "ExecuteTime": {
     "end_time": "2018-10-19T18:44:01.802076Z",
     "start_time": "2018-10-19T18:44:01.770828Z"
    },
    "tags": []
   },
   "outputs": [],
   "source": [
    "def EVH(a, psi):\n",
    "    '''Expectation value of the Hamiltonian for wavefunction psi that has the arguments a\n",
    "    psi is a function of x and a\n",
    "    a is a list of parameters for the wavefunction'''\n",
    "    # Calculate normalization of psi\n",
    "    norm = quad(lambda x :np.abs(psi(x,a))**2, xmin, xmax, points=bad_points)[0]\n",
    "    ev = quad(lambda x :np.conj(psi(x,a))*Hpsi(psi, x,a), xmin, xmax,points=bad_points)[0]\n",
    "    return ev/norm"
   ]
  },
  {
   "cell_type": "code",
   "execution_count": 9,
   "metadata": {
    "ExecuteTime": {
     "end_time": "2018-10-19T18:44:02.317686Z",
     "start_time": "2018-10-19T18:44:02.223936Z"
    },
    "tags": []
   },
   "outputs": [
    {
     "name": "stdout",
     "output_type": "stream",
     "text": [
      "Initial energy of guess = 1.4845628466659937\n"
     ]
    }
   ],
   "source": [
    "# Calculate the expectation value of energy for our initial guess\n",
    "initEV = EVH(a_guess,psi)\n",
    "print(\"Initial energy of guess = {}\".format(initEV))"
   ]
  },
  {
   "cell_type": "code",
   "execution_count": 10,
   "metadata": {
    "ExecuteTime": {
     "end_time": "2018-10-19T18:44:02.317686Z",
     "start_time": "2018-10-19T18:44:02.223936Z"
    },
    "tags": []
   },
   "outputs": [],
   "source": [
    "# minimize the expectation value of energy by changing a_guess\n",
    "# `output` has two pieces\n",
    "# `output.x` is the list of parameters (what I called a above)\n",
    "output = minimize(EVH, a_guess, args=(psi,))"
   ]
  },
  {
   "cell_type": "code",
   "execution_count": 11,
   "metadata": {
    "ExecuteTime": {
     "end_time": "2018-10-19T18:44:02.723920Z",
     "start_time": "2018-10-19T18:44:02.708301Z"
    },
    "tags": []
   },
   "outputs": [],
   "source": [
    "# build arrays for plotting x, V(x), and psi(x)\n",
    "# these are only used for plotting\n",
    "xlist = np.linspace(xmin, xmax, 101)\n",
    "ylist = np.array([V(x) for x in xlist])\n",
    "\n",
    "# intital and final wavefunctions\n",
    "psilist = np.array([psi(x,a_guess) for x in xlist])\n",
    "outlist = np.array([psi(x,output.x) for x in xlist])\n",
    "\n",
    "# probability density functions of t\n",
    "problist = np.array([np.abs(psi(x,output.x))**2 for x in xlist])\n"
   ]
  },
  {
   "cell_type": "code",
   "execution_count": 12,
   "metadata": {
    "ExecuteTime": {
     "end_time": "2018-10-19T18:44:03.192655Z",
     "start_time": "2018-10-19T18:44:03.177033Z"
    },
    "scrolled": true,
    "tags": []
   },
   "outputs": [
    {
     "name": "stdout",
     "output_type": "stream",
     "text": [
      "Minimum energy: 0.8251 for arguments ['0.6345']\n"
     ]
    }
   ],
   "source": [
    "print(f\"Minimum energy: {output.fun:#.4g} for arguments {[f'{x:#.4g}' for x in output.x]}\")"
   ]
  },
  {
   "cell_type": "code",
   "execution_count": 13,
   "metadata": {
    "ExecuteTime": {
     "end_time": "2018-10-19T18:44:07.145659Z",
     "start_time": "2018-10-19T18:44:06.864416Z"
    },
    "tags": []
   },
   "outputs": [
    {
     "data": {
      "image/png": "[encoded data removed]",
      "text/plain": [
       "<Figure size 640x480 with 1 Axes>"
      ]
     },
     "metadata": {},
     "output_type": "display_data"
    }
   ],
   "source": [
    "fig = plt.figure()\n",
    "plt.plot(xlist,ylist,'k-', label = \"V(x)\")\n",
    "plt.plot(xlist,(psilist+1)*initEV,'b-', label = \"Initial ψ(x)\")\n",
    "plt.plot(xlist,(outlist+1)*output.fun,'r-', label = \"Final ψ(x)\")\n",
    "#plt.plot(xlist,problist+output.fun, 'g-', label = \"|ψ(x)|^2\")\n",
    "plt.legend();\n",
    "plt.xlabel(\"x\");\n",
    "plt.ylabel(\"Energy or ψ\");\n"
   ]
  },
  {
   "cell_type": "code",
   "execution_count": null,
   "metadata": {},
   "outputs": [],
   "source": []
  }
 ],
 "metadata": {
  "kernelspec": {
   "display_name": "Python 3",
   "language": "python",
   "name": "python3"
  },
  "language_info": {
   "codemirror_mode": {
    "name": "ipython",
    "version": 3
   },
   "file_extension": ".py",
   "mimetype": "text/x-python",
   "name": "python",
   "nbconvert_exporter": "python",
   "pygments_lexer": "ipython3",
   "version": "3.13.2"
  },
  "varInspector": {
   "cols": {
    "lenName": 16,
    "lenType": 16,
    "lenVar": 40
   },
   "kernels_config": {
    "python": {
     "delete_cmd_postfix": "",
     "delete_cmd_prefix": "del ",
     "library": "var_list.py",
     "varRefreshCmd": "print(var_dic_list())"
    },
    "r": {
     "delete_cmd_postfix": ") ",
     "delete_cmd_prefix": "rm(",
     "library": "var_list.r",
     "varRefreshCmd": "cat(var_dic_list()) "
    }
   },
   "types_to_exclude": [
    "module",
    "function",
    "builtin_function_or_method",
    "instance",
    "_Feature"
   ],
   "window_display": false
  }
 },
 "nbformat": 4,
 "nbformat_minor": 4
}
