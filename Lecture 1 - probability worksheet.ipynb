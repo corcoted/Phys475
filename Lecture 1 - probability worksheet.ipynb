{
 "cells": [
  {
   "cell_type": "code",
   "execution_count": 1,
   "metadata": {},
   "outputs": [],
   "source": [
    "import matplotlib.pyplot as plt #import plotting library\n",
    "%matplotlib inline"
   ]
  },
  {
   "cell_type": "code",
   "execution_count": 2,
   "metadata": {},
   "outputs": [],
   "source": [
    "from numpy.random import randint #import random number function\n",
    "from numpy import sqrt #import square root function"
   ]
  },
  {
   "cell_type": "code",
   "execution_count": 3,
   "metadata": {},
   "outputs": [],
   "source": [
    "side = 20 #number of sides on the die"
   ]
  },
  {
   "cell_type": "code",
   "execution_count": 4,
   "metadata": {},
   "outputs": [],
   "source": [
    "num = 4 # number of samples"
   ]
  },
  {
   "cell_type": "markdown",
   "metadata": {},
   "source": [
    "This code calculates the theoretical expectation value and uncertainty of dice rolls and simulates several sets of rolls and the experimental statistics."
   ]
  },
  {
   "cell_type": "markdown",
   "metadata": {},
   "source": [
    "## Theoretical Values\n",
    "The theoretical expectation values are\n",
    "\n",
    "$$ \\langle v \\rangle = \\sum\\limits_{j=\\textrm{outcomes}} v_j P_j,$$\n",
    "\n",
    "where $v_j$ are the possible outcome value and $P_j$ are the probabilities of those values occurring.\n",
    "\n",
    "Similarly, the theoretical expectation value of $v^2$ is\n",
    "\n",
    "$$ \\langle v^2 \\rangle = \\sum\\limits_{j=\\textrm{outcomes}} v_j^2 P_j,$$\n",
    "\n",
    "The theoretical uncertainty of a single measurement is defined by\n",
    "\n",
    "$$ (\\Delta v)^2 = \\langle v^2 \\rangle - \\langle v \\rangle^2. $$"
   ]
  },
  {
   "cell_type": "markdown",
   "metadata": {},
   "source": [
    "In our case, if the number of sides on the die is _n_, the values are\n",
    "$$j = 1, 2, ..., n. $$\n",
    "$$v_j = j = 1, 2, ..., n. $$\n",
    "$$ P_j = 1/n \\text{ for all }j$$"
   ]
  },
  {
   "cell_type": "markdown",
   "metadata": {},
   "source": [
    "## Experimental values\n",
    "The experimental values are found using the usual statistical formulas for a set of $N$ measurements $v_k$. (Note that $v_k$ are not the possible values, but the actual die roll results.)\n",
    "\n",
    "$$ \\langle v \\rangle \\approx \\frac{1}{N}\\sum\\limits_{k=1}^N v_k, $$\n",
    "$$ \\langle v^2 \\rangle \\approx \\frac{1}{N}\\sum\\limits_{k=1}^N v_k^2, $$\n",
    "\n",
    "The experimental variance is then given by\n",
    "$$ (\\Delta v)^2 = \\langle v^2 \\rangle - \\langle v \\rangle^2. $$\n",
    "and the uncertainty is the square root of this:\n",
    "$$ \\Delta v = \\sqrt{\\langle v^2 \\rangle - \\langle v \\rangle^2}. $$\n",
    "\n",
    "We can also calculate the uncertainty of the mean of the measurements, also called the \"mean standard error\":\n",
    "\n",
    "$$ \\mathrm{m.s.e.} = \\sqrt{\\frac{(\\Delta v)^2}{N-1}} = \\frac{\\Delta v}{\\sqrt{N-1}}.$$"
   ]
  },
  {
   "cell_type": "code",
   "execution_count": 17,
   "metadata": {},
   "outputs": [],
   "source": [
    "def makesamples(side, num):\n",
    "    '''Generate num samples of rolling a die with side number of sides.\n",
    "    Outputs experimental samples, expectation value, variance, and uncertainty.'''\n",
    "    samples = randint(low=1, high=side+1, size=num)\n",
    "    total = 0; totalsq = 0 # initialize variables to hold the sums\n",
    "    for i in samples: \n",
    "        total = total + i/num # for calculating <v>\n",
    "        totalsq = totalsq + i**2/num # for calculating <v**2>\n",
    "    expectation_value = total\n",
    "    variance = totalsq - total**2\n",
    "    uncertainty = sqrt(variance)\n",
    "    print(f\"\"\"\n",
    "For {num:d} samples of a {side:d}-sided die, the data are {samples}. \n",
    "The experimental expectation value is {expectation_value:.3f}, \n",
    "the variance is {variance:.3f}, and the uncertainty is {uncertainty:.3f}.\"\"\")\n",
    "    #calculate standard error (uncertainty of e.v.)\n",
    "    error = uncertainty/sqrt(num)\n",
    "    print(\"The standard error is {:.3f}.\".format(error))\n",
    "    return total, variance, uncertainty, error"
   ]
  },
  {
   "cell_type": "code",
   "execution_count": 18,
   "metadata": {},
   "outputs": [
    {
     "name": "stdout",
     "output_type": "stream",
     "text": [
      "\n",
      "For 4 samples of a 20-sided die, the data are [11  3  3 10]. \n",
      "The experimental expectation value is 6.750, \n",
      "the variance is 14.188, and the uncertainty is 3.767.\n",
      "The standard error is 1.883.\n"
     ]
    }
   ],
   "source": [
    "ev4, var4, unc4, err4 = makesamples(side,num=4) # run the experiment 4 times"
   ]
  },
  {
   "cell_type": "code",
   "execution_count": 19,
   "metadata": {},
   "outputs": [
    {
     "name": "stdout",
     "output_type": "stream",
     "text": [
      "\n",
      "For 8 samples of a 20-sided die, the data are [10 19 14  9 14 18  4  6]. \n",
      "The experimental expectation value is 11.750, \n",
      "the variance is 25.688, and the uncertainty is 5.068.\n",
      "The standard error is 1.792.\n"
     ]
    }
   ],
   "source": [
    "ev8, var8, unc8, err8 = makesamples(side, num=8) # run the experiment 8 times"
   ]
  },
  {
   "cell_type": "code",
   "execution_count": 20,
   "metadata": {},
   "outputs": [
    {
     "name": "stdout",
     "output_type": "stream",
     "text": [
      "\n",
      "For 16 samples of a 20-sided die, the data are [15  7  2 20 16 10  7  2  4 17 15 12  4 12  2  3]. \n",
      "The experimental expectation value is 9.250, \n",
      "the variance is 35.312, and the uncertainty is 5.942.\n",
      "The standard error is 1.486.\n"
     ]
    }
   ],
   "source": [
    "ev16, var16, unc16, err16 = makesamples(side, num=16) # run the experiment 16 times"
   ]
  },
  {
   "cell_type": "code",
   "execution_count": 21,
   "metadata": {},
   "outputs": [
    {
     "name": "stdout",
     "output_type": "stream",
     "text": [
      "Theoretical expectation value = 10.500\n",
      "Theoretical variance = 33.250\n",
      "Theoretical uncertainty = 5.766\n"
     ]
    }
   ],
   "source": [
    "#Calculate the theoretical values\n",
    "total = 0; totalsq = 0;\n",
    "for i in range(1,side+1):\n",
    "    total = total + i/side\n",
    "    totalsq = totalsq + i*i/side\n",
    "ThEv = total\n",
    "ThVar = totalsq-total**2\n",
    "ThUnc = sqrt(ThVar)\n",
    "print(f\"Theoretical expectation value = {ThEv:.3f}\")\n",
    "print(f\"Theoretical variance = {ThVar:.3f}\")\n",
    "print(f\"Theoretical uncertainty = {ThUnc:.3f}\")"
   ]
  },
  {
   "cell_type": "code",
   "execution_count": 22,
   "metadata": {},
   "outputs": [
    {
     "data": {
      "image/png": "[encoded data removed]",
      "text/plain": [
       "<Figure size 432x288 with 1 Axes>"
      ]
     },
     "metadata": {
      "needs_background": "light"
     },
     "output_type": "display_data"
    }
   ],
   "source": [
    "#plot estimated e.v. with standard error as a function of the number of samples,\n",
    "#for the data generated above\n",
    "#set up some arrays to hold the data\n",
    "x = [4,8,16]\n",
    "y = [ev4,ev8,ev16]\n",
    "dy = [err4, err8, err16]\n",
    "plt.errorbar(x,y,dy,ls='None',marker='o')\n",
    "plt.plot([1,20],[ThEv, ThEv],'r')\n",
    "# Make some labels:\n",
    "plt.title(\"Measured expectation value\")\n",
    "plt.xlabel(\"Number of samples\")\n",
    "plt.ylabel(\"Expectation value\")\n",
    "plt.legend(('Theory','Data'))\n",
    "plt.axis([0,20,1,side])\n",
    "plt.show()"
   ]
  },
  {
   "cell_type": "code",
   "execution_count": null,
   "metadata": {},
   "outputs": [],
   "source": []
  }
 ],
 "metadata": {
  "kernelspec": {
   "display_name": "Python3 (sympy)",
   "language": "python",
   "name": "sympy"
  },
  "language_info": {
   "codemirror_mode": {
    "name": "ipython",
    "version": 3
   },
   "file_extension": ".py",
   "mimetype": "text/x-python",
   "name": "python",
   "nbconvert_exporter": "python",
   "pygments_lexer": "ipython3",
   "version": "3.10.4"
  },
  "varInspector": {
   "cols": {
    "lenName": 16,
    "lenType": 16,
    "lenVar": 40
   },
   "kernels_config": {
    "python": {
     "delete_cmd_postfix": "",
     "delete_cmd_prefix": "del ",
     "library": "var_list.py",
     "varRefreshCmd": "print(var_dic_list())"
    },
    "r": {
     "delete_cmd_postfix": ") ",
     "delete_cmd_prefix": "rm(",
     "library": "var_list.r",
     "varRefreshCmd": "cat(var_dic_list()) "
    }
   },
   "types_to_exclude": [
    "module",
    "function",
    "builtin_function_or_method",
    "instance",
    "_Feature"
   ],
   "window_display": false
  },
  "vscode": {
   "interpreter": {
    "hash": "dbc3ae01852fb7456e62f524bf25ec996135120b0bf3e99f4903f420b28af8ca"
   }
  }
 },
 "nbformat": 4,
 "nbformat_minor": 4
}
