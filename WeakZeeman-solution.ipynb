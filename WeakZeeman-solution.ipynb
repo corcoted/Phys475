{
 "cells": [
  {
   "cell_type": "markdown",
   "metadata": {
    "hide_input": false
   },
   "source": [
    "# Extremely weak-field Zeeman effect\n",
    "**PHYS 475, Lecture 16, 2019.02.22**\n",
    "\n",
    "Instructions:\n",
    "(To answer questions, add a \"markdown\" cell and type your answers there.)\n",
    "\n",
    "1. Check the constants to verify that they are correct for the hydrogen ground states\n",
    "2. Derive the value of the atomic unit for magnetic field compared to Tesla.  (The answer is given below.)\n",
    "2. Below in the cell beginning \"next steps\" is a function called np.kron().  What does this do?  Where have we seen this before?\n",
    "3. Find the eigenstates in the small-B limit and the large-B limit by trying different values of B.  (Numerically, what are \"small B\" and \"large B\"?) Explain how to get these results from perturbation theory.\n",
    "   * Bonus: If you have time, _do_ the perturbation calculations in the code and compare with the \"exact\" values done here.  There are two separate cases for perturbation theory: small B and large B.\n",
    "4. Modify the code such that the magnetic field is in the x direction.  How does this change the eigenvalues?  How does this change the eigenstates?\n",
    "5. The most common isotope of the alkali metal potassium (K-39) has nuclear spin I=3/2 and ground state hyperfine splitting of 462 MHz (in frequency units).  For K-39 the nuclear g-factor is gN = -1.4e-4.  Adapt the code to calculate the hyperfine states of K-39.  What is the value of A for this state?\n",
    "6. Create a plot showing the B dependence of the energy eigenvalues of K-39 for fields in the z direction.\n",
    "7. The homework problem looks at deuterium.  What changes in the code to do this atom?"
   ]
  },
  {
   "cell_type": "markdown",
   "metadata": {},
   "source": [
    "## Answer Key"
   ]
  },
  {
   "cell_type": "markdown",
   "metadata": {},
   "source": [
    "1.  Yes, everything checks out.\n",
    "2.  The right combination of atomic constants to make something with dimensions of magnetic field is\n",
    "$$ 1 \\text{atomic unit of magnetic field} = \\frac{\\hbar}{e a_0^2} = 2.35\\times10^5\\,\\mathrm{T}.$$\n",
    "This is _huge_.  The largest magnets we can build in the lab only go up to about 20 T.\n",
    "3.  Typing `help(np.kron)` into python tells us that the function is the \"Kroenecker product\".  We've seen the before, but we didn't use the proper name.  The Kroenecker product is a way of representing tensor products as matrices.  It isn't equivalent because it breaks some of the algebra rules of tensor products, but it is good enough for the calculations we are doing here.  If we have two operators in different spaces and take their tensor product, we can represent this by a new matrix\n",
    "$$\n",
    "A \\otimes B \\sim \\begin{pmatrix} a_{11} B & a_{12} B & \\cdots \\\\ a_{21} B & a_{22} B & \\cdots \\\\ \\vdots & \\vdots & \\ddots \\end{pmatrix},\n",
    "$$\n",
    "where $a_{rc}$ are the elements of the matrix representation of $A$, and $B$ on the right is an entire copy of the matrix representation of $B$.  We use this tool to make the matrices for our operators in the joint space of $S$ and $I$, with basis vectors $\\lvert m_s, m_I \\rangle$.\n",
    "4.  You can check this by picking appropriate values of $B$.  For the weak field case, just use $B=0$.  This gives you the eigenvectors\n",
    "$$\n",
    "\\begin{pmatrix} 1 \\\\ 0 \\\\ 0 \\\\ 0 \\end{pmatrix},\n",
    "\\begin{pmatrix} 0 \\\\ 1/\\sqrt{2} \\\\ 1/\\sqrt{2} \\\\ 0 \\end{pmatrix},\n",
    "\\begin{pmatrix} 0 \\\\ 1/\\sqrt{2} \\\\ -1/\\sqrt{2} \\\\ 0 \\end{pmatrix},\n",
    "\\begin{pmatrix} 0 \\\\ 0 \\\\ 0 \\\\ 1 \\end{pmatrix}.\n",
    "$$\n",
    "(The order of the eigenvectors and overall signs may be different.)  By putting these back into Dirac form, we can recognize these states as the $\\lvert F, m_F \\rangle$ states for $F=0,1$ and the possible $m_F$ values.\n",
    "To get into the strong field regime, you need something like *B* > 1e-4 (a.u.).  As _B_ increases, the eigenvectors approach the unit vectors in this basis, which is the $\\lvert m_s, m_I \\rangle$ basis.\n",
    "5.  In the definition of `ZnoB` below, just replace Sz with Sx and Iz with Ix.  This will change the eigenvectors, but the *eigenvalues are exactly the same*.\n",
    "6.  The needed changes are to update the value of I and gN and to replace the equation for A with the given frequency rewritten in atomic units:\n",
    "$$\n",
    "A\\,\\text{(a.u.)} = 462\\times10^6\\,\\mathrm{Hz} (2\\pi \\hbar)/E_H = 7.025\\times10^{-8}, \\quad(\\text{Wrong!})\n",
    "$$\n",
    "Running the code with this value of A gives a final splitting at B = 0 that is 2 times too big.  What we need to do is divide A by 2 to match the experimental data.  (This factor of 2 is actually the maximum value of *F*, but we need the Wigner-Ekhart Theorem to prove that.)  So, the proper value is \n",
    "$$\n",
    "A\\,\\text{(a.u.)} = 462\\times10^6\\,\\mathrm{Hz} (2\\pi \\hbar)/E_H/2 = 3.512\\times10^{-8} \\quad(\\text{Correct!}).\n",
    "$$\n",
    "(Note, the value of gN in the original problem was incorrect because of a units error.  The true value is the given value times the proton mass in a.u., so it should have been gN = 0.257.)\n",
    "7.  With the above changes, the code should run and give you the correct plots.\n",
    "8.  For deuterium, make similar changes to those you made for the K-39 case."
   ]
  },
  {
   "cell_type": "markdown",
   "metadata": {},
   "source": [
    "### Bonus problem\n",
    "The perturbation theory results for the hydrogen atom problem are below in the code.  I've also added them to the plots so that you can see the comparision.  Note that the perturbation calculations as I've written them here are *only good for hydrogen*, so they may fail or give bad results if you change the value of I.\n",
    "\n",
    "One thing to note is that the perturbation theory agrees with the exact solution for two of the states, $\\lvert m_s\\!\\!=\\!\\!+\\tfrac12, m_I\\!\\!=\\!\\!+\\tfrac12 \\rangle = \\lvert F\\!\\!=\\!\\!1, m_F\\!\\!=\\!\\!1\\rangle$ and $\\lvert m_s\\!\\!=\\!\\!-\\tfrac12, m_I\\!\\!=\\!\\!-\\tfrac12 \\rangle = \\lvert F\\!\\!=\\!\\!1, m_F\\!\\!=\\!\\!-1\\rangle$.  These are the two \"stretched\" states.  In general these states will be exactly solved by perturbation theory because they are eigenstates of both the hyperfine and Zeeman operators (and also, the fine structure operator)."
   ]
  },
  {
   "cell_type": "code",
   "execution_count": 1,
   "metadata": {
    "ExecuteTime": {
     "end_time": "2019-02-24T15:03:00.934071Z",
     "start_time": "2019-02-24T15:03:00.157545Z"
    },
    "hide_input": false
   },
   "outputs": [],
   "source": [
    "import numpy as np\n",
    "import matplotlib.pyplot as plt\n",
    "from matplotlib.lines import Line2D\n",
    "\n",
    "%matplotlib inline\n",
    "np.set_printoptions(precision=3, floatmode='maxprec')\n",
    "#assuming atomic units throughout unless specified"
   ]
  },
  {
   "cell_type": "code",
   "execution_count": 2,
   "metadata": {
    "ExecuteTime": {
     "end_time": "2019-02-24T15:03:00.946552Z",
     "start_time": "2019-02-24T15:03:00.939558Z"
    }
   },
   "outputs": [],
   "source": [
    "# set colors for plots\n",
    "prop_cycle = plt.rcParams['axes.prop_cycle']\n",
    "colors = prop_cycle.by_key()['color']\n"
   ]
  },
  {
   "cell_type": "code",
   "execution_count": 3,
   "metadata": {
    "ExecuteTime": {
     "end_time": "2019-02-24T15:03:00.973455Z",
     "start_time": "2019-02-24T15:03:00.951037Z"
    }
   },
   "outputs": [],
   "source": [
    "#constants\n",
    "alpha=1./137.; # fine structure constant\n",
    "mp = 1836.; # proton mass\n",
    "muB = 0.5; #Bohr magneton\n",
    "muN = muB/mp; #nuclear magneton\n",
    "mu0 = 4*np.pi*alpha**2; #permeability of vacuum\n",
    "gs = 2.0; # electron spin gyromagnetic ratio\n",
    "psi0 = 1/np.sqrt(np.pi); #value of wavefunction at origin\n",
    "h = 4.136e-15; #Planck's constant in eV s\n",
    "EH = 27.2; #Hartree energy in eV\n",
    "B0 = 2.35e5; #atomic unit of magnetic field in T"
   ]
  },
  {
   "cell_type": "code",
   "execution_count": 4,
   "metadata": {
    "ExecuteTime": {
     "end_time": "2019-02-24T15:03:01.022860Z",
     "start_time": "2019-02-24T15:03:00.981438Z"
    }
   },
   "outputs": [
    {
     "name": "stdout",
     "output_type": "stream",
     "text": [
      "A = 2.16e-07 (a.u.) = 1422.41 MHz\n"
     ]
    }
   ],
   "source": [
    "# Properties of this atom (hydrogen)\n",
    "S=1/2; I=1/2;\n",
    "gN = 5.59;# nuclear gyromagnetic ratio (depends on atom and isotope)\n",
    "#gN = -1.4e-4*mp; # for the K-39 problem\n",
    "#hyperfine amplitude coefficient (depends on atom and state)\n",
    "A = 2*mu0/3*gs*muB*gN*muN*psi0**2 # McIntyre Eq. 11.10\n",
    "#A = 7.025e-8/2 # for the K-39 problem\n",
    "print(f\"A = {A:.2e} (a.u.) = {A*EH/h/1e6:.2f} MHz\") # display A in MHz to compare with McIntyre Fig. 11.4"
   ]
  },
  {
   "cell_type": "code",
   "execution_count": 5,
   "metadata": {
    "ExecuteTime": {
     "end_time": "2019-02-24T15:03:01.038831Z",
     "start_time": "2019-02-24T15:03:01.032340Z"
    }
   },
   "outputs": [],
   "source": [
    "#degeneracy of S and I.\n",
    "#Must round so that these are stored as integers (the extra 0.2 is to ensure the rounding goes to the right number)\n",
    "degS = np.int(2*S+1.2); degI = np.int(2*I+1.2); "
   ]
  },
  {
   "cell_type": "code",
   "execution_count": 6,
   "metadata": {
    "ExecuteTime": {
     "end_time": "2019-02-24T15:03:01.071268Z",
     "start_time": "2019-02-24T15:03:01.043320Z"
    }
   },
   "outputs": [],
   "source": [
    "#create lists of possible Sz, Iz values in decreasing order\n",
    "Szlist = np.arange(S,-S-1,-1);\n",
    "Izlist = np.arange(I,-I-1,-1);"
   ]
  },
  {
   "cell_type": "code",
   "execution_count": 7,
   "metadata": {
    "ExecuteTime": {
     "end_time": "2019-02-24T15:03:01.099213Z",
     "start_time": "2019-02-24T15:03:01.075759Z"
    }
   },
   "outputs": [],
   "source": [
    "#Generating the individual spin matrices in the uncoupled basis\n",
    "S2 = S*(S+1)*np.matrix(np.eye(degS)); #S-squared matrix\n",
    "I2 = I*(I+1)*np.matrix(np.eye(degI)); #I-squared matrix\n",
    "Sz = np.matrix(np.diag(Szlist)); #Sz matrix\n",
    "Iz = np.matrix(np.diag(Izlist)); #Iz matrix"
   ]
  },
  {
   "cell_type": "code",
   "execution_count": 8,
   "metadata": {
    "ExecuteTime": {
     "end_time": "2019-02-24T15:03:01.128658Z",
     "start_time": "2019-02-24T15:03:01.104204Z"
    }
   },
   "outputs": [],
   "source": [
    "# list of the basis state  labels |Sz,Iz>\n",
    "basislist = np.column_stack((np.diagonal(np.kron(Sz,np.eye(degI))),np.diagonal(np.kron(np.eye(degS),Iz)))); "
   ]
  },
  {
   "cell_type": "code",
   "execution_count": 9,
   "metadata": {
    "ExecuteTime": {
     "end_time": "2019-02-24T15:03:01.156606Z",
     "start_time": "2019-02-24T15:03:01.133649Z"
    }
   },
   "outputs": [
    {
     "name": "stdout",
     "output_type": "stream",
     "text": [
      "[[ 0.5  0.5]\n",
      " [ 0.5 -0.5]\n",
      " [-0.5  0.5]\n",
      " [-0.5 -0.5]]\n"
     ]
    }
   ],
   "source": [
    "print(basislist) # display the row labels, (Sz, Iz) basis"
   ]
  },
  {
   "cell_type": "code",
   "execution_count": 10,
   "metadata": {
    "ExecuteTime": {
     "end_time": "2019-02-24T15:03:01.211002Z",
     "start_time": "2019-02-24T15:03:01.160597Z"
    }
   },
   "outputs": [],
   "source": [
    "# Generate other spin matrices\n",
    "Sp=np.matrix(np.diag(np.sqrt(S*(S+1)-(Szlist*(Szlist+1))[1:]),1)); #S+ ladder matrix\n",
    "Ip=np.matrix(np.diag(np.sqrt(I*(I+1)-(Izlist*(Izlist+1))[1:]),1)); #I+ ladder matrix\n",
    "Sm=Sp.H; #S- ladder matrix\n",
    "Im=Ip.H; #I- ladder matrix\n",
    "Sx=(Sp+Sm)/2;\n",
    "Ix=(Ip+Im)/2;\n",
    "Sy=(Sp-Sm)/(0.+2j); #Sy matrix (\"j\" is sqrt(-1))\n",
    "Iy=(Ip-Im)/(0.+2j);"
   ]
  },
  {
   "cell_type": "markdown",
   "metadata": {},
   "source": [
    "The next cell builds the matrices for the Hamiltonian operators.\n",
    "\n",
    "Being explicit with the tensor products, the hyperfine energy operator is\n",
    "$$\n",
    "\\begin{aligned}\n",
    "\\hat{H}_\\textrm{HF} &= A\\,\\hat{\\mathbf{S}}\\cdot\\hat{\\mathbf{I}} = A\\,(\\hat{\\mathbf{S}}\\otimes\\hat{1}_I)\\cdot(\\hat{1}_S\\otimes\\hat{\\mathbf{I}})\\\\\n",
    "&= A \\Bigl(\\hat{S}_z\\otimes\\hat{I}_z +\\tfrac12 (\\hat{S}_+\\otimes\\hat{I}_- +\\hat{S}_-\\otimes\\hat{I}_+)\\Bigr),\n",
    "\\end{aligned}\n",
    "$$\n",
    "and the Zeeman energy operator is\n",
    "$$\n",
    "\\hat{H}_\\textrm{Z} = B(g_s \\mu_B \\hat{S}_z\\otimes\\hat{1}_I + g_N \\mu_N \\hat{1}_S\\otimes\\hat{I}_z),\n",
    "$$\n",
    "where the identity operators in the corresponding space are represented by $\\hat{1}_{S}$ and $\\hat{1}_{I}$."
   ]
  },
  {
   "cell_type": "code",
   "execution_count": 11,
   "metadata": {
    "ExecuteTime": {
     "end_time": "2019-02-24T15:03:01.238453Z",
     "start_time": "2019-02-24T15:03:01.216990Z"
    }
   },
   "outputs": [],
   "source": [
    "# next steps: build hyperfine operator matrix and zeeman operator matrix\n",
    "# We are assuming l=0 states here (otherwise HF is more complicated)\n",
    "\n",
    "# hyperfine operator = A*(S dot I)\n",
    "HF = A*(np.kron(Sz,Iz)+0.5*(np.kron(Sm,Ip)+np.kron(Sp,Im)));\n",
    "# Zeeman operator, except for the magnetic field magnitude\n",
    "ZnoB = gs*muB*np.kron(Sz,np.eye(degI))+gN*muN*np.kron(np.eye(degS),Iz); #multiply this by B to get the Zeeman operator\n",
    "# magnetic field magnitude in atomic units:\n",
    "B=0; # Change this value to test different magnetic field strengths\n",
    "# Total hamiltonian\n",
    "H = HF+B*ZnoB;"
   ]
  },
  {
   "cell_type": "code",
   "execution_count": 12,
   "metadata": {
    "ExecuteTime": {
     "end_time": "2019-02-24T15:03:01.257912Z",
     "start_time": "2019-02-24T15:03:01.241444Z"
    }
   },
   "outputs": [
    {
     "name": "stdout",
     "output_type": "stream",
     "text": [
      "[[ 5.407e-08  0.000e+00  0.000e+00  0.000e+00]\n",
      " [ 0.000e+00 -5.407e-08  1.081e-07  0.000e+00]\n",
      " [ 0.000e+00  1.081e-07 -5.407e-08  0.000e+00]\n",
      " [ 0.000e+00  0.000e+00  0.000e+00  5.407e-08]]\n"
     ]
    }
   ],
   "source": [
    "# print the Hamiltonian matrix\n",
    "print(H)"
   ]
  },
  {
   "cell_type": "code",
   "execution_count": 13,
   "metadata": {
    "ExecuteTime": {
     "end_time": "2019-02-24T15:03:01.298336Z",
     "start_time": "2019-02-24T15:03:01.262404Z"
    }
   },
   "outputs": [
    {
     "name": "stdout",
     "output_type": "stream",
     "text": [
      "The eigenvalues are [-1.622e-07  5.407e-08  5.407e-08  5.407e-08].\n",
      "The eigenvectors are the columns of the matrix:\n",
      "[[ 0.     1.     0.     0.   ]\n",
      " [ 0.707  0.     0.     0.707]\n",
      " [-0.707  0.     0.     0.707]\n",
      " [ 0.     0.     1.     0.   ]].\n"
     ]
    }
   ],
   "source": [
    "#calculate and display the eigenvalues and eigenstates of H for this value of B\n",
    "evs, ess = np.linalg.eigh(H) \n",
    "print(f\"The eigenvalues are {evs}.\")\n",
    "print(f\"The eigenvectors are the columns of the matrix:\\n{ess}.\")"
   ]
  },
  {
   "cell_type": "code",
   "execution_count": 14,
   "metadata": {
    "ExecuteTime": {
     "end_time": "2019-02-24T15:03:01.331815Z",
     "start_time": "2019-02-24T15:03:01.301829Z"
    }
   },
   "outputs": [
    {
     "data": {
      "text/plain": [
       "1422.411016622688"
      ]
     },
     "execution_count": 14,
     "metadata": {},
     "output_type": "execute_result"
    }
   ],
   "source": [
    "# maximum frequency splitting in MHz\n",
    "(max(evs)-min(evs))*EH/h/1e6 "
   ]
  },
  {
   "cell_type": "code",
   "execution_count": 15,
   "metadata": {
    "ExecuteTime": {
     "end_time": "2019-02-24T15:03:01.361257Z",
     "start_time": "2019-02-24T15:03:01.335807Z"
    }
   },
   "outputs": [],
   "source": [
    "# Generate data for the plots by stepping through B values.\n",
    "Bmin = 0; # minimum B in atomic units\n",
    "Bmax = 1e-6; # maximum B in atomic units\n",
    "Bsteps = 101 # number of steps\n",
    "Blist = np.linspace(Bmin, Bmax, Bsteps) # generate list of B values to evaluate\n",
    "Elist = []; #empty list to store energy eigenvalues\n",
    "for B in Blist:\n",
    "    H = HF+B*ZnoB;\n",
    "    evs, ess = np.linalg.eigh(H)\n",
    "    Elist.append(np.sort(evs))\n",
    "Earray = np.array(Elist)"
   ]
  },
  {
   "cell_type": "markdown",
   "metadata": {},
   "source": [
    "The perturbation theory solution for weak B field is\n",
    "$$\n",
    "\\begin{aligned}\n",
    "E_{F=1, m_F} &\\approx \\frac{A}{4} + \\frac12 (g_s \\mu_B + g_N \\mu_n)m_F B \\\\\n",
    "E_{F=0, m_F=0} & \\approx -\\frac{3A}{4}\n",
    "\\end{aligned}\n",
    "$$"
   ]
  },
  {
   "cell_type": "code",
   "execution_count": 16,
   "metadata": {
    "ExecuteTime": {
     "end_time": "2019-02-24T15:03:01.386709Z",
     "start_time": "2019-02-24T15:03:01.366249Z"
    },
    "scrolled": true
   },
   "outputs": [],
   "source": [
    "# hydrogen weak field PT\n",
    "Ew_HF = np.array([-0.75*A, A/4., A/4., A/4.])\n",
    "Ew_ZnoB = np.array([0.,1.,0.,-1.])*(gs*muB+gN*muN)/2.\n",
    "Ew_list = [];\n",
    "for B in Blist:\n",
    "    H = Ew_HF+B*Ew_ZnoB;\n",
    "    Ew_list.append(H)\n",
    "Ew_array = np.array(Ew_list)"
   ]
  },
  {
   "cell_type": "markdown",
   "metadata": {},
   "source": [
    "The perturbation theory solution for strong B field is\n",
    "$$\n",
    "\\begin{aligned}\n",
    "E_{m_s, m_I} &\\approx m_s m_I A + (g_s \\mu_B m_s + g_N \\mu_n m_I)B\n",
    "\\end{aligned}\n",
    "$$"
   ]
  },
  {
   "cell_type": "code",
   "execution_count": 17,
   "metadata": {
    "ExecuteTime": {
     "end_time": "2019-02-24T15:03:01.408100Z",
     "start_time": "2019-02-24T15:03:01.391201Z"
    }
   },
   "outputs": [],
   "source": [
    "# hydrogen strong field perturbation theory solution\n",
    "ms = basislist[:,0];\n",
    "mI = basislist[:,1];\n",
    "Es_HF = A*ms*mI;\n",
    "Es_ZnoB = gs*muB*ms+gN*muN*mI;\n",
    "Es_list=[];\n",
    "order = [2,1,0,3];\n",
    "for B in Blist:\n",
    "    Ht = Es_HF+B*Es_ZnoB;\n",
    "    H = np.array([Ht[2],Ht[3],Ht[1],Ht[0]])\n",
    "    Es_list.append(H)\n",
    "Es_array = np.array(Es_list)"
   ]
  },
  {
   "cell_type": "code",
   "execution_count": 18,
   "metadata": {
    "ExecuteTime": {
     "end_time": "2019-02-24T15:03:02.261975Z",
     "start_time": "2019-02-24T15:03:01.432054Z"
    },
    "scrolled": true
   },
   "outputs": [
    {
     "data": {
      "text/plain": [
       "<matplotlib.legend.Legend at 0x2e8cb245cf8>"
      ]
     },
     "execution_count": 18,
     "metadata": {},
     "output_type": "execute_result"
    },
    {
     "data": {
      "image/png": "[encoded data removed]",
      "text/plain": [
       "<Figure size 432x288 with 1 Axes>"
      ]
     },
     "metadata": {
      "needs_background": "light"
     },
     "output_type": "display_data"
    }
   ],
   "source": [
    "# plot the energy correction as a function of magnetic field amplitude\n",
    "# If you want to do atoms other than hydrogen, comment out the two lines labeled \"hydrogen PT\" below.\n",
    "for x in range(degS*degI):\n",
    "    plt.plot(np.array(Blist), Earray[:,x], color=colors[x], linestyle='-')\n",
    "    plt.plot(np.array(Blist), Ew_array[:,x], color=colors[x], linestyle=':') # hydrogen PT weak\n",
    "    plt.plot(np.array(Blist), Es_array[:,x], color=colors[x], linestyle='--') # hydrogen PT strong\n",
    "plt.xlabel(\"B (a.u.)\");\n",
    "plt.ylabel(\"$E^{(1)}_Z$ (a.u.)\");\n",
    "plt.title(\"Zeeman effect in the hydrogen ground states\");\n",
    "# generate useful legend for the plot\n",
    "custom_lines = [Line2D([0], [0], color=colors[0], lw=2, linestyle='-'),\n",
    "                Line2D([0], [0], color=colors[0], lw=2, linestyle=':'),\n",
    "                Line2D([0], [0], color=colors[0], lw=2, linestyle='--')]\n",
    "plt.legend(custom_lines, ['Exact', 'Weak field', 'Strong field'])\n",
    "#plt.savefig(\"Zeeman-H-au.pdf\")"
   ]
  },
  {
   "cell_type": "code",
   "execution_count": 19,
   "metadata": {
    "ExecuteTime": {
     "end_time": "2019-02-24T15:03:02.566895Z",
     "start_time": "2019-02-24T15:03:02.281439Z"
    }
   },
   "outputs": [
    {
     "data": {
      "image/png": "[encoded data removed]",
      "text/plain": [
       "<Figure size 432x288 with 1 Axes>"
      ]
     },
     "metadata": {
      "needs_background": "light"
     },
     "output_type": "display_data"
    }
   ],
   "source": [
    "for x in range(degS*degI):\n",
    "    plt.plot(np.array(Blist)*B0, Earray[:,x]*EH/h/1e6) # convert units to T and MHz\n",
    "plt.xlabel(\"B (T)\");\n",
    "plt.ylabel(\"f (MHz)\");\n",
    "plt.title(\"Zeeman effect in the hydrogen ground states\");\n",
    "#plt.savefig(\"Zeeman-H-SI.pdf\")"
   ]
  },
  {
   "cell_type": "raw",
   "metadata": {},
   "source": []
  },
  {
   "cell_type": "code",
   "execution_count": null,
   "metadata": {},
   "outputs": [],
   "source": []
  }
 ],
 "metadata": {
  "kernelspec": {
   "display_name": "Python 3",
   "language": "python",
   "name": "python3"
  },
  "language_info": {
   "codemirror_mode": {
    "name": "ipython",
    "version": 3
   },
   "file_extension": ".py",
   "mimetype": "text/x-python",
   "name": "python",
   "nbconvert_exporter": "python",
   "pygments_lexer": "ipython3",
   "version": "3.6.8"
  },
  "varInspector": {
   "cols": {
    "lenName": 16,
    "lenType": 16,
    "lenVar": 40
   },
   "kernels_config": {
    "python": {
     "delete_cmd_postfix": "",
     "delete_cmd_prefix": "del ",
     "library": "var_list.py",
     "varRefreshCmd": "print(var_dic_list())"
    },
    "r": {
     "delete_cmd_postfix": ") ",
     "delete_cmd_prefix": "rm(",
     "library": "var_list.r",
     "varRefreshCmd": "cat(var_dic_list()) "
    }
   },
   "types_to_exclude": [
    "module",
    "function",
    "builtin_function_or_method",
    "instance",
    "_Feature"
   ],
   "window_display": false
  }
 },
 "nbformat": 4,
 "nbformat_minor": 1
}
