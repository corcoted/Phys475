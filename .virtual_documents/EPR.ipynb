# import our python libraries for algebra
from sympy import *
from sympy.physics import *
from sympy.physics.quantum import *


# tell sympy to print nicely
init_printing()


# spin operator in the xz plane at angle θ
# dropping factors of hbar/2
θ, φ = symbols("θ, φ", real=True)
S_n = lambda θ: cos(θ)*msigma(3) + sin(θ)*msigma(1)


# try out a few to see that it works
S_n(0), S_n(pi/2), S_n(pi/4)


#Build the correlators
# first define the angles
θ_A = 0; θ_Ap = pi/2; θ_B = -pi/4; θ_Bp = -3*pi/4


ρ_AB = TensorProduct(S_n(θ_A),S_n(θ_B))
ρ_ApB = TensorProduct(S_n(θ_Ap),S_n(θ_B))
ρ_ABp = TensorProduct(S_n(θ_A),S_n(θ_Bp))
ρ_ApBp = TensorProduct(S_n(θ_Ap),S_n(θ_Bp))


# printing these out
ρ_AB, ρ_ApB, ρ_ABp, ρ_ApBp


CSHS = -ρ_AB + ρ_ApB + ρ_ABp + ρ_ApBp
CSHS


Ψ_Bell = Matrix([[0],[1],[-1],[0]])/sqrt(2)
Ψ_Bell


# Calculate the expectation value of the correlation operators
# .H performs the Hermitian conjugate (dagger)
Ψ_Bell.H*ρ_AB*Ψ_Bell, Ψ_Bell.H*ρ_ApB*Ψ_Bell, Ψ_Bell.H*ρ_ABp*Ψ_Bell, Ψ_Bell.H*ρ_ApBp*Ψ_Bell


# adding those up with the correct signs...
Ψ_Bell.H*CSHS*Ψ_Bell


# the states as vectors
plus = Matrix([[cos(θ/2)],[sin(θ/2)*exp(I*φ)]])
minus = Matrix([[sin(θ/2)],[-cos(θ/2)*exp(I*φ)]])
plus,minus


# the joint state as a vector
psi_hv = TensorProduct(plus,minus)
psi_hv


# density operator for one specific choice of angles
rho_1hv = psi_hv * (psi_hv.H)
rho_1hv


rho_hv_integral = Integral(Integral(rho_1hv*sin(θ),(θ,0,pi)),(φ,0,2*pi))/(4*pi)
rho_hv_integral


rho_hv=rho_hv_integral.doit()
rho_hv


# The expectation values of the correlators are
(rho_hv*ρ_AB).trace(), (rho_hv*ρ_ApB).trace(), (rho_hv*ρ_ABp).trace(), (rho_hv*ρ_ApBp).trace()


# The LHS of the CSHS inequality is
CSHS_hv=(rho_hv*CSHS).trace()
display(CSHS_hv,f"≈{N(CSHS_hv)}")
