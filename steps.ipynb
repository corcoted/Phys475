{
 "cells": [
  {
   "cell_type": "markdown",
   "id": "6754a81e-13f0-40a1-900b-11c17de76c6e",
   "metadata": {},
   "source": [
    "# Step potentials\n",
    "Calculating the solutions to 1-D scattering problems using matrices"
   ]
  },
  {
   "cell_type": "code",
   "execution_count": 1,
   "id": "74d9b15f-b86d-4130-b1bc-20c3f2d56a39",
   "metadata": {},
   "outputs": [],
   "source": [
    "from sympy import *"
   ]
  },
  {
   "cell_type": "code",
   "execution_count": 25,
   "id": "20443e79-7d72-49f8-8ca7-c699432a9720",
   "metadata": {},
   "outputs": [],
   "source": [
    "init_printing()"
   ]
  },
  {
   "cell_type": "markdown",
   "id": "1978e1e1-8814-4b53-8f65-d309424d85d7",
   "metadata": {},
   "source": [
    "First let's look at a single step located at _x_=0."
   ]
  },
  {
   "cell_type": "code",
   "execution_count": 6,
   "id": "edb1c806-647b-41fa-b46d-488f4de35954",
   "metadata": {},
   "outputs": [],
   "source": [
    "V1, V2 = symbols(\"V1 V2\", real=True) # potentials\n",
    "k1, k2 = symbols(\"k1 k2\") # wavevectors\n",
    "En = symbols(\"En\", real=True) # energy (E = the number \"e\")\n",
    "A1, B1, A2, B2 = symbols(\"A1 B1 A2 B2\") # amplitudes\n",
    "x = symbols(\"x\", real=True)"
   ]
  },
  {
   "cell_type": "markdown",
   "id": "eadd2d1f-4f1f-4cad-8709-df285dc14682",
   "metadata": {},
   "source": [
    "Defining our wavefunctions in each region:"
   ]
  },
  {
   "cell_type": "code",
   "execution_count": 11,
   "id": "f58ea88c-0fd1-4e86-96f5-bd3ac09bb0cd",
   "metadata": {
    "tags": []
   },
   "outputs": [],
   "source": [
    "psi1 = lambda x: A1*exp(I*k1*x) + B1*exp(-I*k1*x)"
   ]
  },
  {
   "cell_type": "code",
   "execution_count": 12,
   "id": "10824ce0-7b3d-4d9d-951c-7c590af93240",
   "metadata": {},
   "outputs": [
    {
     "data": {
      "text/latex": [
       "$\\displaystyle A_{1} e^{i k_{1} x} + B_{1} e^{- i k_{1} x}$"
      ],
      "text/plain": [
       "A1*exp(I*k1*x) + B1*exp(-I*k1*x)"
      ]
     },
     "execution_count": 12,
     "metadata": {},
     "output_type": "execute_result"
    }
   ],
   "source": [
    "psi1(x)"
   ]
  },
  {
   "cell_type": "code",
   "execution_count": 13,
   "id": "0826922b-c98b-4b00-9237-736c47b7884e",
   "metadata": {},
   "outputs": [],
   "source": [
    "psi2 = lambda x: A2*exp(I*k2*x) + B2*exp(-I*k2*x)"
   ]
  },
  {
   "cell_type": "code",
   "execution_count": 14,
   "id": "235a0e3d-8302-4b62-ac41-3726c4def704",
   "metadata": {},
   "outputs": [
    {
     "data": {
      "text/latex": [
       "$\\displaystyle A_{2} e^{i k_{2} x} + B_{2} e^{- i k_{2} x}$"
      ],
      "text/plain": [
       "A2*exp(I*k2*x) + B2*exp(-I*k2*x)"
      ]
     },
     "execution_count": 14,
     "metadata": {},
     "output_type": "execute_result"
    }
   ],
   "source": [
    "psi2(x)"
   ]
  },
  {
   "cell_type": "markdown",
   "id": "a88c510b-5914-46c3-971a-6f3883efbfd2",
   "metadata": {},
   "source": [
    "The boundary conditions for continuity and continuity of the derivative are"
   ]
  },
  {
   "cell_type": "code",
   "execution_count": 20,
   "id": "f4210d76-add7-4650-8216-521e1197ea32",
   "metadata": {},
   "outputs": [
    {
     "data": {
      "text/latex": [
       "$\\displaystyle A_{1} + B_{1} = A_{2} + B_{2}$"
      ],
      "text/plain": [
       "Eq(A1 + B1, A2 + B2)"
      ]
     },
     "execution_count": 20,
     "metadata": {},
     "output_type": "execute_result"
    }
   ],
   "source": [
    "eq1 = Eq(psi1(0),psi2(0))\n",
    "eq1"
   ]
  },
  {
   "cell_type": "code",
   "execution_count": 21,
   "id": "f5b11d54-86e1-4698-af8d-9742073f3f07",
   "metadata": {},
   "outputs": [
    {
     "data": {
      "text/latex": [
       "$\\displaystyle i A_{1} k_{1} - i B_{1} k_{1} = i A_{2} k_{2} - i B_{2} k_{2}$"
      ],
      "text/plain": [
       "Eq(I*A1*k1 - I*B1*k1, I*A2*k2 - I*B2*k2)"
      ]
     },
     "execution_count": 21,
     "metadata": {},
     "output_type": "execute_result"
    }
   ],
   "source": [
    "eq2 = Eq(diff(psi1(x),x),diff(psi2(x),x)).subs(x,0)\n",
    "eq2"
   ]
  },
  {
   "cell_type": "markdown",
   "id": "148e1d50-a5cd-423f-8be4-7766fa33a363",
   "metadata": {},
   "source": [
    "So, if we have an incoming wave from the left, we set $A_1 = 1$ and $B_2 = 0$, then solve..."
   ]
  },
  {
   "cell_type": "code",
   "execution_count": 22,
   "id": "55a740e7-ff71-4038-8f94-5e06c78593cb",
   "metadata": {},
   "outputs": [
    {
     "data": {
      "text/latex": [
       "$\\displaystyle B_{1} + 1 = A_{2}$"
      ],
      "text/plain": [
       "Eq(B1 + 1, A2)"
      ]
     },
     "execution_count": 22,
     "metadata": {},
     "output_type": "execute_result"
    }
   ],
   "source": [
    "eq1.subs({A1:1, B2:0})"
   ]
  },
  {
   "cell_type": "code",
   "execution_count": 23,
   "id": "a5b00c32-3475-4d34-9efb-3e0721dcade6",
   "metadata": {},
   "outputs": [
    {
     "data": {
      "text/latex": [
       "$\\displaystyle - i B_{1} k_{1} + i k_{1} = i A_{2} k_{2}$"
      ],
      "text/plain": [
       "Eq(-I*B1*k1 + I*k1, I*A2*k2)"
      ]
     },
     "execution_count": 23,
     "metadata": {},
     "output_type": "execute_result"
    }
   ],
   "source": [
    "eq2.subs({A1:1, B2:0})"
   ]
  },
  {
   "cell_type": "markdown",
   "id": "68a455cf-a006-4cc6-a157-26000c313a4c",
   "metadata": {},
   "source": [
    "Solve this directly:"
   ]
  },
  {
   "cell_type": "code",
   "execution_count": 26,
   "id": "288d6132-494a-435a-bd47-f3a4b50d6930",
   "metadata": {},
   "outputs": [
    {
     "data": {
      "image/png": "[encoded data removed]",
      "text/latex": [
       "$\\displaystyle \\left\\{ A_{2} : \\frac{2 k_{1}}{k_{1} + k_{2}}, \\  B_{1} : \\frac{k_{1} - k_{2}}{k_{1} + k_{2}}\\right\\}$"
      ],
      "text/plain": [
       "⎧      2⋅k₁       k₁ - k₂⎫\n",
       "⎨A₂: ───────, B₁: ───────⎬\n",
       "⎩    k₁ + k₂      k₁ + k₂⎭"
      ]
     },
     "execution_count": 26,
     "metadata": {},
     "output_type": "execute_result"
    }
   ],
   "source": [
    "solve([eq1.subs({A1:1, B2:0}), eq2.subs({A1:1, B2:0})],[A2,B1])"
   ]
  },
  {
   "cell_type": "markdown",
   "id": "90d97ddd-819f-4b7a-a2e5-e7d9d0e449ce",
   "metadata": {},
   "source": [
    "Next, recast this in matrix form to allow us to generalize to multiple steps..."
   ]
  },
  {
   "cell_type": "code",
   "execution_count": null,
   "id": "0c7425a3-2ee4-41b2-bab7-388613421e54",
   "metadata": {},
   "outputs": [],
   "source": []
  }
 ],
 "metadata": {
  "kernelspec": {
   "display_name": "Python [conda env:cf] *",
   "language": "python",
   "name": "conda-env-cf-py"
  },
  "language_info": {
   "codemirror_mode": {
    "name": "ipython",
    "version": 3
   },
   "file_extension": ".py",
   "mimetype": "text/x-python",
   "name": "python",
   "nbconvert_exporter": "python",
   "pygments_lexer": "ipython3",
   "version": "3.9.13"
  }
 },
 "nbformat": 4,
 "nbformat_minor": 5
}
