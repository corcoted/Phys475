{
 "cells": [
  {
   "cell_type": "markdown",
   "id": "6754a81e-13f0-40a1-900b-11c17de76c6e",
   "metadata": {},
   "source": [
    "# Step potentials\n",
    "Calculating the solutions to 1-D scattering problems using matrices"
   ]
  },
  {
   "cell_type": "code",
   "execution_count": 1,
   "id": "74d9b15f-b86d-4130-b1bc-20c3f2d56a39",
   "metadata": {},
   "outputs": [],
   "source": [
    "from sympy import *"
   ]
  },
  {
   "cell_type": "code",
   "execution_count": 2,
   "id": "20443e79-7d72-49f8-8ca7-c699432a9720",
   "metadata": {},
   "outputs": [],
   "source": [
    "init_printing()"
   ]
  },
  {
   "cell_type": "markdown",
   "id": "1978e1e1-8814-4b53-8f65-d309424d85d7",
   "metadata": {},
   "source": [
    "First let's look at a single step located at _x_=0."
   ]
  },
  {
   "cell_type": "code",
   "execution_count": 3,
   "id": "edb1c806-647b-41fa-b46d-488f4de35954",
   "metadata": {},
   "outputs": [],
   "source": [
    "V1, V2 = symbols(\"V1 V2\", real=True) # potentials\n",
    "k1, k2 = symbols(\"k1 k2\") # wavevectors\n",
    "En = symbols(\"En\", real=True) # energy (E = the number \"e\")\n",
    "A1, B1, A2, B2 = symbols(\"A1 B1 A2 B2\") # amplitudes\n",
    "x = symbols(\"x\", real=True)"
   ]
  },
  {
   "cell_type": "markdown",
   "id": "eadd2d1f-4f1f-4cad-8709-df285dc14682",
   "metadata": {},
   "source": [
    "Defining our wavefunctions in each region:"
   ]
  },
  {
   "cell_type": "code",
   "execution_count": 4,
   "id": "f58ea88c-0fd1-4e86-96f5-bd3ac09bb0cd",
   "metadata": {
    "tags": []
   },
   "outputs": [],
   "source": [
    "psi1 = lambda x: A1*exp(I*k1*x) + B1*exp(-I*k1*x)"
   ]
  },
  {
   "cell_type": "code",
   "execution_count": 5,
   "id": "10824ce0-7b3d-4d9d-951c-7c590af93240",
   "metadata": {},
   "outputs": [
    {
     "data": {
      "image/png": "[encoded data removed]",
      "text/latex": [
       "$\\displaystyle A_{1} e^{i k_{1} x} + B_{1} e^{- i k_{1} x}$"
      ],
      "text/plain": [
       "    ⅈ⋅k₁⋅x       -ⅈ⋅k₁⋅x\n",
       "A₁⋅ℯ       + B₁⋅ℯ       "
      ]
     },
     "execution_count": 5,
     "metadata": {},
     "output_type": "execute_result"
    }
   ],
   "source": [
    "psi1(x)"
   ]
  },
  {
   "cell_type": "code",
   "execution_count": 6,
   "id": "0826922b-c98b-4b00-9237-736c47b7884e",
   "metadata": {},
   "outputs": [],
   "source": [
    "psi2 = lambda x: A2*exp(I*k2*x) + B2*exp(-I*k2*x)"
   ]
  },
  {
   "cell_type": "code",
   "execution_count": 7,
   "id": "235a0e3d-8302-4b62-ac41-3726c4def704",
   "metadata": {},
   "outputs": [
    {
     "data": {
      "image/png": "[encoded data removed]",
      "text/latex": [
       "$\\displaystyle A_{2} e^{i k_{2} x} + B_{2} e^{- i k_{2} x}$"
      ],
      "text/plain": [
       "    ⅈ⋅k₂⋅x       -ⅈ⋅k₂⋅x\n",
       "A₂⋅ℯ       + B₂⋅ℯ       "
      ]
     },
     "execution_count": 7,
     "metadata": {},
     "output_type": "execute_result"
    }
   ],
   "source": [
    "psi2(x)"
   ]
  },
  {
   "cell_type": "markdown",
   "id": "a88c510b-5914-46c3-971a-6f3883efbfd2",
   "metadata": {},
   "source": [
    "The boundary conditions for continuity and continuity of the derivative are"
   ]
  },
  {
   "cell_type": "code",
   "execution_count": 8,
   "id": "f4210d76-add7-4650-8216-521e1197ea32",
   "metadata": {},
   "outputs": [
    {
     "data": {
      "image/png": "[encoded data removed]",
      "text/latex": [
       "$\\displaystyle A_{1} + B_{1} = A_{2} + B_{2}$"
      ],
      "text/plain": [
       "A₁ + B₁ = A₂ + B₂"
      ]
     },
     "execution_count": 8,
     "metadata": {},
     "output_type": "execute_result"
    }
   ],
   "source": [
    "eq1 = Eq(psi1(0),psi2(0))\n",
    "eq1"
   ]
  },
  {
   "cell_type": "code",
   "execution_count": 9,
   "id": "f5b11d54-86e1-4698-af8d-9742073f3f07",
   "metadata": {},
   "outputs": [
    {
     "data": {
      "image/png": "[encoded data removed]",
      "text/latex": [
       "$\\displaystyle i A_{1} k_{1} - i B_{1} k_{1} = i A_{2} k_{2} - i B_{2} k_{2}$"
      ],
      "text/plain": [
       "ⅈ⋅A₁⋅k₁ - ⅈ⋅B₁⋅k₁ = ⅈ⋅A₂⋅k₂ - ⅈ⋅B₂⋅k₂"
      ]
     },
     "execution_count": 9,
     "metadata": {},
     "output_type": "execute_result"
    }
   ],
   "source": [
    "eq2 = Eq(diff(psi1(x),x),diff(psi2(x),x)).subs(x,0)\n",
    "eq2"
   ]
  },
  {
   "cell_type": "markdown",
   "id": "148e1d50-a5cd-423f-8be4-7766fa33a363",
   "metadata": {},
   "source": [
    "So, if we have an incoming wave from the left, we set $A_1 = 1$ and $B_2 = 0$, then solve..."
   ]
  },
  {
   "cell_type": "code",
   "execution_count": 10,
   "id": "55a740e7-ff71-4038-8f94-5e06c78593cb",
   "metadata": {},
   "outputs": [
    {
     "data": {
      "image/png": "[encoded data removed]",
      "text/latex": [
       "$\\displaystyle B_{1} + 1 = A_{2}$"
      ],
      "text/plain": [
       "B₁ + 1 = A₂"
      ]
     },
     "execution_count": 10,
     "metadata": {},
     "output_type": "execute_result"
    }
   ],
   "source": [
    "eq1.subs({A1:1, B2:0})"
   ]
  },
  {
   "cell_type": "code",
   "execution_count": 11,
   "id": "a5b00c32-3475-4d34-9efb-3e0721dcade6",
   "metadata": {},
   "outputs": [
    {
     "data": {
      "image/png": "[encoded data removed]",
      "text/latex": [
       "$\\displaystyle - i B_{1} k_{1} + i k_{1} = i A_{2} k_{2}$"
      ],
      "text/plain": [
       "-ⅈ⋅B₁⋅k₁ + ⅈ⋅k₁ = ⅈ⋅A₂⋅k₂"
      ]
     },
     "execution_count": 11,
     "metadata": {},
     "output_type": "execute_result"
    }
   ],
   "source": [
    "eq2.subs({A1:1, B2:0})"
   ]
  },
  {
   "cell_type": "markdown",
   "id": "68a455cf-a006-4cc6-a157-26000c313a4c",
   "metadata": {},
   "source": [
    "Solve this directly:"
   ]
  },
  {
   "cell_type": "code",
   "execution_count": 12,
   "id": "288d6132-494a-435a-bd47-f3a4b50d6930",
   "metadata": {},
   "outputs": [
    {
     "data": {
      "image/png": "[encoded data removed]",
      "text/latex": [
       "$\\displaystyle \\left\\{ A_{2} : \\frac{2 k_{1}}{k_{1} + k_{2}}, \\  B_{1} : \\frac{k_{1} - k_{2}}{k_{1} + k_{2}}\\right\\}$"
      ],
      "text/plain": [
       "⎧      2⋅k₁       k₁ - k₂⎫\n",
       "⎨A₂: ───────, B₁: ───────⎬\n",
       "⎩    k₁ + k₂      k₁ + k₂⎭"
      ]
     },
     "execution_count": 12,
     "metadata": {},
     "output_type": "execute_result"
    }
   ],
   "source": [
    "solve([eq1.subs({A1:1, B2:0}), eq2.subs({A1:1, B2:0})],[A2,B1])"
   ]
  },
  {
   "cell_type": "markdown",
   "id": "90d97ddd-819f-4b7a-a2e5-e7d9d0e449ce",
   "metadata": {},
   "source": [
    "Next, recast this in matrix form to allow us to generalize to multiple steps..."
   ]
  },
  {
   "cell_type": "markdown",
   "id": "965765c8-324f-48a8-b8c6-abde266301bc",
   "metadata": {},
   "source": [
    "The general idea is that we can express things in the form\n",
    "$$\n",
    "\\begin{pmatrix} \\cdot & \\cdot \\\\ \\cdot & \\cdot \\end{pmatrix}\n",
    "\\begin{pmatrix} A_j \\\\ B_j \\end{pmatrix}\n",
    "$$\n",
    "for each side of each boundary.  Setting these expressions equal and then doing some matrix manipulations leads to the \"transfer matrix\" (also called \"T matrix\" or \"M matrix\":\n",
    "$$\n",
    "\\begin{pmatrix} A_2 \\\\ B_2 \\end{pmatrix} = \n",
    "\\begin{pmatrix} T_{AA} & T_{AB} \\\\ T_{BA} & T_{BB} \\end{pmatrix}\n",
    "\\begin{pmatrix} A_1 \\\\ B_1 \\end{pmatrix}\n",
    "$$\n",
    "\n",
    "The transfer matrices are useful because we can use then to concatenate multiple scattering steps."
   ]
  },
  {
   "cell_type": "markdown",
   "id": "ffc071af-358d-49fc-ae5f-050ba80773f8",
   "metadata": {},
   "source": [
    "Looking up at the boundary condition equations above, we have in matrix form:\n",
    "$$\n",
    "\\begin{pmatrix} 1 & 1 \\\\ ik_1 & -ik_1 \\end{pmatrix}\n",
    "\\begin{pmatrix}A_1 \\\\ B_1 \\end{pmatrix} =\n",
    "\\begin{pmatrix} 1 & 1 \\\\ ik_2 & -ik_2 \\end{pmatrix}\n",
    "\\begin{pmatrix}A_2 \\\\ B_2 \\end{pmatrix}\n",
    "$$"
   ]
  },
  {
   "cell_type": "markdown",
   "id": "0f920182-f3c2-4c06-8178-2467d53dd7fd",
   "metadata": {},
   "source": [
    "Let me call those matrices $H_j$..."
   ]
  },
  {
   "cell_type": "code",
   "execution_count": 13,
   "id": "bd000d2d-9c90-49d9-ae67-88525df3c815",
   "metadata": {},
   "outputs": [
    {
     "data": {
      "text/latex": [
       "$\\displaystyle \\left( \\left[\\begin{matrix}1 & 1\\\\i k_{1} & - i k_{1}\\end{matrix}\\right], \\  \\left[\\begin{matrix}1 & 1\\\\i k_{2} & - i k_{2}\\end{matrix}\\right]\\right)$"
      ],
      "text/plain": [
       "⎛⎡ 1      1  ⎤  ⎡ 1      1  ⎤⎞\n",
       "⎜⎢           ⎥, ⎢           ⎥⎟\n",
       "⎝⎣ⅈ⋅k₁  -ⅈ⋅k₁⎦  ⎣ⅈ⋅k₂  -ⅈ⋅k₂⎦⎠"
      ]
     },
     "execution_count": 13,
     "metadata": {},
     "output_type": "execute_result"
    }
   ],
   "source": [
    "H1 = Matrix([[1,1],[I*k1,-I*k1]])\n",
    "H2 = Matrix([[1,1],[I*k2,-I*k2]])\n",
    "H1, H2"
   ]
  },
  {
   "cell_type": "markdown",
   "id": "602dd581-7495-4673-9ceb-56f7b0bfe6d4",
   "metadata": {},
   "source": [
    "Multiplying both sides by the inverse of the matrix on the right gives us the transfer matrix $T_{12}$"
   ]
  },
  {
   "cell_type": "code",
   "execution_count": 20,
   "id": "dde0e91b-4ee6-4309-a4e9-4c138612be2a",
   "metadata": {},
   "outputs": [
    {
     "data": {
      "text/latex": [
       "$\\displaystyle \\left[\\begin{matrix}\\frac{k_{1}}{2 k_{2}} + \\frac{1}{2} & - \\frac{k_{1}}{2 k_{2}} + \\frac{1}{2}\\\\- \\frac{k_{1}}{2 k_{2}} + \\frac{1}{2} & \\frac{k_{1}}{2 k_{2}} + \\frac{1}{2}\\end{matrix}\\right]$"
      ],
      "text/plain": [
       "⎡  k₁    1      k₁    1⎤\n",
       "⎢ ──── + ─   - ──── + ─⎥\n",
       "⎢ 2⋅k₂   2     2⋅k₂   2⎥\n",
       "⎢                      ⎥\n",
       "⎢   k₁    1    k₁    1 ⎥\n",
       "⎢- ──── + ─   ──── + ─ ⎥\n",
       "⎣  2⋅k₂   2   2⋅k₂   2 ⎦"
      ]
     },
     "execution_count": 20,
     "metadata": {},
     "output_type": "execute_result"
    }
   ],
   "source": [
    "T12 = H2.inv()*H1\n",
    "T12"
   ]
  },
  {
   "cell_type": "code",
   "execution_count": null,
   "id": "cec48048-3793-4ab1-8af7-446725b27d43",
   "metadata": {},
   "outputs": [],
   "source": [
    "T12"
   ]
  },
  {
   "cell_type": "code",
   "execution_count": 22,
   "id": "52e68263-8cec-4258-b3e9-eadffdc4b795",
   "metadata": {},
   "outputs": [],
   "source": [
    "from IPython.display import display_markdown"
   ]
  },
  {
   "cell_type": "code",
   "execution_count": 39,
   "id": "285f36bb-53ac-4d17-95c0-d7387a9a6f0c",
   "metadata": {
    "jupyter": {
     "source_hidden": true
    },
    "tags": []
   },
   "outputs": [
    {
     "data": {
      "text/markdown": [
       "\n",
       "So, now the equation becomes\n",
       "$$\\left[\\begin{matrix}\\frac{1}{2} + \\frac{k_{2}}{2 k_{1}} & \\frac{1}{2} - \\frac{k_{2}}{2 k_{1}}\\\\\\frac{1}{2} - \\frac{k_{2}}{2 k_{1}} & \\frac{1}{2} + \\frac{k_{2}}{2 k_{1}}\\end{matrix}\\right]\n",
       "\\begin{pmatrix}A_1 \\\\ B_1 \\end{pmatrix} = \\begin{pmatrix} A_2 \\\\ B_2 \\end{pmatrix} $$\n"
      ]
     },
     "metadata": {},
     "output_type": "display_data"
    }
   ],
   "source": [
    "display_markdown(f\"\"\"\n",
    "So, now the equation becomes\n",
    "$${latex(T1)}\"\"\"+\n",
    "r\"\"\"\n",
    "\\begin{pmatrix}A_1 \\\\ B_1 \\end{pmatrix} = \\begin{pmatrix} A_2 \\\\ B_2 \\end{pmatrix} $$\n",
    "\"\"\", raw=True)"
   ]
  },
  {
   "cell_type": "markdown",
   "id": "6f657e21-9fc8-4c73-97d5-e4358080abed",
   "metadata": {},
   "source": [
    "Multiplying this out and pulling everything to one side we have"
   ]
  },
  {
   "cell_type": "code",
   "execution_count": 41,
   "id": "1a1abc30-c6f9-4606-8d79-fc4b7eca1147",
   "metadata": {},
   "outputs": [
    {
     "data": {
      "text/latex": [
       "$\\displaystyle \\left[\\begin{matrix}A_{1} \\left(\\frac{k_{1}}{2 k_{2}} + \\frac{1}{2}\\right) - A_{2} + B_{1} \\left(- \\frac{k_{1}}{2 k_{2}} + \\frac{1}{2}\\right)\\\\A_{1} \\left(- \\frac{k_{1}}{2 k_{2}} + \\frac{1}{2}\\right) + B_{1} \\left(\\frac{k_{1}}{2 k_{2}} + \\frac{1}{2}\\right) - B_{2}\\end{matrix}\\right]$"
      ],
      "text/plain": [
       "⎡   ⎛ k₁    1⎞           ⎛   k₁    1⎞⎤\n",
       "⎢A₁⋅⎜──── + ─⎟ - A₂ + B₁⋅⎜- ──── + ─⎟⎥\n",
       "⎢   ⎝2⋅k₂   2⎠           ⎝  2⋅k₂   2⎠⎥\n",
       "⎢                                    ⎥\n",
       "⎢   ⎛   k₁    1⎞      ⎛ k₁    1⎞     ⎥\n",
       "⎢A₁⋅⎜- ──── + ─⎟ + B₁⋅⎜──── + ─⎟ - B₂⎥\n",
       "⎣   ⎝  2⋅k₂   2⎠      ⎝2⋅k₂   2⎠     ⎦"
      ]
     },
     "execution_count": 41,
     "metadata": {},
     "output_type": "execute_result"
    }
   ],
   "source": [
    "T12*Matrix([[A1],[B1]]) - Matrix([[A2],[B2]])"
   ]
  },
  {
   "cell_type": "markdown",
   "id": "870899e5-5576-4b9e-a629-f2e882cd2550",
   "metadata": {},
   "source": [
    "A couple of variations exist that have other uses.  In particular, let's define the scattering matrix (or \"S matrix\") that relates all of the _incoming_ waves to the _outgoing_ waves.  Essentially we shuffle the A's and B's:\n",
    "$$\n",
    "S \\begin{pmatrix} A_1 \\\\ B_2 \\end{pmatrix} = \\begin{pmatrix} A_2 \\\\ B_1 \\end{pmatrix}.\n",
    "$$"
   ]
  },
  {
   "cell_type": "markdown",
   "id": "14f5bab0-08a3-4574-a5b2-ccd739eeea34",
   "metadata": {},
   "source": [
    "Let's also define a propagation matrix _G_ that depends on the local value of the wavevector and a distance:\n",
    "$$\n",
    "G = \\begin{pmatrix} e^{ikd} & 0 \\\\ 0 & e^{-ikd} \\end{pmatrix}\n",
    "$$"
   ]
  },
  {
   "cell_type": "code",
   "execution_count": null,
   "id": "a9c2e624-85e8-4f04-a2fa-55e31afd1183",
   "metadata": {},
   "outputs": [],
   "source": []
  }
 ],
 "metadata": {
  "kernelspec": {
   "display_name": "Python (scipy)",
   "language": "python",
   "name": "scipy"
  },
  "language_info": {
   "codemirror_mode": {
    "name": "ipython",
    "version": 3
   },
   "file_extension": ".py",
   "mimetype": "text/x-python",
   "name": "python",
   "nbconvert_exporter": "python",
   "pygments_lexer": "ipython3",
   "version": "3.10.5"
  }
 },
 "nbformat": 4,
 "nbformat_minor": 5
}
