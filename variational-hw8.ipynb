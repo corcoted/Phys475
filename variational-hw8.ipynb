{
 "cells": [
  {
   "cell_type": "markdown",
   "metadata": {},
   "source": [
    "# Variational principle\n",
    "Code implementing the variational principle for a 1D potential.\n",
    "To try different things, change:\n",
    "- the potential function V\n",
    "- the wavefunction psi\n",
    "- the initial guess of the wavefunction parameters aguess"
   ]
  },
  {
   "cell_type": "markdown",
   "metadata": {},
   "source": [
    "This file has the solution to the last part of HW8"
   ]
  },
  {
   "cell_type": "code",
   "execution_count": 56,
   "metadata": {
    "ExecuteTime": {
     "end_time": "2018-10-19T18:29:18.220188Z",
     "start_time": "2018-10-19T18:29:18.188940Z"
    }
   },
   "outputs": [],
   "source": [
    "import numpy as np\n",
    "from scipy.optimize import minimize\n",
    "from scipy.integrate import quad\n",
    "from scipy.misc import derivative"
   ]
  },
  {
   "cell_type": "code",
   "execution_count": 57,
   "metadata": {
    "ExecuteTime": {
     "end_time": "2018-10-19T18:29:18.251437Z",
     "start_time": "2018-10-19T18:29:18.220188Z"
    }
   },
   "outputs": [
    {
     "name": "stdout",
     "output_type": "stream",
     "text": [
      "14.375238651422926\n"
     ]
    }
   ],
   "source": [
    "# some constants.  Changing mass will also change the energy scale.\n",
    "#hbar = 1.055e-34 # Planck's constant (J s)\n",
    "#mass = 1e-30 #  electron mass (kg)\n",
    "#L = 1e-9 # well half-width (m)\n",
    "#V0 = 1.6e-19 # well depth (J)\n",
    "# rescaled units:\n",
    "hbar =1.0\n",
    "mass = 1.0\n",
    "L = 1.0\n",
    "xmin = -10*L; xmax = 10*L #limits of integration, may be np.inf (infinity)\n",
    "V0 = 1.6e-19*1e-30*1e-9**2/1.055e-34**2\n",
    "print(V0)"
   ]
  },
  {
   "cell_type": "code",
   "execution_count": 58,
   "metadata": {
    "ExecuteTime": {
     "end_time": "2018-10-19T18:43:14.569183Z",
     "start_time": "2018-10-19T18:43:14.553560Z"
    }
   },
   "outputs": [],
   "source": [
    "def V(x):\n",
    "    # this example is the finite square well\n",
    "    # make sure this function is \"vectorizable\" and does not have any division by zero\n",
    "    return np.piecewise(x, [np.abs(x)<= L, np.abs(x)>L],[0.0,V0])"
   ]
  },
  {
   "cell_type": "code",
   "execution_count": 59,
   "metadata": {
    "ExecuteTime": {
     "end_time": "2018-10-19T18:43:45.224469Z",
     "start_time": "2018-10-19T18:43:45.208844Z"
    }
   },
   "outputs": [],
   "source": [
    "def psi(x,a):\n",
    "    '''Wavefunction as a function of position x.\n",
    "    The array \"a\" stores any parameters.'''\n",
    "    # Note, normalization is not necessary\n",
    "    #return np.exp(-x**2*a[0]) # gaussian\n",
    "    return np.piecewise(x,[np.abs(x*a[0])<1.0,np.abs(x*a[0])>=1.0],[1.0+np.cos(a[0]*np.pi*x),0.0])# cosine piece"
   ]
  },
  {
   "cell_type": "code",
   "execution_count": 60,
   "metadata": {
    "ExecuteTime": {
     "end_time": "2018-10-19T18:44:00.692735Z",
     "start_time": "2018-10-19T18:44:00.677111Z"
    }
   },
   "outputs": [],
   "source": [
    "aguess = [1.0/L] # guess of the arguments that minimize the wavefunction"
   ]
  },
  {
   "cell_type": "code",
   "execution_count": 61,
   "metadata": {
    "ExecuteTime": {
     "end_time": "2018-10-19T18:44:01.192718Z",
     "start_time": "2018-10-19T18:44:01.161469Z"
    }
   },
   "outputs": [],
   "source": [
    "import matplotlib.pyplot as plt\n",
    "%matplotlib inline"
   ]
  },
  {
   "cell_type": "code",
   "execution_count": 62,
   "metadata": {
    "ExecuteTime": {
     "end_time": "2018-10-19T18:44:01.348967Z",
     "start_time": "2018-10-19T18:44:01.333341Z"
    }
   },
   "outputs": [],
   "source": [
    "xlist = np.linspace(xmin, xmax, 101)\n",
    "ylist = np.array([V(x) for x in xlist])\n",
    "psilist = np.array([psi(x,aguess) for x in xlist])"
   ]
  },
  {
   "cell_type": "code",
   "execution_count": 63,
   "metadata": {
    "ExecuteTime": {
     "end_time": "2018-10-19T18:44:01.536461Z",
     "start_time": "2018-10-19T18:44:01.520834Z"
    }
   },
   "outputs": [],
   "source": [
    "def Hpsi(x,a):\n",
    "    '''The Hamiltonian acting on psi at point x'''\n",
    "    return -0.5*hbar**2/mass *derivative(psi, x, n=2, args=(a,)) + V(x)*psi(x,a)"
   ]
  },
  {
   "cell_type": "code",
   "execution_count": 64,
   "metadata": {
    "ExecuteTime": {
     "end_time": "2018-10-19T18:44:01.802076Z",
     "start_time": "2018-10-19T18:44:01.770828Z"
    }
   },
   "outputs": [],
   "source": [
    "def EVH(a, psi):\n",
    "    '''Expectation value of the Hamiltonian for wavefunction psi that has the arguments a\n",
    "    psi is a function of x and a\n",
    "    a is a list of parameters for the wavefunction'''\n",
    "    # Calculate normalization of psi\n",
    "    norm = quad(lambda x, a:np.abs(psi(x,a))**2, xmin, xmax, args=(a,))[0]\n",
    "    ev = quad(lambda x, a:np.conj(psi(x,a))*Hpsi(x,a), xmin, xmax, args=(a,))[0]\n",
    "    return ev/norm"
   ]
  },
  {
   "cell_type": "code",
   "execution_count": 65,
   "metadata": {
    "ExecuteTime": {
     "end_time": "2018-10-19T18:44:02.317686Z",
     "start_time": "2018-10-19T18:44:02.223936Z"
    }
   },
   "outputs": [
    {
     "name": "stdout",
     "output_type": "stream",
     "text": [
      "Initial energy of guess = 0.8333333333443125\n"
     ]
    },
    {
     "name": "stderr",
     "output_type": "stream",
     "text": [
      "C:\\Users\\corcovilost\\AppData\\Local\\Continuum\\miniconda3\\lib\\site-packages\\scipy\\integrate\\quadpack.py:385: IntegrationWarning: The maximum number of subdivisions (50) has been achieved.\n",
      "  If increasing the limit yields no improvement it is advised to analyze \n",
      "  the integrand in order to determine the difficulties.  If the position of a \n",
      "  local difficulty can be determined (singularity, discontinuity) one will \n",
      "  probably gain from splitting up the interval and calling the integrator \n",
      "  on the subranges.  Perhaps a special-purpose integrator should be used.\n",
      "  warnings.warn(msg, IntegrationWarning)\n"
     ]
    }
   ],
   "source": [
    "initEV = EVH(aguess,psi)\n",
    "print(\"Initial energy of guess = {}\".format(initEV))\n",
    "output = minimize(EVH, aguess, args=(psi,))\n",
    "outlist = np.array([psi(x,output.x) for x in xlist])"
   ]
  },
  {
   "cell_type": "code",
   "execution_count": 66,
   "metadata": {
    "ExecuteTime": {
     "end_time": "2018-10-19T18:44:02.723920Z",
     "start_time": "2018-10-19T18:44:02.708301Z"
    }
   },
   "outputs": [],
   "source": [
    "problist = np.array([np.abs(psi(x,output.x))**2 for x in xlist])\n"
   ]
  },
  {
   "cell_type": "code",
   "execution_count": 67,
   "metadata": {
    "ExecuteTime": {
     "end_time": "2018-10-19T18:44:03.192655Z",
     "start_time": "2018-10-19T18:44:03.177033Z"
    },
    "scrolled": true
   },
   "outputs": [
    {
     "name": "stdout",
     "output_type": "stream",
     "text": [
      "Minimum energy: 0.6586559520779786 for arguments [0.73332574]\n"
     ]
    }
   ],
   "source": [
    "print(\"Minimum energy: {} for arguments {}\".format(output.fun,output.x))"
   ]
  },
  {
   "cell_type": "code",
   "execution_count": 69,
   "metadata": {
    "ExecuteTime": {
     "end_time": "2018-10-19T18:44:07.145659Z",
     "start_time": "2018-10-19T18:44:06.864416Z"
    },
    "scrolled": true
   },
   "outputs": [
    {
     "data": {
      "image/png": "[encoded data removed]",
      "text/plain": [
       "<Figure size 432x288 with 1 Axes>"
      ]
     },
     "metadata": {},
     "output_type": "display_data"
    }
   ],
   "source": [
    "plt.plot(xlist,ylist,'k-', label = \"V(x)\")\n",
    "plt.plot(xlist,(psilist+1)*initEV,'b-', label = \"Initial ψ(x)\")\n",
    "plt.plot(xlist,(outlist+1)*output.fun,'r-', label = \"Final ψ(x)\")\n",
    "#plt.plot(xlist,problist+output.fun, 'g-', label = \"|ψ(x)|^2\")\n",
    "plt.legend();\n",
    "plt.xlabel(\"x\");\n",
    "plt.ylabel(\"Energy or ψ\");"
   ]
  },
  {
   "cell_type": "markdown",
   "metadata": {},
   "source": [
    "Gaussian psi: Minimum energy: 0.6970861111798174 for arguments 1.87843196"
   ]
  },
  {
   "cell_type": "code",
   "execution_count": null,
   "metadata": {},
   "outputs": [],
   "source": []
  }
 ],
 "metadata": {
  "kernelspec": {
   "display_name": "Python 3",
   "language": "python",
   "name": "python3"
  },
  "language_info": {
   "codemirror_mode": {
    "name": "ipython",
    "version": 3
   },
   "file_extension": ".py",
   "mimetype": "text/x-python",
   "name": "python",
   "nbconvert_exporter": "python",
   "pygments_lexer": "ipython3",
   "version": "3.6.6"
  },
  "varInspector": {
   "cols": {
    "lenName": 16,
    "lenType": 16,
    "lenVar": 40
   },
   "kernels_config": {
    "python": {
     "delete_cmd_postfix": "",
     "delete_cmd_prefix": "del ",
     "library": "var_list.py",
     "varRefreshCmd": "print(var_dic_list())"
    },
    "r": {
     "delete_cmd_postfix": ") ",
     "delete_cmd_prefix": "rm(",
     "library": "var_list.r",
     "varRefreshCmd": "cat(var_dic_list()) "
    }
   },
   "types_to_exclude": [
    "module",
    "function",
    "builtin_function_or_method",
    "instance",
    "_Feature"
   ],
   "window_display": false
  }
 },
 "nbformat": 4,
 "nbformat_minor": 1
}
