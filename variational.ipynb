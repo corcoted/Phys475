{
 "cells": [
  {
   "cell_type": "markdown",
   "metadata": {},
   "source": [
    "# Variational principle\n",
    "Code implementing the variational principle for a 1D potential.\n",
    "To try different things, change:\n",
    "- the potential function V\n",
    "- the wavefunction psi\n",
    "- the initial guess of the wavefunction parameters aguess"
   ]
  },
  {
   "cell_type": "code",
   "execution_count": 14,
   "metadata": {
    "ExecuteTime": {
     "end_time": "2018-10-19T18:29:18.220188Z",
     "start_time": "2018-10-19T18:29:18.188940Z"
    }
   },
   "outputs": [],
   "source": [
    "import numpy as np\n",
    "from scipy.optimize import minimize\n",
    "from scipy.integrate import quad\n",
    "from scipy.misc import derivative"
   ]
  },
  {
   "cell_type": "code",
   "execution_count": 15,
   "metadata": {
    "ExecuteTime": {
     "end_time": "2018-10-19T18:29:18.251437Z",
     "start_time": "2018-10-19T18:29:18.220188Z"
    }
   },
   "outputs": [],
   "source": [
    "xmin = -4.0; xmax = 4.0 #limits of integration, may be np.inf (infinity)\n",
    "hbar = 1.0; mass = 1.0 # some constants.  Changing mass will also change the energy scale."
   ]
  },
  {
   "cell_type": "code",
   "execution_count": 84,
   "metadata": {
    "ExecuteTime": {
     "end_time": "2018-10-19T18:43:14.569183Z",
     "start_time": "2018-10-19T18:43:14.553560Z"
    }
   },
   "outputs": [],
   "source": [
    "def V(x):\n",
    "    # this example is the finite square well\n",
    "    # make sure this function is \"vectorizable\" and does not have any division by zero\n",
    "    return x**2"
   ]
  },
  {
   "cell_type": "code",
   "execution_count": 95,
   "metadata": {
    "ExecuteTime": {
     "end_time": "2018-10-19T18:43:45.224469Z",
     "start_time": "2018-10-19T18:43:45.208844Z"
    }
   },
   "outputs": [],
   "source": [
    "def psi(x,a):\n",
    "    '''Wavefunction as a function of position x.\n",
    "    The array \"a\" stores any parameters.'''\n",
    "    # Note, normalization is not necessary\n",
    "    return np.sin(a[0]*x+a[1])"
   ]
  },
  {
   "cell_type": "code",
   "execution_count": 105,
   "metadata": {
    "ExecuteTime": {
     "end_time": "2018-10-19T18:44:00.692735Z",
     "start_time": "2018-10-19T18:44:00.677111Z"
    }
   },
   "outputs": [],
   "source": [
    "aguess = [0.5,1.6] # guess of the arguments that minimize the wavefunction"
   ]
  },
  {
   "cell_type": "code",
   "execution_count": 106,
   "metadata": {
    "ExecuteTime": {
     "end_time": "2018-10-19T18:44:01.192718Z",
     "start_time": "2018-10-19T18:44:01.161469Z"
    }
   },
   "outputs": [],
   "source": [
    "import matplotlib.pyplot as plt\n",
    "%matplotlib inline"
   ]
  },
  {
   "cell_type": "code",
   "execution_count": 107,
   "metadata": {
    "ExecuteTime": {
     "end_time": "2018-10-19T18:44:01.348967Z",
     "start_time": "2018-10-19T18:44:01.333341Z"
    }
   },
   "outputs": [],
   "source": [
    "xlist = np.linspace(xmin, xmax, 101)\n",
    "ylist = [V(x) for x in xlist]\n",
    "psilist = [psi(x,aguess) for x in xlist]"
   ]
  },
  {
   "cell_type": "code",
   "execution_count": 108,
   "metadata": {
    "ExecuteTime": {
     "end_time": "2018-10-19T18:44:01.536461Z",
     "start_time": "2018-10-19T18:44:01.520834Z"
    }
   },
   "outputs": [],
   "source": [
    "def Hpsi(x,a):\n",
    "    '''The Hamiltonian acting on psi at point x'''\n",
    "    return -0.5*hbar**2/mass *derivative(psi, x, n=2, args=(a,)) + V(x)*psi(x,a)"
   ]
  },
  {
   "cell_type": "code",
   "execution_count": 109,
   "metadata": {
    "ExecuteTime": {
     "end_time": "2018-10-19T18:44:01.802076Z",
     "start_time": "2018-10-19T18:44:01.770828Z"
    }
   },
   "outputs": [],
   "source": [
    "def EVH(a, psi):\n",
    "    '''Expectation value of the Hamiltonian for wavefunction psi that has the arguments a\n",
    "    psi is a function of x and a\n",
    "    a is a list of parameters for the wavefunction'''\n",
    "    # Calculate normalization of psi\n",
    "    norm = quad(lambda x, a:np.abs(psi(x,a))**2, xmin, xmax, args=(a,))[0]\n",
    "    ev = quad(lambda x, a:np.conj(psi(x,a))*Hpsi(x,a), xmin, xmax, args=(a,))[0]\n",
    "    return ev/norm"
   ]
  },
  {
   "cell_type": "code",
   "execution_count": 110,
   "metadata": {
    "ExecuteTime": {
     "end_time": "2018-10-19T18:44:02.317686Z",
     "start_time": "2018-10-19T18:44:02.223936Z"
    }
   },
   "outputs": [],
   "source": [
    "output = minimize(EVH, aguess, args=(psi,))\n",
    "outlist = [psi(x,output.x) for x in xlist]"
   ]
  },
  {
   "cell_type": "code",
   "execution_count": 111,
   "metadata": {
    "ExecuteTime": {
     "end_time": "2018-10-19T18:44:02.723920Z",
     "start_time": "2018-10-19T18:44:02.708301Z"
    }
   },
   "outputs": [],
   "source": [
    "problist = [np.abs(psi(x,output.x))**2 for x in xlist]\n"
   ]
  },
  {
   "cell_type": "code",
   "execution_count": 112,
   "metadata": {
    "ExecuteTime": {
     "end_time": "2018-10-19T18:44:03.192655Z",
     "start_time": "2018-10-19T18:44:03.177033Z"
    }
   },
   "outputs": [
    {
     "name": "stdout",
     "output_type": "stream",
     "text": [
      "Minimum energy: 1.6219932745368224 for arguments [0.47107781 1.57079629]\n"
     ]
    }
   ],
   "source": [
    "print(\"Minimum energy: {} for arguments {}\".format(output.fun,output.x))"
   ]
  },
  {
   "cell_type": "code",
   "execution_count": 113,
   "metadata": {
    "ExecuteTime": {
     "end_time": "2018-10-19T18:44:07.145659Z",
     "start_time": "2018-10-19T18:44:06.864416Z"
    },
    "scrolled": true
   },
   "outputs": [
    {
     "data": {
      "image/png": "[encoded data removed]",
      "text/plain": [
       "<Figure size 432x288 with 1 Axes>"
      ]
     },
     "metadata": {},
     "output_type": "display_data"
    }
   ],
   "source": [
    "plt.plot(xlist,ylist,'k-', label = \"V(x)\")\n",
    "plt.plot(xlist,psilist,'b-', label = \"Initial ψ(x)\")\n",
    "plt.plot(xlist,outlist,'r-', label = \"Final ψ(x)\")\n",
    "plt.plot(xlist,problist, 'g-', label = \"|ψ(x)|^2\")\n",
    "plt.legend();\n",
    "plt.xlabel(\"x\");\n",
    "plt.ylabel(\"Energy or ψ\");"
   ]
  },
  {
   "cell_type": "code",
   "execution_count": null,
   "metadata": {},
   "outputs": [],
   "source": []
  }
 ],
 "metadata": {
  "kernelspec": {
   "display_name": "Python 3",
   "language": "python",
   "name": "python3"
  },
  "language_info": {
   "codemirror_mode": {
    "name": "ipython",
    "version": 3
   },
   "file_extension": ".py",
   "mimetype": "text/x-python",
   "name": "python",
   "nbconvert_exporter": "python",
   "pygments_lexer": "ipython3",
   "version": "3.6.6"
  },
  "varInspector": {
   "cols": {
    "lenName": 16,
    "lenType": 16,
    "lenVar": 40
   },
   "kernels_config": {
    "python": {
     "delete_cmd_postfix": "",
     "delete_cmd_prefix": "del ",
     "library": "var_list.py",
     "varRefreshCmd": "print(var_dic_list())"
    },
    "r": {
     "delete_cmd_postfix": ") ",
     "delete_cmd_prefix": "rm(",
     "library": "var_list.r",
     "varRefreshCmd": "cat(var_dic_list()) "
    }
   },
   "types_to_exclude": [
    "module",
    "function",
    "builtin_function_or_method",
    "instance",
    "_Feature"
   ],
   "window_display": false
  }
 },
 "nbformat": 4,
 "nbformat_minor": 1
}
