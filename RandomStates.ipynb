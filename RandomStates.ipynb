{
 "cells": [
  {
   "cell_type": "markdown",
   "metadata": {},
   "source": [
    "# Generate random vectors on/in a unit sphere"
   ]
  },
  {
   "cell_type": "markdown",
   "metadata": {
    "collapsed": true
   },
   "source": [
    "Generate uniformly distributed random vectors within or on a unit sphere using the guess-and-check technique"
   ]
  },
  {
   "cell_type": "code",
   "execution_count": 1,
   "metadata": {
    "ExecuteTime": {
     "end_time": "2018-10-22T13:48:36.603607Z",
     "start_time": "2018-10-22T13:48:35.821079Z"
    }
   },
   "outputs": [],
   "source": [
    "import numpy as np\n",
    "import matplotlib.pyplot as plt\n",
    "%matplotlib inline"
   ]
  },
  {
   "cell_type": "code",
   "execution_count": 2,
   "metadata": {
    "ExecuteTime": {
     "end_time": "2018-10-22T13:48:36.619212Z",
     "start_time": "2018-10-22T13:48:36.603607Z"
    }
   },
   "outputs": [],
   "source": [
    "Nvectors = 8 # number of vectors to generate\n",
    "onSurface = True # restrict vectors to surface of sphere\n",
    "minspace = 1.5 #minimum spacing between points (set to zero to disable this check)"
   ]
  },
  {
   "cell_type": "code",
   "execution_count": 3,
   "metadata": {
    "ExecuteTime": {
     "end_time": "2018-10-22T13:48:36.650462Z",
     "start_time": "2018-10-22T13:48:36.619212Z"
    }
   },
   "outputs": [
    {
     "name": "stdout",
     "output_type": "stream",
     "text": [
      "Failures: outside sphere 7, too close 13\n"
     ]
    }
   ],
   "source": [
    "count = 0 #initialize counter to count number of found vectors\n",
    "failoutside = 0 #initialize counter of failed tries\n",
    "failtooclose = 0 # initialize counter\n",
    "veclist = [] #initialize empty list of the vectors\n",
    "while count<Nvectors:\n",
    "    testvec = 2.0*(np.random.random(3) -0.5) # generate random Cartesian vector within cube of edge 2 centered at origin\n",
    "    lensq = (testvec*testvec).sum()\n",
    "    if (lensq > 1.0): #is test vector outside unit sphere?\n",
    "        failoutside += 1 # increment fail counter\n",
    "        continue #restart the loop\n",
    "    if (onSurface):\n",
    "        testvec = testvec/np.sqrt(lensq) # normalize vector\n",
    "    if minspace>0: #check distances\n",
    "        for x in veclist:\n",
    "            if (((x-testvec)**2).sum() < minspace**2): # calculate distance and compare\n",
    "                failtooclose += 1 #increment fail counter\n",
    "                continue #restart loop\n",
    "    count += 1 #increase count\n",
    "    veclist.append(testvec) # store the vector\n",
    "            \n",
    "#print(veclist)\n",
    "print(\"Failures: outside sphere {}, too close {}\".format(failoutside,failtooclose))"
   ]
  },
  {
   "cell_type": "code",
   "execution_count": 4,
   "metadata": {
    "ExecuteTime": {
     "end_time": "2018-10-22T13:48:36.681710Z",
     "start_time": "2018-10-22T13:48:36.650462Z"
    }
   },
   "outputs": [
    {
     "name": "stdout",
     "output_type": "stream",
     "text": [
      "Bloch vectors of the states [x, y, z]:\n",
      "[[ 0.41120177  0.08130806 -0.90791085]\n",
      " [-0.45270333 -0.5621289   0.6921494 ]\n",
      " [ 0.39064291  0.05635696 -0.91881555]\n",
      " [-0.36688601  0.33389421 -0.86827951]\n",
      " [ 0.65944473  0.0150693   0.751602  ]\n",
      " [ 0.94049809 -0.33945593 -0.01526501]\n",
      " [-0.60580469  0.42534142  0.67237293]\n",
      " [-0.58226931 -0.66697171 -0.46487761]]\n"
     ]
    }
   ],
   "source": [
    "print(\"Bloch vectors of the states [x, y, z]:\")\n",
    "print(np.array(veclist))"
   ]
  },
  {
   "cell_type": "markdown",
   "metadata": {},
   "source": [
    "Bloch vectors of the states [x, y, z]:\n",
    "[[ 0.41120177  0.08130806 -0.90791085]\n",
    " [-0.45270333 -0.5621289   0.6921494 ]\n",
    " [ 0.39064291  0.05635696 -0.91881555]\n",
    " [-0.36688601  0.33389421 -0.86827951]\n",
    " [ 0.65944473  0.0150693   0.751602  ]\n",
    " [ 0.94049809 -0.33945593 -0.01526501]\n",
    " [-0.60580469  0.42534142  0.67237293]\n",
    " [-0.58226931 -0.66697171 -0.46487761]]"
   ]
  },
  {
   "cell_type": "code",
   "execution_count": null,
   "metadata": {},
   "outputs": [],
   "source": []
  }
 ],
 "metadata": {
  "anaconda-cloud": {},
  "kernelspec": {
   "display_name": "Python 3",
   "language": "python",
   "name": "python3"
  },
  "language_info": {
   "codemirror_mode": {
    "name": "ipython",
    "version": 3
   },
   "file_extension": ".py",
   "mimetype": "text/x-python",
   "name": "python",
   "nbconvert_exporter": "python",
   "pygments_lexer": "ipython3",
   "version": "3.6.5"
  },
  "varInspector": {
   "cols": {
    "lenName": 16,
    "lenType": 16,
    "lenVar": 40
   },
   "kernels_config": {
    "python": {
     "delete_cmd_postfix": "",
     "delete_cmd_prefix": "del ",
     "library": "var_list.py",
     "varRefreshCmd": "print(var_dic_list())"
    },
    "r": {
     "delete_cmd_postfix": ") ",
     "delete_cmd_prefix": "rm(",
     "library": "var_list.r",
     "varRefreshCmd": "cat(var_dic_list()) "
    }
   },
   "types_to_exclude": [
    "module",
    "function",
    "builtin_function_or_method",
    "instance",
    "_Feature"
   ],
   "window_display": false
  }
 },
 "nbformat": 4,
 "nbformat_minor": 1
}
