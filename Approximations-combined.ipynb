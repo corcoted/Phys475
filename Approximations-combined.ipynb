{
 "cells": [
  {
   "cell_type": "markdown",
   "id": "68af72c2-e910-4a87-983e-366e12bc1b68",
   "metadata": {},
   "source": [
    "# Approximations worksheet"
   ]
  },
  {
   "cell_type": "markdown",
   "id": "b18718e3-32ca-4deb-b5a4-ca2f06172407",
   "metadata": {},
   "source": [
    "PHYS475 - Advanced Quantum Mechanics\n",
    "\n",
    "(c) 2023, Theodore Corcovilos"
   ]
  },
  {
   "cell_type": "markdown",
   "id": "3f58e53b-2439-45e0-b380-279c52565476",
   "metadata": {},
   "source": [
    "The purpose of this file is to give you a starting point to investigate the questions posed in \"Writing Assignment 1\".  You'll get the most out of this by exerimenting with the code: change some of the variables, try different potentials, explore!"
   ]
  },
  {
   "cell_type": "markdown",
   "id": "3c9186e9-6ac4-4e4e-a876-389e19760715",
   "metadata": {},
   "source": [
    "## Truncated Basis approximation\n",
    "Solving the Hamiltonian\n",
    "\n",
    "$$ \\hat{H} = \\frac12 \\hat{p}^2 + \\frac12 \\hat{x}^2 + \\frac12 \\alpha^2 \\hat{x}^2 $$\n",
    "\n",
    "using the **truncated basis approximation**, using the harmonic oscillator energy basis."
   ]
  },
  {
   "cell_type": "markdown",
   "id": "understood-means",
   "metadata": {},
   "source": [
    "The size of the basis is set by changing the variable `nmax` below.\n",
    "\n",
    "The value of $ \\alpha $ is set by changing the variable `alpha` below."
   ]
  },
  {
   "cell_type": "code",
   "execution_count": null,
   "id": "assumed-memphis",
   "metadata": {},
   "outputs": [],
   "source": [
    "# import some needed libraries\n",
    "import numpy as np\n",
    "import matplotlib.pyplot as plt\n",
    "import scipy.optimize as opt\n",
    "%matplotlib inline"
   ]
  },
  {
   "cell_type": "code",
   "execution_count": null,
   "id": "demanding-anaheim",
   "metadata": {},
   "outputs": [],
   "source": [
    "nmax = 10 # max energy level to include (counting starts at zero)"
   ]
  },
  {
   "cell_type": "code",
   "execution_count": null,
   "id": "silver-hybrid",
   "metadata": {},
   "outputs": [],
   "source": [
    "alpha = 0.3 # perturbation parameter value"
   ]
  },
  {
   "cell_type": "code",
   "execution_count": null,
   "id": "european-moderator",
   "metadata": {},
   "outputs": [],
   "source": [
    "# The exact eigenvalues for later comparison...\n",
    "exactEn = np.sqrt(1+alpha**2)*(np.array(range(nmax+1))+0.5) # exact energies, calculated earlier by solving H by hand."
   ]
  },
  {
   "cell_type": "code",
   "execution_count": null,
   "id": "spectacular-livestock",
   "metadata": {},
   "outputs": [],
   "source": [
    "print(exactEn)"
   ]
  },
  {
   "cell_type": "markdown",
   "id": "younger-resource",
   "metadata": {},
   "source": [
    "Below, the lowering operator $ \\hat{a} $ is defined in matrix form.  The code is a shortcut to generate the matrix elements\n",
    "\n",
    "$$ a_{mn} = \\langle m | \\hat{a} | n \\rangle  = \\sqrt{n}\\, \\langle m | n-1 \\rangle = \\sqrt{n}\\, \\delta_{m,n-1}. $$"
   ]
  },
  {
   "cell_type": "code",
   "execution_count": null,
   "id": "joined-gardening",
   "metadata": {},
   "outputs": [],
   "source": [
    "a = np.matrix(np.diag(np.sqrt(np.array(range(nmax))+1.),k=1)) # lowering operator in matrix form"
   ]
  },
  {
   "cell_type": "code",
   "execution_count": null,
   "id": "binding-november",
   "metadata": {},
   "outputs": [],
   "source": [
    "print(a) # show the matrix form of a"
   ]
  },
  {
   "cell_type": "code",
   "execution_count": null,
   "id": "silent-italy",
   "metadata": {},
   "outputs": [],
   "source": [
    "print(a.H) # the .H method of a numpy matrix is the Hermitian conjugate, what we call \"dagger\"."
   ]
  },
  {
   "cell_type": "code",
   "execution_count": null,
   "id": "orange-front",
   "metadata": {},
   "outputs": [],
   "source": [
    "a*a.H-a.H*a # just checking if the commutator rule works: [a,a.H]=1\n",
    "#Should yield the identity matrix.  (Last row/column will be wrong because we are approximating.)"
   ]
  },
  {
   "cell_type": "code",
   "execution_count": null,
   "id": "contemporary-manchester",
   "metadata": {},
   "outputs": [],
   "source": [
    "x = (a + a.H)/np.sqrt(2.) # define the position operator x"
   ]
  },
  {
   "cell_type": "code",
   "execution_count": null,
   "id": "positive-scott",
   "metadata": {},
   "outputs": [],
   "source": [
    "print(x)"
   ]
  },
  {
   "cell_type": "code",
   "execution_count": null,
   "id": "positive-marking",
   "metadata": {},
   "outputs": [],
   "source": [
    "p = -1.j/np.sqrt(2)*(a-a.H) # define the momentum operator p (j = sqrt(-1))"
   ]
  },
  {
   "cell_type": "code",
   "execution_count": null,
   "id": "numerical-visibility",
   "metadata": {},
   "outputs": [],
   "source": [
    "H0 = p**2/2 + x**2/2 # Unperturbed Hamiltonian ( ** means \"power\" in python).\n",
    "# (Note * is matrix multiplication and ** is matrix power for x and p, which are np.matrix objects.)"
   ]
  },
  {
   "cell_type": "code",
   "execution_count": null,
   "id": "advised-bunny",
   "metadata": {},
   "outputs": [],
   "source": [
    "Hprime = alpha**2/2*x**2 # perturbation to the Hamiltonian"
   ]
  },
  {
   "cell_type": "code",
   "execution_count": null,
   "id": "engaging-shuttle",
   "metadata": {},
   "outputs": [],
   "source": [
    "H = np.real(H0 + Hprime) # full Hamiltonian (We know H is real, but python doesn't.)"
   ]
  },
  {
   "cell_type": "code",
   "execution_count": null,
   "id": "exclusive-island",
   "metadata": {},
   "outputs": [],
   "source": [
    "print(H)"
   ]
  },
  {
   "cell_type": "code",
   "execution_count": null,
   "id": "daily-viewer",
   "metadata": {},
   "outputs": [],
   "source": [
    "energies, states = np.linalg.eigh(H) # calculate eigenvalues and eigenvectors"
   ]
  },
  {
   "cell_type": "code",
   "execution_count": null,
   "id": "ordinary-spotlight",
   "metadata": {},
   "outputs": [],
   "source": [
    "print(energies)"
   ]
  },
  {
   "cell_type": "code",
   "execution_count": null,
   "id": "marked-thunder",
   "metadata": {},
   "outputs": [],
   "source": [
    "# calculate errors in the eigenvalues\n",
    "errors = energies-exactEn"
   ]
  },
  {
   "cell_type": "code",
   "execution_count": null,
   "id": "clean-hamburg",
   "metadata": {},
   "outputs": [],
   "source": [
    "# show an example eigenstate vector\n",
    "print(states[:,1])"
   ]
  },
  {
   "cell_type": "code",
   "execution_count": null,
   "id": "exposed-flooring",
   "metadata": {},
   "outputs": [],
   "source": [
    "print(errors)"
   ]
  },
  {
   "cell_type": "code",
   "execution_count": null,
   "id": "unlikely-limit",
   "metadata": {},
   "outputs": [],
   "source": [
    "import matplotlib.pyplot as plt"
   ]
  },
  {
   "cell_type": "code",
   "execution_count": null,
   "id": "through-healing",
   "metadata": {},
   "outputs": [],
   "source": [
    "plt.bar(range(nmax+1),exactEn,label=\"Exact\")\n",
    "plt.bar(range(nmax+1),energies,label=\"Approx.\")\n",
    "plt.xlabel(\"State\")\n",
    "plt.ylabel(\"Energy\")\n",
    "plt.legend()\n",
    "plt.title(\"Energies\")"
   ]
  },
  {
   "cell_type": "markdown",
   "id": "cathedral-custody",
   "metadata": {},
   "source": [
    "Notice that the errors get larger with larger n, particularly for n > nmax/2"
   ]
  },
  {
   "cell_type": "markdown",
   "id": "documentary-transparency",
   "metadata": {},
   "source": [
    "We'll define the error in the states by\n",
    "$$ \\text{State error}=  1-| \\langle true | approx \\rangle |^2 $$"
   ]
  },
  {
   "cell_type": "code",
   "execution_count": null,
   "id": "elect-throw",
   "metadata": {},
   "outputs": [],
   "source": [
    "stateErrors = 1.-np.abs(np.diag(states))**2"
   ]
  },
  {
   "cell_type": "code",
   "execution_count": null,
   "id": "dangerous-anaheim",
   "metadata": {},
   "outputs": [],
   "source": [
    "plt.bar(range(nmax+1),stateErrors)\n",
    "plt.xlabel(\"State\")\n",
    "plt.ylabel(\"Error\")\n",
    "plt.title(\"State error\")"
   ]
  },
  {
   "cell_type": "markdown",
   "id": "cultural-savage",
   "metadata": {},
   "source": [
    "## Position basis approximation\n",
    "**Numerical solution to the 1-dimensional Time Independent Schrödinger Equation**\n",
    "\n",
    "Based on the paper \"Matrix Numerov method for solving Schrödinger's equation\" by Mohandas Pillai, Joshua Goglio, and Thad G. Walker, _American Journal of Physics_ **80** (11), 1017 (2012).  [doi:10.1119/1.4748813](http://dx.doi.org/10.1119/1.4748813)\n"
   ]
  },
  {
   "cell_type": "code",
   "execution_count": null,
   "id": "improved-general",
   "metadata": {},
   "outputs": [],
   "source": [
    "autoscale = False # set this equal to true to use Pillai's recommended step sizes"
   ]
  },
  {
   "cell_type": "code",
   "execution_count": null,
   "id": "spread-midwest",
   "metadata": {
    "lines_to_next_cell": 2
   },
   "outputs": [],
   "source": [
    "# values of constants\n",
    "hbar = 1.0\n",
    "mass = 1.0 # changing the mass will also change the energy scale\n",
    "omega = 1.0"
   ]
  },
  {
   "cell_type": "code",
   "execution_count": null,
   "id": "stuck-saver",
   "metadata": {},
   "outputs": [],
   "source": [
    "# bounds (These are overwritten if autoscale=True)\n",
    "xmin = -5.0 # lower bound of position\n",
    "xmax = 5.0 # upper bound of position\n",
    "n = 100 # number of steps (may be overwritten if autoscale == True)\n",
    "dx = (xmax-xmin)/(n-1)"
   ]
  },
  {
   "cell_type": "code",
   "execution_count": null,
   "id": "fifteen-vanilla",
   "metadata": {},
   "outputs": [],
   "source": [
    "# the function V is the potential energy function\n",
    "def V(x):\n",
    "    # make sure there is no division by zero\n",
    "    # this also needs to be a \"vectorizable\" function\n",
    "    # uncomment one of the examples below, or write your own.\n",
    "    return 0.5*mass*omega**2*x*x # harmonic oscillator\n",
    "    \n"
   ]
  },
  {
   "cell_type": "code",
   "execution_count": null,
   "id": "statewide-louisiana",
   "metadata": {},
   "outputs": [],
   "source": [
    "if (autoscale): \n",
    "    #Emax is the maximum energy for which to check for eigenvalues\n",
    "    Emax = 20.0\n",
    "    #The next lines make some reasonable choices for the position grid size and spacing\n",
    "    xt = opt.brentq(lambda x: V(x)-Emax ,0,5*Emax) #classical turning point\n",
    "    dx = 1.0/np.sqrt(2*Emax) #step size\n",
    "    # bounds and number of steps\n",
    "    n = np.int(0.5+2*(xt/dx + 4.0*np.pi)) #number of steps\n",
    "    xmin = -dx*(n+1)/2 \n",
    "    xmax = dx*(n+1)/2"
   ]
  },
  {
   "cell_type": "code",
   "execution_count": null,
   "id": "sized-intranet",
   "metadata": {},
   "outputs": [],
   "source": [
    "xmin, xmax, n #show the limits and number of steps"
   ]
  },
  {
   "cell_type": "code",
   "execution_count": null,
   "id": "fabulous-charger",
   "metadata": {},
   "outputs": [],
   "source": [
    "#define the x coordinates\n",
    "x = np.linspace(xmin,xmax,n)"
   ]
  },
  {
   "cell_type": "code",
   "execution_count": null,
   "id": "assisted-priority",
   "metadata": {},
   "outputs": [],
   "source": [
    "#define the numerov matrices\n",
    "B = np.matrix((np.eye(n,k=-1)+10.0*np.eye(n,k=0)+np.eye(n,k=1))/12.0)\n",
    "A = np.matrix((np.eye(n,k=-1)-2.0*np.eye(n,k=0)+np.eye(n,k=1))/(dx**2))"
   ]
  },
  {
   "cell_type": "code",
   "execution_count": null,
   "id": "arranged-nature",
   "metadata": {},
   "outputs": [],
   "source": [
    "#calculate kinetic energy operator using Numerov's approximation\n",
    "KE = -0.5*hbar**2/mass*B.I*A"
   ]
  },
  {
   "cell_type": "code",
   "execution_count": null,
   "id": "handy-circle",
   "metadata": {},
   "outputs": [],
   "source": [
    "#calculate hamiltonian operator approximation\n",
    "H = KE + np.diag(V(x))"
   ]
  },
  {
   "cell_type": "code",
   "execution_count": null,
   "id": "scenic-twist",
   "metadata": {},
   "outputs": [],
   "source": [
    "#Calculate eigenvalues and eigenvectors of H\n",
    "energies, wavefunctions = np.linalg.eigh(H) # \"wavefunctions\" is a matrix with one eigenvector in each column."
   ]
  },
  {
   "cell_type": "code",
   "execution_count": null,
   "id": "radical-sequence",
   "metadata": {},
   "outputs": [],
   "source": [
    "energies #display the lowest four energies"
   ]
  },
  {
   "cell_type": "code",
   "execution_count": null,
   "id": "dutch-jaguar",
   "metadata": {},
   "outputs": [],
   "source": [
    "number = [0,1,2,3,4] #which wavefunctions to plot, starting counting from zero\n",
    "zoom = 3.0 # zoom factor for plotting the wavefunctions to make them more visible\n",
    "plt.plot(x,V(x),'-k',label=\"V(x)\") # plot the potential\n",
    "for num in number:\n",
    "    plt.plot(x,zoom*wavefunctions[:,num]+energies[num],label=num) #plot the num-th wavefunction\n",
    "    plt.hlines(energies[num],-5,5,color=\"black\",linewidth=0.5)\n",
    "plt.ylim(-1,10); # set limits of vertical axis for plot\n",
    "plt.xlim(-5,5); # set limits of horizontal axis for plot\n",
    "#plt.legend(loc=\"lower center\");\n",
    "plt.xlabel(\"x\");\n",
    "plt.ylabel(\"Energy, ϕ\");"
   ]
  },
  {
   "cell_type": "code",
   "execution_count": null,
   "id": "undefined-listing",
   "metadata": {},
   "outputs": [],
   "source": []
  }
 ],
 "metadata": {
  "jupytext": {
   "encoding": "# -*- coding: utf-8 -*-",
   "formats": "ipynb"
  },
  "kernelspec": {
   "display_name": "Python [conda env:phys175]",
   "language": "python",
   "name": "conda-env-phys175-py"
  },
  "language_info": {
   "codemirror_mode": {
    "name": "ipython",
    "version": 3
   },
   "file_extension": ".py",
   "mimetype": "text/x-python",
   "name": "python",
   "nbconvert_exporter": "python",
   "pygments_lexer": "ipython3",
   "version": "3.10.8"
  }
 },
 "nbformat": 4,
 "nbformat_minor": 5
}
