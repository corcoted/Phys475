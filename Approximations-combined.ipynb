{
 "cells": [
  {
   "cell_type": "markdown",
   "id": "68af72c2-e910-4a87-983e-366e12bc1b68",
   "metadata": {},
   "source": [
    "# Approximations worksheet"
   ]
  },
  {
   "cell_type": "markdown",
   "id": "b18718e3-32ca-4deb-b5a4-ca2f06172407",
   "metadata": {},
   "source": [
    "PHYS475 - Advanced Quantum Mechanics\n",
    "\n",
    "(c) 2025, Theodore Corcovilos"
   ]
  },
  {
   "cell_type": "markdown",
   "id": "3f58e53b-2439-45e0-b380-279c52565476",
   "metadata": {},
   "source": [
    "The purpose of this file is to give you a starting point to investigate the questions posed in \"Writing Assignment 1\".  You'll get the most out of this by exerimenting with the code: change some of the variables, try different potentials, explore!"
   ]
  },
  {
   "cell_type": "markdown",
   "id": "3c9186e9-6ac4-4e4e-a876-389e19760715",
   "metadata": {},
   "source": [
    "## Truncated Basis approximation\n",
    "Solving the Hamiltonian\n",
    "\n",
    "$$ \\hat{H} = \\frac12 \\hat{p}^2 + \\frac12 \\hat{x}^2 + \\frac12 \\alpha^2 \\hat{x}^2 $$\n",
    "\n",
    "using the **truncated basis approximation**, using the harmonic oscillator energy basis."
   ]
  },
  {
   "cell_type": "markdown",
   "id": "understood-means",
   "metadata": {},
   "source": [
    "The size of the basis is set by changing the variable `nmax` below.\n",
    "\n",
    "The value of $ \\alpha $ is set by changing the variable `alpha` below."
   ]
  },
  {
   "cell_type": "code",
   "execution_count": 1,
   "id": "assumed-memphis",
   "metadata": {},
   "outputs": [],
   "source": [
    "# import some needed libraries\n",
    "import numpy as np\n",
    "import matplotlib.pyplot as plt\n",
    "import scipy.optimize as opt\n",
    "%matplotlib inline"
   ]
  },
  {
   "cell_type": "code",
   "execution_count": 10,
   "id": "efb371ad-7b7e-481c-a4a5-f2ef24df74c5",
   "metadata": {},
   "outputs": [
    {
     "data": {
      "text/plain": [
       "{'edgeitems': 3,\n",
       " 'threshold': 1000,\n",
       " 'floatmode': 'maxprec',\n",
       " 'precision': 5,\n",
       " 'suppress': False,\n",
       " 'linewidth': 75,\n",
       " 'nanstr': 'nan',\n",
       " 'infstr': 'inf',\n",
       " 'sign': '-',\n",
       " 'formatter': None,\n",
       " 'legacy': False,\n",
       " 'override_repr': None}"
      ]
     },
     "execution_count": 10,
     "metadata": {},
     "output_type": "execute_result"
    }
   ],
   "source": [
    "np.get_printoptions()"
   ]
  },
  {
   "cell_type": "code",
   "execution_count": 11,
   "id": "ff6ab16d-578a-489f-994b-2348cc7b7402",
   "metadata": {},
   "outputs": [],
   "source": [
    "# set some display options\n",
    "np.set_printoptions(precision=5,linewidth=80)"
   ]
  },
  {
   "cell_type": "code",
   "execution_count": 12,
   "id": "demanding-anaheim",
   "metadata": {},
   "outputs": [],
   "source": [
    "nmax = 8 # max energy level to include (counting starts at zero)"
   ]
  },
  {
   "cell_type": "code",
   "execution_count": 13,
   "id": "silver-hybrid",
   "metadata": {},
   "outputs": [],
   "source": [
    "alpha = 0.3 # perturbation parameter value"
   ]
  },
  {
   "cell_type": "code",
   "execution_count": 14,
   "id": "european-moderator",
   "metadata": {},
   "outputs": [],
   "source": [
    "# The exact eigenvalues for later comparison...\n",
    "def exact_energy(n,alpha):\n",
    "    '''\n",
    "    The exact eigenenergy for the n-th state and perturbation parameter alpha\n",
    "    '''\n",
    "    return np.sqrt(1+alpha**2)*(n+0.5) # exact energies, calculated earlier by solving H by hand.\n",
    "exactEn = exact_energy(np.array(range(nmax+1)),alpha) # list of the first nmax energies "
   ]
  },
  {
   "cell_type": "code",
   "execution_count": 15,
   "id": "spectacular-livestock",
   "metadata": {},
   "outputs": [
    {
     "name": "stdout",
     "output_type": "stream",
     "text": [
      "[0.52202 1.56605 2.61008 3.65411 4.69814 5.74217 6.7862  7.83023 8.87426]\n"
     ]
    }
   ],
   "source": [
    "print(exactEn)"
   ]
  },
  {
   "cell_type": "markdown",
   "id": "younger-resource",
   "metadata": {},
   "source": [
    "Below, the lowering operator $ \\hat{a} $ is defined in matrix form.  The code is a shortcut to generate the matrix elements\n",
    "\n",
    "$$ a_{mn} = \\langle m | \\hat{a} | n \\rangle  = \\sqrt{n}\\, \\langle m | n-1 \\rangle = \\sqrt{n}\\, \\delta_{m,n-1}. $$"
   ]
  },
  {
   "cell_type": "code",
   "execution_count": 16,
   "id": "joined-gardening",
   "metadata": {},
   "outputs": [],
   "source": [
    "a = np.matrix(np.diag(np.sqrt(np.array(range(nmax))+1.),k=1)) # lowering operator in matrix form"
   ]
  },
  {
   "cell_type": "code",
   "execution_count": 17,
   "id": "binding-november",
   "metadata": {},
   "outputs": [
    {
     "name": "stdout",
     "output_type": "stream",
     "text": [
      "[[0.      1.      0.      0.      0.      0.      0.      0.      0.     ]\n",
      " [0.      0.      1.41421 0.      0.      0.      0.      0.      0.     ]\n",
      " [0.      0.      0.      1.73205 0.      0.      0.      0.      0.     ]\n",
      " [0.      0.      0.      0.      2.      0.      0.      0.      0.     ]\n",
      " [0.      0.      0.      0.      0.      2.23607 0.      0.      0.     ]\n",
      " [0.      0.      0.      0.      0.      0.      2.44949 0.      0.     ]\n",
      " [0.      0.      0.      0.      0.      0.      0.      2.64575 0.     ]\n",
      " [0.      0.      0.      0.      0.      0.      0.      0.      2.82843]\n",
      " [0.      0.      0.      0.      0.      0.      0.      0.      0.     ]]\n"
     ]
    }
   ],
   "source": [
    "print(a) # show the matrix form of a"
   ]
  },
  {
   "cell_type": "code",
   "execution_count": 18,
   "id": "silent-italy",
   "metadata": {},
   "outputs": [
    {
     "name": "stdout",
     "output_type": "stream",
     "text": [
      "[[0.      0.      0.      0.      0.      0.      0.      0.      0.     ]\n",
      " [1.      0.      0.      0.      0.      0.      0.      0.      0.     ]\n",
      " [0.      1.41421 0.      0.      0.      0.      0.      0.      0.     ]\n",
      " [0.      0.      1.73205 0.      0.      0.      0.      0.      0.     ]\n",
      " [0.      0.      0.      2.      0.      0.      0.      0.      0.     ]\n",
      " [0.      0.      0.      0.      2.23607 0.      0.      0.      0.     ]\n",
      " [0.      0.      0.      0.      0.      2.44949 0.      0.      0.     ]\n",
      " [0.      0.      0.      0.      0.      0.      2.64575 0.      0.     ]\n",
      " [0.      0.      0.      0.      0.      0.      0.      2.82843 0.     ]]\n"
     ]
    }
   ],
   "source": [
    "print(a.H) # the .H method of a numpy matrix is the Hermitian conjugate, what we call \"dagger\"."
   ]
  },
  {
   "cell_type": "code",
   "execution_count": 19,
   "id": "orange-front",
   "metadata": {},
   "outputs": [
    {
     "data": {
      "text/plain": [
       "matrix([[ 1.,  0.,  0.,  0.,  0.,  0.,  0.,  0.,  0.],\n",
       "        [ 0.,  1.,  0.,  0.,  0.,  0.,  0.,  0.,  0.],\n",
       "        [ 0.,  0.,  1.,  0.,  0.,  0.,  0.,  0.,  0.],\n",
       "        [ 0.,  0.,  0.,  1.,  0.,  0.,  0.,  0.,  0.],\n",
       "        [ 0.,  0.,  0.,  0.,  1.,  0.,  0.,  0.,  0.],\n",
       "        [ 0.,  0.,  0.,  0.,  0.,  1.,  0.,  0.,  0.],\n",
       "        [ 0.,  0.,  0.,  0.,  0.,  0.,  1.,  0.,  0.],\n",
       "        [ 0.,  0.,  0.,  0.,  0.,  0.,  0.,  1.,  0.],\n",
       "        [ 0.,  0.,  0.,  0.,  0.,  0.,  0.,  0., -8.]])"
      ]
     },
     "execution_count": 19,
     "metadata": {},
     "output_type": "execute_result"
    }
   ],
   "source": [
    "a*a.H-a.H*a # just checking if the commutator rule works: [a,a.H]=1\n",
    "#Should yield the identity matrix.  (Last row/column will be wrong because we are approximating.)"
   ]
  },
  {
   "cell_type": "code",
   "execution_count": 20,
   "id": "contemporary-manchester",
   "metadata": {},
   "outputs": [],
   "source": [
    "x = (a + a.H)/np.sqrt(2.) # define the position operator x"
   ]
  },
  {
   "cell_type": "code",
   "execution_count": 21,
   "id": "positive-scott",
   "metadata": {},
   "outputs": [
    {
     "name": "stdout",
     "output_type": "stream",
     "text": [
      "[[0.      0.70711 0.      0.      0.      0.      0.      0.      0.     ]\n",
      " [0.70711 0.      1.      0.      0.      0.      0.      0.      0.     ]\n",
      " [0.      1.      0.      1.22474 0.      0.      0.      0.      0.     ]\n",
      " [0.      0.      1.22474 0.      1.41421 0.      0.      0.      0.     ]\n",
      " [0.      0.      0.      1.41421 0.      1.58114 0.      0.      0.     ]\n",
      " [0.      0.      0.      0.      1.58114 0.      1.73205 0.      0.     ]\n",
      " [0.      0.      0.      0.      0.      1.73205 0.      1.87083 0.     ]\n",
      " [0.      0.      0.      0.      0.      0.      1.87083 0.      2.     ]\n",
      " [0.      0.      0.      0.      0.      0.      0.      2.      0.     ]]\n"
     ]
    }
   ],
   "source": [
    "print(x)"
   ]
  },
  {
   "cell_type": "code",
   "execution_count": 22,
   "id": "positive-marking",
   "metadata": {},
   "outputs": [],
   "source": [
    "p = -1.j/np.sqrt(2)*(a-a.H) # define the momentum operator p (j = sqrt(-1))"
   ]
  },
  {
   "cell_type": "code",
   "execution_count": 23,
   "id": "numerical-visibility",
   "metadata": {},
   "outputs": [],
   "source": [
    "H0 = p**2/2 + x**2/2 # Unperturbed Hamiltonian ( ** means \"power\" in python).\n",
    "# (Note * is matrix multiplication and ** is matrix power for x and p, which are np.matrix objects.)"
   ]
  },
  {
   "cell_type": "code",
   "execution_count": 24,
   "id": "advised-bunny",
   "metadata": {},
   "outputs": [],
   "source": [
    "Hprime = alpha**2/2*x**2 # perturbation to the Hamiltonian"
   ]
  },
  {
   "cell_type": "code",
   "execution_count": 25,
   "id": "engaging-shuttle",
   "metadata": {},
   "outputs": [],
   "source": [
    "H = np.real(H0 + Hprime) # full Hamiltonian (We know H is real, but python doesn't.)"
   ]
  },
  {
   "cell_type": "code",
   "execution_count": 26,
   "id": "exclusive-island",
   "metadata": {},
   "outputs": [
    {
     "name": "stdout",
     "output_type": "stream",
     "text": [
      "[[0.5225  0.      0.03182 0.      0.      0.      0.      0.      0.     ]\n",
      " [0.      1.5675  0.      0.05511 0.      0.      0.      0.      0.     ]\n",
      " [0.03182 0.      2.6125  0.      0.07794 0.      0.      0.      0.     ]\n",
      " [0.      0.05511 0.      3.6575  0.      0.10062 0.      0.      0.     ]\n",
      " [0.      0.      0.07794 0.      4.7025  0.      0.12324 0.      0.     ]\n",
      " [0.      0.      0.      0.10062 0.      5.7475  0.      0.14582 0.     ]\n",
      " [0.      0.      0.      0.      0.12324 0.      6.7925  0.      0.16837]\n",
      " [0.      0.      0.      0.      0.      0.14582 0.      7.8375  0.     ]\n",
      " [0.      0.      0.      0.      0.      0.      0.16837 0.      4.18   ]]\n"
     ]
    }
   ],
   "source": [
    "print(H)"
   ]
  },
  {
   "cell_type": "code",
   "execution_count": 27,
   "id": "daily-viewer",
   "metadata": {},
   "outputs": [],
   "source": [
    "energies, states = np.linalg.eigh(H) # calculate eigenvalues and eigenvectors"
   ]
  },
  {
   "cell_type": "code",
   "execution_count": 28,
   "id": "ordinary-spotlight",
   "metadata": {},
   "outputs": [
    {
     "name": "stdout",
     "output_type": "stream",
     "text": [
      "[0.52202 1.56605 2.61008 3.65411 4.16908 4.69835 5.74221 6.81049 7.84764]\n"
     ]
    }
   ],
   "source": [
    "print(energies)"
   ]
  },
  {
   "cell_type": "code",
   "execution_count": 29,
   "id": "marked-thunder",
   "metadata": {},
   "outputs": [],
   "source": [
    "# calculate relative errors in the eigenvalues\n",
    "errors = (energies-exactEn)/exactEn"
   ]
  },
  {
   "cell_type": "code",
   "execution_count": 30,
   "id": "clean-hamburg",
   "metadata": {},
   "outputs": [
    {
     "name": "stdout",
     "output_type": "stream",
     "text": [
      "[[ 1.20676e-17]\n",
      " [-9.99652e-01]\n",
      " [ 4.44089e-16]\n",
      " [ 2.63732e-02]\n",
      " [ 2.20074e-16]\n",
      " [-6.35162e-04]\n",
      " [ 2.58617e-18]\n",
      " [ 1.47681e-05]\n",
      " [-3.47570e-16]]\n"
     ]
    }
   ],
   "source": [
    "# show an example eigenstate vector\n",
    "print(states[:,1])"
   ]
  },
  {
   "cell_type": "code",
   "execution_count": 31,
   "id": "exposed-flooring",
   "metadata": {},
   "outputs": [
    {
     "name": "stdout",
     "output_type": "stream",
     "text": [
      "[-2.60959e-13  6.07840e-13 -6.29249e-09  4.48263e-09 -1.12611e-01 -1.81782e-01\n",
      " -1.53840e-01 -1.30232e-01 -1.15686e-01]\n"
     ]
    }
   ],
   "source": [
    "print(errors)"
   ]
  },
  {
   "cell_type": "code",
   "execution_count": 32,
   "id": "unlikely-limit",
   "metadata": {},
   "outputs": [],
   "source": [
    "import matplotlib.pyplot as plt"
   ]
  },
  {
   "cell_type": "code",
   "execution_count": 33,
   "id": "through-healing",
   "metadata": {},
   "outputs": [
    {
     "data": {
      "text/plain": [
       "Text(0.5, 1.0, 'Energies')"
      ]
     },
     "execution_count": 33,
     "metadata": {},
     "output_type": "execute_result"
    },
    {
     "data": {
      "image/png": "[encoded data removed]",
      "text/plain": [
       "<Figure size 640x480 with 1 Axes>"
      ]
     },
     "metadata": {},
     "output_type": "display_data"
    }
   ],
   "source": [
    "plt.bar(range(nmax+1),exactEn,label=\"Exact\")\n",
    "plt.bar(range(nmax+1),energies,label=\"Approx.\")\n",
    "plt.xlabel(\"State\")\n",
    "plt.ylabel(\"Energy\")\n",
    "plt.legend()\n",
    "plt.title(\"Energies\")"
   ]
  },
  {
   "cell_type": "code",
   "execution_count": 34,
   "id": "4a68ed58-65ca-48fc-b7d2-1fbeed69dbc8",
   "metadata": {},
   "outputs": [],
   "source": [
    "error_target = 0.001 # our comparison error level"
   ]
  },
  {
   "cell_type": "code",
   "execution_count": 35,
   "id": "ed2dcc6f-b32d-4b21-88eb-57aecbbc48d8",
   "metadata": {},
   "outputs": [
    {
     "data": {
      "text/plain": [
       "Text(0.5, 1.0, 'Energy relative errors (Energy basis, nmax=8)')"
      ]
     },
     "execution_count": 35,
     "metadata": {},
     "output_type": "execute_result"
    },
    {
     "data": {
      "image/png": "[encoded data removed]",
      "text/plain": [
       "<Figure size 640x480 with 1 Axes>"
      ]
     },
     "metadata": {},
     "output_type": "display_data"
    }
   ],
   "source": [
    "plt.bar(range(nmax+1),np.abs(errors),label=\"Energy error\") # absolute value so we can use a log scale\n",
    "plt.xlabel(\"State\")\n",
    "plt.ylabel(\"Energy relative error (log scale)\")\n",
    "plt.axhline(error_target,c='k',lw=0.5,ls=\"dashed\")\n",
    "plt.text(-0.7,error_target,\"Target\",fontsize=\"medium\",verticalalignment=\"bottom\")\n",
    "plt.yscale(\"log\")\n",
    "plt.legend()\n",
    "plt.title(f\"Energy relative errors (Energy basis, nmax={nmax})\")"
   ]
  },
  {
   "cell_type": "markdown",
   "id": "cathedral-custody",
   "metadata": {},
   "source": [
    "Notice that the errors get larger with larger n, particularly for n > nmax/2"
   ]
  },
  {
   "cell_type": "markdown",
   "id": "documentary-transparency",
   "metadata": {},
   "source": [
    "We'll define the error in the states by\n",
    "$$ \\text{State error}=  1-| \\langle true | approx \\rangle |^2 $$"
   ]
  },
  {
   "cell_type": "markdown",
   "id": "d85a11c7-be4f-47cb-8f9c-0e11225a3cb3",
   "metadata": {},
   "source": [
    "In principle we could do this by calculating the intergral (numerically):\n",
    "$$\n",
    "\\langle \\text{true} \\mid \\text{approx} \\rangle =\n",
    "\\int\\limits_{-\\infty}^{\\infty} \\psi_\\text{true}^*(x)\\, \\psi_\\text{approx}(x)\\, dx\n",
    "$$\n",
    "where $\\psi_\\text{true}(x)$ is the SHO eigenstate wavefunction with new frequency $\\omega' = \\sqrt{\\omega^2+\\alpha^2}$, and $\\psi_\\text{approx}(x)$ is what we calculate above:\n",
    "\n",
    "$$\n",
    "\\psi_\\text{approx}(x) = \\sum\\limits_{n=0}^{\\infty} c_n \\psi^{(0)}_n(x),\n",
    "$$\n",
    "with the coefficients $c_n$ pulled from the eigenstate vectors above."
   ]
  },
  {
   "cell_type": "markdown",
   "id": "0cf78d82-79b9-4643-8c2b-da5d42af06b8",
   "metadata": {},
   "source": [
    "As an approximation, let's instead calculate the inner product of the approximate state with the *unperturbed* eigenstate.  This is quick and easy, but may not tell the full story."
   ]
  },
  {
   "cell_type": "code",
   "execution_count": 36,
   "id": "elect-throw",
   "metadata": {},
   "outputs": [],
   "source": [
    "# the \"unperturbed\" states would be the unit vectors, so we can just pull the diagonal elements from the coefficient matrix\n",
    "stateErrors = 1.-np.abs(np.diag(states))**2 "
   ]
  },
  {
   "cell_type": "code",
   "execution_count": 37,
   "id": "dangerous-anaheim",
   "metadata": {},
   "outputs": [
    {
     "data": {
      "text/plain": [
       "Text(0.5, 1.0, 'State errors (Energy basis, nmax=8)')"
      ]
     },
     "execution_count": 37,
     "metadata": {},
     "output_type": "execute_result"
    },
    {
     "data": {
      "image/png": "[encoded data removed]",
      "text/plain": [
       "<Figure size 640x480 with 1 Axes>"
      ]
     },
     "metadata": {},
     "output_type": "display_data"
    }
   ],
   "source": [
    "plt.bar(range(nmax+1),stateErrors)\n",
    "plt.xlabel(\"State\")\n",
    "plt.ylabel(\"Error\")\n",
    "plt.yscale(\"log\")\n",
    "plt.title(f\"State errors (Energy basis, nmax={nmax})\")"
   ]
  },
  {
   "cell_type": "markdown",
   "id": "cultural-savage",
   "metadata": {},
   "source": [
    "## Position basis approximation\n",
    "**Numerical solution to the 1-dimensional Time Independent Schrödinger Equation**\n",
    "\n",
    "Based on the paper \"Matrix Numerov method for solving Schrödinger's equation\" by Mohandas Pillai, Joshua Goglio, and Thad G. Walker, _American Journal of Physics_ **80** (11), 1017 (2012).  [doi:10.1119/1.4748813](http://dx.doi.org/10.1119/1.4748813)\n"
   ]
  },
  {
   "cell_type": "code",
   "execution_count": 38,
   "id": "improved-general",
   "metadata": {},
   "outputs": [],
   "source": [
    "autoscale = False # set this equal to true to use Pillai's recommended step sizes"
   ]
  },
  {
   "cell_type": "code",
   "execution_count": 39,
   "id": "spread-midwest",
   "metadata": {
    "lines_to_next_cell": 2
   },
   "outputs": [],
   "source": [
    "# values of constants\n",
    "hbar = 1.0\n",
    "mass = 1.0 # changing the mass will also change the energy scale\n",
    "omega = 1.0"
   ]
  },
  {
   "cell_type": "code",
   "execution_count": 40,
   "id": "stuck-saver",
   "metadata": {},
   "outputs": [],
   "source": [
    "# bounds (These are overwritten if autoscale=True)\n",
    "xmin = -5.0 # lower bound of position\n",
    "xmax = 5.0 # upper bound of position\n",
    "n = 100 # number of steps (may be overwritten if autoscale == True)\n",
    "dx = (xmax-xmin)/(n-1)"
   ]
  },
  {
   "cell_type": "code",
   "execution_count": 41,
   "id": "fifteen-vanilla",
   "metadata": {},
   "outputs": [],
   "source": [
    "# the function V is the potential energy function\n",
    "def V(x):\n",
    "    # make sure there is no division by zero\n",
    "    # this also needs to be a \"vectorizable\" function\n",
    "    # uncomment one of the examples below, or write your own.\n",
    "    return 0.5*mass*omega**2*x*x # harmonic oscillator\n",
    "    \n"
   ]
  },
  {
   "cell_type": "code",
   "execution_count": 42,
   "id": "statewide-louisiana",
   "metadata": {},
   "outputs": [],
   "source": [
    "if (autoscale): \n",
    "    #Emax is the maximum energy for which to check for eigenvalues\n",
    "    Emax = 20.0\n",
    "    #The next lines make some reasonable choices for the position grid size and spacing\n",
    "    xt = opt.brentq(lambda x: V(x)-Emax ,0,5*Emax) #classical turning point\n",
    "    dx = 1.0/np.sqrt(2*Emax) #step size\n",
    "    # bounds and number of steps\n",
    "    n = np.int(0.5+2*(xt/dx + 4.0*np.pi)) #number of steps\n",
    "    xmin = -dx*(n+1)/2 \n",
    "    xmax = dx*(n+1)/2"
   ]
  },
  {
   "cell_type": "code",
   "execution_count": 43,
   "id": "sized-intranet",
   "metadata": {},
   "outputs": [
    {
     "data": {
      "text/plain": [
       "(-5.0, 5.0, 100)"
      ]
     },
     "execution_count": 43,
     "metadata": {},
     "output_type": "execute_result"
    }
   ],
   "source": [
    "xmin, xmax, n #show the limits and number of steps"
   ]
  },
  {
   "cell_type": "code",
   "execution_count": 44,
   "id": "fabulous-charger",
   "metadata": {},
   "outputs": [],
   "source": [
    "#define the x coordinates\n",
    "x = np.linspace(xmin,xmax,n)"
   ]
  },
  {
   "cell_type": "code",
   "execution_count": 45,
   "id": "assisted-priority",
   "metadata": {},
   "outputs": [],
   "source": [
    "#define the numerov matrices\n",
    "B = np.matrix((np.eye(n,k=-1)+10.0*np.eye(n,k=0)+np.eye(n,k=1))/12.0)\n",
    "A = np.matrix((np.eye(n,k=-1)-2.0*np.eye(n,k=0)+np.eye(n,k=1))/(dx**2))"
   ]
  },
  {
   "cell_type": "code",
   "execution_count": 46,
   "id": "arranged-nature",
   "metadata": {},
   "outputs": [],
   "source": [
    "#calculate kinetic energy operator using Numerov's approximation\n",
    "KE = -0.5*hbar**2/mass*B.I*A"
   ]
  },
  {
   "cell_type": "code",
   "execution_count": 47,
   "id": "handy-circle",
   "metadata": {},
   "outputs": [],
   "source": [
    "#calculate hamiltonian operator approximation\n",
    "H = KE + np.diag(V(x))"
   ]
  },
  {
   "cell_type": "code",
   "execution_count": 48,
   "id": "scenic-twist",
   "metadata": {},
   "outputs": [],
   "source": [
    "#Calculate eigenvalues and eigenvectors of H\n",
    "energies, wavefunctions = np.linalg.eigh(H) # \"wavefunctions\" is a matrix with one eigenvector in each column."
   ]
  },
  {
   "cell_type": "code",
   "execution_count": 49,
   "id": "radical-sequence",
   "metadata": {},
   "outputs": [
    {
     "data": {
      "text/plain": [
       "array([  0.5    ,   1.5    ,   2.49999,   3.49997,   4.49995,   5.49995,\n",
       "         6.50014,   7.5013 ,   8.50608,   9.5215 ,  10.56142,  11.64605,\n",
       "        12.79709,  14.0318 ,  15.36046,  16.78765,  18.31463,  19.94114,\n",
       "        21.66645,  23.48968,  25.41002,  27.42671,  29.53908,  31.74649,\n",
       "        34.04835,  36.44406,  38.93305,  41.5147 ,  44.1884 ,  46.95348,\n",
       "        49.80923,  52.75488,  55.78962,  58.91257,  62.12274,  65.4191 ,\n",
       "        68.80052,  72.26576,  75.81349,  79.44228,  83.15058,  86.93671,\n",
       "        90.79886,  94.7351 ,  98.74336, 102.82141, 106.96687, 111.1772 ,\n",
       "       115.4497 , 119.7815 , 124.16953, 128.61056, 133.10117, 137.63774,\n",
       "       142.21645, 146.83329, 151.48404, 156.16427, 160.86935, 165.59444,\n",
       "       170.33448, 175.08422, 179.83818, 184.59069, 189.33589, 194.06771,\n",
       "       198.77989, 203.46601, 208.11944, 212.73343, 217.30105, 221.81525,\n",
       "       226.26886, 230.65457, 234.96502, 239.19277, 243.33029, 247.37006,\n",
       "       251.30452, 255.12611, 258.82731, 262.40061, 265.83859, 269.13384,\n",
       "       272.27906, 275.26695, 278.09024, 280.7416 , 283.21349, 285.49794,\n",
       "       287.58607, 289.46709, 291.12734, 292.52   , 293.79199, 294.23038,\n",
       "       296.4086 , 296.41539, 300.43135, 300.43136])"
      ]
     },
     "execution_count": 49,
     "metadata": {},
     "output_type": "execute_result"
    }
   ],
   "source": [
    "energies #display the lowest four energies"
   ]
  },
  {
   "cell_type": "code",
   "execution_count": 50,
   "id": "3b5444b8-25aa-4ebd-92a9-e63fb8f129cf",
   "metadata": {},
   "outputs": [],
   "source": [
    "energy_errors_positionbasis = (energies-exact_energy(np.array(range(n)),alpha))/exact_energy(np.array(range(n)),alpha)"
   ]
  },
  {
   "cell_type": "code",
   "execution_count": 51,
   "id": "8efb34d7-519c-48b6-9cd9-1f7d814cdfef",
   "metadata": {},
   "outputs": [],
   "source": [
    "n_target = 4 # particular state we're interested in"
   ]
  },
  {
   "cell_type": "code",
   "execution_count": 52,
   "id": "8dc15f82-02d7-4304-b2b4-54d3b6b48d77",
   "metadata": {},
   "outputs": [
    {
     "data": {
      "text/plain": [
       "Text(0.5, 1.0, 'Energy relative errors (Energy basis, n=100, α=0.3)')"
      ]
     },
     "execution_count": 52,
     "metadata": {},
     "output_type": "execute_result"
    },
    {
     "data": {
      "image/png": "[encoded data removed]",
      "text/plain": [
       "<Figure size 640x480 with 1 Axes>"
      ]
     },
     "metadata": {},
     "output_type": "display_data"
    }
   ],
   "source": [
    "plot_max_n = 40 # limit the plot range to the lowest states\n",
    "plt.plot(range(n),np.abs(energy_errors_positionbasis),'b.',mfc='none',label=\"Energy error\")\n",
    "plt.plot(n_target, np.abs(energy_errors_positionbasis[n_target]),'r.',label=f\"n={n_target}\")\n",
    "plt.xlabel(\"State\")\n",
    "plt.ylabel(\"Energy error (log scale)\")\n",
    "plt.xlim(-0.5,plot_max_n)\n",
    "plt.axhline(error_target,c='k',lw=0.5,ls=\"dashed\")\n",
    "plt.text(-0.7,error_target,\"Target\",fontsize=\"medium\",verticalalignment=\"bottom\")\n",
    "plt.yscale(\"log\")\n",
    "plt.legend()\n",
    "plt.title(f\"Energy relative errors (Energy basis, n={n}, α={alpha})\")"
   ]
  },
  {
   "cell_type": "code",
   "execution_count": 53,
   "id": "dutch-jaguar",
   "metadata": {},
   "outputs": [
    {
     "data": {
      "image/png": "[encoded data removed]",
      "text/plain": [
       "<Figure size 640x480 with 1 Axes>"
      ]
     },
     "metadata": {},
     "output_type": "display_data"
    }
   ],
   "source": [
    "number = np.arange(6) #which wavefunctions to plot, starting counting from zero\n",
    "zoom = 3.0 # zoom factor for plotting the wavefunctions to make them more visible\n",
    "plt.plot(x,V(x),'-k',label=\"V(x)\") # plot the potential\n",
    "for num in number:\n",
    "    plt.plot(x,zoom*wavefunctions[:,num]+energies[num],label=num) #plot the num-th wavefunction\n",
    "    plt.hlines(energies[num],-5,5,color=\"black\",linewidth=0.5)\n",
    "plt.ylim(-1,10); # set limits of vertical axis for plot\n",
    "plt.xlim(-5,5); # set limits of horizontal axis for plot\n",
    "#plt.legend(loc=\"lower center\");\n",
    "plt.xlabel(\"x\");\n",
    "plt.ylabel(\"Energy, ϕ\");"
   ]
  },
  {
   "cell_type": "code",
   "execution_count": null,
   "id": "undefined-listing",
   "metadata": {},
   "outputs": [],
   "source": []
  },
  {
   "cell_type": "markdown",
   "id": "0b49bea8",
   "metadata": {},
   "source": [
    "# Variational method\n",
    "Code implementing the variational principle for a 1D potential.\n",
    "To try different things, change:\n",
    "- the potential function V\n",
    "- the wavefunction psi\n",
    "- the initial guess of the wavefunction parameters aguess"
   ]
  },
  {
   "cell_type": "code",
   "execution_count": 54,
   "id": "4337d6ec",
   "metadata": {},
   "outputs": [],
   "source": [
    "import numpy as np\n",
    "from scipy.optimize import minimize\n",
    "from scipy.integrate import quad\n",
    "from numdifftools import Derivative"
   ]
  },
  {
   "cell_type": "code",
   "execution_count": 55,
   "id": "da1c9e65",
   "metadata": {},
   "outputs": [],
   "source": [
    "xmin = -10.0; xmax = 10.0 #limits of integration, may be np.inf (infinity), although you'll need to adjust the plots below\n",
    "hbar = 1.0; mass = 1.0; omega=1.0 # some constants.  Changing mass will also change the energy scale.\n",
    "alpha = 0.1"
   ]
  },
  {
   "cell_type": "code",
   "execution_count": 56,
   "id": "0321ce27",
   "metadata": {},
   "outputs": [],
   "source": [
    "def V(x):\n",
    "    # this example is the harmonic oscillator\n",
    "    # make sure this function is \"vectorizable\" and does not have any division by zero\n",
    "    return mass*(omega**2+alpha**2)*x**2/2"
   ]
  },
  {
   "cell_type": "code",
   "execution_count": 57,
   "id": "7d1f3473",
   "metadata": {},
   "outputs": [],
   "source": [
    "def psi(x,beta):\n",
    "    '''Wavefunction as a function of position x.\n",
    "    beta is the variational parameter'''\n",
    "    # Note, normalization is not necessary\n",
    "    # Tip: if your wavefunction is defined piecewise, see https://numpy.org/doc/stable/reference/generated/numpy.piecewise.html\n",
    "    return np.exp(-beta*x**2)"
   ]
  },
  {
   "cell_type": "code",
   "execution_count": 58,
   "id": "9c2291d6",
   "metadata": {},
   "outputs": [],
   "source": [
    "betaguess = 0.5 # guess of the arguments that minimize the wavefunction"
   ]
  },
  {
   "cell_type": "code",
   "execution_count": 59,
   "id": "f0278b16",
   "metadata": {},
   "outputs": [],
   "source": [
    "import matplotlib.pyplot as plt\n",
    "%matplotlib inline"
   ]
  },
  {
   "cell_type": "code",
   "execution_count": 60,
   "id": "6d31e410",
   "metadata": {},
   "outputs": [],
   "source": [
    "# for plotting only, \n",
    "xlist = np.linspace(xmin, xmax, 101)\n",
    "ylist = [V(x) for x in xlist]\n",
    "psilist = [psi(x,betaguess) for x in xlist]"
   ]
  },
  {
   "cell_type": "code",
   "execution_count": 61,
   "id": "0c75768c",
   "metadata": {},
   "outputs": [],
   "source": [
    "def Hpsi(x,beta):\n",
    "    '''The Hamiltonian acting on psi at point x'''\n",
    "    d2psi = Derivative(lambda x: psi(x,beta), n=2)\n",
    "    return -0.5*hbar**2/mass *d2psi(x) + V(x)*psi(x,beta)"
   ]
  },
  {
   "cell_type": "code",
   "execution_count": 62,
   "id": "77ca970a",
   "metadata": {},
   "outputs": [],
   "source": [
    "def EVH(beta, psi):\n",
    "    '''Expectation value of the Hamiltonian for wavefunction psi that has the argument beta\n",
    "    psi is a function of x and beta\n",
    "    beta is a parameter for the wavefunction'''\n",
    "    # Calculate normalization of psi\n",
    "    norm = quad(lambda x, a:np.abs(psi(x,beta))**2, xmin, xmax, args=(beta,))[0]\n",
    "    ev = quad(lambda x, a:np.conj(psi(x,beta))*Hpsi(x,a), xmin, xmax, args=(beta,))[0]\n",
    "    return ev/norm"
   ]
  },
  {
   "cell_type": "code",
   "execution_count": 63,
   "id": "8f209c26",
   "metadata": {},
   "outputs": [],
   "source": [
    "output = minimize(EVH, betaguess, args=(psi,))\n",
    "outlist = [psi(x,output.x) for x in xlist]"
   ]
  },
  {
   "cell_type": "code",
   "execution_count": 64,
   "id": "83dae603",
   "metadata": {},
   "outputs": [],
   "source": [
    "problist = [np.abs(psi(x,output.x))**2 for x in xlist]\n"
   ]
  },
  {
   "cell_type": "code",
   "execution_count": 65,
   "id": "9f28b440",
   "metadata": {},
   "outputs": [
    {
     "name": "stdout",
     "output_type": "stream",
     "text": [
      "Minimum energy = 0.502 for beta = 0.502\n"
     ]
    }
   ],
   "source": [
    "print(f\"Minimum energy = {output.fun:#.3g} for beta = {output.x[0]:#.3g}\")"
   ]
  },
  {
   "cell_type": "code",
   "execution_count": 66,
   "id": "23c958ca",
   "metadata": {},
   "outputs": [
    {
     "data": {
      "image/png": "[encoded data removed]",
      "text/plain": [
       "<Figure size 640x480 with 1 Axes>"
      ]
     },
     "metadata": {},
     "output_type": "display_data"
    }
   ],
   "source": [
    "plt.plot(xlist,ylist,'k-', label = \"V(x)\")\n",
    "plt.plot(xlist,psilist,'b-', label = \"Initial ψ(x)\")\n",
    "plt.plot(xlist,outlist,'r-', label = \"Final ψ(x)\")\n",
    "plt.plot(xlist,problist, 'g-', label = \"|ψ(x)|^2\")\n",
    "plt.legend();\n",
    "plt.xlabel(\"x\");\n",
    "plt.ylabel(\"Energy or ψ\");"
   ]
  },
  {
   "cell_type": "code",
   "execution_count": null,
   "id": "facbf78f-1206-4716-b3be-3d03827738de",
   "metadata": {},
   "outputs": [],
   "source": []
  },
  {
   "cell_type": "code",
   "execution_count": null,
   "id": "d34ee9ac-0a66-4b4c-9085-b8dff05d52f8",
   "metadata": {},
   "outputs": [],
   "source": []
  }
 ],
 "metadata": {
  "jupytext": {
   "encoding": "# -*- coding: utf-8 -*-",
   "formats": "ipynb"
  },
  "kernelspec": {
   "display_name": "Python (Phys475)",
   "language": "python",
   "name": "phys475"
  },
  "language_info": {
   "codemirror_mode": {
    "name": "ipython",
    "version": 3
   },
   "file_extension": ".py",
   "mimetype": "text/x-python",
   "name": "python",
   "nbconvert_exporter": "python",
   "pygments_lexer": "ipython3",
   "version": "3.13.2"
  }
 },
 "nbformat": 4,
 "nbformat_minor": 5
}
