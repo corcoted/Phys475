{
 "cells": [
  {
   "cell_type": "markdown",
   "id": "68af72c2-e910-4a87-983e-366e12bc1b68",
   "metadata": {},
   "source": [
    "# Approximations worksheet"
   ]
  },
  {
   "cell_type": "markdown",
   "id": "b18718e3-32ca-4deb-b5a4-ca2f06172407",
   "metadata": {},
   "source": [
    "PHYS475 - Advanced Quantum Mechanics\n",
    "\n",
    "(c) 2023, Theodore Corcovilos"
   ]
  },
  {
   "cell_type": "markdown",
   "id": "3f58e53b-2439-45e0-b380-279c52565476",
   "metadata": {},
   "source": [
    "The purpose of this file is to give you a starting point to investigate the questions posed in \"Writing Assignment 1\".  You'll get the most out of this by exerimenting with the code: change some of the variables, try different potentials, explore!"
   ]
  },
  {
   "cell_type": "markdown",
   "id": "3c9186e9-6ac4-4e4e-a876-389e19760715",
   "metadata": {},
   "source": [
    "## Truncated Basis approximation\n",
    "Solving the Hamiltonian\n",
    "\n",
    "$$ \\hat{H} = \\frac12 \\hat{p}^2 + \\frac12 \\hat{x}^2 + \\frac12 \\alpha^2 \\hat{x}^2 $$\n",
    "\n",
    "using the **truncated basis approximation**, using the harmonic oscillator energy basis."
   ]
  },
  {
   "cell_type": "markdown",
   "id": "understood-means",
   "metadata": {},
   "source": [
    "The size of the basis is set by changing the variable `nmax` below.\n",
    "\n",
    "The value of $ \\alpha $ is set by changing the variable `alpha` below."
   ]
  },
  {
   "cell_type": "code",
   "execution_count": 1,
   "id": "assumed-memphis",
   "metadata": {},
   "outputs": [],
   "source": [
    "# import some needed libraries\n",
    "import numpy as np\n",
    "import matplotlib.pyplot as plt\n",
    "import scipy.optimize as opt\n",
    "%matplotlib inline"
   ]
  },
  {
   "cell_type": "code",
   "execution_count": 2,
   "id": "demanding-anaheim",
   "metadata": {},
   "outputs": [],
   "source": [
    "nmax = 8 # max energy level to include (counting starts at zero)"
   ]
  },
  {
   "cell_type": "code",
   "execution_count": 3,
   "id": "silver-hybrid",
   "metadata": {},
   "outputs": [],
   "source": [
    "alpha = 0.3 # perturbation parameter value"
   ]
  },
  {
   "cell_type": "code",
   "execution_count": 4,
   "id": "european-moderator",
   "metadata": {},
   "outputs": [],
   "source": [
    "# The exact eigenvalues for later comparison...\n",
    "def exact_energy(n,alpha):\n",
    "    '''\n",
    "    The exact eigenenergy for the n-th state and perturbation parameter alpha\n",
    "    '''\n",
    "    return np.sqrt(1+alpha**2)*(n+0.5) # exact energies, calculated earlier by solving H by hand.\n",
    "exactEn = exact_energy(np.array(range(nmax+1)),alpha) # list of the first nmax energies "
   ]
  },
  {
   "cell_type": "code",
   "execution_count": 5,
   "id": "spectacular-livestock",
   "metadata": {},
   "outputs": [
    {
     "name": "stdout",
     "output_type": "stream",
     "text": [
      "[0.52201533 1.56604598 2.61007663 3.65410728 4.69813793 5.74216858\n",
      " 6.78619923 7.83022988 8.87426053]\n"
     ]
    }
   ],
   "source": [
    "print(exactEn)"
   ]
  },
  {
   "cell_type": "markdown",
   "id": "younger-resource",
   "metadata": {},
   "source": [
    "Below, the lowering operator $ \\hat{a} $ is defined in matrix form.  The code is a shortcut to generate the matrix elements\n",
    "\n",
    "$$ a_{mn} = \\langle m | \\hat{a} | n \\rangle  = \\sqrt{n}\\, \\langle m | n-1 \\rangle = \\sqrt{n}\\, \\delta_{m,n-1}. $$"
   ]
  },
  {
   "cell_type": "code",
   "execution_count": 6,
   "id": "joined-gardening",
   "metadata": {},
   "outputs": [],
   "source": [
    "a = np.matrix(np.diag(np.sqrt(np.array(range(nmax))+1.),k=1)) # lowering operator in matrix form"
   ]
  },
  {
   "cell_type": "code",
   "execution_count": 7,
   "id": "binding-november",
   "metadata": {},
   "outputs": [
    {
     "name": "stdout",
     "output_type": "stream",
     "text": [
      "[[0.         1.         0.         0.         0.         0.\n",
      "  0.         0.         0.        ]\n",
      " [0.         0.         1.41421356 0.         0.         0.\n",
      "  0.         0.         0.        ]\n",
      " [0.         0.         0.         1.73205081 0.         0.\n",
      "  0.         0.         0.        ]\n",
      " [0.         0.         0.         0.         2.         0.\n",
      "  0.         0.         0.        ]\n",
      " [0.         0.         0.         0.         0.         2.23606798\n",
      "  0.         0.         0.        ]\n",
      " [0.         0.         0.         0.         0.         0.\n",
      "  2.44948974 0.         0.        ]\n",
      " [0.         0.         0.         0.         0.         0.\n",
      "  0.         2.64575131 0.        ]\n",
      " [0.         0.         0.         0.         0.         0.\n",
      "  0.         0.         2.82842712]\n",
      " [0.         0.         0.         0.         0.         0.\n",
      "  0.         0.         0.        ]]\n"
     ]
    }
   ],
   "source": [
    "print(a) # show the matrix form of a"
   ]
  },
  {
   "cell_type": "code",
   "execution_count": 8,
   "id": "silent-italy",
   "metadata": {},
   "outputs": [
    {
     "name": "stdout",
     "output_type": "stream",
     "text": [
      "[[0.         0.         0.         0.         0.         0.\n",
      "  0.         0.         0.        ]\n",
      " [1.         0.         0.         0.         0.         0.\n",
      "  0.         0.         0.        ]\n",
      " [0.         1.41421356 0.         0.         0.         0.\n",
      "  0.         0.         0.        ]\n",
      " [0.         0.         1.73205081 0.         0.         0.\n",
      "  0.         0.         0.        ]\n",
      " [0.         0.         0.         2.         0.         0.\n",
      "  0.         0.         0.        ]\n",
      " [0.         0.         0.         0.         2.23606798 0.\n",
      "  0.         0.         0.        ]\n",
      " [0.         0.         0.         0.         0.         2.44948974\n",
      "  0.         0.         0.        ]\n",
      " [0.         0.         0.         0.         0.         0.\n",
      "  2.64575131 0.         0.        ]\n",
      " [0.         0.         0.         0.         0.         0.\n",
      "  0.         2.82842712 0.        ]]\n"
     ]
    }
   ],
   "source": [
    "print(a.H) # the .H method of a numpy matrix is the Hermitian conjugate, what we call \"dagger\"."
   ]
  },
  {
   "cell_type": "code",
   "execution_count": 9,
   "id": "orange-front",
   "metadata": {},
   "outputs": [
    {
     "data": {
      "text/plain": [
       "matrix([[ 1.,  0.,  0.,  0.,  0.,  0.,  0.,  0.,  0.],\n",
       "        [ 0.,  1.,  0.,  0.,  0.,  0.,  0.,  0.,  0.],\n",
       "        [ 0.,  0.,  1.,  0.,  0.,  0.,  0.,  0.,  0.],\n",
       "        [ 0.,  0.,  0.,  1.,  0.,  0.,  0.,  0.,  0.],\n",
       "        [ 0.,  0.,  0.,  0.,  1.,  0.,  0.,  0.,  0.],\n",
       "        [ 0.,  0.,  0.,  0.,  0.,  1.,  0.,  0.,  0.],\n",
       "        [ 0.,  0.,  0.,  0.,  0.,  0.,  1.,  0.,  0.],\n",
       "        [ 0.,  0.,  0.,  0.,  0.,  0.,  0.,  1.,  0.],\n",
       "        [ 0.,  0.,  0.,  0.,  0.,  0.,  0.,  0., -8.]])"
      ]
     },
     "execution_count": 9,
     "metadata": {},
     "output_type": "execute_result"
    }
   ],
   "source": [
    "a*a.H-a.H*a # just checking if the commutator rule works: [a,a.H]=1\n",
    "#Should yield the identity matrix.  (Last row/column will be wrong because we are approximating.)"
   ]
  },
  {
   "cell_type": "code",
   "execution_count": 10,
   "id": "contemporary-manchester",
   "metadata": {},
   "outputs": [],
   "source": [
    "x = (a + a.H)/np.sqrt(2.) # define the position operator x"
   ]
  },
  {
   "cell_type": "code",
   "execution_count": 11,
   "id": "positive-scott",
   "metadata": {},
   "outputs": [
    {
     "name": "stdout",
     "output_type": "stream",
     "text": [
      "[[0.         0.70710678 0.         0.         0.         0.\n",
      "  0.         0.         0.        ]\n",
      " [0.70710678 0.         1.         0.         0.         0.\n",
      "  0.         0.         0.        ]\n",
      " [0.         1.         0.         1.22474487 0.         0.\n",
      "  0.         0.         0.        ]\n",
      " [0.         0.         1.22474487 0.         1.41421356 0.\n",
      "  0.         0.         0.        ]\n",
      " [0.         0.         0.         1.41421356 0.         1.58113883\n",
      "  0.         0.         0.        ]\n",
      " [0.         0.         0.         0.         1.58113883 0.\n",
      "  1.73205081 0.         0.        ]\n",
      " [0.         0.         0.         0.         0.         1.73205081\n",
      "  0.         1.87082869 0.        ]\n",
      " [0.         0.         0.         0.         0.         0.\n",
      "  1.87082869 0.         2.        ]\n",
      " [0.         0.         0.         0.         0.         0.\n",
      "  0.         2.         0.        ]]\n"
     ]
    }
   ],
   "source": [
    "print(x)"
   ]
  },
  {
   "cell_type": "code",
   "execution_count": 12,
   "id": "positive-marking",
   "metadata": {},
   "outputs": [],
   "source": [
    "p = -1.j/np.sqrt(2)*(a-a.H) # define the momentum operator p (j = sqrt(-1))"
   ]
  },
  {
   "cell_type": "code",
   "execution_count": 13,
   "id": "numerical-visibility",
   "metadata": {},
   "outputs": [],
   "source": [
    "H0 = p**2/2 + x**2/2 # Unperturbed Hamiltonian ( ** means \"power\" in python).\n",
    "# (Note * is matrix multiplication and ** is matrix power for x and p, which are np.matrix objects.)"
   ]
  },
  {
   "cell_type": "code",
   "execution_count": 14,
   "id": "advised-bunny",
   "metadata": {},
   "outputs": [],
   "source": [
    "Hprime = alpha**2/2*x**2 # perturbation to the Hamiltonian"
   ]
  },
  {
   "cell_type": "code",
   "execution_count": 15,
   "id": "engaging-shuttle",
   "metadata": {},
   "outputs": [],
   "source": [
    "H = np.real(H0 + Hprime) # full Hamiltonian (We know H is real, but python doesn't.)"
   ]
  },
  {
   "cell_type": "code",
   "execution_count": 16,
   "id": "exclusive-island",
   "metadata": {},
   "outputs": [
    {
     "name": "stdout",
     "output_type": "stream",
     "text": [
      "[[0.5225     0.         0.03181981 0.         0.         0.\n",
      "  0.         0.         0.        ]\n",
      " [0.         1.5675     0.         0.05511352 0.         0.\n",
      "  0.         0.         0.        ]\n",
      " [0.03181981 0.         2.6125     0.         0.07794229 0.\n",
      "  0.         0.         0.        ]\n",
      " [0.         0.05511352 0.         3.6575     0.         0.10062306\n",
      "  0.         0.         0.        ]\n",
      " [0.         0.         0.07794229 0.         4.7025     0.\n",
      "  0.12323758 0.         0.        ]\n",
      " [0.         0.         0.         0.10062306 0.         5.7475\n",
      "  0.         0.14581667 0.        ]\n",
      " [0.         0.         0.         0.         0.12323758 0.\n",
      "  6.7925     0.         0.16837458]\n",
      " [0.         0.         0.         0.         0.         0.14581667\n",
      "  0.         7.8375     0.        ]\n",
      " [0.         0.         0.         0.         0.         0.\n",
      "  0.16837458 0.         4.18      ]]\n"
     ]
    }
   ],
   "source": [
    "print(H)"
   ]
  },
  {
   "cell_type": "code",
   "execution_count": 17,
   "id": "daily-viewer",
   "metadata": {},
   "outputs": [],
   "source": [
    "energies, states = np.linalg.eigh(H) # calculate eigenvalues and eigenvectors"
   ]
  },
  {
   "cell_type": "code",
   "execution_count": 18,
   "id": "ordinary-spotlight",
   "metadata": {},
   "outputs": [
    {
     "name": "stdout",
     "output_type": "stream",
     "text": [
      "[0.52201533 1.56604598 2.61007661 3.65410729 4.16907582 4.69834509\n",
      " 5.74221072 6.81048716 7.84763601]\n"
     ]
    }
   ],
   "source": [
    "print(energies)"
   ]
  },
  {
   "cell_type": "code",
   "execution_count": 19,
   "id": "marked-thunder",
   "metadata": {},
   "outputs": [],
   "source": [
    "# calculate relative errors in the eigenvalues\n",
    "errors = (energies-exactEn)/exactEn"
   ]
  },
  {
   "cell_type": "code",
   "execution_count": 20,
   "id": "clean-hamburg",
   "metadata": {},
   "outputs": [
    {
     "name": "stdout",
     "output_type": "stream",
     "text": [
      "[[ 1.20707937e-17]\n",
      " [-9.99651966e-01]\n",
      " [ 4.44089210e-16]\n",
      " [ 2.63731591e-02]\n",
      " [ 2.22044605e-16]\n",
      " [-6.35162162e-04]\n",
      " [-1.38777878e-17]\n",
      " [ 1.47680631e-05]\n",
      " [ 1.11022302e-16]]\n"
     ]
    }
   ],
   "source": [
    "# show an example eigenstate vector\n",
    "print(states[:,1])"
   ]
  },
  {
   "cell_type": "code",
   "execution_count": 21,
   "id": "exposed-flooring",
   "metadata": {},
   "outputs": [
    {
     "name": "stdout",
     "output_type": "stream",
     "text": [
      "[-2.60958555e-13  6.09115976e-13 -6.29248926e-09  4.48262775e-09\n",
      " -1.12611022e-01 -1.81782105e-01 -1.53839944e-01 -1.30231518e-01\n",
      " -1.15685642e-01]\n"
     ]
    }
   ],
   "source": [
    "print(errors)"
   ]
  },
  {
   "cell_type": "code",
   "execution_count": 22,
   "id": "unlikely-limit",
   "metadata": {},
   "outputs": [],
   "source": [
    "import matplotlib.pyplot as plt"
   ]
  },
  {
   "cell_type": "code",
   "execution_count": 23,
   "id": "through-healing",
   "metadata": {},
   "outputs": [
    {
     "data": {
      "text/plain": [
       "Text(0.5, 1.0, 'Energies')"
      ]
     },
     "execution_count": 23,
     "metadata": {},
     "output_type": "execute_result"
    },
    {
     "data": {
      "image/png": "[encoded data removed]",
      "text/plain": [
       "<Figure size 640x480 with 1 Axes>"
      ]
     },
     "metadata": {},
     "output_type": "display_data"
    }
   ],
   "source": [
    "plt.bar(range(nmax+1),exactEn,label=\"Exact\")\n",
    "plt.bar(range(nmax+1),energies,label=\"Approx.\")\n",
    "plt.xlabel(\"State\")\n",
    "plt.ylabel(\"Energy\")\n",
    "plt.legend()\n",
    "plt.title(\"Energies\")"
   ]
  },
  {
   "cell_type": "code",
   "execution_count": 24,
   "id": "4a68ed58-65ca-48fc-b7d2-1fbeed69dbc8",
   "metadata": {},
   "outputs": [],
   "source": [
    "error_target = 0.001 # our comparison error level"
   ]
  },
  {
   "cell_type": "code",
   "execution_count": 25,
   "id": "ed2dcc6f-b32d-4b21-88eb-57aecbbc48d8",
   "metadata": {},
   "outputs": [
    {
     "data": {
      "text/plain": [
       "Text(0.5, 1.0, 'Energy relative errors (Energy basis, nmax=8)')"
      ]
     },
     "execution_count": 25,
     "metadata": {},
     "output_type": "execute_result"
    },
    {
     "data": {
      "image/png": "[encoded data removed]",
      "text/plain": [
       "<Figure size 640x480 with 1 Axes>"
      ]
     },
     "metadata": {},
     "output_type": "display_data"
    }
   ],
   "source": [
    "plt.bar(range(nmax+1),np.abs(errors),label=\"Energy error\") # absolute value so we can use a log scale\n",
    "plt.xlabel(\"State\")\n",
    "plt.ylabel(\"Energy relative error (log scale)\")\n",
    "plt.axhline(error_target,c='k',lw=0.5,ls=\"dashed\")\n",
    "plt.text(-0.7,error_target,\"Target\",fontsize=\"medium\",verticalalignment=\"bottom\")\n",
    "plt.yscale(\"log\")\n",
    "plt.legend()\n",
    "plt.title(f\"Energy relative errors (Energy basis, nmax={nmax})\")"
   ]
  },
  {
   "cell_type": "markdown",
   "id": "cathedral-custody",
   "metadata": {},
   "source": [
    "Notice that the errors get larger with larger n, particularly for n > nmax/2"
   ]
  },
  {
   "cell_type": "markdown",
   "id": "documentary-transparency",
   "metadata": {},
   "source": [
    "We'll define the error in the states by\n",
    "$$ \\text{State error}=  1-| \\langle true | approx \\rangle |^2 $$"
   ]
  },
  {
   "cell_type": "code",
   "execution_count": 26,
   "id": "elect-throw",
   "metadata": {},
   "outputs": [],
   "source": [
    "# the \"true\" states would be the unit vectors, so we can just pull the diagonal elements from the coefficient matrix\n",
    "# We can't use the same error target because the dimensions are not the same\n",
    "# TODO What error in the state is analogous to our energy error target?\n",
    "stateErrors = 1.-np.abs(np.diag(states))**2 "
   ]
  },
  {
   "cell_type": "code",
   "execution_count": 27,
   "id": "dangerous-anaheim",
   "metadata": {},
   "outputs": [
    {
     "data": {
      "text/plain": [
       "Text(0.5, 1.0, 'State errors (Energy basis, nmax=8)')"
      ]
     },
     "execution_count": 27,
     "metadata": {},
     "output_type": "execute_result"
    },
    {
     "data": {
      "image/png": "[encoded data removed]",
      "text/plain": [
       "<Figure size 640x480 with 1 Axes>"
      ]
     },
     "metadata": {},
     "output_type": "display_data"
    }
   ],
   "source": [
    "plt.bar(range(nmax+1),stateErrors)\n",
    "plt.xlabel(\"State\")\n",
    "plt.ylabel(\"Error\")\n",
    "plt.yscale(\"log\")\n",
    "plt.title(f\"State errors (Energy basis, nmax={nmax})\")"
   ]
  },
  {
   "cell_type": "markdown",
   "id": "cultural-savage",
   "metadata": {},
   "source": [
    "## Position basis approximation\n",
    "**Numerical solution to the 1-dimensional Time Independent Schrödinger Equation**\n",
    "\n",
    "Based on the paper \"Matrix Numerov method for solving Schrödinger's equation\" by Mohandas Pillai, Joshua Goglio, and Thad G. Walker, _American Journal of Physics_ **80** (11), 1017 (2012).  [doi:10.1119/1.4748813](http://dx.doi.org/10.1119/1.4748813)\n"
   ]
  },
  {
   "cell_type": "code",
   "execution_count": 28,
   "id": "improved-general",
   "metadata": {},
   "outputs": [],
   "source": [
    "autoscale = False # set this equal to true to use Pillai's recommended step sizes"
   ]
  },
  {
   "cell_type": "code",
   "execution_count": 29,
   "id": "spread-midwest",
   "metadata": {
    "lines_to_next_cell": 2
   },
   "outputs": [],
   "source": [
    "# values of constants\n",
    "hbar = 1.0\n",
    "mass = 1.0 # changing the mass will also change the energy scale\n",
    "omega = 1.0"
   ]
  },
  {
   "cell_type": "code",
   "execution_count": 30,
   "id": "stuck-saver",
   "metadata": {},
   "outputs": [],
   "source": [
    "# bounds (These are overwritten if autoscale=True)\n",
    "xmin = -5.0 # lower bound of position\n",
    "xmax = 5.0 # upper bound of position\n",
    "n = 100 # number of steps (may be overwritten if autoscale == True)\n",
    "dx = (xmax-xmin)/(n-1)"
   ]
  },
  {
   "cell_type": "code",
   "execution_count": 31,
   "id": "fifteen-vanilla",
   "metadata": {},
   "outputs": [],
   "source": [
    "# the function V is the potential energy function\n",
    "def V(x):\n",
    "    # make sure there is no division by zero\n",
    "    # this also needs to be a \"vectorizable\" function\n",
    "    # uncomment one of the examples below, or write your own.\n",
    "    return 0.5*mass*omega**2*x*x # harmonic oscillator\n",
    "    \n"
   ]
  },
  {
   "cell_type": "code",
   "execution_count": 32,
   "id": "statewide-louisiana",
   "metadata": {},
   "outputs": [],
   "source": [
    "if (autoscale): \n",
    "    #Emax is the maximum energy for which to check for eigenvalues\n",
    "    Emax = 20.0\n",
    "    #The next lines make some reasonable choices for the position grid size and spacing\n",
    "    xt = opt.brentq(lambda x: V(x)-Emax ,0,5*Emax) #classical turning point\n",
    "    dx = 1.0/np.sqrt(2*Emax) #step size\n",
    "    # bounds and number of steps\n",
    "    n = np.int(0.5+2*(xt/dx + 4.0*np.pi)) #number of steps\n",
    "    xmin = -dx*(n+1)/2 \n",
    "    xmax = dx*(n+1)/2"
   ]
  },
  {
   "cell_type": "code",
   "execution_count": 33,
   "id": "sized-intranet",
   "metadata": {},
   "outputs": [
    {
     "data": {
      "text/plain": [
       "(-5.0, 5.0, 100)"
      ]
     },
     "execution_count": 33,
     "metadata": {},
     "output_type": "execute_result"
    }
   ],
   "source": [
    "xmin, xmax, n #show the limits and number of steps"
   ]
  },
  {
   "cell_type": "code",
   "execution_count": 34,
   "id": "fabulous-charger",
   "metadata": {},
   "outputs": [],
   "source": [
    "#define the x coordinates\n",
    "x = np.linspace(xmin,xmax,n)"
   ]
  },
  {
   "cell_type": "code",
   "execution_count": 35,
   "id": "assisted-priority",
   "metadata": {},
   "outputs": [],
   "source": [
    "#define the numerov matrices\n",
    "B = np.matrix((np.eye(n,k=-1)+10.0*np.eye(n,k=0)+np.eye(n,k=1))/12.0)\n",
    "A = np.matrix((np.eye(n,k=-1)-2.0*np.eye(n,k=0)+np.eye(n,k=1))/(dx**2))"
   ]
  },
  {
   "cell_type": "code",
   "execution_count": 36,
   "id": "arranged-nature",
   "metadata": {},
   "outputs": [],
   "source": [
    "#calculate kinetic energy operator using Numerov's approximation\n",
    "KE = -0.5*hbar**2/mass*B.I*A"
   ]
  },
  {
   "cell_type": "code",
   "execution_count": 37,
   "id": "handy-circle",
   "metadata": {},
   "outputs": [],
   "source": [
    "#calculate hamiltonian operator approximation\n",
    "H = KE + np.diag(V(x))"
   ]
  },
  {
   "cell_type": "code",
   "execution_count": 38,
   "id": "scenic-twist",
   "metadata": {},
   "outputs": [],
   "source": [
    "#Calculate eigenvalues and eigenvectors of H\n",
    "energies, wavefunctions = np.linalg.eigh(H) # \"wavefunctions\" is a matrix with one eigenvector in each column."
   ]
  },
  {
   "cell_type": "code",
   "execution_count": 39,
   "id": "radical-sequence",
   "metadata": {},
   "outputs": [
    {
     "data": {
      "text/plain": [
       "array([  0.49999959,   1.49999715,   2.49998984,   3.49997482,\n",
       "         4.49995293,   5.49995153,   6.50014214,   7.50129661,\n",
       "         8.50607825,   9.52150074,  10.56141767,  11.64604745,\n",
       "        12.79708967,  14.03179647,  15.36046274,  16.78765495,\n",
       "        18.31462584,  19.94114087,  21.66644546,  23.48967816,\n",
       "        25.41001613,  27.42670997,  29.53907833,  31.74649046,\n",
       "        34.04834693,  36.44406207,  38.93304868,  41.51470496,\n",
       "        44.18840319,  46.95347979,  49.80922647,  52.75488201,\n",
       "        55.7896247 ,  58.91256508,  62.12273897,  65.41910068,\n",
       "        68.80051628,  72.26575701,  75.81349263,  79.44228487,\n",
       "        83.15058079,  86.93670626,  90.79885933,  94.73510369,\n",
       "        98.74336215, 102.8214102 , 106.96686956, 111.17720203,\n",
       "       115.4497033 , 119.78149707, 124.16952936, 128.61056316,\n",
       "       133.10117332, 137.63774192, 142.21645406, 146.83329415,\n",
       "       151.48404277, 156.16427421, 160.86935467, 165.59444129,\n",
       "       170.33448199, 175.08421624, 179.83817686, 184.59069278,\n",
       "       189.33589301, 194.06771177, 198.77989479, 203.46600697,\n",
       "       208.1194413 , 212.73342912, 217.30105171, 221.81525326,\n",
       "       226.26885512, 230.65457125, 234.96502493, 239.19276637,\n",
       "       243.3302913 , 247.37006004, 251.30451686, 255.12610911,\n",
       "       258.82730543, 262.40061208, 265.83858612, 269.13384327,\n",
       "       272.27905738, 275.26694657, 278.09023772, 280.74159516,\n",
       "       283.21348744, 285.49794108, 287.5860726 , 289.46708686,\n",
       "       291.12733678, 292.52000407, 293.79198764, 294.23037647,\n",
       "       296.4085974 , 296.41538741, 300.43135346, 300.4313561 ])"
      ]
     },
     "execution_count": 39,
     "metadata": {},
     "output_type": "execute_result"
    }
   ],
   "source": [
    "energies #display the lowest four energies"
   ]
  },
  {
   "cell_type": "code",
   "execution_count": 40,
   "id": "3b5444b8-25aa-4ebd-92a9-e63fb8f129cf",
   "metadata": {},
   "outputs": [],
   "source": [
    "energy_errors_positionbasis = (energies-exact_energy(np.array(range(n)),alpha))/exact_energy(np.array(range(n)),alpha)"
   ]
  },
  {
   "cell_type": "code",
   "execution_count": 41,
   "id": "8efb34d7-519c-48b6-9cd9-1f7d814cdfef",
   "metadata": {},
   "outputs": [],
   "source": [
    "n_target = 4 # particular state we're interested in"
   ]
  },
  {
   "cell_type": "code",
   "execution_count": 64,
   "id": "8dc15f82-02d7-4304-b2b4-54d3b6b48d77",
   "metadata": {},
   "outputs": [
    {
     "data": {
      "text/plain": [
       "Text(0.5, 1.0, 'Energy relative errors (Energy basis, n=100, α=0.3)')"
      ]
     },
     "execution_count": 64,
     "metadata": {},
     "output_type": "execute_result"
    },
    {
     "data": {
      "image/png": "[encoded data removed]",
      "text/plain": [
       "<Figure size 640x480 with 1 Axes>"
      ]
     },
     "metadata": {},
     "output_type": "display_data"
    }
   ],
   "source": [
    "plot_max_n = 40 # limit the plot range to the lowest states\n",
    "plt.plot(range(n),np.abs(energy_errors_positionbasis),'b.',mfc='none',label=\"Energy error\")\n",
    "plt.plot(n_target, np.abs(energy_errors_positionbasis[n_target]),'r.',label=f\"n={n_target}\")\n",
    "plt.xlabel(\"State\")\n",
    "plt.ylabel(\"Energy error (log scale)\")\n",
    "plt.xlim(-0.5,plot_max_n)\n",
    "plt.axhline(error_target,c='k',lw=0.5,ls=\"dashed\")\n",
    "plt.text(-0.7,error_target,\"Target\",fontsize=\"medium\",verticalalignment=\"bottom\")\n",
    "plt.yscale(\"log\")\n",
    "plt.legend()\n",
    "plt.title(f\"Energy relative errors (Energy basis, n={n}, α={alpha})\")"
   ]
  },
  {
   "cell_type": "code",
   "execution_count": 45,
   "id": "dutch-jaguar",
   "metadata": {},
   "outputs": [
    {
     "data": {
      "image/png": "[encoded data removed]",
      "text/plain": [
       "<Figure size 640x480 with 1 Axes>"
      ]
     },
     "metadata": {},
     "output_type": "display_data"
    }
   ],
   "source": [
    "number = np.arange(6) #which wavefunctions to plot, starting counting from zero\n",
    "zoom = 3.0 # zoom factor for plotting the wavefunctions to make them more visible\n",
    "plt.plot(x,V(x),'-k',label=\"V(x)\") # plot the potential\n",
    "for num in number:\n",
    "    plt.plot(x,zoom*wavefunctions[:,num]+energies[num],label=num) #plot the num-th wavefunction\n",
    "    plt.hlines(energies[num],-5,5,color=\"black\",linewidth=0.5)\n",
    "plt.ylim(-1,10); # set limits of vertical axis for plot\n",
    "plt.xlim(-5,5); # set limits of horizontal axis for plot\n",
    "#plt.legend(loc=\"lower center\");\n",
    "plt.xlabel(\"x\");\n",
    "plt.ylabel(\"Energy, ϕ\");"
   ]
  },
  {
   "cell_type": "code",
   "execution_count": null,
   "id": "undefined-listing",
   "metadata": {},
   "outputs": [],
   "source": []
  }
 ],
 "metadata": {
  "jupytext": {
   "encoding": "# -*- coding: utf-8 -*-",
   "formats": "ipynb"
  },
  "kernelspec": {
   "display_name": "Python [conda env:phys175]",
   "language": "python",
   "name": "conda-env-phys175-py"
  },
  "language_info": {
   "codemirror_mode": {
    "name": "ipython",
    "version": 3
   },
   "file_extension": ".py",
   "mimetype": "text/x-python",
   "name": "python",
   "nbconvert_exporter": "python",
   "pygments_lexer": "ipython3",
   "version": "3.10.9"
  }
 },
 "nbformat": 4,
 "nbformat_minor": 5
}
