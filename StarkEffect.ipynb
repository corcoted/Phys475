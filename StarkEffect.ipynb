{
 "cells": [
  {
   "cell_type": "markdown",
   "metadata": {},
   "source": [
    "# Stark effect calculations\n",
    "Demonstrate the calculation of the Stark effect for the lowest few states of hydrogen, and the resulting UV/VIS spectrum"
   ]
  },
  {
   "cell_type": "code",
   "execution_count": 21,
   "metadata": {
    "ExecuteTime": {
     "end_time": "2019-03-07T19:40:43.262685Z",
     "start_time": "2019-03-07T19:40:43.257691Z"
    }
   },
   "outputs": [],
   "source": [
    "from sympy import * # use sympy math library\n",
    "init_printing()"
   ]
  },
  {
   "cell_type": "code",
   "execution_count": 22,
   "metadata": {
    "ExecuteTime": {
     "end_time": "2019-03-07T19:40:43.299663Z",
     "start_time": "2019-03-07T19:40:43.267684Z"
    }
   },
   "outputs": [],
   "source": [
    "n, l, m = symbols('n, l, m', integer=True)"
   ]
  },
  {
   "cell_type": "code",
   "execution_count": 23,
   "metadata": {
    "ExecuteTime": {
     "end_time": "2019-03-07T19:40:43.330643Z",
     "start_time": "2019-03-07T19:40:43.305658Z"
    }
   },
   "outputs": [],
   "source": [
    "n_max = 3 # highest value of n to use in the calculation"
   ]
  },
  {
   "cell_type": "code",
   "execution_count": 24,
   "metadata": {
    "ExecuteTime": {
     "end_time": "2019-03-07T19:40:43.362623Z",
     "start_time": "2019-03-07T19:40:43.336639Z"
    }
   },
   "outputs": [],
   "source": [
    "from sympy.physics.hydrogen import *"
   ]
  },
  {
   "cell_type": "code",
   "execution_count": 25,
   "metadata": {
    "ExecuteTime": {
     "end_time": "2019-03-07T19:40:43.390607Z",
     "start_time": "2019-03-07T19:40:43.365625Z"
    }
   },
   "outputs": [],
   "source": [
    "r, th, ph = symbols('r, th, ph')"
   ]
  },
  {
   "cell_type": "code",
   "execution_count": 26,
   "metadata": {
    "ExecuteTime": {
     "end_time": "2019-03-07T19:40:43.419732Z",
     "start_time": "2019-03-07T19:40:43.398602Z"
    }
   },
   "outputs": [],
   "source": [
    "n, l, m = symbols('n,l,m')"
   ]
  },
  {
   "cell_type": "code",
   "execution_count": 27,
   "metadata": {
    "ExecuteTime": {
     "end_time": "2019-03-07T19:40:49.487639Z",
     "start_time": "2019-03-07T19:40:43.421729Z"
    }
   },
   "outputs": [
    {
     "data": {
      "image/png": "[encoded data removed]",
      "text/latex": [
       "$$- 3 \\sqrt{3}$$"
      ],
      "text/plain": [
       "-3⋅√3"
      ]
     },
     "execution_count": 27,
     "metadata": {},
     "output_type": "execute_result"
    }
   ],
   "source": [
    "integrate(Psi_nlm(3,2,0,r,ph,th)*r*cos(th)*Psi_nlm(3,1,0,r,ph,th)*r**2*sin(th),(ph,0,2*pi),(th,0,pi),(r,0,oo))"
   ]
  },
  {
   "cell_type": "code",
   "execution_count": 28,
   "metadata": {
    "ExecuteTime": {
     "end_time": "2019-03-07T19:40:51.209388Z",
     "start_time": "2019-03-07T19:40:49.492634Z"
    }
   },
   "outputs": [
    {
     "data": {
      "image/png": "[encoded data removed]",
      "text/latex": [
       "$$- 3 \\sqrt{6}$$"
      ],
      "text/plain": [
       "-3⋅√6"
      ]
     },
     "execution_count": 28,
     "metadata": {},
     "output_type": "execute_result"
    }
   ],
   "source": [
    "integrate(Psi_nlm(3,1,0,r,ph,th)*r*cos(th)*Psi_nlm(3,0,0,r,ph,th)*r**2*sin(th),(ph,0,2*pi),(th,0,pi),(r,0,oo))"
   ]
  },
  {
   "cell_type": "markdown",
   "metadata": {},
   "source": [
    "Using the rule $Y_{\\ell,m}^* = -Y_{\\ell,-m} $:"
   ]
  },
  {
   "cell_type": "code",
   "execution_count": 29,
   "metadata": {
    "ExecuteTime": {
     "end_time": "2019-03-07T19:40:53.141121Z",
     "start_time": "2019-03-07T19:40:51.221379Z"
    }
   },
   "outputs": [
    {
     "data": {
      "image/png": "[encoded data removed]",
      "text/latex": [
       "$$- \\frac{9}{2}$$"
      ],
      "text/plain": [
       "-9/2"
      ]
     },
     "execution_count": 29,
     "metadata": {},
     "output_type": "execute_result"
    }
   ],
   "source": [
    "integrate(-Psi_nlm(3,2,-1,r,ph,th)*r*cos(th)*Psi_nlm(3,1,1,r,ph,th)*r**2*sin(th),(ph,0,2*pi),(th,0,pi),(r,0,oo))"
   ]
  },
  {
   "cell_type": "code",
   "execution_count": 30,
   "metadata": {
    "ExecuteTime": {
     "end_time": "2019-03-07T19:40:54.867085Z",
     "start_time": "2019-03-07T19:40:53.147116Z"
    }
   },
   "outputs": [
    {
     "data": {
      "image/png": "[encoded data removed]",
      "text/latex": [
       "$$- \\frac{9}{2}$$"
      ],
      "text/plain": [
       "-9/2"
      ]
     },
     "execution_count": 30,
     "metadata": {},
     "output_type": "execute_result"
    }
   ],
   "source": [
    "integrate(-Psi_nlm(3,2,1,r,ph,th)*r*cos(th)*Psi_nlm(3,1,-1,r,ph,th)*r**2*sin(th),(ph,0,2*pi),(th,0,pi),(r,0,oo))"
   ]
  },
  {
   "cell_type": "code",
   "execution_count": null,
   "metadata": {},
   "outputs": [],
   "source": []
  }
 ],
 "metadata": {
  "kernelspec": {
   "display_name": "Python 3",
   "language": "python",
   "name": "python3"
  },
  "language_info": {
   "codemirror_mode": {
    "name": "ipython",
    "version": 3
   },
   "file_extension": ".py",
   "mimetype": "text/x-python",
   "name": "python",
   "nbconvert_exporter": "python",
   "pygments_lexer": "ipython3",
   "version": "3.7.1"
  },
  "varInspector": {
   "cols": {
    "lenName": 16,
    "lenType": 16,
    "lenVar": 40
   },
   "kernels_config": {
    "python": {
     "delete_cmd_postfix": "",
     "delete_cmd_prefix": "del ",
     "library": "var_list.py",
     "varRefreshCmd": "print(var_dic_list())"
    },
    "r": {
     "delete_cmd_postfix": ") ",
     "delete_cmd_prefix": "rm(",
     "library": "var_list.r",
     "varRefreshCmd": "cat(var_dic_list()) "
    }
   },
   "types_to_exclude": [
    "module",
    "function",
    "builtin_function_or_method",
    "instance",
    "_Feature"
   ],
   "window_display": false
  }
 },
 "nbformat": 4,
 "nbformat_minor": 2
}
