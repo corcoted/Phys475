{
 "cells": [
  {
   "cell_type": "markdown",
   "metadata": {},
   "source": [
    "# Numerical solution to the 1-dimensional Time Independent Schroedinger Equation\n",
    "Based on the paper \"Matrix Numerov method for solving Schroedinger's equation\" by Mohandas Pillai, Joshua Goglio, and Thad G. Walker, _American Journal of Physics_ **80** (11), 1017 (2012).  [doi:10.1119/1.4748813](http://dx.doi.org/10.1119/1.4748813)\n",
    "\n",
    "## Variational method\n",
    "Using the Numerov approximation for the kinetic energy operator to calculate the expectation value of energy of a trial wavefunction.  From here, the energy may be minimized to find a variational solution.  Plot the ground state of this solution and the \"true\" solution, and compare their energies.\n"
   ]
  },
  {
   "cell_type": "code",
   "execution_count": 1,
   "metadata": {
    "ExecuteTime": {
     "end_time": "2019-01-18T21:41:04.379434Z",
     "start_time": "2019-01-18T21:41:04.370438Z"
    }
   },
   "outputs": [],
   "source": [
    "# import some needed libraries\n",
    "import numpy as np\n",
    "import matplotlib.pyplot as plt\n",
    "import scipy.optimize as opt\n",
    "%matplotlib inline"
   ]
  },
  {
   "cell_type": "code",
   "execution_count": 2,
   "metadata": {
    "tags": []
   },
   "outputs": [],
   "source": [
    "#import timeit # for timing the execution"
   ]
  },
  {
   "cell_type": "code",
   "execution_count": 3,
   "metadata": {
    "ExecuteTime": {
     "end_time": "2019-01-18T21:41:04.395425Z",
     "start_time": "2019-01-18T21:41:04.384430Z"
    }
   },
   "outputs": [],
   "source": [
    "autoscale = False # set this equal to true to use Pillai's recommended step sizes"
   ]
  },
  {
   "cell_type": "markdown",
   "metadata": {},
   "source": [
    "This example is the finite square well.\n",
    "\n",
    "Using units such that &hbar;, *m*, and *a* are one."
   ]
  },
  {
   "cell_type": "code",
   "execution_count": 4,
   "metadata": {
    "ExecuteTime": {
     "end_time": "2019-01-18T21:41:04.429402Z",
     "start_time": "2019-01-18T21:41:04.399421Z"
    },
    "lines_to_next_cell": 2
   },
   "outputs": [],
   "source": [
    "# values of constants\n",
    "hbar = 1.0\n",
    "mass = 1.0 # changing the mass will also change the energy scale\n",
    "a = 1.0 # half width of the well (called a in the homework)\n",
    "V0 = 18.0*np.sqrt(hbar/mass)/a**2"
   ]
  },
  {
   "cell_type": "markdown",
   "metadata": {
    "tags": []
   },
   "source": [
    "## Exact solution\n",
    "Following McIntyre section 5.5, the exact energy must be found by solving a transcendental equation. We first define the dimensionless parameter\n",
    "\n",
    "$$\n",
    "z_0 = \\sqrt{\\frac{2mV_0a^2}{\\hbar^2}}.\n",
    "$$\n",
    "\n",
    "Then, we solve the equations\n",
    "$$\n",
    "z \\tan z = \\sqrt{z_0^2 -z^2}\\qquad\\text{and}\\qquad -z \\cot z = \\sqrt{z_0^2 -z^2},\n",
    "$$\n",
    "for all of the possible values of $z$."
   ]
  },
  {
   "cell_type": "markdown",
   "metadata": {},
   "source": [
    "For this problem, we only need the ground state, which will be given by the lowest $z$ value of the tangent equation."
   ]
  },
  {
   "cell_type": "code",
   "execution_count": 21,
   "metadata": {
    "tags": []
   },
   "outputs": [
    {
     "name": "stdout",
     "output_type": "stream",
     "text": [
      "6.0\n"
     ]
    }
   ],
   "source": [
    "z0 = np.sqrt(2*mass*V0)*a/hbar\n",
    "print(z0)"
   ]
  },
  {
   "cell_type": "code",
   "execution_count": 25,
   "metadata": {
    "tags": []
   },
   "outputs": [
    {
     "name": "stdout",
     "output_type": "stream",
     "text": [
      "1.344751045375789\n"
     ]
    }
   ],
   "source": [
    "#solve for z.  We know that the first solution must be in the range [0,π/2].\n",
    "z_solution = opt.root_scalar(lambda z: z*np.tan(z)-np.sqrt(z0**2-z**2), bracket=(0,np.pi/2))\n",
    "\n",
    "z=z_solution.root\n",
    "print(z)"
   ]
  },
  {
   "cell_type": "markdown",
   "metadata": {},
   "source": [
    "Now that we know $z$, we can calculate energy and the exact wavefunction.\n",
    "\n",
    "$$\n",
    "z = \\sqrt{\\frac{2mEa^2}{\\hbar^2}} \\qquad \\rightarrow \\qquad E=\\frac{\\hbar^2}{2ma^2}\\,z^2.\n",
    "$$"
   ]
  },
  {
   "cell_type": "code",
   "execution_count": 26,
   "metadata": {
    "tags": []
   },
   "outputs": [
    {
     "name": "stdout",
     "output_type": "stream",
     "text": [
      "0.9041776870196385\n"
     ]
    }
   ],
   "source": [
    "E_exact = (z*hbar/a)**2/2/mass\n",
    "print(E_exact)"
   ]
  },
  {
   "cell_type": "markdown",
   "metadata": {},
   "source": [
    "We need four parameters for the wavefunction:\n",
    "$$\n",
    "k = \\frac{z}{a},\\qquad q=\\frac{\\sqrt{z_0^2-z^2}}{a}. %k^2+q^2 = (z_0/a)^2\n",
    "$$\n",
    "Putting off normalization:\n",
    "$$ D = 1,\\qquad A=e^{qa}\\cos(ka) =e^{\\sqrt{z_0^2-z^2}} \\cos z $$"
   ]
  },
  {
   "cell_type": "code",
   "execution_count": 30,
   "metadata": {
    "tags": []
   },
   "outputs": [
    {
     "name": "stdout",
     "output_type": "stream",
     "text": [
      "k=1.3448, q=5.8474, D=1.0000, A=77.6190\n"
     ]
    }
   ],
   "source": [
    "k_exact = z/a\n",
    "q_exact = np.sqrt(z0**2-z**2)/a\n",
    "D_exact = 1.\n",
    "A_exact = np.exp(np.sqrt(z0**2-z**2))*np.cos(z)\n",
    "print(f\"k={k_exact:.4f}, q={q_exact:.4f}, D={D_exact:.4f}, A={A_exact:.4f}\")"
   ]
  },
  {
   "cell_type": "code",
   "execution_count": 53,
   "metadata": {
    "tags": []
   },
   "outputs": [],
   "source": [
    "def psi_exact(x):\n",
    "    # This is a long way to write the function, but it is clearer than the standard ways\n",
    "    # normalized (did integral by hand - need to check)\n",
    "    norm = 1/np.sqrt(a*(1+np.sin(2*z)/(2*z)+np.cos(z)**2/np.sqrt(z0**2-z**2)))\n",
    "    # The booleans are zero except when true\n",
    "    return norm*(((x<-1) * (A_exact*np.exp(q_exact*x))+\n",
    "           ((x>=-1) * (x<=1)) * (D_exact*np.cos(k_exact*x))+\n",
    "           (x>1) * (A_exact*np.exp(-q_exact*x))))"
   ]
  },
  {
   "cell_type": "code",
   "execution_count": 54,
   "metadata": {
    "tags": []
   },
   "outputs": [
    {
     "data": {
      "text/plain": [
       "[<matplotlib.lines.Line2D at 0x7f78126c8640>]"
      ]
     },
     "execution_count": 54,
     "metadata": {},
     "output_type": "execute_result"
    },
    {
     "data": {
      "image/png": "[encoded data removed]",
      "text/plain": [
       "<Figure size 640x480 with 1 Axes>"
      ]
     },
     "metadata": {},
     "output_type": "display_data"
    }
   ],
   "source": [
    "plt.plot(np.linspace(-3,3,101),psi_exact(np.linspace(-3,3,101)))"
   ]
  },
  {
   "cell_type": "markdown",
   "metadata": {},
   "source": [
    "## Numerov method\n",
    "The second solution is a discrete position basis matrix approximation using Numerov's approximation for the kinetic energy.  (See paper cited above.)  After calculating the approximate Hamiltonian as a matrix, the approximate eigenstates and energies are found by diagonalizing the Hamiltonian.\n",
    "\n",
    "We'll also reuse the Hamiltonian from the Numerov method to calculate our variational energies in the next section."
   ]
  },
  {
   "cell_type": "code",
   "execution_count": 55,
   "metadata": {
    "ExecuteTime": {
     "end_time": "2019-01-18T21:41:04.453387Z",
     "start_time": "2019-01-18T21:41:04.437398Z"
    }
   },
   "outputs": [],
   "source": [
    "# bounds (These are overwritten if autoscale=True)\n",
    "xmin = -5.*a # lower bound of position\n",
    "xmax = 5*a # upper bound of position\n",
    "n = 200 # number of steps (may be overwritten if autoscale == True)\n",
    "dx = (xmax-xmin)/(n-1)"
   ]
  },
  {
   "cell_type": "code",
   "execution_count": 56,
   "metadata": {
    "ExecuteTime": {
     "end_time": "2019-01-18T21:41:04.478372Z",
     "start_time": "2019-01-18T21:41:04.460383Z"
    }
   },
   "outputs": [],
   "source": [
    "# the function V is the potential energy function\n",
    "def V(x):\n",
    "    # make sure there is no division by zero\n",
    "    # this also needs to be a \"vectorizable\" function\n",
    "    # uncomment one of the examples below, or write your own.\n",
    "    #return 0.5*mass*omega**2*x*x # harmonic oscillator\n",
    "    return np.piecewise(x, [np.abs(x)<= a, np.abs(x)>a],[0.0,V0])\n",
    "    \n"
   ]
  },
  {
   "cell_type": "code",
   "execution_count": 57,
   "metadata": {
    "ExecuteTime": {
     "end_time": "2019-01-18T21:41:04.504357Z",
     "start_time": "2019-01-18T21:41:04.481371Z"
    }
   },
   "outputs": [],
   "source": [
    "if (autoscale): \n",
    "    # set autoscale=True to use the scalings recommended by Pillai et al.\n",
    "    #Emax is the maximum energy for which to check for eigenvalues\n",
    "    Emax = 20.0\n",
    "    #The next lines make some reasonable choices for the position grid size and spacing\n",
    "    xt = opt.brentq(lambda x: V(x)-Emax ,0,5*Emax) #classical turning point\n",
    "    dx = 1.0/np.sqrt(2*Emax) #step size\n",
    "    # bounds and number of steps\n",
    "    n = np.int(0.5+2*(xt/dx + 4.0*np.pi)) #number of steps\n",
    "    xmin = -dx*(n+1)/2 \n",
    "    xmax = dx*(n+1)/2"
   ]
  },
  {
   "cell_type": "code",
   "execution_count": 58,
   "metadata": {
    "ExecuteTime": {
     "end_time": "2019-01-18T21:41:04.534338Z",
     "start_time": "2019-01-18T21:41:04.510353Z"
    }
   },
   "outputs": [
    {
     "data": {
      "text/plain": [
       "(-5.0, 5.0, 200)"
      ]
     },
     "execution_count": 58,
     "metadata": {},
     "output_type": "execute_result"
    }
   ],
   "source": [
    "xmin, xmax, n #show the limits and number of steps"
   ]
  },
  {
   "cell_type": "code",
   "execution_count": 59,
   "metadata": {
    "ExecuteTime": {
     "end_time": "2019-01-18T21:41:04.553327Z",
     "start_time": "2019-01-18T21:41:04.539335Z"
    }
   },
   "outputs": [],
   "source": [
    "#define the x coordinates\n",
    "x = np.linspace(xmin,xmax,n)"
   ]
  },
  {
   "cell_type": "code",
   "execution_count": 60,
   "metadata": {
    "ExecuteTime": {
     "end_time": "2019-01-18T21:41:04.594301Z",
     "start_time": "2019-01-18T21:41:04.557326Z"
    }
   },
   "outputs": [],
   "source": [
    "#define the numerov matrices\n",
    "B = np.matrix((np.eye(n,k=-1)+10.0*np.eye(n,k=0)+np.eye(n,k=1))/12.0)\n",
    "A = np.matrix((np.eye(n,k=-1)-2.0*np.eye(n,k=0)+np.eye(n,k=1))/(dx**2))"
   ]
  },
  {
   "cell_type": "code",
   "execution_count": 61,
   "metadata": {
    "ExecuteTime": {
     "end_time": "2019-01-18T21:41:04.626280Z",
     "start_time": "2019-01-18T21:41:04.597299Z"
    }
   },
   "outputs": [],
   "source": [
    "#calculate kinetic energy operator using Numerov's approximation\n",
    "KE = -0.5*hbar**2/mass*B.I*A"
   ]
  },
  {
   "cell_type": "code",
   "execution_count": 62,
   "metadata": {
    "ExecuteTime": {
     "end_time": "2019-01-18T21:41:04.640278Z",
     "start_time": "2019-01-18T21:41:04.632279Z"
    }
   },
   "outputs": [],
   "source": [
    "#calculate hamiltonian operator approximation\n",
    "H = KE + np.diag(V(x))"
   ]
  },
  {
   "cell_type": "code",
   "execution_count": 63,
   "metadata": {
    "ExecuteTime": {
     "end_time": "2019-01-18T21:41:04.700235Z",
     "start_time": "2019-01-18T21:41:04.647268Z"
    }
   },
   "outputs": [],
   "source": [
    "#Calculate eigenvalues and eigenvectors of H\n",
    "energies, wavefunctions = np.linalg.eigh(H) # \"wavefunctions\" is a matrix with one eigenvector in each column."
   ]
  },
  {
   "cell_type": "markdown",
   "metadata": {},
   "source": [
    "For comparison, the eigenvalue calculation took 3.3s for _n_ = 500."
   ]
  },
  {
   "cell_type": "code",
   "execution_count": 64,
   "metadata": {
    "ExecuteTime": {
     "end_time": "2019-01-18T21:41:04.715226Z",
     "start_time": "2019-01-18T21:41:04.704233Z"
    },
    "tags": []
   },
   "outputs": [],
   "source": [
    "true_gs_energy = energies[0]"
   ]
  },
  {
   "cell_type": "markdown",
   "metadata": {},
   "source": [
    "## Variational approximation\n",
    "Here we reuse the Hamiltonian matrix from above, but we use it to calculate the approximate energy expectation values for our trial wavefunctions.  Then we adjust the trial wavefunctions to minimize the energy expectation value."
   ]
  },
  {
   "cell_type": "code",
   "execution_count": 65,
   "metadata": {},
   "outputs": [],
   "source": [
    "# rectangle function for making it easier to write our trial wavefunctions\n",
    "def rectangle(x,a):\n",
    "    '''rectangle is one for -a<x<a and zero otherwise'''\n",
    "    return np.heaviside(x+a,0)-np.heaviside(x-a,0)"
   ]
  },
  {
   "cell_type": "code",
   "execution_count": 66,
   "metadata": {},
   "outputs": [],
   "source": [
    "#trial wavefunction\n",
    "def psi(b=1.0):\n",
    "    '''Wavefunction as a function of position x.\n",
    "    The variable b is the parameter that we tune to minimize the energy.'''\n",
    "    # Note, normalization is calculated below.\n",
    "    psi_unnorm = np.exp(-x**2*b) # gaussian\n",
    "    #psi_unnorm = np.cos(b*np.pi*x/2.0)*rectangle(x,1.0/b)# cosine piece\n",
    "    #psi_unnorm = np.cos(b*np.pi*x/2.0)**2*rectangle(x,1.0/b)# cosine-squared piece\n",
    "    norm = 1.0/np.sqrt(np.dot(psi_unnorm,psi_unnorm))\n",
    "    return norm*psi_unnorm\n",
    "\n",
    "#limits on b (to help the minimization function)\n",
    "bmin = 0.1\n",
    "bmax = 10."
   ]
  },
  {
   "cell_type": "code",
   "execution_count": 67,
   "metadata": {
    "tags": []
   },
   "outputs": [],
   "source": [
    "def ev(psi):\n",
    "    '''Calculate expectation value of energy'''\n",
    "    return np.dot(np.dot(psi,H),psi)[0,0]"
   ]
  },
  {
   "cell_type": "code",
   "execution_count": 68,
   "metadata": {
    "lines_to_next_cell": 2,
    "tags": []
   },
   "outputs": [],
   "source": [
    "# minimize expectation value with respect to b\n",
    "result=opt.minimize_scalar(lambda b: ev(psi(b)),(bmin,bmax))"
   ]
  },
  {
   "cell_type": "markdown",
   "metadata": {},
   "source": [
    "For comparison, the variational calculation took 0.3s with _n_=500."
   ]
  },
  {
   "cell_type": "code",
   "execution_count": 69,
   "metadata": {
    "tags": []
   },
   "outputs": [
    {
     "name": "stdout",
     "output_type": "stream",
     "text": [
      "The value of b is 1.5544, with an energy of 0.9959, compared to the energy from the Numerov diagonalization of 0.8946.\n"
     ]
    }
   ],
   "source": [
    "print(f\"The value of b is {result.x:.4f}, with an energy of {result.fun:.4f}, compared to the energy from the Numerov diagonalization of {true_gs_energy:.4f}.\")"
   ]
  },
  {
   "cell_type": "code",
   "execution_count": 72,
   "metadata": {
    "ExecuteTime": {
     "end_time": "2019-01-18T21:41:42.346083Z",
     "start_time": "2019-01-18T21:41:41.669500Z"
    }
   },
   "outputs": [
    {
     "data": {
      "image/png": "[encoded data removed]",
      "text/plain": [
       "<Figure size 640x480 with 1 Axes>"
      ]
     },
     "metadata": {},
     "output_type": "display_data"
    }
   ],
   "source": [
    "zoom = 3.0 # zoom factor for wavefunctions to make them more visible\n",
    "plt.plot(x,V(x),'-k',label=\"V(x)\") # plot the potential\n",
    "plt.plot(x,psi_exact(x)+E_exact,label=\"Exact\")\n",
    "plt.plot(x,zoom*np.sign(wavefunctions[n//2,0])*wavefunctions[:,0]+energies[0],label=\"Numerov\") #plot the num-th wavefunction\n",
    "plt.plot(x,zoom*psi(result.x)+result.fun,label=\"variational\") # plot the variational wavefunction\n",
    "plt.ylim(-1,3); # set limits of vertical axis for plot\n",
    "plt.xlim(-3,3); # set limits of horizontal axis for plot\n",
    "plt.legend();\n",
    "plt.xlabel(\"x\");\n",
    "plt.ylabel(\"Energy\");"
   ]
  },
  {
   "cell_type": "code",
   "execution_count": null,
   "metadata": {},
   "outputs": [],
   "source": []
  }
 ],
 "metadata": {
  "jupytext": {
   "formats": "ipynb,py:percent"
  },
  "kernelspec": {
   "display_name": "Python (scipy)",
   "language": "python",
   "name": "scipy"
  },
  "language_info": {
   "codemirror_mode": {
    "name": "ipython",
    "version": 3
   },
   "file_extension": ".py",
   "mimetype": "text/x-python",
   "name": "python",
   "nbconvert_exporter": "python",
   "pygments_lexer": "ipython3",
   "version": "3.10.10"
  },
  "varInspector": {
   "cols": {
    "lenName": 16,
    "lenType": 16,
    "lenVar": 40
   },
   "kernels_config": {
    "python": {
     "delete_cmd_postfix": "",
     "delete_cmd_prefix": "del ",
     "library": "var_list.py",
     "varRefreshCmd": "print(var_dic_list())"
    },
    "r": {
     "delete_cmd_postfix": ") ",
     "delete_cmd_prefix": "rm(",
     "library": "var_list.r",
     "varRefreshCmd": "cat(var_dic_list()) "
    }
   },
   "types_to_exclude": [
    "module",
    "function",
    "builtin_function_or_method",
    "instance",
    "_Feature"
   ],
   "window_display": false
  }
 },
 "nbformat": 4,
 "nbformat_minor": 4
}
