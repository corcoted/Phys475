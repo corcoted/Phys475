{
 "cells": [
  {
   "cell_type": "markdown",
   "id": "distinguished-sunrise",
   "metadata": {},
   "source": [
    "# McIntyre Problem 10.20\n",
    "For an infinite square well subject to the perturbation,\n",
    "$$\n",
    "H' = \\gamma x(L-x)\n",
    "$$\n",
    "calculate the first order energy corrections."
   ]
  },
  {
   "cell_type": "code",
   "execution_count": 1,
   "id": "english-magnitude",
   "metadata": {},
   "outputs": [],
   "source": [
    "# load the sympy library\n",
    "from sympy import *"
   ]
  },
  {
   "cell_type": "code",
   "execution_count": 2,
   "id": "exclusive-leader",
   "metadata": {},
   "outputs": [],
   "source": [
    "# declare some symbols\n",
    "# being as specific as possible at this step with help things simplify below\n",
    "x, γ = symbols(\"x γ\", real=True)\n",
    "n, m = symbols(\"n m\", integer=True, positive=True) # state labels\n",
    "ħ, M, L = symbols(\"ħ M L\", real=True, positive=True) # constants (big M is mass)\n",
    "π = pi # use a pretty pi"
   ]
  },
  {
   "cell_type": "code",
   "execution_count": 3,
   "id": "offensive-elephant",
   "metadata": {},
   "outputs": [],
   "source": [
    "# define the unperturbed eigenenergies as functions of n\n",
    "# \"lambda\" is a shortcut to define simple functions\n",
    "# the syntax is lambda (variables): some one-line expression\n",
    "E0 = lambda n: n**2*π**2*ħ**2/(2*M*L**2)"
   ]
  },
  {
   "cell_type": "code",
   "execution_count": 4,
   "id": "sensitive-workplace",
   "metadata": {},
   "outputs": [
    {
     "data": {
      "text/latex": [
       "$\\displaystyle \\frac{\\pi^{2} n^{2} ħ^{2}}{2 L^{2} M}$"
      ],
      "text/plain": [
       "pi**2*n**2*ħ**2/(2*L**2*M)"
      ]
     },
     "execution_count": 4,
     "metadata": {},
     "output_type": "execute_result"
    }
   ],
   "source": [
    "# check the definition\n",
    "E0(n)"
   ]
  },
  {
   "cell_type": "code",
   "execution_count": 5,
   "id": "dirty-acting",
   "metadata": {},
   "outputs": [],
   "source": [
    "# define the unperturbed eigenstates as functions of n and x\n",
    "# note that we're not checking the domain, so the user must ensure 0 < x < L\n",
    "ϕ0 = lambda n,x: sqrt(2/L)*sin(n*π*x/L)"
   ]
  },
  {
   "cell_type": "code",
   "execution_count": 6,
   "id": "imported-flash",
   "metadata": {},
   "outputs": [
    {
     "data": {
      "text/latex": [
       "$\\displaystyle \\frac{\\sqrt{2} \\sin{\\left(\\frac{\\pi n x}{L} \\right)}}{\\sqrt{L}}$"
      ],
      "text/plain": [
       "sqrt(2)*sin(pi*n*x/L)/sqrt(L)"
      ]
     },
     "execution_count": 6,
     "metadata": {},
     "output_type": "execute_result"
    }
   ],
   "source": [
    "# check the definition\n",
    "ϕ0(n,x)"
   ]
  },
  {
   "cell_type": "code",
   "execution_count": 7,
   "id": "secure-delivery",
   "metadata": {},
   "outputs": [],
   "source": [
    "# define the perturbation as a function of x\n",
    "Hp = lambda x: γ*x*(L-x)"
   ]
  },
  {
   "cell_type": "code",
   "execution_count": 8,
   "id": "reduced-graph",
   "metadata": {},
   "outputs": [
    {
     "data": {
      "text/latex": [
       "$\\displaystyle x γ \\left(L - x\\right)$"
      ],
      "text/plain": [
       "x*γ*(L - x)"
      ]
     },
     "execution_count": 8,
     "metadata": {},
     "output_type": "execute_result"
    }
   ],
   "source": [
    "# check\n",
    "Hp(x)"
   ]
  },
  {
   "cell_type": "markdown",
   "id": "particular-volume",
   "metadata": {},
   "source": [
    "## First-order energy corrections\n",
    "I'll define a function to setup a matrix element integral\n",
    "$$\n",
    "\\langle n \\vert H' \\vert m \\rangle = \\int\\limits_0^L \\phi^{(0)}_n(x)^*\\,H'\\,\\phi^{(0)}_m(x)\\,dx\n",
    "$$"
   ]
  },
  {
   "cell_type": "code",
   "execution_count": 9,
   "id": "intellectual-billion",
   "metadata": {},
   "outputs": [],
   "source": [
    "# define a matrix element integral of the operator Hp w.r.t. the unperturbed eigenstates |n> and |m>\n",
    "# Note, I could have also used the lambda notation like above\n",
    "def HpMatrixElement(n,m):\n",
    "    # because the eigenfunctions are real functions, I'll skip the complex conjugate\n",
    "    # the form of the Integral command is integrate(function, (integration variable, lower limit, upper limit))\n",
    "    # note that the limits may include infinity, written as oo (two letters small o)\n",
    "    return Integral(ϕ0(n,x)*Hp(x)*ϕ0(m,x),(x,0,L))"
   ]
  },
  {
   "cell_type": "code",
   "execution_count": 10,
   "id": "extraordinary-question",
   "metadata": {},
   "outputs": [
    {
     "data": {
      "text/latex": [
       "$\\displaystyle \\int\\limits_{0}^{L} \\frac{2 x γ \\left(L - x\\right) \\sin{\\left(\\frac{\\pi m x}{L} \\right)} \\sin{\\left(\\frac{\\pi n x}{L} \\right)}}{L}\\, dx$"
      ],
      "text/plain": [
       "Integral(2*x*γ*(L - x)*sin(pi*m*x/L)*sin(pi*n*x/L)/L, (x, 0, L))"
      ]
     },
     "execution_count": 10,
     "metadata": {},
     "output_type": "execute_result"
    }
   ],
   "source": [
    "# check our definition\n",
    "HpMatrixElement(n,m)"
   ]
  },
  {
   "cell_type": "code",
   "execution_count": 11,
   "id": "worst-raise",
   "metadata": {},
   "outputs": [],
   "source": [
    "# Calculate the 1st order energy correction\n",
    "# we perform the integral using the \"doit()\" method\n",
    "E1 = lambda n: HpMatrixElement(n,n).doit()"
   ]
  },
  {
   "cell_type": "code",
   "execution_count": 12,
   "id": "lovely-tablet",
   "metadata": {},
   "outputs": [
    {
     "data": {
      "text/latex": [
       "$\\displaystyle \\frac{2 γ \\left(\\frac{L^{3}}{12} + \\frac{L^{3}}{4 \\pi^{2} n^{2}}\\right)}{L}$"
      ],
      "text/plain": [
       "2*γ*(L**3/12 + L**3/(4*pi**2*n**2))/L"
      ]
     },
     "execution_count": 12,
     "metadata": {},
     "output_type": "execute_result"
    }
   ],
   "source": [
    "# display the result\n",
    "E1(n)"
   ]
  },
  {
   "cell_type": "markdown",
   "id": "center-system",
   "metadata": {},
   "source": [
    "## First-order state corrections\n",
    "The first order state corrections require an infinite sum.\n",
    "$$\n",
    "\\vert n^{(1)} \\rangle = \\sum\\limits_{m\\neq n} \\frac{\\langle m^{(0)}\\vert H'\\vert n^{(0)}\\rangle}{E^{(0)}_n-E^{(0)}_m}\\,\\vert m^{(0)} \\rangle\n",
    "$$"
   ]
  },
  {
   "cell_type": "code",
   "execution_count": 13,
   "id": "discrete-taylor",
   "metadata": {},
   "outputs": [
    {
     "data": {
      "text/latex": [
       "$\\displaystyle \\begin{cases} - \\frac{2 γ \\left(\\frac{2 \\pi L^{3} m^{3} n}{\\pi^{3} m^{6} - 3 \\pi^{3} m^{4} n^{2} + 3 \\pi^{3} m^{2} n^{4} - \\pi^{3} n^{6}} - \\frac{2 \\pi L^{3} m n^{3}}{\\pi^{3} m^{6} - 3 \\pi^{3} m^{4} n^{2} + 3 \\pi^{3} m^{2} n^{4} - \\pi^{3} n^{6}}\\right)}{L} + \\frac{2 γ \\left(- \\frac{2 \\left(-1\\right)^{m} \\left(-1\\right)^{n} \\pi L^{3} m^{3} n}{\\pi^{3} m^{6} - 3 \\pi^{3} m^{4} n^{2} + 3 \\pi^{3} m^{2} n^{4} - \\pi^{3} n^{6}} + \\frac{2 \\left(-1\\right)^{m} \\left(-1\\right)^{n} \\pi L^{3} m n^{3}}{\\pi^{3} m^{6} - 3 \\pi^{3} m^{4} n^{2} + 3 \\pi^{3} m^{2} n^{4} - \\pi^{3} n^{6}}\\right)}{L} & \\text{for}\\: m \\neq n \\\\\\frac{L^{2} γ}{6} + \\frac{L^{2} γ}{2 \\pi^{2} n^{2}} & \\text{otherwise} \\end{cases}$"
      ],
      "text/plain": [
       "Piecewise((-2*γ*(2*pi*L**3*m**3*n/(pi**3*m**6 - 3*pi**3*m**4*n**2 + 3*pi**3*m**2*n**4 - pi**3*n**6) - 2*pi*L**3*m*n**3/(pi**3*m**6 - 3*pi**3*m**4*n**2 + 3*pi**3*m**2*n**4 - pi**3*n**6))/L + 2*γ*(-2*(-1)**m*(-1)**n*pi*L**3*m**3*n/(pi**3*m**6 - 3*pi**3*m**4*n**2 + 3*pi**3*m**2*n**4 - pi**3*n**6) + 2*(-1)**m*(-1)**n*pi*L**3*m*n**3/(pi**3*m**6 - 3*pi**3*m**4*n**2 + 3*pi**3*m**2*n**4 - pi**3*n**6))/L, Ne(m, n)), (L**2*γ/6 + L**2*γ/(2*pi**2*n**2), True))"
      ]
     },
     "execution_count": 13,
     "metadata": {},
     "output_type": "execute_result"
    }
   ],
   "source": [
    "# Let's try the matrix element first\n",
    "HpMatrixElement(n,m).doit()"
   ]
  },
  {
   "cell_type": "markdown",
   "id": "sixth-peeing",
   "metadata": {},
   "source": [
    "We get two answers, one for $m=n$ (which we don't need here) and one for $m\\neq n$. We can extract the useful one using a hack.  Piecewise functions are actually stored in memory as a nested list called `args`.  The piece we want is the first element of the first sublist, which we specify as `[0][0]`.  The code looks like"
   ]
  },
  {
   "cell_type": "code",
   "execution_count": 14,
   "id": "peaceful-clerk",
   "metadata": {},
   "outputs": [
    {
     "data": {
      "text/latex": [
       "$\\displaystyle - \\frac{2 γ \\left(\\frac{2 \\pi L^{3} m^{3} n}{\\pi^{3} m^{6} - 3 \\pi^{3} m^{4} n^{2} + 3 \\pi^{3} m^{2} n^{4} - \\pi^{3} n^{6}} - \\frac{2 \\pi L^{3} m n^{3}}{\\pi^{3} m^{6} - 3 \\pi^{3} m^{4} n^{2} + 3 \\pi^{3} m^{2} n^{4} - \\pi^{3} n^{6}}\\right)}{L} + \\frac{2 γ \\left(- \\frac{2 \\left(-1\\right)^{m} \\left(-1\\right)^{n} \\pi L^{3} m^{3} n}{\\pi^{3} m^{6} - 3 \\pi^{3} m^{4} n^{2} + 3 \\pi^{3} m^{2} n^{4} - \\pi^{3} n^{6}} + \\frac{2 \\left(-1\\right)^{m} \\left(-1\\right)^{n} \\pi L^{3} m n^{3}}{\\pi^{3} m^{6} - 3 \\pi^{3} m^{4} n^{2} + 3 \\pi^{3} m^{2} n^{4} - \\pi^{3} n^{6}}\\right)}{L}$"
      ],
      "text/plain": [
       "-2*γ*(2*pi*L**3*m**3*n/(pi**3*m**6 - 3*pi**3*m**4*n**2 + 3*pi**3*m**2*n**4 - pi**3*n**6) - 2*pi*L**3*m*n**3/(pi**3*m**6 - 3*pi**3*m**4*n**2 + 3*pi**3*m**2*n**4 - pi**3*n**6))/L + 2*γ*(-2*(-1)**m*(-1)**n*pi*L**3*m**3*n/(pi**3*m**6 - 3*pi**3*m**4*n**2 + 3*pi**3*m**2*n**4 - pi**3*n**6) + 2*(-1)**m*(-1)**n*pi*L**3*m*n**3/(pi**3*m**6 - 3*pi**3*m**4*n**2 + 3*pi**3*m**2*n**4 - pi**3*n**6))/L"
      ]
     },
     "execution_count": 14,
     "metadata": {},
     "output_type": "execute_result"
    }
   ],
   "source": [
    "HpMatrixElement(n,m).doit().args[0][0]"
   ]
  },
  {
   "cell_type": "code",
   "execution_count": 15,
   "id": "mechanical-sheep",
   "metadata": {},
   "outputs": [
    {
     "data": {
      "text/latex": [
       "$\\displaystyle - \\frac{4 L^{2} m n γ \\left(1 - \\left(-1\\right)^{m + n + 1}\\right)}{\\pi^{2} \\left(m^{4} - 2 m^{2} n^{2} + n^{4}\\right)}$"
      ],
      "text/plain": [
       "-4*L**2*m*n*γ*(1 - (-1)**(m + n + 1))/(pi**2*(m**4 - 2*m**2*n**2 + n**4))"
      ]
     },
     "execution_count": 15,
     "metadata": {},
     "output_type": "execute_result"
    }
   ],
   "source": [
    "# Let's try to simplify\n",
    "_.simplify()"
   ]
  },
  {
   "cell_type": "markdown",
   "id": "flush-leeds",
   "metadata": {},
   "source": [
    "Note that this is equal to zero if m+n is odd. we can use that fact to simplify the sum later"
   ]
  },
  {
   "cell_type": "code",
   "execution_count": 16,
   "id": "relative-split",
   "metadata": {},
   "outputs": [
    {
     "data": {
      "text/plain": [
       "'-4*L**2*m*n*γ*(1 - (-1)**(m + n + 1))/(pi**2*(m**4 - 2*m**2*n**2 + n**4))'"
      ]
     },
     "execution_count": 16,
     "metadata": {},
     "output_type": "execute_result"
    }
   ],
   "source": [
    "# print this as code so that we can copy and paste it into a new function\n",
    "str(_)"
   ]
  },
  {
   "cell_type": "code",
   "execution_count": 17,
   "id": "electrical-capital",
   "metadata": {},
   "outputs": [],
   "source": [
    "# copy and paste from above\n",
    "HpOffDiagonal = lambda n, m: -4*L**2*m*n*γ*(1 - (-1)**(m + n + 1))/(pi**2*(m**4 - 2*m**2*n**2 + n**4))"
   ]
  },
  {
   "cell_type": "markdown",
   "id": "improving-antenna",
   "metadata": {},
   "source": [
    "I'm going to attempt to evaluate the sums inside $\\vert n^{(1)}\\rangle$.  I know these don't simplify, but I just want to show that if you *really* need to do this in python you can.  This is very much a brute-force solution made by trial and error.  There is probably a more eligant way to code it.  You may skip down to **Results** below if you just want to see the first few terms of the sums."
   ]
  },
  {
   "cell_type": "markdown",
   "id": "played-campbell",
   "metadata": {},
   "source": [
    "To actually do the sum we have to break it into pieces $m<n$ and $m>m$.  This gives us special cases when $n=1$ (no < sum) and $n=2$ (only one term in the < sum).  I also break the function into n=odd and n=even cases."
   ]
  },
  {
   "cell_type": "code",
   "execution_count": 18,
   "id": "accomplished-vessel",
   "metadata": {},
   "outputs": [],
   "source": [
    "k = symbols(\"k\", integer=True) # new summation variable"
   ]
  },
  {
   "cell_type": "code",
   "execution_count": 19,
   "id": "dressed-fantasy",
   "metadata": {},
   "outputs": [],
   "source": [
    "def ϕ1(n,x,mmax=oo):\n",
    "    # mmax is an optional parameter to terminate the sum at a maximum value of m\n",
    "    # calculate the kmax values for below\n",
    "    if mmax==oo:\n",
    "        kmax = oo\n",
    "    elif ask(Q.odd(mmax)):\n",
    "        kmax = (mmax-1)/Integer(2)\n",
    "    else:\n",
    "        kmax = mmax/Integer(2) # FIXME for odd n this gives one extra term\n",
    "        \n",
    "    if n==1:\n",
    "        # we only need to sum the odd terms, so I'll sub m=2k+1.  The sum will start at k = 1\n",
    "        return Sum(HpOffDiagonal(n,2*k+1)/(E0(n)-E0(2*k+1))*ϕ0(2*k+1,x),(k,1,kmax))\n",
    "    elif n==2:\n",
    "        # here we only need to sum the even terms, so I'll sub m=2k.  The sum will start from k=2\n",
    "        return Sum(HpOffDiagonal(n,2*k)/(E0(n)-E0(2*k))*ϕ0(2*k,x),(k,2,kmax))\n",
    "    elif ask(Q.odd(n)): # odd values of n>1\n",
    "        return Sum(HpOffDiagonal(n,2*k+1)/(E0(n)-E0(2*k+1))*ϕ0(2*k+1,x),(k,0,(n-3)/Integer(2)))+Sum(HpOffDiagonal(n,2*k+1)/(E0(n)-E0(2*k+1))*ϕ0(2*k+1,x),(k,(n+1)/Integer(2),kmax))\n",
    "    else: # even values of n>2\n",
    "        return Sum(HpOffDiagonal(n,2*k)/(E0(n)-E0(2*k))*ϕ0(2*k,x),(k,1,(n-2)/Integer(2)))+Sum(HpOffDiagonal(n,2*k)/(E0(n)-E0(2*k))*ϕ0(2*k,x),(k,(n+2)/Integer(2),kmax))"
   ]
  },
  {
   "cell_type": "code",
   "execution_count": 20,
   "id": "sunrise-router",
   "metadata": {},
   "outputs": [
    {
     "data": {
      "text/latex": [
       "$\\displaystyle \\frac{\\sqrt{2} L^{\\frac{7}{2}} M γ \\sum_{k=1}^{\\infty} \\frac{\\left(2 + \\frac{1}{k}\\right) \\sin{\\left(\\frac{\\pi x \\left(2 k + 1\\right)}{L} \\right)}}{k^{2} \\left(k^{3} + 3 k^{2} + 3 k + 1\\right)}}{4 \\pi^{4} ħ^{2}}$"
      ],
      "text/plain": [
       "sqrt(2)*L**(7/2)*M*γ*Sum((2 + 1/k)*sin(pi*x*(2*k + 1)/L)/(k**2*(k**3 + 3*k**2 + 3*k + 1)), (k, 1, oo))/(4*pi**4*ħ**2)"
      ]
     },
     "execution_count": 20,
     "metadata": {},
     "output_type": "execute_result"
    }
   ],
   "source": [
    "ϕ1(1,x).simplify()"
   ]
  },
  {
   "cell_type": "code",
   "execution_count": 21,
   "id": "useful-siemens",
   "metadata": {},
   "outputs": [
    {
     "data": {
      "text/latex": [
       "$\\displaystyle - \\frac{\\sqrt{2} L^{\\frac{7}{2}} M γ \\sum_{k=2}^{\\infty} \\frac{k \\sin{\\left(\\frac{2 \\pi k x}{L} \\right)}}{- k^{6} + 3 k^{4} - 3 k^{2} + 1}}{\\pi^{4} ħ^{2}}$"
      ],
      "text/plain": [
       "-sqrt(2)*L**(7/2)*M*γ*Sum(k*sin(2*pi*k*x/L)/(-k**6 + 3*k**4 - 3*k**2 + 1), (k, 2, oo))/(pi**4*ħ**2)"
      ]
     },
     "execution_count": 21,
     "metadata": {},
     "output_type": "execute_result"
    }
   ],
   "source": [
    "# The result doesn't simplify (as expected), but we see the key terms\n",
    "ϕ1(2,x).simplify()"
   ]
  },
  {
   "cell_type": "code",
   "execution_count": 22,
   "id": "nominated-public",
   "metadata": {},
   "outputs": [
    {
     "data": {
      "text/latex": [
       "$\\displaystyle \\frac{3 \\sqrt{2} L^{\\frac{7}{2}} M γ \\left(- \\frac{\\sin{\\left(\\frac{\\pi x}{L} \\right)}}{8} + \\sum_{k=2}^{\\infty} \\frac{\\left(2 k + 1\\right) \\sin{\\left(\\frac{\\pi x \\left(2 k + 1\\right)}{L} \\right)}}{k^{6} + 3 k^{5} - 3 k^{4} - 11 k^{3} + 6 k^{2} + 12 k - 8}\\right)}{4 \\pi^{4} ħ^{2}}$"
      ],
      "text/plain": [
       "3*sqrt(2)*L**(7/2)*M*γ*(-sin(pi*x/L)/8 + Sum((2*k + 1)*sin(pi*x*(2*k + 1)/L)/(k**6 + 3*k**5 - 3*k**4 - 11*k**3 + 6*k**2 + 12*k - 8), (k, 2, oo)))/(4*pi**4*ħ**2)"
      ]
     },
     "execution_count": 22,
     "metadata": {},
     "output_type": "execute_result"
    }
   ],
   "source": [
    "ϕ1(3,x).simplify()"
   ]
  },
  {
   "cell_type": "code",
   "execution_count": 23,
   "id": "amino-spain",
   "metadata": {},
   "outputs": [
    {
     "data": {
      "text/latex": [
       "$\\displaystyle \\frac{2 \\sqrt{2} L^{\\frac{7}{2}} M γ \\left(- \\frac{\\sin{\\left(\\frac{2 \\pi x}{L} \\right)}}{27} + \\sum_{k=3}^{\\infty} \\frac{k \\sin{\\left(\\frac{2 \\pi k x}{L} \\right)}}{k^{6} - 12 k^{4} + 48 k^{2} - 64}\\right)}{\\pi^{4} ħ^{2}}$"
      ],
      "text/plain": [
       "2*sqrt(2)*L**(7/2)*M*γ*(-sin(2*pi*x/L)/27 + Sum(k*sin(2*pi*k*x/L)/(k**6 - 12*k**4 + 48*k**2 - 64), (k, 3, oo)))/(pi**4*ħ**2)"
      ]
     },
     "execution_count": 23,
     "metadata": {},
     "output_type": "execute_result"
    }
   ],
   "source": [
    "ϕ1(4,x).simplify()"
   ]
  },
  {
   "cell_type": "markdown",
   "id": "hydraulic-burner",
   "metadata": {},
   "source": [
    "By specifying `mmax` we can start to get approximate functions we can evaluate.\n",
    "\n",
    "*Question:* We could in theory estimate the size of the 2nd order corrections. Then we only need a few terms in the sum where *m* is near *n* to have a numerical result consistent with the order of the approximation.  How many terms do we need?"
   ]
  },
  {
   "cell_type": "markdown",
   "id": "backed-grenada",
   "metadata": {},
   "source": [
    "### Results"
   ]
  },
  {
   "cell_type": "code",
   "execution_count": 24,
   "id": "hundred-singles",
   "metadata": {},
   "outputs": [
    {
     "data": {
      "text/latex": [
       "$\\displaystyle - \\frac{8 \\sqrt{2} L^{\\frac{3}{2}} γ \\left(- \\frac{3 L^{2} M \\sin{\\left(\\frac{3 \\pi x}{L} \\right)}}{256 \\pi^{2} ħ^{2}} - \\frac{5 L^{2} M \\sin{\\left(\\frac{5 \\pi x}{L} \\right)}}{6912 \\pi^{2} ħ^{2}} - \\frac{7 L^{2} M \\sin{\\left(\\frac{7 \\pi x}{L} \\right)}}{55296 \\pi^{2} ħ^{2}} - \\frac{9 L^{2} M \\sin{\\left(\\frac{9 \\pi x}{L} \\right)}}{256000 \\pi^{2} ħ^{2}}\\right)}{\\pi^{2}}$"
      ],
      "text/plain": [
       "-8*sqrt(2)*L**(3/2)*γ*(-3*L**2*M*sin(3*pi*x/L)/(256*pi**2*ħ**2) - 5*L**2*M*sin(5*pi*x/L)/(6912*pi**2*ħ**2) - 7*L**2*M*sin(7*pi*x/L)/(55296*pi**2*ħ**2) - 9*L**2*M*sin(9*pi*x/L)/(256000*pi**2*ħ**2))/pi**2"
      ]
     },
     "execution_count": 24,
     "metadata": {},
     "output_type": "execute_result"
    }
   ],
   "source": [
    "ϕ1(1,x,10-1).doit()"
   ]
  },
  {
   "cell_type": "code",
   "execution_count": 25,
   "id": "intellectual-hollow",
   "metadata": {},
   "outputs": [
    {
     "data": {
      "text/latex": [
       "$\\displaystyle \\frac{\\sqrt{2} \\left(\\frac{L^{4} M γ \\left(81000 \\sin{\\left(\\frac{3 \\pi x}{L} \\right)} + 5000 \\sin{\\left(\\frac{5 \\pi x}{L} \\right)} + 875 \\sin{\\left(\\frac{7 \\pi x}{L} \\right)} + 243 \\sin{\\left(\\frac{9 \\pi x}{L} \\right)}\\right)}{864000} + \\pi^{4} ħ^{2} \\sin{\\left(\\frac{\\pi x}{L} \\right)}\\right)}{\\pi^{4} \\sqrt{L} ħ^{2}}$"
      ],
      "text/plain": [
       "sqrt(2)*(L**4*M*γ*(81000*sin(3*pi*x/L) + 5000*sin(5*pi*x/L) + 875*sin(7*pi*x/L) + 243*sin(9*pi*x/L))/864000 + pi**4*ħ**2*sin(pi*x/L))/(pi**4*sqrt(L)*ħ**2)"
      ]
     },
     "execution_count": 25,
     "metadata": {},
     "output_type": "execute_result"
    }
   ],
   "source": [
    "# now add back in the unperturbed state to get the final result\n",
    "(ϕ0(1,x)+ϕ1(1,x,10-1).doit()).simplify()"
   ]
  },
  {
   "cell_type": "code",
   "execution_count": 26,
   "id": "electrical-department",
   "metadata": {},
   "outputs": [
    {
     "data": {
      "text/latex": [
       "$\\displaystyle 1.4142135623731 \\sin{\\left(\\pi x \\right)} + 0.0272217962543552 \\sin{\\left(3 \\pi x \\right)} + 0.00168035779347872 \\sin{\\left(5 \\pi x \\right)} + 0.000294062613858775 \\sin{\\left(7 \\pi x \\right)} + 8.16653887630656 \\cdot 10^{-5} \\sin{\\left(9 \\pi x \\right)}$"
      ],
      "text/plain": [
       "1.4142135623731*sin(pi*x) + 0.0272217962543552*sin(3*pi*x) + 0.00168035779347872*sin(5*pi*x) + 0.000294062613858775*sin(7*pi*x) + 8.16653887630656e-5*sin(9*pi*x)"
      ]
     },
     "execution_count": 26,
     "metadata": {},
     "output_type": "execute_result"
    }
   ],
   "source": [
    "# sub in some numbers and get a function\n",
    "values = [(ħ,1),(M,1),(L,1),(γ,20)] # values for our constants\n",
    "N((ϕ0(1,x)+ϕ1(1,x,10-1).doit()).subs(values)) # The N command returns a decimal approximation"
   ]
  },
  {
   "cell_type": "markdown",
   "id": "substantial-wealth",
   "metadata": {},
   "source": [
    "Notice how small the added terms are, even with a large value of $\\gamma$."
   ]
  },
  {
   "cell_type": "code",
   "execution_count": 27,
   "id": "czech-pennsylvania",
   "metadata": {},
   "outputs": [
    {
     "data": {
      "image/png": "[encoded data removed]",
      "text/plain": [
       "<Figure size 432x288 with 1 Axes>"
      ]
     },
     "metadata": {
      "needs_background": "light"
     },
     "output_type": "display_data"
    }
   ],
   "source": [
    "# sub in some numbers and plot it\n",
    "p=plot(ϕ0(1,x).doit().subs(values),(x,0,1),line_color=\"blue\",show=False,label=\"unpert.\")\n",
    "p.extend(plot((ϕ0(1,x)+ϕ1(1,x,10).doit()).subs(values),(x,0,1),line_color=\"red\",show=False,label=\"1st ord.\"))\n",
    "p.legend = True\n",
    "p.ylabel = \"ϕ(x)\"\n",
    "p.show()"
   ]
  },
  {
   "cell_type": "code",
   "execution_count": 28,
   "id": "vocational-dynamics",
   "metadata": {},
   "outputs": [
    {
     "data": {
      "text/latex": [
       "$\\displaystyle 4.93480220054468$"
      ],
      "text/plain": [
       "4.93480220054468"
      ]
     },
     "execution_count": 28,
     "metadata": {},
     "output_type": "execute_result"
    }
   ],
   "source": [
    "# compare the energies for these values of the constants\n",
    "N(E0(1).subs(values))"
   ]
  },
  {
   "cell_type": "code",
   "execution_count": 29,
   "id": "german-letter",
   "metadata": {},
   "outputs": [
    {
     "data": {
      "text/latex": [
       "$\\displaystyle 9.28134737030139$"
      ],
      "text/plain": [
       "9.28134737030139"
      ]
     },
     "execution_count": 29,
     "metadata": {},
     "output_type": "execute_result"
    }
   ],
   "source": [
    "N((E0(1)+E1(1)).subs(values))"
   ]
  },
  {
   "cell_type": "markdown",
   "id": "radio-survivor",
   "metadata": {},
   "source": [
    "Notice that the energies change by a lot even though the wavefunction does not."
   ]
  },
  {
   "cell_type": "code",
   "execution_count": null,
   "id": "stuffed-bones",
   "metadata": {},
   "outputs": [],
   "source": []
  }
 ],
 "metadata": {
  "kernelspec": {
   "display_name": "Python [conda env:cf] *",
   "language": "python",
   "name": "conda-env-cf-py"
  },
  "language_info": {
   "codemirror_mode": {
    "name": "ipython",
    "version": 3
   },
   "file_extension": ".py",
   "mimetype": "text/x-python",
   "name": "python",
   "nbconvert_exporter": "python",
   "pygments_lexer": "ipython3",
   "version": "3.9.1"
  }
 },
 "nbformat": 4,
 "nbformat_minor": 5
}
