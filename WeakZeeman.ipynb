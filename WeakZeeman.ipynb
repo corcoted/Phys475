{
 "cells": [
  {
   "cell_type": "markdown",
   "metadata": {},
   "source": [
    "# Extremely weak-field Zeeman effect\n",
    "**PHYS 475, Lecture 16, 2019.02.22**\n",
    "\n",
    "Instructions:\n",
    "(To answer questions, add a \"markdown\" cell and type your answers there.)\n",
    "\n",
    "1. Check the constants to verify that they are correct for the hydrogen ground states\n",
    "2. Derive the value of the atomic unit for magnetic field.  (The answer is given below.)\n",
    "2. Below in the cell beginning \"next steps\" is a function called np.kron().  What does this do?  Where have we seen this before?\n",
    "3. Find the eigenstates in the small-B limit and the large-B limit.  (Numerically, what are \"small B\" and \"large B\"?) Explain how to get these results from perturbation theory.\n",
    "   * Bonus: If you have time, _do_ the perturbation calculations in the code and compare with the \"exact\" values done here.\n",
    "4. Modify the code such that B is in the x direction.  How does this change the eigenvalues?  How does this change the eigenstates?\n",
    "5. The most common isotope of the alkali metal potassium (K-39) has nuclear spin I=3/2 and ground state hyperfine splitting of 462 MHz (in frequency units).  For K-39 the nuclear g-factor is gN = -1.4e-4.  (*Error:* this number is a factor of mp too small.) Adapt the code to calculate the hyperfine states of K-39.  What is the value of A for this state?\n",
    "6. Create a plot showing the B dependence of the energy eigenvalues of K-39 for fields in the z direction.\n",
    "7. The homework problem looks at deuterium.  What changes in the code to do this atom?"
   ]
  },
  {
   "cell_type": "markdown",
   "metadata": {},
   "source": [
    "*Your name here*"
   ]
  },
  {
   "cell_type": "code",
   "execution_count": 1,
   "metadata": {
    "ExecuteTime": {
     "end_time": "2019-02-24T15:07:13.958471Z",
     "start_time": "2019-02-24T15:07:13.441867Z"
    }
   },
   "outputs": [],
   "source": [
    "import numpy as np\n",
    "import matplotlib.pyplot as plt\n",
    "%matplotlib inline\n",
    "np.set_printoptions(precision=3, floatmode='maxprec')\n",
    "#assuming atomic units throughout unless specified"
   ]
  },
  {
   "cell_type": "code",
   "execution_count": 2,
   "metadata": {
    "ExecuteTime": {
     "end_time": "2019-02-24T15:07:13.973945Z",
     "start_time": "2019-02-24T15:07:13.962968Z"
    }
   },
   "outputs": [],
   "source": [
    "#constants\n",
    "alpha=1./137.; # fine structure constant\n",
    "mp = 1836.; # proton mass\n",
    "muB = 0.5; #Bohr magneton\n",
    "muN = muB/mp; #nuclear magneton\n",
    "mu0 = 4*np.pi*alpha**2; #permeability of vacuum\n",
    "gs = 2.0; # electron spin gyromagnetic ratio\n",
    "psi0 = 1/np.sqrt(np.pi); #value of wavefunction at origin\n",
    "h = 4.136e-15; #Planck's constant in eV s\n",
    "EH = 27.2; #Hartree energy in eV\n",
    "B0 = 2.35e5; #atomic unit of magnetic field in T"
   ]
  },
  {
   "cell_type": "code",
   "execution_count": 3,
   "metadata": {
    "ExecuteTime": {
     "end_time": "2019-02-24T15:07:14.001394Z",
     "start_time": "2019-02-24T15:07:13.978938Z"
    }
   },
   "outputs": [
    {
     "name": "stdout",
     "output_type": "stream",
     "text": [
      "A = 2.16e-07 (a.u.) = 1422.41 MHz\n"
     ]
    }
   ],
   "source": [
    "# Properties of this atom (hydrogen)\n",
    "S=1/2; I=1/2;\n",
    "gN = 5.59;# nuclear gyromagnetic ratio (depends on atom and isotope)\n",
    "#hyperfine amplitude coefficient (depends on atom and state)\n",
    "A = 2*mu0/3*gs*muB*gN*muN*psi0**2 # McIntyre Eq. 11.10\n",
    "print(f\"A = {A:.2e} (a.u.) = {A*EH/h/1e6:.2f} MHz\") # display A in MHz to compare with McIntyre Fig. 11.4"
   ]
  },
  {
   "cell_type": "code",
   "execution_count": 4,
   "metadata": {
    "ExecuteTime": {
     "end_time": "2019-02-24T15:07:14.023850Z",
     "start_time": "2019-02-24T15:07:14.011873Z"
    }
   },
   "outputs": [],
   "source": [
    "#degeneracy of S and I.\n",
    "#Must round so that these are stored as integers (the extra 0.2 is to ensure the rounding goes to the right number)\n",
    "degS = np.int(2*S+1.2); degI = np.int(2*I+1.2); "
   ]
  },
  {
   "cell_type": "code",
   "execution_count": 5,
   "metadata": {
    "ExecuteTime": {
     "end_time": "2019-02-24T15:07:14.057288Z",
     "start_time": "2019-02-24T15:07:14.034837Z"
    }
   },
   "outputs": [],
   "source": [
    "#create lists of possible Sz, Iz values in decreasing order\n",
    "Szlist = np.arange(S,-S-1,-1);\n",
    "Izlist = np.arange(I,-I-1,-1);"
   ]
  },
  {
   "cell_type": "code",
   "execution_count": 6,
   "metadata": {
    "ExecuteTime": {
     "end_time": "2019-02-24T15:07:14.080253Z",
     "start_time": "2019-02-24T15:07:14.061281Z"
    }
   },
   "outputs": [],
   "source": [
    "#Generating the individual spin matrices in the uncoupled basis\n",
    "S2 = S*(S+1)*np.matrix(np.eye(degS)); #S-squared matrix\n",
    "I2 = I*(I+1)*np.matrix(np.eye(degI)); #I-squared matrix\n",
    "Sz = np.matrix(np.diag(Szlist)); #Sz matrix\n",
    "Iz = np.matrix(np.diag(Izlist)); #Iz matrix"
   ]
  },
  {
   "cell_type": "code",
   "execution_count": 7,
   "metadata": {
    "ExecuteTime": {
     "end_time": "2019-02-24T15:07:14.120769Z",
     "start_time": "2019-02-24T15:07:14.084251Z"
    }
   },
   "outputs": [],
   "source": [
    "# list of the basis state  labels |Sz,Iz>\n",
    "basislist = np.column_stack((np.diagonal(np.kron(Sz,np.eye(degI))),np.diagonal(np.kron(np.eye(degS),Iz)))); "
   ]
  },
  {
   "cell_type": "code",
   "execution_count": 8,
   "metadata": {
    "ExecuteTime": {
     "end_time": "2019-02-24T15:07:14.157881Z",
     "start_time": "2019-02-24T15:07:14.124264Z"
    }
   },
   "outputs": [
    {
     "name": "stdout",
     "output_type": "stream",
     "text": [
      "[[ 0.5  0.5]\n",
      " [ 0.5 -0.5]\n",
      " [-0.5  0.5]\n",
      " [-0.5 -0.5]]\n"
     ]
    }
   ],
   "source": [
    "print(basislist) # display the row labels (Sz, Iz)"
   ]
  },
  {
   "cell_type": "code",
   "execution_count": 9,
   "metadata": {
    "ExecuteTime": {
     "end_time": "2019-02-24T15:07:14.199799Z",
     "start_time": "2019-02-24T15:07:14.161872Z"
    }
   },
   "outputs": [],
   "source": [
    "# Generate other spin matrices\n",
    "Sp=np.matrix(np.diag(np.sqrt(S*(S+1)-(Szlist*(Szlist+1))[1:]),1)); #S+ ladder matrix\n",
    "Ip=np.matrix(np.diag(np.sqrt(I*(I+1)-(Izlist*(Izlist+1))[1:]),1)); #I+ ladder matrix\n",
    "Sm=Sp.H; #S- ladder matrix\n",
    "Im=Ip.H; #I- ladder matrix\n",
    "Sx=(Sp+Sm)/2;\n",
    "Ix=(Ip+Im)/2;\n",
    "Sy=(Sp-Sm)/(0.+2j); #Sy matrix (\"j\" is sqrt(-1))\n",
    "Iy=(Ip-Im)/(0.+2j);"
   ]
  },
  {
   "cell_type": "code",
   "execution_count": 10,
   "metadata": {
    "ExecuteTime": {
     "end_time": "2019-02-24T15:07:14.235133Z",
     "start_time": "2019-02-24T15:07:14.206287Z"
    }
   },
   "outputs": [],
   "source": [
    "# next steps: build hyperfine operator matrix and zeeman operator matrix\n",
    "# We are assuming l=0 states here (otherwise HF is more complicated)\n",
    "\n",
    "# hyperfine operator = A*(S dot I)\n",
    "HF = A*(np.kron(Sz,Iz)+0.5*(np.kron(Sm,Ip)+np.kron(Sp,Im)));\n",
    "# Zeeman operator, except for the magnetic field magnitude\n",
    "ZnoB = gs*muB*np.kron(Sz,np.eye(degI))+gN*muN*np.kron(np.eye(degS),Iz); #multiply this by B to get the Zeeman operator\n",
    "# magnetic field magnitude in atomic units:\n",
    "B=0; # Change this value to test different magnetic field strengths\n",
    "# Total hamiltonian\n",
    "H = HF+B*ZnoB;"
   ]
  },
  {
   "cell_type": "code",
   "execution_count": 11,
   "metadata": {
    "ExecuteTime": {
     "end_time": "2019-02-24T15:07:14.268354Z",
     "start_time": "2019-02-24T15:07:14.239126Z"
    }
   },
   "outputs": [
    {
     "name": "stdout",
     "output_type": "stream",
     "text": [
      "[[ 5.407e-08  0.000e+00  0.000e+00  0.000e+00]\n",
      " [ 0.000e+00 -5.407e-08  1.081e-07  0.000e+00]\n",
      " [ 0.000e+00  1.081e-07 -5.407e-08  0.000e+00]\n",
      " [ 0.000e+00  0.000e+00  0.000e+00  5.407e-08]]\n"
     ]
    }
   ],
   "source": [
    "# print the Hamiltonian matrix\n",
    "print(H)"
   ]
  },
  {
   "cell_type": "code",
   "execution_count": 12,
   "metadata": {
    "ExecuteTime": {
     "end_time": "2019-02-24T15:07:14.299363Z",
     "start_time": "2019-02-24T15:07:14.272346Z"
    }
   },
   "outputs": [
    {
     "name": "stdout",
     "output_type": "stream",
     "text": [
      "The eigenvalues are [-1.622e-07  5.407e-08  5.407e-08  5.407e-08].\n",
      "The eigenvectors are the columns of the matrix:\n",
      "[[ 0.     1.     0.     0.   ]\n",
      " [ 0.707  0.     0.     0.707]\n",
      " [-0.707  0.     0.     0.707]\n",
      " [ 0.     0.     1.     0.   ]].\n"
     ]
    }
   ],
   "source": [
    "#calculate and display the eigenvalues and eigenstates of H for this value of B\n",
    "evs, ess = np.linalg.eigh(H) \n",
    "print(f\"The eigenvalues are {evs}.\")\n",
    "print(f\"The eigenvectors are the columns of the matrix:\\n{ess}.\")"
   ]
  },
  {
   "cell_type": "code",
   "execution_count": 13,
   "metadata": {
    "ExecuteTime": {
     "end_time": "2019-02-24T15:07:14.324308Z",
     "start_time": "2019-02-24T15:07:14.305343Z"
    }
   },
   "outputs": [
    {
     "data": {
      "text/plain": [
       "1422.411016622688"
      ]
     },
     "execution_count": 13,
     "metadata": {},
     "output_type": "execute_result"
    }
   ],
   "source": [
    "# maximum frequency splitting in MHz\n",
    "(max(evs)-min(evs))*EH/h/1e6 "
   ]
  },
  {
   "cell_type": "code",
   "execution_count": 14,
   "metadata": {
    "ExecuteTime": {
     "end_time": "2019-02-24T15:07:14.358742Z",
     "start_time": "2019-02-24T15:07:14.329796Z"
    }
   },
   "outputs": [],
   "source": [
    "# Generate data for the plots by stepping through B values.\n",
    "Bmin = 0; # minimum B in atomic units\n",
    "Bmax = 5e-7; # maximum B in atomic units\n",
    "Bsteps = 101 # number of steps\n",
    "Blist = np.linspace(Bmin, Bmax, Bsteps) # generate list of B values to evaluate\n",
    "Elist = []; #empty list to store energy eigenvalues\n",
    "for B in Blist:\n",
    "    H = HF+B*ZnoB;\n",
    "    evs, ess = np.linalg.eigh(H)\n",
    "    Elist.append(np.sort(evs))\n",
    "Earray = np.array(Elist)"
   ]
  },
  {
   "cell_type": "code",
   "execution_count": 15,
   "metadata": {
    "ExecuteTime": {
     "end_time": "2019-02-24T15:07:14.996028Z",
     "start_time": "2019-02-24T15:07:14.363233Z"
    }
   },
   "outputs": [
    {
     "data": {
      "image/png": "[encoded data removed]",
      "text/plain": [
       "<Figure size 432x288 with 1 Axes>"
      ]
     },
     "metadata": {
      "needs_background": "light"
     },
     "output_type": "display_data"
    }
   ],
   "source": [
    "# plot the energy correction as a function of magnetic field amplitude\n",
    "for x in range(degS*degI):\n",
    "    plt.plot(np.array(Blist), Earray[:,x])\n",
    "plt.xlabel(\"B (a.u.)\");\n",
    "plt.ylabel(\"$E^{(1)}_Z$ (a.u.)\");\n",
    "plt.title(\"Zeeman effect in the hydrogen ground states\");\n",
    "#plt.savefig(\"Zeeman-H-au.pdf\")"
   ]
  },
  {
   "cell_type": "code",
   "execution_count": 16,
   "metadata": {
    "ExecuteTime": {
     "end_time": "2019-02-24T15:07:15.230086Z",
     "start_time": "2019-02-24T15:07:15.000523Z"
    }
   },
   "outputs": [
    {
     "data": {
      "image/png": "[encoded data removed]",
      "text/plain": [
       "<Figure size 432x288 with 1 Axes>"
      ]
     },
     "metadata": {
      "needs_background": "light"
     },
     "output_type": "display_data"
    }
   ],
   "source": [
    "for x in range(degS*degI):\n",
    "    plt.plot(np.array(Blist)*B0, Earray[:,x]*EH/h/1e6) # convert units to T and MHz\n",
    "plt.xlabel(\"B (T)\");\n",
    "plt.ylabel(\"f (MHz)\");\n",
    "plt.title(\"Zeeman effect in the hydrogen ground states\");\n",
    "#plt.savefig(\"Zeeman-H-SI.pdf\")"
   ]
  },
  {
   "cell_type": "raw",
   "metadata": {},
   "source": []
  },
  {
   "cell_type": "code",
   "execution_count": null,
   "metadata": {},
   "outputs": [],
   "source": []
  }
 ],
 "metadata": {
  "kernelspec": {
   "display_name": "Python 3",
   "language": "python",
   "name": "python3"
  },
  "language_info": {
   "codemirror_mode": {
    "name": "ipython",
    "version": 3
   },
   "file_extension": ".py",
   "mimetype": "text/x-python",
   "name": "python",
   "nbconvert_exporter": "python",
   "pygments_lexer": "ipython3",
   "version": "3.7.1"
  },
  "varInspector": {
   "cols": {
    "lenName": 16,
    "lenType": 16,
    "lenVar": 40
   },
   "kernels_config": {
    "python": {
     "delete_cmd_postfix": "",
     "delete_cmd_prefix": "del ",
     "library": "var_list.py",
     "varRefreshCmd": "print(var_dic_list())"
    },
    "r": {
     "delete_cmd_postfix": ") ",
     "delete_cmd_prefix": "rm(",
     "library": "var_list.r",
     "varRefreshCmd": "cat(var_dic_list()) "
    }
   },
   "types_to_exclude": [
    "module",
    "function",
    "builtin_function_or_method",
    "instance",
    "_Feature"
   ],
   "window_display": false
  }
 },
 "nbformat": 4,
 "nbformat_minor": 1
}
