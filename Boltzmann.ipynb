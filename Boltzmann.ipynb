{
 "cells": [
  {
   "cell_type": "markdown",
   "metadata": {},
   "source": [
    "# Boltzmann distribution for a harmonic oscillator"
   ]
  },
  {
   "cell_type": "code",
   "execution_count": 2,
   "metadata": {
    "ExecuteTime": {
     "end_time": "2019-03-24T17:32:07.234326Z",
     "start_time": "2019-03-24T17:32:06.687633Z"
    }
   },
   "outputs": [],
   "source": [
    "from sympy import *\n",
    "init_printing()"
   ]
  },
  {
   "cell_type": "code",
   "execution_count": 3,
   "metadata": {
    "ExecuteTime": {
     "end_time": "2019-03-24T17:33:19.424347Z",
     "start_time": "2019-03-24T17:33:19.417350Z"
    }
   },
   "outputs": [],
   "source": [
    "k, beta, T, p, n, omega, hbar = symbols('k, beta, T, p, n, omega, hbar', positive=True)"
   ]
  },
  {
   "cell_type": "code",
   "execution_count": 4,
   "metadata": {
    "ExecuteTime": {
     "end_time": "2019-03-24T17:33:59.122678Z",
     "start_time": "2019-03-24T17:33:59.110686Z"
    }
   },
   "outputs": [],
   "source": [
    "p = exp(-n*hbar*omega/k/T)*(1-exp(-hbar*omega/k/T))"
   ]
  },
  {
   "cell_type": "code",
   "execution_count": 5,
   "metadata": {
    "ExecuteTime": {
     "end_time": "2019-03-24T17:34:07.356484Z",
     "start_time": "2019-03-24T17:34:00.306896Z"
    }
   },
   "outputs": [
    {
     "data": {
      "image/png": "[encoded data removed]",
      "text/latex": [
       "$$\\left(1 - e^{- \\frac{\\hbar \\omega}{T k}}\\right) e^{- \\frac{\\hbar n \\omega}{T k}}$$"
      ],
      "text/plain": [
       "⎛     -h̅⋅ω ⎞  -h̅⋅n⋅ω \n",
       "⎜     ──────⎟  ────────\n",
       "⎜      T⋅k  ⎟    T⋅k   \n",
       "⎝1 - ℯ      ⎠⋅ℯ        "
      ]
     },
     "execution_count": 5,
     "metadata": {},
     "output_type": "execute_result"
    }
   ],
   "source": [
    "p"
   ]
  },
  {
   "cell_type": "code",
   "execution_count": 6,
   "metadata": {
    "ExecuteTime": {
     "end_time": "2019-03-24T17:34:35.777857Z",
     "start_time": "2019-03-24T17:34:34.699879Z"
    }
   },
   "outputs": [
    {
     "data": {
      "image/png": "[encoded data removed]",
      "text/latex": [
       "$$\\left(1 - e^{- \\frac{\\hbar \\omega}{T k}}\\right) e^{- \\frac{2 \\hbar \\omega}{T k}}$$"
      ],
      "text/plain": [
       "⎛     -h̅⋅ω ⎞  -2⋅h̅⋅ω \n",
       "⎜     ──────⎟  ────────\n",
       "⎜      T⋅k  ⎟    T⋅k   \n",
       "⎝1 - ℯ      ⎠⋅ℯ        "
      ]
     },
     "execution_count": 6,
     "metadata": {},
     "output_type": "execute_result"
    }
   ],
   "source": [
    "p.subs(n,2)"
   ]
  },
  {
   "cell_type": "code",
   "execution_count": 10,
   "metadata": {
    "ExecuteTime": {
     "end_time": "2019-03-24T17:39:18.503248Z",
     "start_time": "2019-03-24T17:39:17.118899Z"
    }
   },
   "outputs": [
    {
     "data": {
      "image/png": "[encoded data removed]",
      "text/latex": [
       "$$\\left\\{T \\mid T \\in \\mathbb{C} \\wedge \\left(1 - e^{- \\frac{7.16739130434783 \\cdot 10^{-7}}{T}}\\right) e^{- \\frac{1.43347826086957 \\cdot 10^{-6}}{T}} - 0.25 = 0 \\right\\}$$"
      ],
      "text/plain": [
       "⎧            ⎛     -7.16739130434783e-7 ⎞  -1.43347826086957e-6            ⎫\n",
       "⎪            ⎜     ─────────────────────⎟  ─────────────────────           ⎪\n",
       "⎨            ⎜               T          ⎟            T                     ⎬\n",
       "⎪T | T ∊ ℂ ∧ ⎝1 - ℯ                     ⎠⋅ℯ                      - 0.25 = 0⎪\n",
       "⎩                                                                          ⎭"
      ]
     },
     "execution_count": 10,
     "metadata": {},
     "output_type": "execute_result"
    }
   ],
   "source": [
    "solveset(p.subs([(n,2),(omega,3.0e4*3.14),(k,1.38e-23),(hbar,1.05e-34)])-0.25,T)"
   ]
  },
  {
   "cell_type": "code",
   "execution_count": 12,
   "metadata": {
    "ExecuteTime": {
     "end_time": "2019-03-24T17:40:07.706464Z",
     "start_time": "2019-03-24T17:40:07.702468Z"
    }
   },
   "outputs": [],
   "source": [
    "x = symbols('x', positive=True)"
   ]
  },
  {
   "cell_type": "code",
   "execution_count": 14,
   "metadata": {
    "ExecuteTime": {
     "end_time": "2019-03-24T17:41:53.095569Z",
     "start_time": "2019-03-24T17:41:52.088965Z"
    }
   },
   "outputs": [
    {
     "data": {
      "image/png": "[encoded data removed]",
      "text/latex": [
       "$$\\left\\{-0.252708569481996, 0.351128015206684, 0.901580554275311\\right\\}$$"
      ],
      "text/plain": [
       "{-0.252708569481996, 0.351128015206684, 0.901580554275311}"
      ]
     },
     "execution_count": 14,
     "metadata": {},
     "output_type": "execute_result"
    }
   ],
   "source": [
    "solveset(x**2-x**3-0.08,x)"
   ]
  },
  {
   "cell_type": "code",
   "execution_count": 17,
   "metadata": {
    "ExecuteTime": {
     "end_time": "2019-03-24T17:45:33.181493Z",
     "start_time": "2019-03-24T17:45:31.924265Z"
    }
   },
   "outputs": [
    {
     "data": {
      "image/png": "[encoded data removed]",
      "text/latex": [
       "$$6.21771602548363 \\cdot 10^{-7}$$"
      ],
      "text/plain": [
       "6.21771602548363e-7"
      ]
     },
     "execution_count": 17,
     "metadata": {},
     "output_type": "execute_result"
    }
   ],
   "source": [
    "(hbar*omega/k*log(1/0.42)).subs([(n,2),(omega,3.0e4*3.14),(k,1.38e-23),(hbar,1.05e-34)])"
   ]
  },
  {
   "cell_type": "code",
   "execution_count": null,
   "metadata": {},
   "outputs": [],
   "source": []
  }
 ],
 "metadata": {
  "kernelspec": {
   "display_name": "Python 3",
   "language": "python",
   "name": "python3"
  },
  "language_info": {
   "codemirror_mode": {
    "name": "ipython",
    "version": 3
   },
   "file_extension": ".py",
   "mimetype": "text/x-python",
   "name": "python",
   "nbconvert_exporter": "python",
   "pygments_lexer": "ipython3",
   "version": "3.7.1"
  },
  "varInspector": {
   "cols": {
    "lenName": 16,
    "lenType": 16,
    "lenVar": 40
   },
   "kernels_config": {
    "python": {
     "delete_cmd_postfix": "",
     "delete_cmd_prefix": "del ",
     "library": "var_list.py",
     "varRefreshCmd": "print(var_dic_list())"
    },
    "r": {
     "delete_cmd_postfix": ") ",
     "delete_cmd_prefix": "rm(",
     "library": "var_list.r",
     "varRefreshCmd": "cat(var_dic_list()) "
    }
   },
   "types_to_exclude": [
    "module",
    "function",
    "builtin_function_or_method",
    "instance",
    "_Feature"
   ],
   "window_display": false
  }
 },
 "nbformat": 4,
 "nbformat_minor": 2
}
