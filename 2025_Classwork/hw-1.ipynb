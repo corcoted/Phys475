{
  "cells": [
    {
      "cell_type": "markdown",
      "metadata": {
        "id": "R9QlJcaigWsl"
      },
      "source": [
        "## Problem set 1\n",
        "In class work for 1/16/2025."
      ]
    },
    {
      "cell_type": "code",
      "execution_count": 52,
      "metadata": {
        "id": "i89AvjQAgWsm"
      },
      "outputs": [],
      "source": [
        "import numpy as np\n",
        "import matplotlib.pyplot as plt # for plotting"
      ]
    },
    {
      "cell_type": "code",
      "execution_count": 2,
      "metadata": {
        "id": "sSWRpi4-gWsm"
      },
      "outputs": [],
      "source": [
        "# define some constants (SI units)\n",
        "hbar = 1.0546e-34 # J s, reduced Planck constant\n",
        "ec = 1.609e-19 # C, proton charge\n",
        "m_e = 9.109e-31 # kg, electron mass\n",
        "g = 2.002 # electron gyromagnetic factor\n",
        "mu_B = ec*hbar/(2*m_e) # J/T, Bohr magneton\n",
        "eV = 1.609e-19 # J , electron volt definition"
      ]
    },
    {
      "cell_type": "code",
      "execution_count": 3,
      "metadata": {
        "id": "zT88JLJVgWsn"
      },
      "outputs": [],
      "source": [
        "# some other useful definitions\n",
        "# Spin-1/2 matrices\n",
        "Sz = hbar/2*np.matrix([[1,0],[0,-1]])\n",
        "Sx = hbar/2*np.matrix([[0,1],[1,0]])\n",
        "Sy = hbar/2*(1.0j)*np.matrix([[0,-1],[1,0]])"
      ]
    },
    {
      "cell_type": "code",
      "execution_count": 4,
      "metadata": {
        "id": "tTNCgutbgWsn",
        "outputId": "4edbeaab-6ae4-4176-c4c3-550f39340695",
        "colab": {
          "base_uri": "https://localhost:8080/"
        }
      },
      "outputs": [
        {
          "output_type": "stream",
          "name": "stdout",
          "text": [
            "[[0.000e+00 5.273e-35]\n",
            " [5.273e-35 0.000e+00]]\n",
            "[[0.+0.000e+00j 0.-5.273e-35j]\n",
            " [0.+5.273e-35j 0.+0.000e+00j]]\n",
            "[[ 5.273e-35  0.000e+00]\n",
            " [ 0.000e+00 -5.273e-35]]\n"
          ]
        }
      ],
      "source": [
        "print(Sx)\n",
        "print(Sy)\n",
        "print(Sz)"
      ]
    },
    {
      "cell_type": "markdown",
      "metadata": {
        "id": "lHL03QotgWsn"
      },
      "source": [
        "### Problem 1\n",
        "An electron is in a magnetic field of $\\mathbf{B} = B_1 \\hat{x} + B_0 \\hat{z}$.\n",
        "- What is the Hamiltonian for this system?  (See McIntyre Section 3.2) Express this as a matrix in the basis of the $z$ component of spin ($S_z$).\n",
        "- Suppose the magnetic field has (in SI units) $B_0=50\\,\\mathrm{mT}, B_1=10\\,\\mathrm{mT}$.\n",
        "What are the energy eigenvalues (in units of electron-volts, eV) and eigenstates for this system?  Express the eigenstates as vectors in the $S_z$ basis.\n",
        "Give all numerical values to 3 significant digits.\n",
        "- The particle has an initial state of $\\ket{+_z}$.  What is the state of the particle as a function of time, $\\ket{\\psi(t)}$?  (The spin will precess.  Calculate the angular frequency $\\omega$ of this precession in units of rad/s.)\n",
        "- Qualitatively, how does the expectation value of the particle's spin vector vary as a function of time, $\\left<\\mathbf{S}(t)\\right>$?\n"
      ]
    },
    {
      "cell_type": "code",
      "execution_count": 5,
      "metadata": {
        "id": "Um0pl5WlgWsn",
        "outputId": "27f79c1e-63b1-48a7-aa39-e9bc00c44961",
        "colab": {
          "base_uri": "https://localhost:8080/"
        }
      },
      "outputs": [
        {
          "output_type": "stream",
          "name": "stdout",
          "text": [
            "[[0.01]\n",
            " [0.  ]\n",
            " [0.05]]\n"
          ]
        }
      ],
      "source": [
        "# First define the magnetic field (using units of T)\n",
        "Bx = 10e-3 # T\n",
        "Bz = 50e-3 # T\n",
        "By = 0.0 # T\n",
        "B = np.matrix([[Bx,By,Bz]]).T # we make a 1x3 matrix, then take its transpose to get a 3x1 matrix, i.e. column vector.\n",
        "print(B)"
      ]
    },
    {
      "cell_type": "markdown",
      "metadata": {
        "id": "Y1fE0cfpgWsn"
      },
      "source": [
        "From McIntyre Eq. (3.23), the Hamiltonian is\n",
        "$$\n",
        "H = \\frac{e}{m_e} \\vec{S}\\cdot\\vec{B}\n",
        "$$"
      ]
    },
    {
      "cell_type": "code",
      "execution_count": 7,
      "metadata": {
        "id": "PiqeJxkfgWso",
        "outputId": "17a2da3f-fad6-4f99-8837-4ed24ec52bdc",
        "colab": {
          "base_uri": "https://localhost:8080/"
        }
      },
      "outputs": [
        {
          "output_type": "stream",
          "name": "stdout",
          "text": [
            "[[ 4.65707377e-25  9.31414755e-26]\n",
            " [ 9.31414755e-26 -4.65707377e-25]]\n"
          ]
        }
      ],
      "source": [
        "# The Hamiltonian\n",
        "# From McIntyre Eq. (3.23)\n",
        "H = ec/m_e*(Sx*Bx + Sz*Bz ) #+ Sy*By ) # keeping it real\n",
        "print(H)"
      ]
    },
    {
      "cell_type": "code",
      "source": [
        "# eig\n",
        "E=np.linalg.eigvals(H)\n",
        "print(E) # J\n",
        "print(E/eV ) # eV"
      ],
      "metadata": {
        "id": "LlyZoyyimNti",
        "outputId": "74770abc-a565-4e90-9c31-635aa42e43de",
        "colab": {
          "base_uri": "https://localhost:8080/"
        }
      },
      "execution_count": 18,
      "outputs": [
        {
          "output_type": "stream",
          "name": "stdout",
          "text": [
            "[ 4.74930201e-25 -4.74930201e-25]\n",
            "[ 2.95171038e-06 -2.95171038e-06]\n"
          ]
        }
      ]
    },
    {
      "cell_type": "code",
      "source": [
        "# calculate the Larmor frequency\n",
        "omega = np.abs(E[0]-E[1])/hbar\n",
        "print(omega) # rad/s"
      ],
      "metadata": {
        "id": "5xX2N9n6tqj9",
        "outputId": "78ca0e6f-866e-426c-9167-cf591fd9cf9b",
        "colab": {
          "base_uri": "https://localhost:8080/"
        }
      },
      "execution_count": 36,
      "outputs": [
        {
          "output_type": "stream",
          "name": "stdout",
          "text": [
            "9006831043.33164\n"
          ]
        }
      ]
    },
    {
      "cell_type": "code",
      "source": [
        "ER = np.linalg.eig(H)"
      ],
      "metadata": {
        "id": "uVE98RtbmuL8"
      },
      "execution_count": 13,
      "outputs": []
    },
    {
      "cell_type": "code",
      "source": [
        "EV0 = ER.eigenvectors[:,0]\n",
        "EV1 = ER.eigenvectors[:,1]\n",
        "print(ER.eigenvectors)\n",
        "print(EV0)\n",
        "print(EV1)"
      ],
      "metadata": {
        "id": "PW4b5ajYm7S3",
        "outputId": "df4c77b8-fd1b-4d42-93d0-3dc8145de705",
        "colab": {
          "base_uri": "https://localhost:8080/"
        }
      },
      "execution_count": 19,
      "outputs": [
        {
          "output_type": "stream",
          "name": "stdout",
          "text": [
            "[[ 0.99513333 -0.09853762]\n",
            " [ 0.09853762  0.99513333]]\n",
            "[[0.99513333]\n",
            " [0.09853762]]\n",
            "[[-0.09853762]\n",
            " [ 0.99513333]]\n"
          ]
        }
      ]
    },
    {
      "cell_type": "code",
      "source": [],
      "metadata": {
        "id": "UX7h-688m7G3"
      },
      "execution_count": null,
      "outputs": []
    },
    {
      "cell_type": "code",
      "execution_count": 21,
      "metadata": {
        "id": "xckWgTxEgWso",
        "outputId": "43834fee-ce3e-4892-e206-62fb4d052609",
        "colab": {
          "base_uri": "https://localhost:8080/"
        }
      },
      "outputs": [
        {
          "output_type": "stream",
          "name": "stdout",
          "text": [
            "[[1]\n",
            " [0]]\n"
          ]
        }
      ],
      "source": [
        "# initial state\n",
        "psi0 = np.matrix([[1,0]]).T # column vector\n",
        "print(psi0)"
      ]
    },
    {
      "cell_type": "markdown",
      "source": [
        "Solution outline:\n",
        "\n",
        "- Express psi0 in terms of the eigenvectors of H\n",
        "$$\n",
        "\\left| \\psi_0 \\right> = c_0 \\left| \\xi_0 \\right> + c_1 \\left| \\xi_1\\right>\n",
        "$$\n",
        "\n",
        "$$\n",
        "c_0 = \\left< \\xi_0 \\middle| \\psi_0 \\right> = \\vec{\\xi}_0^\\dagger \\cdot \\vec{\\psi}_0,\n",
        "\\qquad\n",
        "c_1 = \\left< \\xi_1 \\middle| \\psi_0 \\right>,\n",
        "$$"
      ],
      "metadata": {
        "id": "IxQm1cw5obVr"
      }
    },
    {
      "cell_type": "code",
      "source": [
        "c0 = (EV0.H * psi0)[0,0] # pick out the 0,0 (only) element of the matrix\n",
        "print(c0)"
      ],
      "metadata": {
        "id": "RczJwHxipMjB",
        "outputId": "2d261552-910f-4e0b-9916-6eda5736276b",
        "colab": {
          "base_uri": "https://localhost:8080/"
        }
      },
      "execution_count": 24,
      "outputs": [
        {
          "output_type": "stream",
          "name": "stdout",
          "text": [
            "0.9951333266680702\n"
          ]
        }
      ]
    },
    {
      "cell_type": "code",
      "source": [
        "c1 = (EV1.H * psi0)[0,0]\n",
        "print(c1)"
      ],
      "metadata": {
        "id": "bFRiTmoMp9_i",
        "outputId": "205a47c5-c9d4-4531-ce7d-f042f21d1aad",
        "colab": {
          "base_uri": "https://localhost:8080/"
        }
      },
      "execution_count": 25,
      "outputs": [
        {
          "output_type": "stream",
          "name": "stdout",
          "text": [
            "-0.09853761796664223\n"
          ]
        }
      ]
    },
    {
      "cell_type": "code",
      "source": [
        "np.abs(c0)**2 + np.abs(c1)**2 # should equal 1"
      ],
      "metadata": {
        "id": "BHbVPWOcqGgc",
        "outputId": "f99d19d5-1e1d-4472-8b50-9b695814a38d",
        "colab": {
          "base_uri": "https://localhost:8080/"
        }
      },
      "execution_count": 26,
      "outputs": [
        {
          "output_type": "execute_result",
          "data": {
            "text/plain": [
              "1.0"
            ]
          },
          "metadata": {},
          "execution_count": 26
        }
      ]
    },
    {
      "cell_type": "code",
      "source": [
        "c0*EV0 + c1*EV1 # Should equal psi0"
      ],
      "metadata": {
        "id": "nWLT_d3cqbqg",
        "outputId": "ccd90cc7-0993-4551-dbed-21928a6da4a3",
        "colab": {
          "base_uri": "https://localhost:8080/"
        }
      },
      "execution_count": 27,
      "outputs": [
        {
          "output_type": "execute_result",
          "data": {
            "text/plain": [
              "matrix([[1.],\n",
              "        [0.]])"
            ]
          },
          "metadata": {},
          "execution_count": 27
        }
      ]
    },
    {
      "cell_type": "markdown",
      "source": [
        "$$\n",
        "\\left| \\psi(t)\\right> = \\sum\\limits_n c_n \\exp(-i E_n t/\\hbar) \\left| \\xi_n \\right>\n",
        "$$"
      ],
      "metadata": {
        "id": "Z9T67k4-rBkT"
      }
    },
    {
      "cell_type": "code",
      "source": [
        "def psi(t): # McIntyre Eq. (3.11)\n",
        "  return c0*EV0*np.exp(-(1.0j)*E[0]*t/hbar) + c1*EV1*np.exp(-(1.0j)*E[1]*t/hbar)"
      ],
      "metadata": {
        "id": "tO8Q1LSFrGu7"
      },
      "execution_count": 29,
      "outputs": []
    },
    {
      "cell_type": "code",
      "source": [
        "psi(0.0)"
      ],
      "metadata": {
        "id": "lIG0b5NMsK9h",
        "outputId": "277c8729-d8e4-4c99-cbc0-ee884b964716",
        "colab": {
          "base_uri": "https://localhost:8080/"
        }
      },
      "execution_count": 30,
      "outputs": [
        {
          "output_type": "execute_result",
          "data": {
            "text/plain": [
              "matrix([[1.+0.j],\n",
              "        [0.+0.j]])"
            ]
          },
          "metadata": {},
          "execution_count": 30
        }
      ]
    },
    {
      "cell_type": "markdown",
      "source": [
        "Let's calculate some expectation values...\n",
        "\n",
        "$$\n",
        "\\langle S_z \\rangle = \\left< \\psi \\middle| S_z \\middle| \\psi \\right> = \\vec{\\psi}^\\dagger S_z \\vec{\\psi}\n",
        "$$"
      ],
      "metadata": {
        "id": "rmevvYASsZcK"
      }
    },
    {
      "cell_type": "code",
      "source": [
        "# expectation value of Sz\n",
        "def EV_Sz(t):\n",
        "  return np.real(psi(t).H * Sz * psi(t))[0,0]"
      ],
      "metadata": {
        "id": "BGH_hsPlsTgL"
      },
      "execution_count": 40,
      "outputs": []
    },
    {
      "cell_type": "code",
      "source": [
        "# expectation value of H\n",
        "def EV_H(t):\n",
        "  return np.real(psi(t).H * H * psi(t))[0,0]"
      ],
      "metadata": {
        "id": "bD20K6TovQLu"
      },
      "execution_count": 54,
      "outputs": []
    },
    {
      "cell_type": "code",
      "source": [
        "EV_Sz(1.0e-10)"
      ],
      "metadata": {
        "id": "bBrrN0GLtTZg",
        "outputId": "980d3608-cf34-408e-d70e-2d7294d81ed3",
        "colab": {
          "base_uri": "https://localhost:8080/"
        }
      },
      "execution_count": 41,
      "outputs": [
        {
          "output_type": "execute_result",
          "data": {
            "text/plain": [
              "5.19615104028712e-35"
            ]
          },
          "metadata": {},
          "execution_count": 41
        }
      ]
    },
    {
      "cell_type": "code",
      "source": [
        "# evaluate EV_Sz over a set of times\n",
        "t_list = np.linspace(0.0,1e-9,200)\n",
        "Sz_list = np.array([EV_Sz(t) for t in t_list])\n",
        "H_list = np.array([EV_H(t) for t in t_list])"
      ],
      "metadata": {
        "id": "dhiDbs7vuHya"
      },
      "execution_count": 55,
      "outputs": []
    },
    {
      "cell_type": "code",
      "source": [
        "print(t_list[0:5])\n",
        "print(Sz_list[0:5])"
      ],
      "metadata": {
        "id": "XMX-1Gh1uXAq",
        "outputId": "0c1891f0-0d47-4fa7-d5fb-c348d0fa6d26",
        "colab": {
          "base_uri": "https://localhost:8080/"
        }
      },
      "execution_count": 51,
      "outputs": [
        {
          "output_type": "stream",
          "name": "stdout",
          "text": [
            "[0.00000000e+00 5.02512563e-12 1.00502513e-11 1.50753769e-11\n",
            " 2.01005025e-11]\n",
            "[5.27300000e-35 5.27279231e-35 5.27216966e-35 5.27113333e-35\n",
            " 5.26968544e-35]\n"
          ]
        }
      ]
    },
    {
      "cell_type": "code",
      "source": [
        "plt.plot(t_list,Sz_list)"
      ],
      "metadata": {
        "id": "EJQqMPeAu_CB",
        "outputId": "83bf3bd3-7134-4f72-9a3b-b4379ff95506",
        "colab": {
          "base_uri": "https://localhost:8080/",
          "height": 480
        }
      },
      "execution_count": 53,
      "outputs": [
        {
          "output_type": "execute_result",
          "data": {
            "text/plain": [
              "[<matplotlib.lines.Line2D at 0x79ba347c0110>]"
            ]
          },
          "metadata": {},
          "execution_count": 53
        },
        {
          "output_type": "display_data",
          "data": {
            "text/plain": [
              "<Figure size 640x480 with 1 Axes>"
            ],
            "image/png": "[encoded data removed]"
          },
          "metadata": {}
        }
      ]
    },
    {
      "cell_type": "code",
      "source": [
        "plt.plot(t_list,H_list)"
      ],
      "metadata": {
        "id": "thTYnrIrvdPY",
        "outputId": "b03e69e1-709b-4f31-d8f3-c0373ecea851",
        "colab": {
          "base_uri": "https://localhost:8080/",
          "height": 480
        }
      },
      "execution_count": 56,
      "outputs": [
        {
          "output_type": "execute_result",
          "data": {
            "text/plain": [
              "[<matplotlib.lines.Line2D at 0x79ba3491ac50>]"
            ]
          },
          "metadata": {},
          "execution_count": 56
        },
        {
          "output_type": "display_data",
          "data": {
            "text/plain": [
              "<Figure size 640x480 with 1 Axes>"
            ],
            "image/png": "[encoded data removed]"
          },
          "metadata": {}
        }
      ]
    },
    {
      "cell_type": "markdown",
      "metadata": {
        "id": "KZb1K8l-gWso"
      },
      "source": [
        "### Bonus, time permitting\n",
        "Let's redo this problem using a set of \"natural units\" to make the numerical values closet to one. (This helps avoid rounding errors in numerical calculations.)\n",
        "Generally, we would pick some combination of constants to find typical values of length, mass, and time, and use those to define a new set of units within which to work the problem.\n",
        "\n",
        "In this case, there is already a standard choice of natural units, called \"atomic units\" or \"Hartree units\".  The units are chosen to force the following:\n",
        "$$\n",
        "\\begin{aligned}\n",
        "e &= 1 &&\\text{elementary charge} \\\\\n",
        "m_e &=1 &&\\text{electron mass} \\\\\n",
        "\\hbar &=1 &&\\text{reduced Planck constant} \\\\\n",
        "k_e = \\frac{1}{4\\pi\\epsilon_0}&=1 &&\\text{Coulomb force constant}\n",
        "\\end{aligned}\n",
        "$$\n",
        "\n",
        "With this choice, we get the following new units for length and time (the mass unit is the electron mass, above):\n",
        "$$\n",
        "\\begin{aligned}\n",
        "m_e &= 9.109\\times 10^{-31}\\,\\mathrm{kg} && \\text{electron mass}\\\\\n",
        "a_0 =  &= 5.292\\times 10^{-11}\\,\\mathrm{m} && \\text{Bohr radius of the H atom} \\\\\n",
        "t_0 &= 2.419\\times 10^{-17}\\,\\mathrm{s} && \\text{1/Hartree frequency}.\n",
        "\\end{aligned}\n",
        "$$\n",
        "\n",
        "Let's rework the problem using these new units.  What do you notice about the numerical values?"
      ]
    },
    {
      "cell_type": "markdown",
      "metadata": {
        "id": "tH5IZVzHgWso"
      },
      "source": [
        "## Problem 2\n",
        "A particle with mass $m$ is in an infinite square well of width $L$, with its lower edge at $x=0$.\n",
        "- What is the Hamiltonian operator for this system?  Express it in the position representation.\n",
        "\n",
        "The particle is in the initial state\n",
        "$\\psi(x,0) = C \\sin^3 (\\pi x/L)$ for the interval $0<x<L$ and zero elsewhere.\n",
        "\n",
        "- Find the normalization constant $C$ and express $\\psi(x,0)$ in terms of the eigenstates.  (Hint: there are at least two ways to do this: integrating directly or by expressing the initial wavefunction as a superposition of eigenstates.  See if you can do both.)\n",
        "- What is the wavefunction at a later time $\\psi(x,t)$?\n"
      ]
    },
    {
      "cell_type": "markdown",
      "metadata": {
        "id": "pADqtND4gWso"
      },
      "source": []
    }
  ],
  "metadata": {
    "kernelspec": {
      "display_name": "base",
      "language": "python",
      "name": "python3"
    },
    "language_info": {
      "codemirror_mode": {
        "name": "ipython",
        "version": 3
      },
      "file_extension": ".py",
      "mimetype": "text/x-python",
      "name": "python",
      "nbconvert_exporter": "python",
      "pygments_lexer": "ipython3",
      "version": "3.10.15"
    },
    "colab": {
      "provenance": []
    }
  },
  "nbformat": 4,
  "nbformat_minor": 0
}