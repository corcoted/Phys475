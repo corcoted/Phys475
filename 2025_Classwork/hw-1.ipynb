{
 "cells": [
  {
   "cell_type": "markdown",
   "metadata": {},
   "source": [
    "## Problem set 1\n",
    "In class work for 1/16/2025."
   ]
  },
  {
   "cell_type": "code",
   "execution_count": 1,
   "metadata": {},
   "outputs": [],
   "source": [
    "import numpy as np"
   ]
  },
  {
   "cell_type": "code",
   "execution_count": 3,
   "metadata": {},
   "outputs": [],
   "source": [
    "# define some constants (SI units)\n",
    "hbar = 1.0546e-34 # J s, reduced Planck constant\n",
    "ec = 1.609e-19 # C, proton charge\n",
    "m_e = 9.109e-31 # kg, electron mass\n",
    "g = 2.002 # electron gyromagnetic factor\n",
    "mu_B = ec*hbar/(2*m_e) # J/T, Bohr magneton\n",
    "eV = 1.609e-19 # J , electron volt definition"
   ]
  },
  {
   "cell_type": "code",
   "execution_count": 4,
   "metadata": {},
   "outputs": [],
   "source": [
    "# some other useful definitions\n",
    "# Spin-1/2 matrices\n",
    "Sz = hbar/2*np.matrix([[1,0],[0,-1]])\n",
    "Sx = hbar/2*np.matrix([[0,1],[1,0]])\n",
    "Sy = hbar/2*(1.0j)*np.matrix([[0,-1],[1,0]])"
   ]
  },
  {
   "cell_type": "code",
   "execution_count": 6,
   "metadata": {},
   "outputs": [
    {
     "name": "stdout",
     "output_type": "stream",
     "text": [
      "[[0.000e+00 5.273e-35]\n",
      " [5.273e-35 0.000e+00]]\n",
      "[[0.+0.000e+00j 0.-5.273e-35j]\n",
      " [0.+5.273e-35j 0.+0.000e+00j]]\n",
      "[[ 5.273e-35  0.000e+00]\n",
      " [ 0.000e+00 -5.273e-35]]\n"
     ]
    }
   ],
   "source": [
    "print(Sx)\n",
    "print(Sy)\n",
    "print(Sz)"
   ]
  },
  {
   "cell_type": "markdown",
   "metadata": {},
   "source": [
    "### Problem 1\n",
    "An electron is in a magnetic field of $\\mathbf{B} = B_1 \\hat{x} + B_0 \\hat{z}$.\n",
    "- What is the Hamiltonian for this system?  (See McIntyre Section 3.2) Express this as a matrix in the basis of the $z$ component of spin ($S_z$).\n",
    "- Suppose the magnetic field has (in SI units) $B_0=50\\,\\mathrm{mT}, B_1=10\\,\\mathrm{mT}$.\n",
    "What are the energy eigenvalues (in units of electron-volts, eV) and eigenstates for this system?  Express the eigenstates as vectors in the $S_z$ basis.\n",
    "Give all numerical values to 3 significant digits.\n",
    "- The particle has an initial state of $\\ket{+_z}$.  What is the state of the particle as a function of time, $\\ket{\\psi(t)}$?  (The spin will precess.  Calculate the angular frequency $\\omega$ of this precession in units of rad/s.)\n",
    "- Qualitatively, how does the expectation value of the particle's spin vector vary as a function of time, $\\left<\\mathbf{S}(t)\\right>$?\n"
   ]
  },
  {
   "cell_type": "code",
   "execution_count": 2,
   "metadata": {},
   "outputs": [
    {
     "name": "stdout",
     "output_type": "stream",
     "text": [
      "[[0.01]\n",
      " [0.  ]\n",
      " [0.05]]\n"
     ]
    }
   ],
   "source": [
    "# First define the magnetic field (using units of T)\n",
    "Bx = 10e-3\n",
    "Bz = 50e-3\n",
    "By = 0.0\n",
    "B = np.matrix([[Bx,By,Bz]]).T # we make a 1x3 matrix, then take its transpose to get a 3x1 matrix, i.e. column vector.\n",
    "print(B)"
   ]
  },
  {
   "cell_type": "markdown",
   "metadata": {},
   "source": [
    "From McIntyre Eq. (3.23), the Hamiltonian is\n",
    "$$\n",
    "H = \\frac{e}{m_e} \\vec{S}\\cdot\\vec{B}\n",
    "$$"
   ]
  },
  {
   "cell_type": "code",
   "execution_count": 8,
   "metadata": {},
   "outputs": [
    {
     "name": "stdout",
     "output_type": "stream",
     "text": [
      "[[ 4.65707377e-25+0.j  9.31414755e-26+0.j]\n",
      " [ 9.31414755e-26+0.j -4.65707377e-25+0.j]]\n"
     ]
    }
   ],
   "source": [
    "# The Hamiltonian\n",
    "# From McIntyre Eq. (3.23)\n",
    "H = ec/m_e*(Sx*Bx + Sy*By + Sz*Bz)\n",
    "print(H)"
   ]
  },
  {
   "cell_type": "code",
   "execution_count": 9,
   "metadata": {},
   "outputs": [
    {
     "name": "stdout",
     "output_type": "stream",
     "text": [
      "[[1]\n",
      " [0]]\n"
     ]
    }
   ],
   "source": [
    "# initial state\n",
    "psi0 = np.matrix([[1,0]]).T # column vector\n",
    "print(psi0)"
   ]
  },
  {
   "cell_type": "markdown",
   "metadata": {},
   "source": [
    "### Bonus, time permitting\n",
    "Let's redo this problem using a set of \"natural units\" to make the numerical values closet to one. (This helps avoid rounding errors in numerical calculations.)\n",
    "Generally, we would pick some combination of constants to find typical values of length, mass, and time, and use those to define a new set of units within which to work the problem.\n",
    "\n",
    "In this case, there is already a standard choice of natural units, called \"atomic units\" or \"Hartree units\".  The units are chosen to force the following:\n",
    "$$\n",
    "\\begin{aligned}\n",
    "e &= 1 &&\\text{elementary charge} \\\\\n",
    "m_e &=1 &&\\text{electron mass} \\\\\n",
    "\\hbar &=1 &&\\text{reduced Planck constant} \\\\\n",
    "k_e = \\frac{1}{4\\pi\\epsilon_0}&=1 &&\\text{Coulomb force constant}\n",
    "\\end{aligned}\n",
    "$$\n",
    "\n",
    "With this choice, we get the following new units for length and time (the mass unit is the electron mass, above):\n",
    "$$\n",
    "\\begin{aligned}\n",
    "m_e &= 9.109\\times 10^{-31}\\,\\mathrm{kg} && \\text{electron mass}\\\\\n",
    "a_0 =  &= 5.292\\times 10^{-11}\\,\\mathrm{m} && \\text{Bohr radius of the H atom} \\\\\n",
    "t_0 &= 2.419\\times 10^{-17}\\,\\mathrm{s} && \\text{1/Hartree frequency}.\n",
    "\\end{aligned}\n",
    "$$\n",
    "\n",
    "Let's rework the problem using these new units.  What do you notice about the numerical values?"
   ]
  },
  {
   "cell_type": "markdown",
   "metadata": {},
   "source": [
    "## Problem 2\n",
    "A particle with mass $m$ is in an infinite square well of width $L$, with its lower edge at $x=0$.\n",
    "- What is the Hamiltonian operator for this system?  Express it in the position representation.\n",
    "\n",
    "The particle is in the initial state\n",
    "$\\psi(x,0) = C \\sin^3 (\\pi x/L)$ for the interval $0<x<L$ and zero elsewhere.\n",
    "\n",
    "- Find the normalization constant $C$ and express $\\psi(x,0)$ in terms of the eigenstates.  (Hint: there are at least two ways to do this: integrating directly or by expressing the initial wavefunction as a superposition of eigenstates.  See if you can do both.)\n",
    "- What is the wavefunction at a later time $\\psi(x,t)$?\n"
   ]
  },
  {
   "cell_type": "markdown",
   "metadata": {},
   "source": []
  }
 ],
 "metadata": {
  "kernelspec": {
   "display_name": "base",
   "language": "python",
   "name": "python3"
  },
  "language_info": {
   "codemirror_mode": {
    "name": "ipython",
    "version": 3
   },
   "file_extension": ".py",
   "mimetype": "text/x-python",
   "name": "python",
   "nbconvert_exporter": "python",
   "pygments_lexer": "ipython3",
   "version": "3.10.15"
  }
 },
 "nbformat": 4,
 "nbformat_minor": 2
}
