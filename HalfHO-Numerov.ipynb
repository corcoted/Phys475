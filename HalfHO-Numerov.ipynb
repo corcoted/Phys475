{
 "cells": [
  {
   "cell_type": "markdown",
   "metadata": {},
   "source": [
    "# Numerical solution to the 1-dimensional Time Independent Schroedinger Equation\n",
    "Based on the paper \"Matrix Numerov method for solving Schroedinger's equation\" by Mohandas Pillai, Joshua Goglio, and Thad G. Walker, _American Journal of Physics_ **80** (11), 1017 (2012).  [doi:10.1119/1.4748813](http://dx.doi.org/10.1119/1.4748813)\n"
   ]
  },
  {
   "cell_type": "code",
   "execution_count": 2,
   "metadata": {
    "ExecuteTime": {
     "end_time": "2019-01-18T21:41:04.379434Z",
     "start_time": "2019-01-18T21:41:04.370438Z"
    }
   },
   "outputs": [],
   "source": [
    "# import some needed libraries\n",
    "import numpy as np\n",
    "import matplotlib.pyplot as plt\n",
    "import scipy.optimize as opt\n",
    "%matplotlib inline"
   ]
  },
  {
   "cell_type": "code",
   "execution_count": 3,
   "metadata": {
    "ExecuteTime": {
     "end_time": "2019-01-18T21:41:04.395425Z",
     "start_time": "2019-01-18T21:41:04.384430Z"
    }
   },
   "outputs": [],
   "source": [
    "autoscale = False # set this equal to true to use Pillai's recommended step sizes"
   ]
  },
  {
   "cell_type": "code",
   "execution_count": 4,
   "metadata": {
    "ExecuteTime": {
     "end_time": "2019-01-18T21:41:04.429402Z",
     "start_time": "2019-01-18T21:41:04.399421Z"
    }
   },
   "outputs": [],
   "source": [
    "# values of constants\n",
    "hbar = 1.0\n",
    "mass = 1.0 # changing the mass will also change the energy scale\n",
    "omega = 1.0\n",
    "L = 1.0 # width of SW"
   ]
  },
  {
   "cell_type": "code",
   "execution_count": 5,
   "metadata": {
    "ExecuteTime": {
     "end_time": "2019-01-18T21:41:04.453387Z",
     "start_time": "2019-01-18T21:41:04.437398Z"
    }
   },
   "outputs": [],
   "source": [
    "# bounds (These are overwritten if autoscale=True)\n",
    "xmin = -L # lower bound of position\n",
    "xmax = 5.0 # upper bound of position\n",
    "n = 100 # number of steps (may be overwritten if autoscale == True)\n",
    "dx = (xmax-xmin)/(n-1)"
   ]
  },
  {
   "cell_type": "code",
   "execution_count": 6,
   "metadata": {
    "ExecuteTime": {
     "end_time": "2019-01-18T21:41:04.478372Z",
     "start_time": "2019-01-18T21:41:04.460383Z"
    }
   },
   "outputs": [],
   "source": [
    "# the function V is the potential energy function\n",
    "def V(x):\n",
    "    # make sure there is no division by zero\n",
    "    # this also needs to be a \"vectorizable\" function\n",
    "    # uncomment one of the examples below, or write your own.\n",
    "    return 0.5*mass*omega**2*x*x*(0.5*(x+np.abs(x))) # half harmonic oscillator\n",
    "    "
   ]
  },
  {
   "cell_type": "code",
   "execution_count": 7,
   "metadata": {
    "ExecuteTime": {
     "end_time": "2019-01-18T21:41:04.504357Z",
     "start_time": "2019-01-18T21:41:04.481371Z"
    }
   },
   "outputs": [],
   "source": [
    "if (autoscale): \n",
    "    #Emax is the maximum energy for which to check for eigenvalues\n",
    "    Emax = 20.0\n",
    "    #The next lines make some reasonable choices for the position grid size and spacing\n",
    "    xt = opt.brentq(lambda x: V(x)-Emax ,0,5*Emax) #classical turning point\n",
    "    dx = 1.0/np.sqrt(2*Emax) #step size\n",
    "    # bounds and number of steps\n",
    "    n = np.int(0.5+2*(xt/dx + 4.0*np.pi)) #number of steps\n",
    "    xmin = -dx*(n+1)/2 \n",
    "    xmax = dx*(n+1)/2"
   ]
  },
  {
   "cell_type": "code",
   "execution_count": 8,
   "metadata": {
    "ExecuteTime": {
     "end_time": "2019-01-18T21:41:04.534338Z",
     "start_time": "2019-01-18T21:41:04.510353Z"
    }
   },
   "outputs": [
    {
     "data": {
      "text/plain": [
       "(-1.0, 5.0, 100)"
      ]
     },
     "execution_count": 8,
     "metadata": {},
     "output_type": "execute_result"
    }
   ],
   "source": [
    "xmin, xmax, n #show the limits and number of steps"
   ]
  },
  {
   "cell_type": "code",
   "execution_count": 9,
   "metadata": {
    "ExecuteTime": {
     "end_time": "2019-01-18T21:41:04.553327Z",
     "start_time": "2019-01-18T21:41:04.539335Z"
    }
   },
   "outputs": [],
   "source": [
    "#define the x coordinates\n",
    "x = np.linspace(xmin,xmax,n)"
   ]
  },
  {
   "cell_type": "code",
   "execution_count": 10,
   "metadata": {
    "ExecuteTime": {
     "end_time": "2019-01-18T21:41:04.594301Z",
     "start_time": "2019-01-18T21:41:04.557326Z"
    }
   },
   "outputs": [],
   "source": [
    "#define the numerov matrices\n",
    "B = np.matrix((np.eye(n,k=-1)+10.0*np.eye(n,k=0)+np.eye(n,k=1))/12.0)\n",
    "A = np.matrix((np.eye(n,k=-1)-2.0*np.eye(n,k=0)+np.eye(n,k=1))/(dx**2))"
   ]
  },
  {
   "cell_type": "code",
   "execution_count": 11,
   "metadata": {
    "ExecuteTime": {
     "end_time": "2019-01-18T21:41:04.626280Z",
     "start_time": "2019-01-18T21:41:04.597299Z"
    }
   },
   "outputs": [],
   "source": [
    "#calculate kinetic energy operator using Numerov's approximation\n",
    "KE = -0.5*hbar**2/mass*B.I*A"
   ]
  },
  {
   "cell_type": "code",
   "execution_count": 12,
   "metadata": {
    "ExecuteTime": {
     "end_time": "2019-01-18T21:41:04.640278Z",
     "start_time": "2019-01-18T21:41:04.632279Z"
    }
   },
   "outputs": [],
   "source": [
    "#calculate hamiltonian operator approximation\n",
    "H = KE + np.diag(V(x))"
   ]
  },
  {
   "cell_type": "code",
   "execution_count": 13,
   "metadata": {
    "ExecuteTime": {
     "end_time": "2019-01-18T21:41:04.700235Z",
     "start_time": "2019-01-18T21:41:04.647268Z"
    }
   },
   "outputs": [],
   "source": [
    "#Calculate eigenvalues and eigenvectors of H\n",
    "energies, wavefunctions = np.linalg.eigh(H) # \"wavefunctions\" is a matrix with one eigenvector in each column."
   ]
  },
  {
   "cell_type": "code",
   "execution_count": 14,
   "metadata": {
    "ExecuteTime": {
     "end_time": "2019-01-18T21:41:04.715226Z",
     "start_time": "2019-01-18T21:41:04.704233Z"
    }
   },
   "outputs": [
    {
     "data": {
      "text/plain": [
       "array([7.10735429e-01, 2.44793378e+00, 4.66094134e+00, 7.19409154e+00,\n",
       "       9.97194310e+00, 1.29506895e+01, 1.61007572e+01, 1.94005951e+01,\n",
       "       2.28337663e+01, 2.63873183e+01, 3.00507692e+01, 3.38154563e+01,\n",
       "       3.76741891e+01, 4.16214523e+01, 4.56551780e+01, 4.97820871e+01,\n",
       "       5.40266780e+01, 5.84352685e+01, 6.30632495e+01, 6.79535858e+01,\n",
       "       7.31276932e+01, 7.85909345e+01, 8.43410662e+01, 9.03734416e+01,\n",
       "       9.66831887e+01, 1.03265872e+02, 1.10117579e+02, 1.17234829e+02,\n",
       "       1.24614451e+02, 1.32253474e+02, 1.40149028e+02, 1.48298274e+02,\n",
       "       1.56698342e+02, 1.65346279e+02, 1.74239008e+02, 1.83373290e+02,\n",
       "       1.92745698e+02, 2.02352582e+02, 2.12190045e+02, 2.22253919e+02,\n",
       "       2.32539743e+02, 2.43042734e+02, 2.53757775e+02, 2.64679388e+02,\n",
       "       2.75801713e+02, 2.87118493e+02, 2.98623051e+02, 3.10308272e+02,\n",
       "       3.22166586e+02, 3.34189950e+02, 3.46369830e+02, 3.58697190e+02,\n",
       "       3.71162469e+02, 3.83755578e+02, 3.96465878e+02, 4.09282176e+02,\n",
       "       4.22192712e+02, 4.35185153e+02, 4.48246589e+02, 4.61363525e+02,\n",
       "       4.74521887e+02, 4.87707018e+02, 5.00903683e+02, 5.14096079e+02,\n",
       "       5.27267843e+02, 5.40402066e+02, 5.53481308e+02, 5.66487621e+02,\n",
       "       5.79402568e+02, 5.92207254e+02, 6.04882356e+02, 6.17408152e+02,\n",
       "       6.29764564e+02, 6.41931189e+02, 6.53887348e+02, 6.65612128e+02,\n",
       "       6.77084426e+02, 6.88282993e+02, 6.99186476e+02, 7.09773455e+02,\n",
       "       7.20022479e+02, 7.29912096e+02, 7.39420854e+02, 7.48527283e+02,\n",
       "       7.57209837e+02, 7.65446790e+02, 7.73216076e+02, 7.80494991e+02,\n",
       "       7.87259678e+02, 7.93484221e+02, 7.99139106e+02, 8.04188586e+02,\n",
       "       8.08585893e+02, 8.12263007e+02, 8.15069297e+02, 8.17202868e+02,\n",
       "       8.21874011e+02, 8.29430523e+02, 8.40221891e+02, 8.56127993e+02])"
      ]
     },
     "execution_count": 14,
     "metadata": {},
     "output_type": "execute_result"
    }
   ],
   "source": [
    "energies #display the lowest four energies"
   ]
  },
  {
   "cell_type": "code",
   "execution_count": 24,
   "metadata": {},
   "outputs": [],
   "source": [
    "# extract color settings to help plotting\n",
    "prop_cycle = plt.rcParams['axes.prop_cycle']\n",
    "colors = prop_cycle.by_key()['color']"
   ]
  },
  {
   "cell_type": "code",
   "execution_count": 25,
   "metadata": {
    "ExecuteTime": {
     "end_time": "2019-01-18T21:41:42.346083Z",
     "start_time": "2019-01-18T21:41:41.669500Z"
    }
   },
   "outputs": [
    {
     "data": {
      "image/png": "[encoded data removed]",
      "text/plain": [
       "<Figure size 432x288 with 1 Axes>"
      ]
     },
     "metadata": {
      "needs_background": "light"
     },
     "output_type": "display_data"
    }
   ],
   "source": [
    "number = [0,1,2,3,4,5] #which wavefunctions to plot, starting counting from zero\n",
    "zoom = -3.0 # zoom factor for wavefunctions to make them more visible\n",
    "plt.plot(x,V(x),'-k',label=\"V(x)\") # plot the potential\n",
    "plt.vlines(-1,0,15,color=\"black\")\n",
    "plt.vlines(0,0,15,color=\"black\",lw=0.5)\n",
    "for num in number:\n",
    "    plt.plot(x,zoom*wavefunctions[:,num]+energies[num],label=\"n={}\".format(num)) #plot the num-th wavefunction\n",
    "    plt.hlines(energies[num],-1,5,lw=0.5, color=colors[num])\n",
    "plt.ylim(-1,15); # set limits of vertical axis for plot\n",
    "plt.legend();\n",
    "plt.xlabel(\"x\");\n",
    "plt.ylabel(\"Energy or ϕ(x)\");"
   ]
  },
  {
   "cell_type": "code",
   "execution_count": null,
   "metadata": {},
   "outputs": [],
   "source": []
  }
 ],
 "metadata": {
  "jupytext": {
   "formats": "ipynb,py:percent"
  },
  "kernelspec": {
   "display_name": "Python 3",
   "language": "python",
   "name": "python3"
  },
  "language_info": {
   "codemirror_mode": {
    "name": "ipython",
    "version": 3
   },
   "file_extension": ".py",
   "mimetype": "text/x-python",
   "name": "python",
   "nbconvert_exporter": "python",
   "pygments_lexer": "ipython3",
   "version": "3.9.1"
  },
  "varInspector": {
   "cols": {
    "lenName": 16,
    "lenType": 16,
    "lenVar": 40
   },
   "kernels_config": {
    "python": {
     "delete_cmd_postfix": "",
     "delete_cmd_prefix": "del ",
     "library": "var_list.py",
     "varRefreshCmd": "print(var_dic_list())"
    },
    "r": {
     "delete_cmd_postfix": ") ",
     "delete_cmd_prefix": "rm(",
     "library": "var_list.r",
     "varRefreshCmd": "cat(var_dic_list()) "
    }
   },
   "types_to_exclude": [
    "module",
    "function",
    "builtin_function_or_method",
    "instance",
    "_Feature"
   ],
   "window_display": false
  }
 },
 "nbformat": 4,
 "nbformat_minor": 4
}
